{
 "cells": [
  {
   "cell_type": "code",
   "execution_count": 1,
   "metadata": {},
   "outputs": [],
   "source": [
    "from utils.redisClasses import RedisClient, EventTraderRedis"
   ]
  },
  {
   "cell_type": "markdown",
   "metadata": {},
   "source": [
    "### Initialize RedisClient with a namespace:"
   ]
  },
  {
   "cell_type": "code",
   "execution_count": 3,
   "metadata": {},
   "outputs": [],
   "source": [
    "# redis_client = RedisClient(prefix='eventtrader:')\n",
    "redis = EventTraderRedis()"
   ]
  },
  {
   "cell_type": "markdown",
   "metadata": {},
   "source": [
    "### To add this redis to RedisInsight:\n",
    "\n",
    "1. Open RedisInsight and click \"Add Redis Database\" or \"+\" button\n",
    "\n",
    "2. Enter these connection settings:\n",
    "   - Database Alias: 127.0.0.1:6379 (just a display name for the connection in RedisInsight)\n",
    "   - Host: localhost\n",
    "   - Port: 6379\n",
    "   - Username: (leave blank)\n",
    "   - Password: (leave blank)\n",
    "   - Timeout(s): 30 (default is fine)\n",
    "   \n",
    "3. Optional Settings:\n",
    "   - Select Logical Database: (leave unchecked)\n",
    "   - Enable automatic data decompression: (leave unchecked)\n",
    "   - Use TLS: (leave unchecked)\n",
    "\n",
    "4. Click \"Test Connection\" to verify\n",
    "   - You should see \"Connection successful\"\n",
    "\n",
    "5. Click \"Add Redis Database\" to save\n",
    "\n",
    "6. View Your Data:\n",
    "   - Click on your new database connection\n",
    "   - Select \"Browser\" from the left menu\n",
    "   - You'll see all your Redis keys with prefix 'eventtrader:'\n",
    "    \n",
    "\n",
    "\n"
   ]
  },
  {
   "cell_type": "markdown",
   "metadata": {},
   "source": [
    "### clear all redis data\n"
   ]
  },
  {
   "cell_type": "code",
   "execution_count": 4,
   "metadata": {},
   "outputs": [],
   "source": [
    "redis.clear()"
   ]
  },
  {
   "cell_type": "markdown",
   "metadata": {},
   "source": [
    "### Clear specific database"
   ]
  },
  {
   "cell_type": "code",
   "execution_count": null,
   "metadata": {},
   "outputs": [],
   "source": [
    "redis.bz_livenews.clear()\n"
   ]
  },
  {
   "cell_type": "markdown",
   "metadata": {},
   "source": [
    "### Set data:"
   ]
  },
  {
   "cell_type": "code",
   "execution_count": null,
   "metadata": {},
   "outputs": [],
   "source": [
    "\n",
    "# These now write to different namespaces\n",
    "redis.bz_livenews.set('article:123', 'live content', ex=3600)    # news:benzinga:live:article:123\n",
    "redis.bz_histnews.set('article:123', 'hist content', ex=3600)    # news:benzinga:hist:article:123"
   ]
  },
  {
   "cell_type": "markdown",
   "metadata": {},
   "source": [
    "### Get data"
   ]
  },
  {
   "cell_type": "code",
   "execution_count": null,
   "metadata": {},
   "outputs": [],
   "source": [
    "# Get live news article\n",
    "live_article = redis.bz_livenews.get('article:123')  # Gets from news:benzinga:live:article:123\n",
    "print(live_article)\n",
    "print(f\"TTL: {redis.bz_livenews.client.ttl('news:benzinga:live:article:123')} seconds\")"
   ]
  },
  {
   "cell_type": "markdown",
   "metadata": {},
   "source": [
    "### Delete data"
   ]
  },
  {
   "cell_type": "code",
   "execution_count": null,
   "metadata": {},
   "outputs": [],
   "source": [
    "redis.bz_livenews.delete('article:123')"
   ]
  },
  {
   "cell_type": "markdown",
   "metadata": {},
   "source": [
    "### Stock Universe"
   ]
  },
  {
   "cell_type": "code",
   "execution_count": 3,
   "metadata": {},
   "outputs": [
    {
     "name": "stderr",
     "output_type": "stream",
     "text": [
      "2025-01-22 12:16:42,285 - root - INFO - Connected to Redis\n",
      "2025-01-22 12:16:42,287 - root - INFO - Connected to Redis\n",
      "2025-01-22 12:16:42,291 - root - INFO - Connected to Redis\n",
      "2025-01-22 12:16:42,295 - root - INFO - Connected to Redis\n",
      "2025-01-22 12:16:42,298 - root - INFO - Connected to Redis\n",
      "2025-01-22 12:16:42,298 - root - INFO - Attempting to initialize stock universe\n",
      "2025-01-22 12:16:42,303 - root - INFO - Successfully read CSV with 40 rows\n",
      "2025-01-22 12:16:42,308 - root - INFO - After cleaning and removing duplicates: 38 rows\n",
      "2025-01-22 12:16:42,309 - root - INFO - Stored stock universe in Redis. Success: True\n",
      "2025-01-22 12:16:42,311 - root - INFO - Stored 38 unique symbols in Redis. Success: True\n",
      "2025-01-22 12:16:42,319 - root - INFO - Verification - Universe exists: True, Symbols exist: True\n"
     ]
    }
   ],
   "source": [
    "from utils.redisClasses import RedisClient, EventTraderRedis\n",
    "# Initialize\n",
    "redis = EventTraderRedis()\n",
    "\n",
    "# redis.clear()\n",
    "# redis.config.clear()\n"
   ]
  },
  {
   "cell_type": "code",
   "execution_count": 5,
   "metadata": {},
   "outputs": [
    {
     "name": "stderr",
     "output_type": "stream",
     "text": [
      "2025-01-22 12:16:46,428 - root - INFO - Retrieved symbols string from Redis: ACCD,AHCO,AMCX,ARVN,ARWR,ATEC,AXSM,BAND,CDLX,CDNA,CSTL,DOMO,DY,EOLS,EYE,GBX,GKOS,HLIT,HZO,KRYS,MGNX,MIRM,MRCY,MXL,NEO,PHR,PI,PLCE,QURE,REVG,RVNC,RYTM,SNDX,SPT,UNFI,WWW,XENE,YMAB\n"
     ]
    },
    {
     "name": "stdout",
     "output_type": "stream",
     "text": [
      "Total symbols: 38, ['ACCD', 'AHCO', 'AMCX', 'ARVN', 'ARWR', 'ATEC', 'AXSM', 'BAND', 'CDLX', 'CDNA', 'CSTL', 'DOMO', 'DY', 'EOLS', 'EYE', 'GBX', 'GKOS', 'HLIT', 'HZO', 'KRYS', 'MGNX', 'MIRM', 'MRCY', 'MXL', 'NEO', 'PHR', 'PI', 'PLCE', 'QURE', 'REVG', 'RVNC', 'RYTM', 'SNDX', 'SPT', 'UNFI', 'WWW', 'XENE', 'YMAB']\n"
     ]
    }
   ],
   "source": [
    "symbols = redis.get_symbols()\n",
    "print(f\"Total symbols: {len(symbols)}, {symbols}\")\n"
   ]
  },
  {
   "cell_type": "markdown",
   "metadata": {},
   "source": [
    "### Check what keys exist in the config database"
   ]
  },
  {
   "cell_type": "code",
   "execution_count": 6,
   "metadata": {},
   "outputs": [
    {
     "name": "stdout",
     "output_type": "stream",
     "text": [
      "All keys in Redis config: ['config:symbols', 'config:stock_universe']\n"
     ]
    }
   ],
   "source": [
    "all_keys = redis.config.client.keys('*')\n",
    "print(\"All keys in Redis config:\", all_keys)"
   ]
  },
  {
   "cell_type": "markdown",
   "metadata": {},
   "source": [
    "### Check the raw symbols string"
   ]
  },
  {
   "cell_type": "code",
   "execution_count": 7,
   "metadata": {},
   "outputs": [
    {
     "name": "stdout",
     "output_type": "stream",
     "text": [
      "Raw symbols string: ACCD,AHCO,AMCX,ARVN,ARWR,ATEC,AXSM,BAND,CDLX,CDNA,CSTL,DOMO,DY,EOLS,EYE,GBX,GKOS,HLIT,HZO,KRYS,MGNX,MIRM,MRCY,MXL,NEO,PHR,PI,PLCE,QURE,REVG,RVNC,RYTM,SNDX,SPT,UNFI,WWW,XENE,YMAB\n",
      "Length: 177\n"
     ]
    }
   ],
   "source": [
    "symbols_str = redis.config.get('symbols')\n",
    "print(\"Raw symbols string:\", symbols_str)\n",
    "print(f\"Length: {len(symbols_str)}\")"
   ]
  },
  {
   "cell_type": "markdown",
   "metadata": {},
   "source": [
    "### Verify the cleaned data"
   ]
  },
  {
   "cell_type": "code",
   "execution_count": 8,
   "metadata": {},
   "outputs": [
    {
     "name": "stderr",
     "output_type": "stream",
     "text": [
      "2025-01-22 12:16:57,831 - root - INFO - Retrieved symbols string from Redis: ACCD,AHCO,AMCX,ARVN,ARWR,ATEC,AXSM,BAND,CDLX,CDNA,CSTL,DOMO,DY,EOLS,EYE,GBX,GKOS,HLIT,HZO,KRYS,MGNX,MIRM,MRCY,MXL,NEO,PHR,PI,PLCE,QURE,REVG,RVNC,RYTM,SNDX,SPT,UNFI,WWW,XENE,YMAB\n"
     ]
    },
    {
     "name": "stdout",
     "output_type": "stream",
     "text": [
      "Number of unique symbols: 38\n",
      "First few symbols: ['ACCD', 'AHCO', 'AMCX', 'ARVN', 'ARWR']\n",
      "Last few symbols: ['SPT', 'UNFI', 'WWW', 'XENE', 'YMAB']\n"
     ]
    }
   ],
   "source": [
    "symbols = redis.get_symbols()\n",
    "print(f\"Number of unique symbols: {len(symbols)}\")\n",
    "print(\"First few symbols:\", symbols[:5])\n",
    "print(\"Last few symbols:\", symbols[-5:])"
   ]
  },
  {
   "cell_type": "code",
   "execution_count": 9,
   "metadata": {},
   "outputs": [
    {
     "name": "stdout",
     "output_type": "stream",
     "text": [
      "Number of unique symbols matches total: True\n"
     ]
    }
   ],
   "source": [
    "# Verify no duplicates\n",
    "print(\"Number of unique symbols matches total:\", len(set(symbols)) == len(symbols))"
   ]
  },
  {
   "cell_type": "code",
   "execution_count": 10,
   "metadata": {},
   "outputs": [
    {
     "data": {
      "text/html": [
       "<div>\n",
       "<style scoped>\n",
       "    .dataframe tbody tr th:only-of-type {\n",
       "        vertical-align: middle;\n",
       "    }\n",
       "\n",
       "    .dataframe tbody tr th {\n",
       "        vertical-align: top;\n",
       "    }\n",
       "\n",
       "    .dataframe thead th {\n",
       "        text-align: right;\n",
       "    }\n",
       "</style>\n",
       "<table border=\"1\" class=\"dataframe\">\n",
       "  <thead>\n",
       "    <tr style=\"text-align: right;\">\n",
       "      <th></th>\n",
       "      <th>cik</th>\n",
       "      <th>symbol</th>\n",
       "      <th>root</th>\n",
       "      <th>company_name</th>\n",
       "      <th>cusip</th>\n",
       "      <th>figi</th>\n",
       "      <th>class_figi</th>\n",
       "      <th>exchange</th>\n",
       "      <th>related</th>\n",
       "      <th>sector</th>\n",
       "      <th>...</th>\n",
       "      <th>employees</th>\n",
       "      <th>shares_out</th>\n",
       "      <th>ipo_date</th>\n",
       "      <th>win_rate</th>\n",
       "      <th>total_count</th>\n",
       "      <th>recent_count</th>\n",
       "      <th>avg_abs_return</th>\n",
       "      <th>max_return</th>\n",
       "      <th>min_return</th>\n",
       "      <th>score</th>\n",
       "    </tr>\n",
       "  </thead>\n",
       "  <tbody>\n",
       "    <tr>\n",
       "      <th>0</th>\n",
       "      <td>1579428</td>\n",
       "      <td>AXSM</td>\n",
       "      <td>AXSM</td>\n",
       "      <td>AXSOME THERAPEUTICS INC</td>\n",
       "      <td>05464T104</td>\n",
       "      <td>BBG00B6G7GL7</td>\n",
       "      <td>BBG00B6G7GM6</td>\n",
       "      <td>NAS</td>\n",
       "      <td>['JAZZ']</td>\n",
       "      <td>Healthcare</td>\n",
       "      <td>...</td>\n",
       "      <td>569</td>\n",
       "      <td>47500000</td>\n",
       "      <td>2015-11-19</td>\n",
       "      <td>0.616667</td>\n",
       "      <td>180</td>\n",
       "      <td>135</td>\n",
       "      <td>3.019401</td>\n",
       "      <td>51.364618</td>\n",
       "      <td>-19.132682</td>\n",
       "      <td>0.035112</td>\n",
       "    </tr>\n",
       "    <tr>\n",
       "      <th>1</th>\n",
       "      <td>1649904</td>\n",
       "      <td>RYTM</td>\n",
       "      <td>RYTM</td>\n",
       "      <td>RHYTHM PHARMACEUTICALS INC</td>\n",
       "      <td>76243J105</td>\n",
       "      <td>BBG007DLZ601</td>\n",
       "      <td>BBG007DLZ629</td>\n",
       "      <td>NAS</td>\n",
       "      <td>[]</td>\n",
       "      <td>Healthcare</td>\n",
       "      <td>...</td>\n",
       "      <td>226</td>\n",
       "      <td>61460000</td>\n",
       "      <td>2017-10-05</td>\n",
       "      <td>0.597222</td>\n",
       "      <td>144</td>\n",
       "      <td>105</td>\n",
       "      <td>3.938131</td>\n",
       "      <td>37.109594</td>\n",
       "      <td>-16.155126</td>\n",
       "      <td>0.028999</td>\n",
       "    </tr>\n",
       "    <tr>\n",
       "      <th>2</th>\n",
       "      <td>1125345</td>\n",
       "      <td>MGNX</td>\n",
       "      <td>MGNX</td>\n",
       "      <td>MACROGENICS INC</td>\n",
       "      <td>556099109</td>\n",
       "      <td>BBG000BM2SF8</td>\n",
       "      <td>BBG001S9C8R7</td>\n",
       "      <td>NAS</td>\n",
       "      <td>[]</td>\n",
       "      <td>Healthcare</td>\n",
       "      <td>...</td>\n",
       "      <td>339</td>\n",
       "      <td>62760000</td>\n",
       "      <td>2013-10-10</td>\n",
       "      <td>0.621849</td>\n",
       "      <td>119</td>\n",
       "      <td>68</td>\n",
       "      <td>5.480889</td>\n",
       "      <td>35.858288</td>\n",
       "      <td>-20.611699</td>\n",
       "      <td>0.026574</td>\n",
       "    </tr>\n",
       "    <tr>\n",
       "      <th>3</th>\n",
       "      <td>1077183</td>\n",
       "      <td>NEO</td>\n",
       "      <td>NEO</td>\n",
       "      <td>NEOGENOMICS INC</td>\n",
       "      <td>64049M209</td>\n",
       "      <td>BBG000BKH263</td>\n",
       "      <td>BBG001S9DSY4</td>\n",
       "      <td>NAS</td>\n",
       "      <td>[]</td>\n",
       "      <td>Healthcare</td>\n",
       "      <td>...</td>\n",
       "      <td>2100</td>\n",
       "      <td>128360000</td>\n",
       "      <td>1996-01-25</td>\n",
       "      <td>0.589928</td>\n",
       "      <td>139</td>\n",
       "      <td>92</td>\n",
       "      <td>3.817846</td>\n",
       "      <td>19.270915</td>\n",
       "      <td>-32.978199</td>\n",
       "      <td>0.025728</td>\n",
       "    </tr>\n",
       "    <tr>\n",
       "      <th>4</th>\n",
       "      <td>1505952</td>\n",
       "      <td>DOMO</td>\n",
       "      <td>DOMO</td>\n",
       "      <td>DOMO INC</td>\n",
       "      <td>257554105</td>\n",
       "      <td>BBG00L2NS0B7</td>\n",
       "      <td>BBG00L2NS125</td>\n",
       "      <td>NAS</td>\n",
       "      <td>['PD']</td>\n",
       "      <td>Technology</td>\n",
       "      <td>...</td>\n",
       "      <td>958</td>\n",
       "      <td>35840000</td>\n",
       "      <td>2018-06-29</td>\n",
       "      <td>0.669565</td>\n",
       "      <td>115</td>\n",
       "      <td>55</td>\n",
       "      <td>4.777776</td>\n",
       "      <td>24.077668</td>\n",
       "      <td>-39.958500</td>\n",
       "      <td>0.022622</td>\n",
       "    </tr>\n",
       "  </tbody>\n",
       "</table>\n",
       "<p>5 rows × 26 columns</p>\n",
       "</div>"
      ],
      "text/plain": [
       "       cik symbol  root                company_name      cusip          figi  \\\n",
       "0  1579428   AXSM  AXSM     AXSOME THERAPEUTICS INC  05464T104  BBG00B6G7GL7   \n",
       "1  1649904   RYTM  RYTM  RHYTHM PHARMACEUTICALS INC  76243J105  BBG007DLZ601   \n",
       "2  1125345   MGNX  MGNX             MACROGENICS INC  556099109  BBG000BM2SF8   \n",
       "3  1077183    NEO   NEO             NEOGENOMICS INC  64049M209  BBG000BKH263   \n",
       "4  1505952   DOMO  DOMO                    DOMO INC  257554105  BBG00L2NS0B7   \n",
       "\n",
       "     class_figi exchange   related      sector  ... employees  shares_out  \\\n",
       "0  BBG00B6G7GM6      NAS  ['JAZZ']  Healthcare  ...       569    47500000   \n",
       "1  BBG007DLZ629      NAS        []  Healthcare  ...       226    61460000   \n",
       "2  BBG001S9C8R7      NAS        []  Healthcare  ...       339    62760000   \n",
       "3  BBG001S9DSY4      NAS        []  Healthcare  ...      2100   128360000   \n",
       "4  BBG00L2NS125      NAS    ['PD']  Technology  ...       958    35840000   \n",
       "\n",
       "     ipo_date  win_rate total_count  recent_count  avg_abs_return  max_return  \\\n",
       "0  2015-11-19  0.616667         180           135        3.019401   51.364618   \n",
       "1  2017-10-05  0.597222         144           105        3.938131   37.109594   \n",
       "2  2013-10-10  0.621849         119            68        5.480889   35.858288   \n",
       "3  1996-01-25  0.589928         139            92        3.817846   19.270915   \n",
       "4  2018-06-29  0.669565         115            55        4.777776   24.077668   \n",
       "\n",
       "  min_return     score  \n",
       "0 -19.132682  0.035112  \n",
       "1 -16.155126  0.028999  \n",
       "2 -20.611699  0.026574  \n",
       "3 -32.978199  0.025728  \n",
       "4 -39.958500  0.022622  \n",
       "\n",
       "[5 rows x 26 columns]"
      ]
     },
     "execution_count": 10,
     "metadata": {},
     "output_type": "execute_result"
    }
   ],
   "source": [
    "\n",
    "# Get full universe DataFrame\n",
    "df = redis.get_stock_universe()\n",
    "df.head()"
   ]
  },
  {
   "cell_type": "code",
   "execution_count": 11,
   "metadata": {},
   "outputs": [
    {
     "name": "stdout",
     "output_type": "stream",
     "text": [
      "{'cik': 1579428, 'symbol': 'AXSM', 'root': 'AXSM', 'company_name': 'AXSOME THERAPEUTICS INC', 'cusip': '05464T104', 'figi': 'BBG00B6G7GL7', 'class_figi': 'BBG00B6G7GM6', 'exchange': 'NAS', 'related': \"['JAZZ']\", 'sector': 'Healthcare', 'industry': 'Biotechnology', 'sic': 2834, 'sic_name': 'PHARMACEUTICAL PREPARATIONS', 'sector_etf': 'XLV', 'industry_etf': 'IBB', 'mkt_cap': 4366528855.0, 'employees': 569, 'shares_out': 47500000, 'ipo_date': '2015-11-19', 'win_rate': 0.6166666667, 'total_count': 180, 'recent_count': 135, 'avg_abs_return': 3.0194009188, 'max_return': 51.364618, 'min_return': -19.132682, 'score': 0.0351122839}\n"
     ]
    }
   ],
   "source": [
    "# Get info for specific stock\n",
    "stock_info = redis.get_stock_info('AXSM')\n",
    "print(stock_info)  # {'symbol': 'AXSM', 'company_name': 'AXSOME THERAPEUTICS INC', ...}"
   ]
  },
  {
   "cell_type": "code",
   "execution_count": null,
   "metadata": {},
   "outputs": [],
   "source": []
  }
 ],
 "metadata": {
  "kernelspec": {
   "display_name": "EventTrader Environment",
   "language": "python",
   "name": "eventtrader_venv"
  },
  "language_info": {
   "codemirror_mode": {
    "name": "ipython",
    "version": 3
   },
   "file_extension": ".py",
   "mimetype": "text/x-python",
   "name": "python",
   "nbconvert_exporter": "python",
   "pygments_lexer": "ipython3",
   "version": "3.11.10"
  }
 },
 "nbformat": 4,
 "nbformat_minor": 2
}
