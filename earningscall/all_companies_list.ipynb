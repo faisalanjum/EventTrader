{
 "cells": [
  {
   "cell_type": "code",
   "execution_count": 1,
   "metadata": {},
   "outputs": [
    {
     "name": "stdout",
     "output_type": "stream",
     "text": [
      "(NASDAQ: AAPL - Apple Inc.) -- Technology -- Consumer Electronics\n",
      "(NASDAQ: MSFT - Microsoft Corporation) -- Technology -- Software - Infrastructure\n"
     ]
    }
   ],
   "source": [
    "from earningscall import get_all_companies\n",
    "\n",
    "for company in get_all_companies():\n",
    "    print(f\"{company.company_info} -- {company.company_info.sector} -- {company.company_info.industry}\")"
   ]
  },
  {
   "cell_type": "code",
   "execution_count": 5,
   "metadata": {},
   "outputs": [
    {
     "data": {
      "text/html": [
       "<div>\n",
       "<style scoped>\n",
       "    .dataframe tbody tr th:only-of-type {\n",
       "        vertical-align: middle;\n",
       "    }\n",
       "\n",
       "    .dataframe tbody tr th {\n",
       "        vertical-align: top;\n",
       "    }\n",
       "\n",
       "    .dataframe thead th {\n",
       "        text-align: right;\n",
       "    }\n",
       "</style>\n",
       "<table border=\"1\" class=\"dataframe\">\n",
       "  <thead>\n",
       "    <tr style=\"text-align: right;\">\n",
       "      <th></th>\n",
       "      <th>exchange</th>\n",
       "      <th>symbol</th>\n",
       "      <th>name</th>\n",
       "      <th>sector</th>\n",
       "      <th>industry</th>\n",
       "    </tr>\n",
       "  </thead>\n",
       "  <tbody>\n",
       "    <tr>\n",
       "      <th>0</th>\n",
       "      <td>NASDAQ</td>\n",
       "      <td>NDSN</td>\n",
       "      <td>Nordson Corporation - Common Stock</td>\n",
       "      <td>Industrials</td>\n",
       "      <td>Specialty Industrial Machinery</td>\n",
       "    </tr>\n",
       "    <tr>\n",
       "      <th>1</th>\n",
       "      <td>NASDAQ</td>\n",
       "      <td>KINS</td>\n",
       "      <td>Kingstone Companies, Inc - Common Stock</td>\n",
       "      <td>Financial Services</td>\n",
       "      <td>Insurance - Property &amp; Casualty</td>\n",
       "    </tr>\n",
       "  </tbody>\n",
       "</table>\n",
       "</div>"
      ],
      "text/plain": [
       "  exchange symbol                                     name  \\\n",
       "0   NASDAQ   NDSN       Nordson Corporation - Common Stock   \n",
       "1   NASDAQ   KINS  Kingstone Companies, Inc - Common Stock   \n",
       "\n",
       "               sector                         industry  \n",
       "0         Industrials   Specialty Industrial Machinery  \n",
       "1  Financial Services  Insurance - Property & Casualty  "
      ]
     },
     "execution_count": 5,
     "metadata": {},
     "output_type": "execute_result"
    }
   ],
   "source": [
    "import pandas as pd\n",
    "\n",
    "EC_symbols = pd.read_csv('earningscallSymbolList.csv')\n",
    "EC_symbols.head(2)"
   ]
  },
  {
   "cell_type": "code",
   "execution_count": 2,
   "metadata": {},
   "outputs": [
    {
     "data": {
      "text/plain": [
       "6030"
      ]
     },
     "execution_count": 2,
     "metadata": {},
     "output_type": "execute_result"
    }
   ],
   "source": [
    "len(EC_symbols)"
   ]
  },
  {
   "cell_type": "code",
   "execution_count": 4,
   "metadata": {},
   "outputs": [
    {
     "data": {
      "text/html": [
       "<div>\n",
       "<style scoped>\n",
       "    .dataframe tbody tr th:only-of-type {\n",
       "        vertical-align: middle;\n",
       "    }\n",
       "\n",
       "    .dataframe tbody tr th {\n",
       "        vertical-align: top;\n",
       "    }\n",
       "\n",
       "    .dataframe thead th {\n",
       "        text-align: right;\n",
       "    }\n",
       "</style>\n",
       "<table border=\"1\" class=\"dataframe\">\n",
       "  <thead>\n",
       "    <tr style=\"text-align: right;\">\n",
       "      <th></th>\n",
       "      <th>cik</th>\n",
       "      <th>symbol</th>\n",
       "      <th>root</th>\n",
       "      <th>company_name</th>\n",
       "      <th>cusip</th>\n",
       "      <th>figi</th>\n",
       "      <th>class_figi</th>\n",
       "      <th>exchange</th>\n",
       "      <th>related</th>\n",
       "      <th>sector</th>\n",
       "      <th>...</th>\n",
       "      <th>mkt_cap</th>\n",
       "      <th>employees</th>\n",
       "      <th>shares_out</th>\n",
       "      <th>ipo_date</th>\n",
       "      <th>win_rate</th>\n",
       "      <th>total_count</th>\n",
       "      <th>recent_count</th>\n",
       "      <th>avg_abs_return</th>\n",
       "      <th>max_return</th>\n",
       "      <th>min_return</th>\n",
       "    </tr>\n",
       "  </thead>\n",
       "  <tbody>\n",
       "    <tr>\n",
       "      <th>0</th>\n",
       "      <td>37785</td>\n",
       "      <td>FMC</td>\n",
       "      <td>FMC</td>\n",
       "      <td>FMC CORP</td>\n",
       "      <td>302491303</td>\n",
       "      <td>BBG000BJP882</td>\n",
       "      <td>BBG001S5R880</td>\n",
       "      <td>NYS</td>\n",
       "      <td>['CTVA']</td>\n",
       "      <td>BasicMaterials</td>\n",
       "      <td>...</td>\n",
       "      <td>6.669965e+09</td>\n",
       "      <td>6600.0</td>\n",
       "      <td>124840000.0</td>\n",
       "      <td>1986-05-29</td>\n",
       "      <td>0.612565</td>\n",
       "      <td>191.0</td>\n",
       "      <td>127.0</td>\n",
       "      <td>1.267042</td>\n",
       "      <td>5.355819</td>\n",
       "      <td>-7.628036</td>\n",
       "    </tr>\n",
       "    <tr>\n",
       "      <th>1</th>\n",
       "      <td>825542</td>\n",
       "      <td>SMG</td>\n",
       "      <td>SMG</td>\n",
       "      <td>SCOTTS MIRACLE-GRO CO</td>\n",
       "      <td>810186106</td>\n",
       "      <td>BBG000BT5PG5</td>\n",
       "      <td>BBG001S5W5H0</td>\n",
       "      <td>NYS</td>\n",
       "      <td>[]</td>\n",
       "      <td>BasicMaterials</td>\n",
       "      <td>...</td>\n",
       "      <td>4.034961e+09</td>\n",
       "      <td>5300.0</td>\n",
       "      <td>57450000.0</td>\n",
       "      <td>1992-01-31</td>\n",
       "      <td>0.575163</td>\n",
       "      <td>153.0</td>\n",
       "      <td>109.0</td>\n",
       "      <td>2.225626</td>\n",
       "      <td>9.063994</td>\n",
       "      <td>-16.911301</td>\n",
       "    </tr>\n",
       "  </tbody>\n",
       "</table>\n",
       "<p>2 rows × 25 columns</p>\n",
       "</div>"
      ],
      "text/plain": [
       "      cik symbol root           company_name      cusip          figi  \\\n",
       "0   37785    FMC  FMC               FMC CORP  302491303  BBG000BJP882   \n",
       "1  825542    SMG  SMG  SCOTTS MIRACLE-GRO CO  810186106  BBG000BT5PG5   \n",
       "\n",
       "     class_figi exchange   related          sector  ...       mkt_cap  \\\n",
       "0  BBG001S5R880      NYS  ['CTVA']  BasicMaterials  ...  6.669965e+09   \n",
       "1  BBG001S5W5H0      NYS        []  BasicMaterials  ...  4.034961e+09   \n",
       "\n",
       "   employees   shares_out    ipo_date  win_rate  total_count  recent_count  \\\n",
       "0     6600.0  124840000.0  1986-05-29  0.612565        191.0         127.0   \n",
       "1     5300.0   57450000.0  1992-01-31  0.575163        153.0         109.0   \n",
       "\n",
       "   avg_abs_return max_return  min_return  \n",
       "0        1.267042   5.355819   -7.628036  \n",
       "1        2.225626   9.063994  -16.911301  \n",
       "\n",
       "[2 rows x 25 columns]"
      ]
     },
     "execution_count": 4,
     "metadata": {},
     "output_type": "execute_result"
    }
   ],
   "source": [
    "file_path='../StocksUniverse/final_symbols.csv'\n",
    "our_symbols = pd.read_csv(file_path)\n",
    "our_symbols.head(2)"
   ]
  },
  {
   "cell_type": "code",
   "execution_count": 6,
   "metadata": {},
   "outputs": [
    {
     "name": "stdout",
     "output_type": "stream",
     "text": [
      "Total symbols in EC_symbols: 6030\n",
      "Total symbols in our_symbols: 831\n",
      "Number of overlapping symbols: 824\n",
      "Percentage overlap: 99.16%\n",
      "\n",
      "First few overlapping symbols:\n",
      "  symbol           company_name\n",
      "0    FMC               FMC CORP\n",
      "1    SMG  SCOTTS MIRACLE-GRO CO\n",
      "2    FLS         FLOWSERVE CORP\n",
      "3   SMTC           SEMTECH CORP\n",
      "4   SNPS           SYNOPSYS INC\n"
     ]
    }
   ],
   "source": [
    "# Get the intersection of symbols\n",
    "common_symbols = set(EC_symbols['symbol']) & set(our_symbols['symbol'])\n",
    "\n",
    "# Print the results\n",
    "print(f\"Total symbols in EC_symbols: {len(EC_symbols)}\")\n",
    "print(f\"Total symbols in our_symbols: {len(our_symbols)}\")\n",
    "print(f\"Number of overlapping symbols: {len(common_symbols)}\")\n",
    "print(f\"Percentage overlap: {(len(common_symbols) / len(our_symbols)) * 100:.2f}%\")\n",
    "\n",
    "# If you want to see the actual overlapping symbols\n",
    "overlap_df = our_symbols[our_symbols['symbol'].isin(common_symbols)]\n",
    "print(\"\\nFirst few overlapping symbols:\")\n",
    "print(overlap_df[['symbol', 'company_name']].head())"
   ]
  },
  {
   "cell_type": "markdown",
   "metadata": {},
   "source": [
    "### symbols not in EC_symbols"
   ]
  },
  {
   "cell_type": "code",
   "execution_count": 7,
   "metadata": {},
   "outputs": [
    {
     "name": "stdout",
     "output_type": "stream",
     "text": [
      "\n",
      "Symbols in our dataset but not in EC_symbols (7 symbols):\n",
      "    symbol             company_name\n",
      "50     THO      THOR INDUSTRIES INC\n",
      "678   DNLI  DENALI THERAPEUTICS INC\n",
      "681   PAGS    PAGSEGURO DIGITAL LTD\n",
      "726   IDYA   IDEAYA BIOSCIENCES INC\n",
      "747   ETNB                89BIO INC\n",
      "757   PLRX  PLIANT THERAPEUTICS INC\n",
      "769   NRIX   NURIX THERAPEUTICS INC\n"
     ]
    }
   ],
   "source": [
    "# Find symbols in our_symbols that are not in EC_symbols\n",
    "missing_symbols = set(our_symbols['symbol']) - set(EC_symbols['symbol'])\n",
    "\n",
    "# Create a DataFrame with the missing symbols\n",
    "missing_df = our_symbols[our_symbols['symbol'].isin(missing_symbols)]\n",
    "\n",
    "print(f\"\\nSymbols in our dataset but not in EC_symbols ({len(missing_symbols)} symbols):\")\n",
    "print(missing_df[['symbol', 'company_name']].to_string())   "
   ]
  }
 ],
 "metadata": {
  "kernelspec": {
   "display_name": "EventTrader Environment",
   "language": "python",
   "name": "eventtrader_venv"
  },
  "language_info": {
   "codemirror_mode": {
    "name": "ipython",
    "version": 3
   },
   "file_extension": ".py",
   "mimetype": "text/x-python",
   "name": "python",
   "nbconvert_exporter": "python",
   "pygments_lexer": "ipython3",
   "version": "3.11.10"
  }
 },
 "nbformat": 4,
 "nbformat_minor": 2
}
