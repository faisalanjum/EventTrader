{
 "cells": [
  {
   "cell_type": "code",
   "execution_count": 1,
   "id": "92a89868",
   "metadata": {},
   "outputs": [
    {
     "name": "stdout",
     "output_type": "stream",
     "text": [
      "✅ LangSmith tracing enabled for project: EventMarketDB\n"
     ]
    }
   ],
   "source": [
    "# LangGraph Example with LangSmith Tracing\n",
    "# Traces automatically appear at: https://smith.langchain.com → Projects → EventMarketDB\n",
    "\n",
    "import sys\n",
    "sys.path.append('/home/faisal/EventMarketDB')\n",
    "\n",
    "# Import keys to enable automatic tracing\n",
    "from eventtrader import keys\n",
    "from drivers.drivers_graph.graph import create_graph\n",
    "from drivers.drivers_graph.state import AttributionState\n",
    "import asyncio\n",
    "\n",
    "print(f\"✅ LangSmith tracing enabled for project: {keys.LANGCHAIN_PROJECT}\")"
   ]
  },
  {
   "cell_type": "code",
   "execution_count": 2,
   "id": "bf7b4d84",
   "metadata": {},
   "outputs": [
    {
     "name": "stdout",
     "output_type": "stream",
     "text": [
      "Result: {'event': 'mcp_test', 'confidence': 95, 'reason': 'MCP connection test', 'company': 'AAPL', 'date': '2025-01-25'}\n",
      "Events: [{'id': 'mcp_test', 'return': 1.5, 'headline': 'MCP Connected'}]\n",
      "\n",
      "✅ Check trace at: https://smith.langchain.com → Projects → EventMarketDB\n"
     ]
    }
   ],
   "source": [
    "# Test the graph with async execution\n",
    "async def test_graph(ticker=\"AAPL\", date=\"2025-01-25\"):\n",
    "    graph = create_graph()\n",
    "    state = AttributionState(company_ticker=ticker, target_date=date, events=[], result={})\n",
    "    result = await graph.ainvoke(state)\n",
    "    return result\n",
    "\n",
    "# Run it\n",
    "result = await test_graph(\"AAPL\", \"2025-01-25\")\n",
    "print(\"Result:\", result[\"result\"])\n",
    "print(\"Events:\", result[\"events\"])\n",
    "print(\"\\n✅ Check trace at: https://smith.langchain.com → Projects → EventMarketDB\")"
   ]
  },
  {
   "cell_type": "code",
   "execution_count": 3,
   "id": "ea00a73f",
   "metadata": {},
   "outputs": [
    {
     "name": "stdout",
     "output_type": "stream",
     "text": [
      "\n",
      "AAPL:\n",
      "  Events: [{'id': 'mcp_test', 'return': 1.5, 'headline': 'MCP Connected'}]\n",
      "  Result: {'event': 'mcp_test', 'confidence': 95, 'reason': 'MCP connection test', 'company': 'AAPL', 'date': '2025-01-25'}\n",
      "\n",
      "MSFT:\n",
      "  Events: [{'id': 'mcp_test', 'return': 1.5, 'headline': 'MCP Connected'}]\n",
      "  Result: {'event': 'mcp_test', 'confidence': 95, 'reason': 'MCP connection test', 'company': 'MSFT', 'date': '2025-01-25'}\n",
      "\n",
      "GOOGL:\n",
      "  Events: [{'id': 'mcp_test', 'return': 1.5, 'headline': 'MCP Connected'}]\n",
      "  Result: {'event': 'mcp_test', 'confidence': 95, 'reason': 'MCP connection test', 'company': 'GOOGL', 'date': '2025-01-25'}\n"
     ]
    }
   ],
   "source": [
    "# Test different tickers to see MCP connection\n",
    "for ticker in [\"AAPL\", \"MSFT\", \"GOOGL\"]:\n",
    "    result = await test_graph(ticker, \"2025-01-25\")\n",
    "    print(f\"\\n{ticker}:\")\n",
    "    print(f\"  Events: {result['events']}\")\n",
    "    print(f\"  Result: {result['result']}\")"
   ]
  },
  {
   "cell_type": "code",
   "execution_count": 4,
   "id": "179f1068",
   "metadata": {},
   "outputs": [
    {
     "ename": "ImportError",
     "evalue": "cannot import name 'auto_studio' from 'drivers.drivers_graph' (/home/faisal/EventMarketDB/drivers/drivers_graph/__init__.py)",
     "output_type": "error",
     "traceback": [
      "\u001b[0;31m---------------------------------------------------------------------------\u001b[0m",
      "\u001b[0;31mImportError\u001b[0m                               Traceback (most recent call last)",
      "Cell \u001b[0;32mIn[4], line 1\u001b[0m\n\u001b[0;32m----> 1\u001b[0m \u001b[38;5;28;01mfrom\u001b[39;00m\u001b[38;5;250m \u001b[39m\u001b[38;5;21;01mdrivers\u001b[39;00m\u001b[38;5;21;01m.\u001b[39;00m\u001b[38;5;21;01mdrivers_graph\u001b[39;00m\u001b[38;5;250m \u001b[39m\u001b[38;5;28;01mimport\u001b[39;00m auto_studio\n\u001b[1;32m      2\u001b[0m \u001b[38;5;28;01mfrom\u001b[39;00m\u001b[38;5;250m \u001b[39m\u001b[38;5;21;01mlanggraph\u001b[39;00m\u001b[38;5;21;01m.\u001b[39;00m\u001b[38;5;21;01mgraph\u001b[39;00m\u001b[38;5;250m \u001b[39m\u001b[38;5;28;01mimport\u001b[39;00m StateGraph, END\n\u001b[1;32m      4\u001b[0m \u001b[38;5;66;03m# Create a DIFFERENT graph\u001b[39;00m\n",
      "\u001b[0;31mImportError\u001b[0m: cannot import name 'auto_studio' from 'drivers.drivers_graph' (/home/faisal/EventMarketDB/drivers/drivers_graph/__init__.py)"
     ]
    }
   ],
   "source": [
    "from drivers.drivers_graph import auto_studio\n",
    "from langgraph.graph import StateGraph, END\n",
    "\n",
    "# Create a DIFFERENT graph\n",
    "g = StateGraph(dict)\n",
    "g.add_node(\"step1\", lambda x: {\"data\": \"Hello\"})\n",
    "g.add_node(\"step2\", lambda x: {\"data\": x[\"data\"] + \" World\"})\n",
    "g.set_entry_point(\"step1\")\n",
    "g.add_edge(\"step1\", \"step2\")\n",
    "g.add_edge(\"step2\", END)\n",
    "\n",
    "# Run it\n",
    "graph = g.compile()\n",
    "result = graph.invoke({})\n",
    "print(result)\n"
   ]
  }
 ],
 "metadata": {
  "kernelspec": {
   "display_name": "venv",
   "language": "python",
   "name": "python3"
  },
  "language_info": {
   "codemirror_mode": {
    "name": "ipython",
    "version": 3
   },
   "file_extension": ".py",
   "mimetype": "text/x-python",
   "name": "python",
   "nbconvert_exporter": "python",
   "pygments_lexer": "ipython3",
   "version": "3.11.10"
  }
 },
 "nbformat": 4,
 "nbformat_minor": 5
}
