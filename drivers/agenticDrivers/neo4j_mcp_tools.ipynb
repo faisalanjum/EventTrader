{
 "cells": [
  {
   "cell_type": "markdown",
   "metadata": {},
   "source": [
    "# Neo4j MCP Tools with LangGraph (HTTP Pattern)\n",
    "\n",
    "This notebook demonstrates using MCP tools with LangGraph via HTTP transport - clean and simple!"
   ]
  },
  {
   "cell_type": "code",
   "execution_count": 1,
   "metadata": {},
   "outputs": [],
   "source": [
    "from langchain_mcp_adapters.client import MultiServerMCPClient\n",
    "from langchain_mcp_adapters.tools import load_mcp_tools\n",
    "from langgraph.prebuilt import create_react_agent\n",
    "from langchain_openai import ChatOpenAI\n",
    "from langchain_core.messages import HumanMessage, AIMessage\n",
    "from langgraph.graph import StateGraph, START, END\n",
    "from langgraph.graph import MessagesState\n",
    "from langgraph.prebuilt import ToolNode, tools_condition"
   ]
  },
  {
   "cell_type": "markdown",
   "metadata": {},
   "source": [
    "## Step 1: Deploy the HTTP-enabled MCP service\n",
    "\n",
    "The HTTP service has been deployed using:\n",
    "```bash\n",
    "./scripts/deploy-mcp-http.sh\n",
    "```\n",
    "\n",
    "This runs alongside the original pod (Claude Desktop still works!)."
   ]
  },
  {
   "cell_type": "markdown",
   "metadata": {},
   "source": [
    "## Step 2: Connect to MCP HTTP Service\n",
    "\n",
    "Since your code runs on minisforum, you can use NodePort directly (no port-forward needed):\n",
    "\n",
    "```python\n",
    "# For code running on minisforum (your case):\n",
    "client = MultiServerMCPClient({\n",
    "    \"neo4j\": {\n",
    "        \"url\": \"http://localhost:31380/mcp\",  # NodePort 31380\n",
    "        \"transport\": \"streamable_http\",\n",
    "    }\n",
    "})\n",
    "\n",
    "# Alternative - For local development from laptop:\n",
    "# First run: kubectl port-forward -n mcp-services service/mcp-neo4j-cypher-http 8080:8000\n",
    "# Then use: \"url\": \"http://localhost:8080/mcp\"\n",
    "```"
   ]
  },
  {
   "cell_type": "markdown",
   "metadata": {},
   "source": [
    "### Official Simplest Pattern"
   ]
  },
  {
   "cell_type": "code",
   "execution_count": 1,
   "metadata": {},
   "outputs": [
    {
     "name": "stdout",
     "output_type": "stream",
     "text": [
      "{'messages': [HumanMessage(content='Find and list any one node in my the database?', additional_kwargs={}, response_metadata={}, id='9e4e0284-7dfc-43da-b7fa-179157865df8'), AIMessage(content='', additional_kwargs={'tool_calls': [{'id': 'call_7ZzJj9sETtgCY8hsApcVQrYD', 'function': {'arguments': '{\\n  \"query\": \"MATCH (n) RETURN n LIMIT 1\"\\n}', 'name': 'read_neo4j_cypher'}, 'type': 'function'}], 'refusal': None}, response_metadata={'token_usage': {'completion_tokens': 29, 'prompt_tokens': 215, 'total_tokens': 244, 'completion_tokens_details': {'accepted_prediction_tokens': 0, 'audio_tokens': 0, 'reasoning_tokens': 0, 'rejected_prediction_tokens': 0}, 'prompt_tokens_details': {'audio_tokens': 0, 'cached_tokens': 0}}, 'model_name': 'gpt-4-0613', 'system_fingerprint': None, 'id': 'chatcmpl-BxOdXWUeyKIVyDMzNUkjvC4PQFlfv', 'service_tier': 'default', 'finish_reason': 'tool_calls', 'logprobs': None}, id='run--b1819c01-0739-434b-bce0-34f36373ebe0-0', tool_calls=[{'name': 'read_neo4j_cypher', 'args': {'query': 'MATCH (n) RETURN n LIMIT 1'}, 'id': 'call_7ZzJj9sETtgCY8hsApcVQrYD', 'type': 'tool_call'}], usage_metadata={'input_tokens': 215, 'output_tokens': 29, 'total_tokens': 244, 'input_token_details': {'audio': 0, 'cache_read': 0}, 'output_token_details': {'audio': 0, 'reasoning': 0}}), ToolMessage(content='[{\"n\": {\"u_id\": \"http://www.epam.com/20221231:epam:AuditorInformationAbstract\", \"balance\": \"null\", \"qname\": \"epam:AuditorInformationAbstract\", \"concept_type\": \"xbrli:stringItemType\", \"namespace\": \"http://www.epam.com/20221231\", \"id\": \"http://www.epam.com/20221231:epam:AuditorInformationAbstract\", \"label\": \"Auditor Information [Abstract]\", \"category\": \"Abstract\", \"type_local\": \"string\", \"period_type\": \"duration\"}}]', name='read_neo4j_cypher', id='c9d8ef28-1057-42fc-8162-48395c2e1fe7', tool_call_id='call_7ZzJj9sETtgCY8hsApcVQrYD'), AIMessage(content='I found one node in the database. Here are its details:\\n\\n- Node ID: http://www.epam.com/20221231:epam:AuditorInformationAbstract\\n- Balance: null\\n- QName: epam:AuditorInformationAbstract\\n- Concept Type: xbrli:stringItemType\\n- Namespace: http://www.epam.com/20221231\\n- Label: Auditor Information [Abstract]\\n- Category: Abstract\\n- Type Local: string\\n- Period Type: duration', additional_kwargs={'refusal': None}, response_metadata={'token_usage': {'completion_tokens': 98, 'prompt_tokens': 376, 'total_tokens': 474, 'completion_tokens_details': {'accepted_prediction_tokens': 0, 'audio_tokens': 0, 'reasoning_tokens': 0, 'rejected_prediction_tokens': 0}, 'prompt_tokens_details': {'audio_tokens': 0, 'cached_tokens': 0}}, 'model_name': 'gpt-4-0613', 'system_fingerprint': None, 'id': 'chatcmpl-BxOdZydHPZlDEfziNH7gjBmvqXGd7', 'service_tier': 'default', 'finish_reason': 'stop', 'logprobs': None}, id='run--025a6302-8b08-4eb0-aa6d-d4b0eaad9aac-0', usage_metadata={'input_tokens': 376, 'output_tokens': 98, 'total_tokens': 474, 'input_token_details': {'audio': 0, 'cache_read': 0}, 'output_token_details': {'audio': 0, 'reasoning': 0}})]}\n"
     ]
    }
   ],
   "source": [
    "\n",
    "\n",
    "from langchain_mcp_adapters.client import MultiServerMCPClient\n",
    "from langgraph.prebuilt import create_react_agent\n",
    "from eventtrader import keys  # This enables tracing\n",
    "\n",
    "# 1. Connect to MCP\n",
    "client = MultiServerMCPClient({\n",
    "    \"neo4j\": {\n",
    "        \"url\": \"http://localhost:31380/mcp\",\n",
    "        \"transport\": \"streamable_http\",\n",
    "    }\n",
    "})\n",
    "\n",
    "# 2. Get tools\n",
    "tools = await client.get_tools()\n",
    "\n",
    "# 3. Create agent with tools - THAT'S IT!\n",
    "agent = create_react_agent(\"openai:gpt-4\", tools)\n",
    "\n",
    "# 4. Use it\n",
    "response = await agent.ainvoke({\n",
    "    \"messages\": [{\"role\": \"user\", \"content\": \"Find and list any one node in my the database?\"}]\n",
    "})\n",
    "\n",
    "print(response)\n"
   ]
  },
  {
   "cell_type": "markdown",
   "metadata": {},
   "source": [
    "## Step 3: Test MCP Connection"
   ]
  },
  {
   "cell_type": "code",
   "execution_count": 3,
   "metadata": {},
   "outputs": [
    {
     "name": "stdout",
     "output_type": "stream",
     "text": [
      "✅ Found 3 MCP tools: ['get_neo4j_schema', 'read_neo4j_cypher', 'write_neo4j_cypher']\n",
      "✅ Query result: [{\"c.name\": \"FMC CORP\"}, {\"c.name\": \"SCOTTS MIRACLE-GRO CO\"}, {\"c.name\": \"FLOWSERVE CORP\"}]\n"
     ]
    }
   ],
   "source": [
    "# Quick test - Verify MCP HTTP is working\n",
    "async def quick_test():\n",
    "    # Using NodePort 31380 (no port-forward needed on minisforum)\n",
    "    client = MultiServerMCPClient({\n",
    "        \"neo4j\": {\n",
    "            \"url\": \"http://localhost:31380/mcp\",\n",
    "            \"transport\": \"streamable_http\",\n",
    "        }\n",
    "    })\n",
    "    \n",
    "    # Get tools\n",
    "    tools = await client.get_tools()\n",
    "    print(f\"✅ Found {len(tools)} MCP tools: {[t.name for t in tools]}\")\n",
    "    \n",
    "    # Test a query\n",
    "    read_tool = next(t for t in tools if t.name == \"read_neo4j_cypher\")\n",
    "    result = await read_tool.ainvoke({\n",
    "        \"query\": \"MATCH (c:Company) RETURN c.name LIMIT 3\"\n",
    "    })\n",
    "    print(f\"✅ Query result: {result}\")\n",
    "\n",
    "await quick_test()"
   ]
  },
  {
   "cell_type": "markdown",
   "metadata": {},
   "source": [
    "## Step 4: Complete Working Example (Router Pattern)"
   ]
  },
  {
   "cell_type": "code",
   "execution_count": 4,
   "metadata": {},
   "outputs": [
    {
     "name": "stdout",
     "output_type": "stream",
     "text": [
      "✅ Loaded 3 MCP tools via NodePort 31380\n",
      "✅ Graph created with 3 tools available\n"
     ]
    }
   ],
   "source": [
    "# Complete working example following router.ipynb pattern\n",
    "async def create_mcp_graph():\n",
    "    \"\"\"Create a LangGraph with MCP tools - clean and simple.\"\"\"\n",
    "    \n",
    "    # 1. Get MCP tools using NodePort (no port-forward needed)\n",
    "    client = MultiServerMCPClient({\n",
    "        \"neo4j\": {\n",
    "            \"url\": \"http://localhost:31380/mcp\",\n",
    "            \"transport\": \"streamable_http\",\n",
    "        }\n",
    "    })\n",
    "    tools = await client.get_tools()\n",
    "    print(f\"✅ Loaded {len(tools)} MCP tools via NodePort 31380\")\n",
    "    \n",
    "    # 2. Create LLM with tools (requires OpenAI API key)\n",
    "    # llm = ChatOpenAI(model=\"gpt-4\", temperature=0)\n",
    "    # llm_with_tools = llm.bind_tools(tools)\n",
    "    \n",
    "    # 3. Define the tool-calling node\n",
    "    def tool_calling_llm(state: MessagesState):\n",
    "        \"\"\"Node that calls the LLM with tools.\"\"\"\n",
    "        # return {\"messages\": [llm_with_tools.invoke(state[\"messages\"])]}\n",
    "        # For testing without OpenAI, just echo the message\n",
    "        return {\"messages\": state[\"messages\"]}\n",
    "    \n",
    "    # 4. Build the graph\n",
    "    builder = StateGraph(MessagesState)\n",
    "    \n",
    "    # Add nodes\n",
    "    builder.add_node(\"tool_calling_llm\", tool_calling_llm)\n",
    "    builder.add_node(\"tools\", ToolNode(tools))  # MCP tools work like any tools!\n",
    "    \n",
    "    # Add edges (following router.ipynb pattern)\n",
    "    builder.add_edge(START, \"tool_calling_llm\")\n",
    "    builder.add_conditional_edges(\n",
    "        \"tool_calling_llm\",\n",
    "        lambda x: END,  # For testing, always end (normally use tools_condition)\n",
    "    )\n",
    "    builder.add_edge(\"tools\", \"tool_calling_llm\")\n",
    "    \n",
    "    # 5. Compile the graph\n",
    "    graph = builder.compile()\n",
    "    \n",
    "    return graph, tools\n",
    "\n",
    "# Create the graph\n",
    "graph, tools = await create_mcp_graph()\n",
    "print(f\"✅ Graph created with {len(tools)} tools available\")"
   ]
  },
  {
   "cell_type": "code",
   "execution_count": 5,
   "metadata": {},
   "outputs": [
    {
     "name": "stdout",
     "output_type": "stream",
     "text": [
      "✅ Connected to Neo4j MCP! Found 3 tools:\n",
      "  - get_neo4j_schema: List all node, their attributes and their relationships to other nodes in the neo4j database.\n",
      "        If this fails with a message that includes \"Neo.ClientError.Procedure.ProcedureNotFound\"\n",
      "        suggest that the user install and enable the APOC plugin.\n",
      "        \n",
      "  - read_neo4j_cypher: Execute a read Cypher query on the neo4j database.\n",
      "  - write_neo4j_cypher: Execute a write Cypher query on the neo4j database.\n",
      "\n",
      "📊 Test 1: Getting database schema...\n",
      "Schema result type: <class 'str'>\n",
      "Schema result (truncated): [{\"label\": \"MarketIndex\", \"attributes\": {\"id\": \"STRING unique indexed\", \"ticker\": \"STRING\", \"etf\": \"STRING\", \"name\": \"STRING\"}, \"relationships\": {}}, {\"label\": \"Sector\", \"attributes\": {\"id\": \"STRING u...\n",
      "\n",
      "📊 Test 2: Querying node labels...\n",
      "Labels result type: <class 'str'>\n",
      "First 10 labels: [{\"label\": \"Abstract\"}, {\"label\": \"AdminReport\"}, {\"label\": \"AdminSection\"}, {\"label\": \"Company\"}, {\"label\": \"Concept\"}, {\"label\": \"Context\"}, {\"label\": \"Date\"}, {\"label\": \"Dimension\"}, {\"label\": \"Dividend\"}, {\"label\": \"Domain\"}]\n",
      "\n",
      "📊 Test 3: Count nodes by type...\n",
      "Top 3 node types: [{\"type\": \"Fact\", \"count\": 6212383}, {\"type\": \"Context\", \"count\": 1876273}, {\"type\": \"Member\", \"count\": 835134}]\n"
     ]
    }
   ],
   "source": [
    "# Direct tool testing (works without OpenAI API key)\n",
    "async def test_mcp_tools_directly():\n",
    "    \"\"\"Test MCP tools directly without LLM.\"\"\"\n",
    "    \n",
    "    # Create MCP client and get tools\n",
    "    client = MultiServerMCPClient({\n",
    "        \"neo4j\": {\n",
    "            \"url\": \"http://localhost:31380/mcp\",  # Using NodePort\n",
    "            \"transport\": \"streamable_http\",\n",
    "        }\n",
    "    })\n",
    "    \n",
    "    # Get tools\n",
    "    tools = await client.get_tools()\n",
    "    print(f\"✅ Connected to Neo4j MCP! Found {len(tools)} tools:\")\n",
    "    for tool in tools:\n",
    "        print(f\"  - {tool.name}: {tool.description}\")\n",
    "    \n",
    "    # Test 1: Get database schema\n",
    "    print(\"\\n📊 Test 1: Getting database schema...\")\n",
    "    schema_tool = next(t for t in tools if t.name == \"get_neo4j_schema\")\n",
    "    schema_result = await schema_tool.ainvoke({})\n",
    "    print(f\"Schema result type: {type(schema_result)}\")\n",
    "    print(f\"Schema result (truncated): {str(schema_result)[:200]}...\")\n",
    "    \n",
    "    # Test 2: Query for node labels\n",
    "    print(\"\\n📊 Test 2: Querying node labels...\")\n",
    "    read_tool = next(t for t in tools if t.name == \"read_neo4j_cypher\")\n",
    "    labels_result = await read_tool.ainvoke({\n",
    "        \"query\": \"CALL db.labels() YIELD label RETURN label ORDER BY label LIMIT 10\"\n",
    "    })\n",
    "    print(f\"Labels result type: {type(labels_result)}\")\n",
    "    print(f\"First 10 labels: {labels_result}\")\n",
    "    \n",
    "    # Test 3: Count nodes by type\n",
    "    print(\"\\n📊 Test 3: Count nodes by type...\")\n",
    "    count_result = await read_tool.ainvoke({\n",
    "        \"query\": \"MATCH (n) RETURN labels(n)[0] as type, count(n) as count ORDER BY count DESC LIMIT 3\"\n",
    "    })\n",
    "    print(f\"Top 3 node types: {count_result}\")\n",
    "    \n",
    "    return tools\n",
    "\n",
    "# Run it\n",
    "tools = await test_mcp_tools_directly()"
   ]
  },
  {
   "cell_type": "code",
   "execution_count": 6,
   "metadata": {},
   "outputs": [
    {
     "name": "stdout",
     "output_type": "stream",
     "text": [
      "\n",
      "🔍 Query: What types of nodes exist in the database? List the first 10.\n",
      "💬 Response: Here are the first 10 types of nodes that exist in the database:\n",
      "\n",
      "1. **MarketIndex**: Attributes include id, ticker, etf, name.\n",
      "2. **Sector**: Attributes include id, etf, name. It has a relationship \"BELONGS_TO\" with MarketIndex.\n",
      "3. **Industry**: Attributes include id, sector_id, etf, name. It has a relationship \"BELONGS_TO\" with Sector.\n",
      "4. **Company**: Attributes include sector, shares_out, displayLabel, symbol, industry_normalized, sector_etf, industry_etf, id, cik, fiscal_year_end_month, ticker, mkt_cap, name, industry, exchange, employees, fiscal_year_end_day. It has relationships \"HAS_TRANSCRIPT\" with Transcript, \"DECLARED_SPLIT\" with Split, \"DECLARED_DIVIDEND\" with Dividend, \"RELATED_TO\" with Company, \"BELONGS_TO\" with Industry.\n",
      "5. **Concept**: Attributes include id, balance, type_local, category, qname, label, period_type, u_id, concept_type, namespace.\n",
      "6. **Abstract**: Attributes include id, balance, type_local, category, qname, label, period_type, u_id, concept_type, namespace. It has a relationship \"PRESENTATION_EDGE\" with Fact.\n",
      "7. **Fact**: Attributes include decimals, id, is_nil, is_numeric, qname, context_id, value, fact_id, u_id, unit_ref, period_ref, concept_ref. It has relationships \"HAS_CONCEPT\" with Concept, \"HAS_PERIOD\" with Period, \"FACT_MEMBER\" with Member, \"FACT_DIMENSION\" with Dimension, \"HAS_UNIT\" with Unit, \"REPORTS\" with XBRLNode, \"IN_CONTEXT\" with Context, \"CALCULATION_EDGE\" with Fact.\n",
      "8. **Period**: Attributes include id, end_date, period_type, u_id, start_date.\n",
      "9. **Unit**: Attributes include id, status, is_simple_unit, unit_reference, name, registry_id, is_divide, u_id, item_type, namespace.\n",
      "10. **Context**: Attributes include id, cik, context_id, member_u_ids, dimension_u_ids, u_id, period_u_id. It has relationships \"HAS_PERIOD\" with Period, \"FOR_COMPANY\" with Company.\n",
      "\n",
      "🔍 Query: How many Report nodes are there in the database?\n",
      "💬 Response: There are 31,453 Report nodes in the database.\n",
      "\n",
      "🔍 Query: Show me 3 companies (Company nodes) with their names.\n",
      "💬 Response: Here are 3 companies:\n",
      "\n",
      "1. FMC CORP\n",
      "2. SCOTTS MIRACLE-GRO CO\n",
      "3. FLOWSERVE CORP\n"
     ]
    }
   ],
   "source": [
    "# Real LangGraph Agent with MCP Tools (Requires OpenAI API Key)\n",
    "import os\n",
    "\n",
    "# Set your API key\n",
    "# os.environ[\"OPENAI_API_KEY\"] = \"sk-your-key-here\"\n",
    "\n",
    "async def run_neo4j_explorer():\n",
    "    \"\"\"Real example following langchain-academy router pattern.\"\"\"\n",
    "    \n",
    "    # 1. Get MCP tools\n",
    "    client = MultiServerMCPClient({\n",
    "        \"neo4j\": {\n",
    "            \"url\": \"http://localhost:31380/mcp\",  # Using NodePort\n",
    "            \"transport\": \"streamable_http\",\n",
    "        }\n",
    "    })\n",
    "    tools = await client.get_tools()\n",
    "    \n",
    "    # 2. Create LLM with tools\n",
    "    llm = ChatOpenAI(model=\"gpt-4\", temperature=0)\n",
    "    llm_with_tools = llm.bind_tools(tools)\n",
    "    \n",
    "    # 3. Define the agent node (router.ipynb pattern)\n",
    "    def agent(state: MessagesState):\n",
    "        \"\"\"Agent node that decides whether to use tools.\"\"\"\n",
    "        return {\"messages\": [llm_with_tools.invoke(state[\"messages\"])]}\n",
    "    \n",
    "    # 4. Build the graph\n",
    "    builder = StateGraph(MessagesState)\n",
    "    \n",
    "    # Add nodes\n",
    "    builder.add_node(\"agent\", agent)\n",
    "    builder.add_node(\"tools\", ToolNode(tools))\n",
    "    \n",
    "    # Add edges (router pattern)\n",
    "    builder.add_edge(START, \"agent\")\n",
    "    builder.add_conditional_edges(\n",
    "        \"agent\",\n",
    "        tools_condition,\n",
    "        # If tools_condition returns \"tools\", go to tools node\n",
    "        # If it returns \"__end__\", go to END\n",
    "    )\n",
    "    builder.add_edge(\"tools\", \"agent\")\n",
    "    \n",
    "    # 5. Compile\n",
    "    graph = builder.compile()\n",
    "    \n",
    "    # 6. Run queries\n",
    "    queries = [\n",
    "        \"What types of nodes exist in the database? List the first 10.\",\n",
    "        \"How many Report nodes are there in the database?\",\n",
    "        \"Show me 3 companies (Company nodes) with their names.\",\n",
    "    ]\n",
    "    \n",
    "    for query in queries:\n",
    "        print(f\"\\n🔍 Query: {query}\")\n",
    "        result = await graph.ainvoke({\n",
    "            \"messages\": [HumanMessage(content=query)]\n",
    "        })\n",
    "        print(f\"💬 Response: {result['messages'][-1].content}\")\n",
    "\n",
    "# Uncomment and run after setting OPENAI_API_KEY:\n",
    "await run_neo4j_explorer()"
   ]
  },
  {
   "cell_type": "code",
   "execution_count": 7,
   "metadata": {},
   "outputs": [],
   "source": [
    "# Simplest One-Node Agent (as originally requested)\n",
    "async def create_simplest_agent():\n",
    "    \"\"\"Simplest LangGraph agent with one node and MCP tools.\"\"\"\n",
    "    \n",
    "    # Get MCP tools\n",
    "    client = MultiServerMCPClient({\n",
    "        \"neo4j\": {\n",
    "            \"url\": \"http://localhost:31380/mcp\",  # Using NodePort\n",
    "            \"transport\": \"streamable_http\",\n",
    "        }\n",
    "    })\n",
    "    tools = await client.get_tools()\n",
    "    \n",
    "    # Create graph with single node\n",
    "    builder = StateGraph(MessagesState)\n",
    "    \n",
    "    # Single node that explores the database\n",
    "    async def explore_db(state: MessagesState):\n",
    "        \"\"\"Single node that can query Neo4j.\"\"\"\n",
    "        # Direct tool usage example\n",
    "        read_tool = next(t for t in tools if t.name == \"read_neo4j_cypher\")\n",
    "        \n",
    "        # Get the user's query\n",
    "        user_query = state[\"messages\"][-1].content\n",
    "        \n",
    "        # Execute Cypher based on the prompt\n",
    "        if \"labels\" in user_query.lower():\n",
    "            result = await read_tool.ainvoke({\n",
    "                \"query\": \"CALL db.labels() YIELD label RETURN label LIMIT 10\"\n",
    "            })\n",
    "        elif \"count\" in user_query.lower():\n",
    "            result = await read_tool.ainvoke({\n",
    "                \"query\": \"MATCH (n) RETURN labels(n)[0] as type, count(n) as count ORDER BY count DESC LIMIT 5\"\n",
    "            })\n",
    "        else:\n",
    "            result = await read_tool.ainvoke({\n",
    "                \"query\": \"MATCH (n) RETURN n LIMIT 1\"\n",
    "            })\n",
    "        \n",
    "        return {\"messages\": [AIMessage(content=f\"Query result: {result}\")]}\n",
    "    \n",
    "    # Build graph\n",
    "    builder.add_node(\"explore\", explore_db)\n",
    "    builder.add_edge(START, \"explore\")\n",
    "    builder.add_edge(\"explore\", END)\n",
    "    \n",
    "    return builder.compile()\n",
    "\n",
    "# Usage:\n",
    "graph = await create_simplest_agent()\n",
    "result = await graph.ainvoke({\"messages\": [HumanMessage(content=\"Show me the labels\")]})"
   ]
  },
  {
   "cell_type": "code",
   "execution_count": 8,
   "metadata": {},
   "outputs": [
    {
     "data": {
      "text/plain": [
       "{'messages': [HumanMessage(content='Show me the labels', additional_kwargs={}, response_metadata={}, id='c62a6f8d-80bc-4f90-b546-e94d85a6cd46'),\n",
       "  AIMessage(content='Query result: [{\"label\": \"MarketIndex\"}, {\"label\": \"Sector\"}, {\"label\": \"Industry\"}, {\"label\": \"Company\"}, {\"label\": \"Concept\"}, {\"label\": \"Abstract\"}, {\"label\": \"Fact\"}, {\"label\": \"Period\"}, {\"label\": \"Unit\"}, {\"label\": \"Context\"}]', additional_kwargs={}, response_metadata={}, id='b2fb578b-b927-4aaf-89b1-475d5358b289')]}"
      ]
     },
     "execution_count": 8,
     "metadata": {},
     "output_type": "execute_result"
    }
   ],
   "source": [
    "result"
   ]
  },
  {
   "cell_type": "markdown",
   "metadata": {},
   "source": [
    "### View Graph"
   ]
  },
  {
   "cell_type": "code",
   "execution_count": null,
   "metadata": {},
   "outputs": [
    {
     "data": {
      "image/png": "[encoded data removed]",
      "text/plain": [
       "<IPython.core.display.Image object>"
      ]
     },
     "metadata": {},
     "output_type": "display_data"
    }
   ],
   "source": [
    "\n",
    "\n",
    "from IPython.display import Image, display\n",
    "display(Image(graph.get_graph().draw_mermaid_png()))"
   ]
  },
  {
   "cell_type": "markdown",
   "metadata": {},
   "source": [
    "## Verify Both Setups Are Working"
   ]
  },
  {
   "cell_type": "code",
   "execution_count": 10,
   "metadata": {},
   "outputs": [
    {
     "name": "stdout",
     "output_type": "stream",
     "text": [
      "🔍 Checking MCP services:\n",
      "NAME                                    READY   STATUS    RESTARTS   AGE\n",
      "mcp-neo4j-cypher-5995cf66b7-br6ww       1/1     Running   0          17h\n",
      "mcp-neo4j-cypher-http-9c56ff686-874p6   1/1     Running   0          15h\n",
      "mcp-neo4j-memory-64779bf6bb-64ksp       1/1     Running   0          17h\n",
      "\n",
      "\n",
      "✅ mcp-neo4j-cypher: Original pod for Claude Desktop\n",
      "✅ mcp-neo4j-cypher-http: HTTP pod for LangGraph tools\n"
     ]
    }
   ],
   "source": [
    "# Verify both setups are working\n",
    "import subprocess\n",
    "\n",
    "print(\"🔍 Checking MCP services:\")\n",
    "result = subprocess.run([\"kubectl\", \"get\", \"pods\", \"-n\", \"mcp-services\"], \n",
    "                       capture_output=True, text=True)\n",
    "print(result.stdout)\n",
    "\n",
    "print(\"\\n✅ mcp-neo4j-cypher: Original pod for Claude Desktop\")\n",
    "print(\"✅ mcp-neo4j-cypher-http: HTTP pod for LangGraph tools\")"
   ]
  },
  {
   "cell_type": "markdown",
   "metadata": {},
   "source": [
    "## That's It! 🎉\n",
    "\n",
    "Your MCP tools now work exactly like any other LangChain tool:\n",
    "- ✅ Simple `MultiServerMCPClient` connection via HTTP\n",
    "- ✅ Tools work in `create_react_agent`\n",
    "- ✅ Tools work in custom LangGraph workflows\n",
    "- ✅ Claude Desktop continues to work (uses the original pod)\n",
    "\n",
    "No complicated session management, no kubectl exec, just clean HTTP-based tools!"
   ]
  },
  {
   "cell_type": "markdown",
   "metadata": {},
   "source": []
  }
 ],
 "metadata": {
  "kernelspec": {
   "display_name": "venv",
   "language": "python",
   "name": "python3"
  },
  "language_info": {
   "codemirror_mode": {
    "name": "ipython",
    "version": 3
   },
   "file_extension": ".py",
   "mimetype": "text/x-python",
   "name": "python",
   "nbconvert_exporter": "python",
   "pygments_lexer": "ipython3",
   "version": "3.11.10"
  }
 },
 "nbformat": 4,
 "nbformat_minor": 4
}
