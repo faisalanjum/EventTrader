{
 "cells": [
  {
   "cell_type": "markdown",
   "metadata": {},
   "source": [
    "### Extract Financial Satetments From XBRL"
   ]
  },
  {
   "cell_type": "code",
   "execution_count": 1,
   "metadata": {},
   "outputs": [
    {
     "name": "stdout",
     "output_type": "stream",
     "text": [
      "Loading .env from: /Users/macowne/Desktop/Faisal/EventTrader/.env\n"
     ]
    }
   ],
   "source": [
    "from eventtrader.keys import SEC_API_KEY\n",
    "\n",
    "from sec_api import XbrlApi\n",
    "\n",
    "xbrlApi = XbrlApi(SEC_API_KEY)\n",
    "\n",
    "# 10-K HTM File URL example\n",
    "htm_url=\"https://www.sec.gov/Archives/edgar/data/8818/000000881825000003/avy-20241228_htm.xml\"\n",
    "xbrl_json = xbrlApi.xbrl_to_json(htm_url=htm_url)\n",
    "\n",
    "xbrl_json = xbrlApi.xbrl_to_json(accession_no='0000008818-25-000003')\n"
   ]
  },
  {
   "cell_type": "code",
   "execution_count": 2,
   "metadata": {},
   "outputs": [
    {
     "data": {
      "text/plain": [
       "dict_keys(['DocumentType', 'DocumentAnnualReport', 'DocumentPeriodEndDate', 'CurrentFiscalYearEndDate', 'DocumentTransitionReport', 'EntityFileNumber', 'EntityRegistrantName', 'EntityIncorporationStateCountryCode', 'EntityTaxIdentificationNumber', 'EntityAddressAddressLine1', 'EntityAddressCityOrTown', 'EntityAddressStateOrProvince', 'EntityAddressPostalZipCode', 'CityAreaCode', 'LocalPhoneNumber', 'Security12bTitle', 'TradingSymbol', 'SecurityExchangeName', 'EntityWellKnownSeasonedIssuer', 'EntityVoluntaryFilers', 'EntityCurrentReportingStatus', 'EntityInteractiveDataCurrent', 'EntityFilerCategory', 'EntitySmallBusiness', 'EntityEmergingGrowthCompany', 'IcfrAuditorAttestationFlag', 'DocumentFinStmtErrorCorrectionFlag', 'EntityShellCompany', 'EntityPublicFloat', 'EntityCommonStockSharesOutstanding', 'DocumentsIncorporatedByReferenceTextBlock', 'EntityCentralIndexKey', 'DocumentFiscalYearFocus', 'DocumentFiscalPeriodFocus', 'AmendmentFlag'])"
      ]
     },
     "execution_count": 2,
     "metadata": {},
     "output_type": "execute_result"
    }
   ],
   "source": [
    "xbrl_json['CoverPage'].keys()"
   ]
  },
  {
   "cell_type": "code",
   "execution_count": 3,
   "metadata": {},
   "outputs": [
    {
     "name": "stdout",
     "output_type": "stream",
     "text": [
      "{'RevenueFromContractWithCustomerExcludingAssessedTax': [{'decimals': '-5', 'unitRef': 'usd', 'period': {'startDate': '2023-12-31', 'endDate': '2024-12-28'}, 'value': '8755700000'}, {'decimals': '-5', 'unitRef': 'usd', 'period': {'startDate': '2023-01-01', 'endDate': '2023-12-30'}, 'value': '8364300000'}, {'decimals': '-5', 'unitRef': 'usd', 'period': {'startDate': '2022-01-02', 'endDate': '2022-12-31'}, 'value': '9039300000'}, {'decimals': '-5', 'unitRef': 'usd', 'period': {'startDate': '2023-12-31', 'endDate': '2024-12-28'}, 'segment': [{'dimension': 'srt:ConsolidationItemsAxis', 'value': 'us-gaap:OperatingSegmentsMember'}, {'dimension': 'srt:StatementGeographicalAxis', 'value': 'country:US'}, {'dimension': 'us-gaap:StatementBusinessSegmentsAxis', 'value': 'avy:MaterialsGroupSegmentMember'}], 'value': '1715600000'}, {'decimals': '-5', 'unitRef': 'usd', 'period': {'startDate': '2023-01-01', 'endDate': '2023-12-30'}, 'segment': [{'dimension': 'srt:ConsolidationItemsAxis', 'value': 'us-gaap:OperatingSegmentsMember'}, {'dimension': 'srt:StatementGeographicalAxis', 'value': 'country:US'}, {'dimension': 'us-gaap:StatementBusinessSegmentsAxis', 'value': 'avy:MaterialsGroupSegmentMember'}], 'value': '1687800000'}, {'decimals': '-5', 'unitRef': 'usd', 'period': {'startDate': '2022-01-02', 'endDate': '2022-12-31'}, 'segment': [{'dimension': 'srt:ConsolidationItemsAxis', 'value': 'us-gaap:OperatingSegmentsMember'}, {'dimension': 'srt:StatementGeographicalAxis', 'value': 'country:US'}, {'dimension': 'us-gaap:StatementBusinessSegmentsAxis', 'value': 'avy:MaterialsGroupSegmentMember'}], 'value': '1892100000'}, {'decimals': '-5', 'unitRef': 'usd', 'period': {'startDate': '2023-12-31', 'endDate': '2024-12-28'}, 'segment': [{'dimension': 'srt:ConsolidationItemsAxis', 'value': 'us-gaap:OperatingSegmentsMember'}, {'dimension': 'srt:StatementGeographicalAxis', 'value': 'avy:EuropeTheMiddleEastAndNorthAfricaMember'}, {'dimension': 'us-gaap:StatementBusinessSegmentsAxis', 'value': 'avy:MaterialsGroupSegmentMember'}], 'value': '2091000000'}, {'decimals': '-5', 'unitRef': 'usd', 'period': {'startDate': '2023-01-01', 'endDate': '2023-12-30'}, 'segment': [{'dimension': 'srt:ConsolidationItemsAxis', 'value': 'us-gaap:OperatingSegmentsMember'}, {'dimension': 'srt:StatementGeographicalAxis', 'value': 'avy:EuropeTheMiddleEastAndNorthAfricaMember'}, {'dimension': 'us-gaap:StatementBusinessSegmentsAxis', 'value': 'avy:MaterialsGroupSegmentMember'}], 'value': '2007100000'}, {'decimals': '-5', 'unitRef': 'usd', 'period': {'startDate': '2022-01-02', 'endDate': '2022-12-31'}, 'segment': [{'dimension': 'srt:ConsolidationItemsAxis', 'value': 'us-gaap:OperatingSegmentsMember'}, {'dimension': 'srt:StatementGeographicalAxis', 'value': 'avy:EuropeTheMiddleEastAndNorthAfricaMember'}, {'dimension': 'us-gaap:StatementBusinessSegmentsAxis', 'value': 'avy:MaterialsGroupSegmentMember'}], 'value': '2396200000'}, {'decimals': '-5', 'unitRef': 'usd', 'period': {'startDate': '2023-12-31', 'endDate': '2024-12-28'}, 'segment': [{'dimension': 'srt:ConsolidationItemsAxis', 'value': 'us-gaap:OperatingSegmentsMember'}, {'dimension': 'srt:StatementGeographicalAxis', 'value': 'srt:AsiaMember'}, {'dimension': 'us-gaap:StatementBusinessSegmentsAxis', 'value': 'avy:MaterialsGroupSegmentMember'}], 'value': '1388000000'}, {'decimals': '-5', 'unitRef': 'usd', 'period': {'startDate': '2023-01-01', 'endDate': '2023-12-30'}, 'segment': [{'dimension': 'srt:ConsolidationItemsAxis', 'value': 'us-gaap:OperatingSegmentsMember'}, {'dimension': 'srt:StatementGeographicalAxis', 'value': 'srt:AsiaMember'}, {'dimension': 'us-gaap:StatementBusinessSegmentsAxis', 'value': 'avy:MaterialsGroupSegmentMember'}], 'value': '1315200000'}, {'decimals': '-5', 'unitRef': 'usd', 'period': {'startDate': '2022-01-02', 'endDate': '2022-12-31'}, 'segment': [{'dimension': 'srt:ConsolidationItemsAxis', 'value': 'us-gaap:OperatingSegmentsMember'}, {'dimension': 'srt:StatementGeographicalAxis', 'value': 'srt:AsiaMember'}, {'dimension': 'us-gaap:StatementBusinessSegmentsAxis', 'value': 'avy:MaterialsGroupSegmentMember'}], 'value': '1390300000'}, {'decimals': '-5', 'unitRef': 'usd', 'period': {'startDate': '2023-12-31', 'endDate': '2024-12-28'}, 'segment': [{'dimension': 'srt:ConsolidationItemsAxis', 'value': 'us-gaap:OperatingSegmentsMember'}, {'dimension': 'srt:StatementGeographicalAxis', 'value': 'srt:LatinAmericaMember'}, {'dimension': 'us-gaap:StatementBusinessSegmentsAxis', 'value': 'avy:MaterialsGroupSegmentMember'}], 'value': '489700000'}, {'decimals': '-5', 'unitRef': 'usd', 'period': {'startDate': '2023-01-01', 'endDate': '2023-12-30'}, 'segment': [{'dimension': 'srt:ConsolidationItemsAxis', 'value': 'us-gaap:OperatingSegmentsMember'}, {'dimension': 'srt:StatementGeographicalAxis', 'value': 'srt:LatinAmericaMember'}, {'dimension': 'us-gaap:StatementBusinessSegmentsAxis', 'value': 'avy:MaterialsGroupSegmentMember'}], 'value': '474200000'}, {'decimals': '-5', 'unitRef': 'usd', 'period': {'startDate': '2022-01-02', 'endDate': '2022-12-31'}, 'segment': [{'dimension': 'srt:ConsolidationItemsAxis', 'value': 'us-gaap:OperatingSegmentsMember'}, {'dimension': 'srt:StatementGeographicalAxis', 'value': 'srt:LatinAmericaMember'}, {'dimension': 'us-gaap:StatementBusinessSegmentsAxis', 'value': 'avy:MaterialsGroupSegmentMember'}], 'value': '470100000'}, {'decimals': '-5', 'unitRef': 'usd', 'period': {'startDate': '2023-12-31', 'endDate': '2024-12-28'}, 'segment': [{'dimension': 'srt:ConsolidationItemsAxis', 'value': 'us-gaap:OperatingSegmentsMember'}, {'dimension': 'srt:StatementGeographicalAxis', 'value': 'avy:OtherInternationalMember'}, {'dimension': 'us-gaap:StatementBusinessSegmentsAxis', 'value': 'avy:MaterialsGroupSegmentMember'}], 'value': '328700000'}, {'decimals': '-5', 'unitRef': 'usd', 'period': {'startDate': '2023-01-01', 'endDate': '2023-12-30'}, 'segment': [{'dimension': 'srt:ConsolidationItemsAxis', 'value': 'us-gaap:OperatingSegmentsMember'}, {'dimension': 'srt:StatementGeographicalAxis', 'value': 'avy:OtherInternationalMember'}, {'dimension': 'us-gaap:StatementBusinessSegmentsAxis', 'value': 'avy:MaterialsGroupSegmentMember'}], 'value': '327000000.0'}, {'decimals': '-5', 'unitRef': 'usd', 'period': {'startDate': '2022-01-02', 'endDate': '2022-12-31'}, 'segment': [{'dimension': 'srt:ConsolidationItemsAxis', 'value': 'us-gaap:OperatingSegmentsMember'}, {'dimension': 'srt:StatementGeographicalAxis', 'value': 'avy:OtherInternationalMember'}, {'dimension': 'us-gaap:StatementBusinessSegmentsAxis', 'value': 'avy:MaterialsGroupSegmentMember'}], 'value': '346400000'}, {'decimals': '-5', 'unitRef': 'usd', 'period': {'startDate': '2023-12-31', 'endDate': '2024-12-28'}, 'segment': [{'dimension': 'srt:ConsolidationItemsAxis', 'value': 'us-gaap:OperatingSegmentsMember'}, {'dimension': 'us-gaap:StatementBusinessSegmentsAxis', 'value': 'avy:MaterialsGroupSegmentMember'}], 'value': '6013000000'}, {'decimals': '-5', 'unitRef': 'usd', 'period': {'startDate': '2023-01-01', 'endDate': '2023-12-30'}, 'segment': [{'dimension': 'srt:ConsolidationItemsAxis', 'value': 'us-gaap:OperatingSegmentsMember'}, {'dimension': 'us-gaap:StatementBusinessSegmentsAxis', 'value': 'avy:MaterialsGroupSegmentMember'}], 'value': '5811300000'}, {'decimals': '-5', 'unitRef': 'usd', 'period': {'startDate': '2022-01-02', 'endDate': '2022-12-31'}, 'segment': [{'dimension': 'srt:ConsolidationItemsAxis', 'value': 'us-gaap:OperatingSegmentsMember'}, {'dimension': 'us-gaap:StatementBusinessSegmentsAxis', 'value': 'avy:MaterialsGroupSegmentMember'}], 'value': '6495100000'}, {'decimals': '-5', 'unitRef': 'usd', 'period': {'startDate': '2023-12-31', 'endDate': '2024-12-28'}, 'segment': [{'dimension': 'srt:ConsolidationItemsAxis', 'value': 'us-gaap:OperatingSegmentsMember'}, {'dimension': 'srt:ProductOrServiceAxis', 'value': 'avy:ApparelAndOtherMember'}, {'dimension': 'us-gaap:StatementBusinessSegmentsAxis', 'value': 'avy:SolutionsGroupSegmentMember'}], 'value': '1875500000'}, {'decimals': '-5', 'unitRef': 'usd', 'period': {'startDate': '2023-01-01', 'endDate': '2023-12-30'}, 'segment': [{'dimension': 'srt:ConsolidationItemsAxis', 'value': 'us-gaap:OperatingSegmentsMember'}, {'dimension': 'srt:ProductOrServiceAxis', 'value': 'avy:ApparelAndOtherMember'}, {'dimension': 'us-gaap:StatementBusinessSegmentsAxis', 'value': 'avy:SolutionsGroupSegmentMember'}], 'value': '1661400000'}, {'decimals': '-5', 'unitRef': 'usd', 'period': {'startDate': '2022-01-02', 'endDate': '2022-12-31'}, 'segment': [{'dimension': 'srt:ConsolidationItemsAxis', 'value': 'us-gaap:OperatingSegmentsMember'}, {'dimension': 'srt:ProductOrServiceAxis', 'value': 'avy:ApparelAndOtherMember'}, {'dimension': 'us-gaap:StatementBusinessSegmentsAxis', 'value': 'avy:SolutionsGroupSegmentMember'}], 'value': '1851200000'}, {'decimals': '-5', 'unitRef': 'usd', 'period': {'startDate': '2023-12-31', 'endDate': '2024-12-28'}, 'segment': [{'dimension': 'srt:ConsolidationItemsAxis', 'value': 'us-gaap:OperatingSegmentsMember'}, {'dimension': 'srt:ProductOrServiceAxis', 'value': 'avy:IdentificationSolutionsAndVestcomMember'}, {'dimension': 'us-gaap:StatementBusinessSegmentsAxis', 'value': 'avy:SolutionsGroupSegmentMember'}], 'value': '867200000'}, {'decimals': '-5', 'unitRef': 'usd', 'period': {'startDate': '2023-01-01', 'endDate': '2023-12-30'}, 'segment': [{'dimension': 'srt:ConsolidationItemsAxis', 'value': 'us-gaap:OperatingSegmentsMember'}, {'dimension': 'srt:ProductOrServiceAxis', 'value': 'avy:IdentificationSolutionsAndVestcomMember'}, {'dimension': 'us-gaap:StatementBusinessSegmentsAxis', 'value': 'avy:SolutionsGroupSegmentMember'}], 'value': '891600000'}, {'decimals': '-5', 'unitRef': 'usd', 'period': {'startDate': '2022-01-02', 'endDate': '2022-12-31'}, 'segment': [{'dimension': 'srt:ConsolidationItemsAxis', 'value': 'us-gaap:OperatingSegmentsMember'}, {'dimension': 'srt:ProductOrServiceAxis', 'value': 'avy:IdentificationSolutionsAndVestcomMember'}, {'dimension': 'us-gaap:StatementBusinessSegmentsAxis', 'value': 'avy:SolutionsGroupSegmentMember'}], 'value': '693000000.0'}, {'decimals': '-5', 'unitRef': 'usd', 'period': {'startDate': '2023-12-31', 'endDate': '2024-12-28'}, 'segment': [{'dimension': 'srt:ConsolidationItemsAxis', 'value': 'us-gaap:OperatingSegmentsMember'}, {'dimension': 'us-gaap:StatementBusinessSegmentsAxis', 'value': 'avy:SolutionsGroupSegmentMember'}], 'value': '2742700000'}, {'decimals': '-5', 'unitRef': 'usd', 'period': {'startDate': '2023-01-01', 'endDate': '2023-12-30'}, 'segment': [{'dimension': 'srt:ConsolidationItemsAxis', 'value': 'us-gaap:OperatingSegmentsMember'}, {'dimension': 'us-gaap:StatementBusinessSegmentsAxis', 'value': 'avy:SolutionsGroupSegmentMember'}], 'value': '2553000000'}, {'decimals': '-5', 'unitRef': 'usd', 'period': {'startDate': '2022-01-02', 'endDate': '2022-12-31'}, 'segment': [{'dimension': 'srt:ConsolidationItemsAxis', 'value': 'us-gaap:OperatingSegmentsMember'}, {'dimension': 'us-gaap:StatementBusinessSegmentsAxis', 'value': 'avy:SolutionsGroupSegmentMember'}], 'value': '2544200000'}, {'decimals': '-5', 'unitRef': 'usd', 'period': {'startDate': '2023-12-31', 'endDate': '2024-12-28'}, 'segment': [{'dimension': 'srt:ConsolidationItemsAxis', 'value': 'us-gaap:OperatingSegmentsMember'}, {'dimension': 'srt:ProductOrServiceAxis', 'value': 'avy:LabelsGraphicsAndReflectivesMember'}, {'dimension': 'us-gaap:StatementBusinessSegmentsAxis', 'value': 'avy:MaterialsGroupSegmentMember'}], 'value': '5266000000'}, {'decimals': '-5', 'unitRef': 'usd', 'period': {'startDate': '2023-01-01', 'endDate': '2023-12-30'}, 'segment': [{'dimension': 'srt:ConsolidationItemsAxis', 'value': 'us-gaap:OperatingSegmentsMember'}, {'dimension': 'srt:ProductOrServiceAxis', 'value': 'avy:LabelsGraphicsAndReflectivesMember'}, {'dimension': 'us-gaap:StatementBusinessSegmentsAxis', 'value': 'avy:MaterialsGroupSegmentMember'}], 'value': '5076800000'}, {'decimals': '-5', 'unitRef': 'usd', 'period': {'startDate': '2022-01-02', 'endDate': '2022-12-31'}, 'segment': [{'dimension': 'srt:ConsolidationItemsAxis', 'value': 'us-gaap:OperatingSegmentsMember'}, {'dimension': 'srt:ProductOrServiceAxis', 'value': 'avy:LabelsGraphicsAndReflectivesMember'}, {'dimension': 'us-gaap:StatementBusinessSegmentsAxis', 'value': 'avy:MaterialsGroupSegmentMember'}], 'value': '5725700000'}, {'decimals': '-5', 'unitRef': 'usd', 'period': {'startDate': '2023-12-31', 'endDate': '2024-12-28'}, 'segment': [{'dimension': 'srt:ConsolidationItemsAxis', 'value': 'us-gaap:OperatingSegmentsMember'}, {'dimension': 'srt:ProductOrServiceAxis', 'value': 'avy:TapesAndAdhesivesMember'}, {'dimension': 'us-gaap:StatementBusinessSegmentsAxis', 'value': 'avy:MaterialsGroupSegmentMember'}], 'value': '676000000.0'}, {'decimals': '-5', 'unitRef': 'usd', 'period': {'startDate': '2023-01-01', 'endDate': '2023-12-30'}, 'segment': [{'dimension': 'srt:ConsolidationItemsAxis', 'value': 'us-gaap:OperatingSegmentsMember'}, {'dimension': 'srt:ProductOrServiceAxis', 'value': 'avy:TapesAndAdhesivesMember'}, {'dimension': 'us-gaap:StatementBusinessSegmentsAxis', 'value': 'avy:MaterialsGroupSegmentMember'}], 'value': '665300000'}, {'decimals': '-5', 'unitRef': 'usd', 'period': {'startDate': '2022-01-02', 'endDate': '2022-12-31'}, 'segment': [{'dimension': 'srt:ConsolidationItemsAxis', 'value': 'us-gaap:OperatingSegmentsMember'}, {'dimension': 'srt:ProductOrServiceAxis', 'value': 'avy:TapesAndAdhesivesMember'}, {'dimension': 'us-gaap:StatementBusinessSegmentsAxis', 'value': 'avy:MaterialsGroupSegmentMember'}], 'value': '696300000'}, {'decimals': '-5', 'unitRef': 'usd', 'period': {'startDate': '2023-12-31', 'endDate': '2024-12-28'}, 'segment': [{'dimension': 'srt:ConsolidationItemsAxis', 'value': 'us-gaap:OperatingSegmentsMember'}, {'dimension': 'srt:ProductOrServiceAxis', 'value': 'avy:OtherMaterialGroupProductsMember'}, {'dimension': 'us-gaap:StatementBusinessSegmentsAxis', 'value': 'avy:MaterialsGroupSegmentMember'}], 'value': '71000000.0'}, {'decimals': '-5', 'unitRef': 'usd', 'period': {'startDate': '2023-01-01', 'endDate': '2023-12-30'}, 'segment': [{'dimension': 'srt:ConsolidationItemsAxis', 'value': 'us-gaap:OperatingSegmentsMember'}, {'dimension': 'srt:ProductOrServiceAxis', 'value': 'avy:OtherMaterialGroupProductsMember'}, {'dimension': 'us-gaap:StatementBusinessSegmentsAxis', 'value': 'avy:MaterialsGroupSegmentMember'}], 'value': '69200000'}, {'decimals': '-5', 'unitRef': 'usd', 'period': {'startDate': '2022-01-02', 'endDate': '2022-12-31'}, 'segment': [{'dimension': 'srt:ConsolidationItemsAxis', 'value': 'us-gaap:OperatingSegmentsMember'}, {'dimension': 'srt:ProductOrServiceAxis', 'value': 'avy:OtherMaterialGroupProductsMember'}, {'dimension': 'us-gaap:StatementBusinessSegmentsAxis', 'value': 'avy:MaterialsGroupSegmentMember'}], 'value': '73100000'}, {'decimals': '-5', 'unitRef': 'usd', 'period': {'startDate': '2023-12-31', 'endDate': '2024-12-28'}, 'segment': {'dimension': 'srt:StatementGeographicalAxis', 'value': 'country:US'}, 'value': '2613400000'}, {'decimals': '-5', 'unitRef': 'usd', 'period': {'startDate': '2023-01-01', 'endDate': '2023-12-30'}, 'segment': {'dimension': 'srt:StatementGeographicalAxis', 'value': 'country:US'}, 'value': '2578300000'}, {'decimals': '-5', 'unitRef': 'usd', 'period': {'startDate': '2022-01-02', 'endDate': '2022-12-31'}, 'segment': {'dimension': 'srt:StatementGeographicalAxis', 'value': 'country:US'}, 'value': '2565900000'}, {'decimals': '-5', 'unitRef': 'usd', 'period': {'startDate': '2023-12-31', 'endDate': '2024-12-28'}, 'segment': {'dimension': 'srt:StatementGeographicalAxis', 'value': 'avy:EuropeTheMiddleEastAndNorthAfricaMember'}, 'value': '2418600000'}, {'decimals': '-5', 'unitRef': 'usd', 'period': {'startDate': '2023-01-01', 'endDate': '2023-12-30'}, 'segment': {'dimension': 'srt:StatementGeographicalAxis', 'value': 'avy:EuropeTheMiddleEastAndNorthAfricaMember'}, 'value': '2306700000'}, {'decimals': '-5', 'unitRef': 'usd', 'period': {'startDate': '2022-01-02', 'endDate': '2022-12-31'}, 'segment': {'dimension': 'srt:StatementGeographicalAxis', 'value': 'avy:EuropeTheMiddleEastAndNorthAfricaMember'}, 'value': '2683600000'}, {'decimals': '-5', 'unitRef': 'usd', 'period': {'startDate': '2023-12-31', 'endDate': '2024-12-28'}, 'segment': {'dimension': 'srt:StatementGeographicalAxis', 'value': 'srt:AsiaMember'}, 'value': '2763100000'}, {'decimals': '-5', 'unitRef': 'usd', 'period': {'startDate': '2023-01-01', 'endDate': '2023-12-30'}, 'segment': {'dimension': 'srt:StatementGeographicalAxis', 'value': 'srt:AsiaMember'}, 'value': '2545200000'}, {'decimals': '-5', 'unitRef': 'usd', 'period': {'startDate': '2022-01-02', 'endDate': '2022-12-31'}, 'segment': {'dimension': 'srt:StatementGeographicalAxis', 'value': 'srt:AsiaMember'}, 'value': '2817200000'}, {'decimals': '-5', 'unitRef': 'usd', 'period': {'startDate': '2023-12-31', 'endDate': '2024-12-28'}, 'segment': {'dimension': 'srt:StatementGeographicalAxis', 'value': 'srt:LatinAmericaMember'}, 'value': '599800000'}, {'decimals': '-5', 'unitRef': 'usd', 'period': {'startDate': '2023-01-01', 'endDate': '2023-12-30'}, 'segment': {'dimension': 'srt:StatementGeographicalAxis', 'value': 'srt:LatinAmericaMember'}, 'value': '582300000'}, {'decimals': '-5', 'unitRef': 'usd', 'period': {'startDate': '2022-01-02', 'endDate': '2022-12-31'}, 'segment': {'dimension': 'srt:StatementGeographicalAxis', 'value': 'srt:LatinAmericaMember'}, 'value': '605700000'}, {'decimals': '-5', 'unitRef': 'usd', 'period': {'startDate': '2023-12-31', 'endDate': '2024-12-28'}, 'segment': {'dimension': 'srt:StatementGeographicalAxis', 'value': 'avy:OtherInternationalMember'}, 'value': '360800000'}, {'decimals': '-5', 'unitRef': 'usd', 'period': {'startDate': '2023-01-01', 'endDate': '2023-12-30'}, 'segment': {'dimension': 'srt:StatementGeographicalAxis', 'value': 'avy:OtherInternationalMember'}, 'value': '351800000'}, {'decimals': '-5', 'unitRef': 'usd', 'period': {'startDate': '2022-01-02', 'endDate': '2022-12-31'}, 'segment': {'dimension': 'srt:StatementGeographicalAxis', 'value': 'avy:OtherInternationalMember'}, 'value': '366900000'}, {'decimals': '-7', 'unitRef': 'usd', 'period': {'startDate': '2023-12-31', 'endDate': '2024-12-28'}, 'segment': {'dimension': 'srt:StatementGeographicalAxis', 'value': 'avy:ChinaIncludingHongKongMember'}, 'value': '1400000000'}, {'decimals': '-7', 'unitRef': 'usd', 'period': {'startDate': '2023-01-01', 'endDate': '2023-12-30'}, 'segment': {'dimension': 'srt:StatementGeographicalAxis', 'value': 'avy:ChinaIncludingHongKongMember'}, 'value': '1300000000'}, {'decimals': '-7', 'unitRef': 'usd', 'period': {'startDate': '2022-01-02', 'endDate': '2022-12-31'}, 'segment': {'dimension': 'srt:StatementGeographicalAxis', 'value': 'avy:ChinaIncludingHongKongMember'}, 'value': '1500000000'}, {'decimals': '-5', 'unitRef': 'usd', 'period': {'startDate': '2023-12-31', 'endDate': '2024-12-28'}, 'segment': [{'dimension': 'srt:ConsolidationItemsAxis', 'value': 'us-gaap:IntersegmentEliminationMember'}, {'dimension': 'us-gaap:StatementBusinessSegmentsAxis', 'value': 'avy:MaterialsGroupSegmentMember'}], 'value': '-162800000'}, {'decimals': '-5', 'unitRef': 'usd', 'period': {'startDate': '2023-01-01', 'endDate': '2023-12-30'}, 'segment': [{'dimension': 'srt:ConsolidationItemsAxis', 'value': 'us-gaap:IntersegmentEliminationMember'}, {'dimension': 'us-gaap:StatementBusinessSegmentsAxis', 'value': 'avy:MaterialsGroupSegmentMember'}], 'value': '-157100000'}, {'decimals': '-5', 'unitRef': 'usd', 'period': {'startDate': '2022-01-02', 'endDate': '2022-12-31'}, 'segment': [{'dimension': 'srt:ConsolidationItemsAxis', 'value': 'us-gaap:IntersegmentEliminationMember'}, {'dimension': 'us-gaap:StatementBusinessSegmentsAxis', 'value': 'avy:MaterialsGroupSegmentMember'}], 'value': '-137100000'}, {'decimals': '-5', 'unitRef': 'usd', 'period': {'startDate': '2023-12-31', 'endDate': '2024-12-28'}, 'segment': [{'dimension': 'srt:ConsolidationItemsAxis', 'value': 'us-gaap:IntersegmentEliminationMember'}, {'dimension': 'us-gaap:StatementBusinessSegmentsAxis', 'value': 'avy:SolutionsGroupSegmentMember'}], 'value': '-52300000'}, {'decimals': '-5', 'unitRef': 'usd', 'period': {'startDate': '2023-01-01', 'endDate': '2023-12-30'}, 'segment': [{'dimension': 'srt:ConsolidationItemsAxis', 'value': 'us-gaap:IntersegmentEliminationMember'}, {'dimension': 'us-gaap:StatementBusinessSegmentsAxis', 'value': 'avy:SolutionsGroupSegmentMember'}], 'value': '-35500000'}, {'decimals': '-5', 'unitRef': 'usd', 'period': {'startDate': '2022-01-02', 'endDate': '2022-12-31'}, 'segment': [{'dimension': 'srt:ConsolidationItemsAxis', 'value': 'us-gaap:IntersegmentEliminationMember'}, {'dimension': 'us-gaap:StatementBusinessSegmentsAxis', 'value': 'avy:SolutionsGroupSegmentMember'}], 'value': '-37400000'}, {'decimals': '-5', 'unitRef': 'usd', 'period': {'startDate': '2023-12-31', 'endDate': '2024-12-28'}, 'segment': {'dimension': 'srt:ConsolidationItemsAxis', 'value': 'us-gaap:IntersegmentEliminationMember'}, 'value': '-215100000'}, {'decimals': '-5', 'unitRef': 'usd', 'period': {'startDate': '2023-01-01', 'endDate': '2023-12-30'}, 'segment': {'dimension': 'srt:ConsolidationItemsAxis', 'value': 'us-gaap:IntersegmentEliminationMember'}, 'value': '-192600000'}, {'decimals': '-5', 'unitRef': 'usd', 'period': {'startDate': '2022-01-02', 'endDate': '2022-12-31'}, 'segment': {'dimension': 'srt:ConsolidationItemsAxis', 'value': 'us-gaap:IntersegmentEliminationMember'}, 'value': '-174500000'}], 'CostOfGoodsAndServicesSold': [{'decimals': '-5', 'unitRef': 'usd', 'period': {'startDate': '2023-12-31', 'endDate': '2024-12-28'}, 'value': '6225000000'}, {'decimals': '-5', 'unitRef': 'usd', 'period': {'startDate': '2023-01-01', 'endDate': '2023-12-30'}, 'value': '6086800000'}, {'decimals': '-5', 'unitRef': 'usd', 'period': {'startDate': '2022-01-02', 'endDate': '2022-12-31'}, 'value': '6635100000'}], 'GrossProfit': [{'decimals': '-5', 'unitRef': 'usd', 'period': {'startDate': '2023-12-31', 'endDate': '2024-12-28'}, 'value': '2530700000'}, {'decimals': '-5', 'unitRef': 'usd', 'period': {'startDate': '2023-01-01', 'endDate': '2023-12-30'}, 'value': '2277500000'}, {'decimals': '-5', 'unitRef': 'usd', 'period': {'startDate': '2022-01-02', 'endDate': '2022-12-31'}, 'value': '2404200000'}], 'SellingGeneralAndAdministrativeExpense': [{'decimals': '-5', 'unitRef': 'usd', 'period': {'startDate': '2023-12-31', 'endDate': '2024-12-28'}, 'value': '1415300000'}, {'decimals': '-5', 'unitRef': 'usd', 'period': {'startDate': '2023-01-01', 'endDate': '2023-12-30'}, 'value': '1313700000'}, {'decimals': '-5', 'unitRef': 'usd', 'period': {'startDate': '2022-01-02', 'endDate': '2022-12-31'}, 'value': '1330800000'}], 'OtherExpenseIncomeNet': [{'decimals': '-5', 'unitRef': 'usd', 'period': {'startDate': '2023-12-31', 'endDate': '2024-12-28'}, 'value': '71600000'}, {'decimals': '-5', 'unitRef': 'usd', 'period': {'startDate': '2023-01-01', 'endDate': '2023-12-30'}, 'value': '180900000'}, {'decimals': '-5', 'unitRef': 'usd', 'period': {'startDate': '2022-01-02', 'endDate': '2022-12-31'}, 'value': '-600000'}, {'decimals': '-5', 'unitRef': 'usd', 'period': {'startDate': '2023-12-31', 'endDate': '2024-12-28'}, 'segment': {'dimension': 'srt:ConsolidationItemsAxis', 'value': 'avy:CorporateAndReconcilingItemsMember'}, 'value': '78300000'}, {'decimals': '-5', 'unitRef': 'usd', 'period': {'startDate': '2023-01-01', 'endDate': '2023-12-30'}, 'segment': {'dimension': 'srt:ConsolidationItemsAxis', 'value': 'avy:CorporateAndReconcilingItemsMember'}, 'value': '180900000'}, {'decimals': '-5', 'unitRef': 'usd', 'period': {'startDate': '2022-01-02', 'endDate': '2022-12-31'}, 'segment': {'dimension': 'srt:ConsolidationItemsAxis', 'value': 'avy:CorporateAndReconcilingItemsMember'}, 'value': '-600000'}], 'InterestExpenseNonoperating': [{'decimals': '-5', 'unitRef': 'usd', 'period': {'startDate': '2023-12-31', 'endDate': '2024-12-28'}, 'value': '117000000.0'}, {'decimals': '-5', 'unitRef': 'usd', 'period': {'startDate': '2023-01-01', 'endDate': '2023-12-30'}, 'value': '119000000.0'}, {'decimals': '-5', 'unitRef': 'usd', 'period': {'startDate': '2022-01-02', 'endDate': '2022-12-31'}, 'value': '84100000'}, {'decimals': '-5', 'unitRef': 'usd', 'period': {'startDate': '2023-12-31', 'endDate': '2024-12-28'}, 'segment': {'dimension': 'srt:ConsolidationItemsAxis', 'value': 'avy:CorporateAndReconcilingItemsMember'}, 'value': '117000000.0'}, {'decimals': '-5', 'unitRef': 'usd', 'period': {'startDate': '2023-01-01', 'endDate': '2023-12-30'}, 'segment': {'dimension': 'srt:ConsolidationItemsAxis', 'value': 'avy:CorporateAndReconcilingItemsMember'}, 'value': '119000000.0'}, {'decimals': '-5', 'unitRef': 'usd', 'period': {'startDate': '2022-01-02', 'endDate': '2022-12-31'}, 'segment': {'dimension': 'srt:ConsolidationItemsAxis', 'value': 'avy:CorporateAndReconcilingItemsMember'}, 'value': '84100000'}], 'OtherNonoperatingIncomeExpense': [{'decimals': '-5', 'unitRef': 'usd', 'period': {'startDate': '2023-12-31', 'endDate': '2024-12-28'}, 'value': '26700000'}, {'decimals': '-5', 'unitRef': 'usd', 'period': {'startDate': '2023-01-01', 'endDate': '2023-12-30'}, 'value': '30800000'}, {'decimals': '-5', 'unitRef': 'usd', 'period': {'startDate': '2022-01-02', 'endDate': '2022-12-31'}, 'value': '9400000'}, {'decimals': '-5', 'unitRef': 'usd', 'period': {'startDate': '2023-12-31', 'endDate': '2024-12-28'}, 'segment': {'dimension': 'srt:ConsolidationItemsAxis', 'value': 'avy:CorporateAndReconcilingItemsMember'}, 'value': '26700000'}, {'decimals': '-5', 'unitRef': 'usd', 'period': {'startDate': '2023-01-01', 'endDate': '2023-12-30'}, 'segment': {'dimension': 'srt:ConsolidationItemsAxis', 'value': 'avy:CorporateAndReconcilingItemsMember'}, 'value': '30800000'}, {'decimals': '-5', 'unitRef': 'usd', 'period': {'startDate': '2022-01-02', 'endDate': '2022-12-31'}, 'segment': {'dimension': 'srt:ConsolidationItemsAxis', 'value': 'avy:CorporateAndReconcilingItemsMember'}, 'value': '9400000'}], 'IncomeLossFromContinuingOperationsBeforeIncomeTaxesExtraordinaryItemsNoncontrollingInterest': [{'decimals': '-5', 'unitRef': 'usd', 'period': {'startDate': '2023-12-31', 'endDate': '2024-12-28'}, 'value': '953500000'}, {'decimals': '-5', 'unitRef': 'usd', 'period': {'startDate': '2023-01-01', 'endDate': '2023-12-30'}, 'value': '694700000'}, {'decimals': '-5', 'unitRef': 'usd', 'period': {'startDate': '2022-01-02', 'endDate': '2022-12-31'}, 'value': '999300000'}], 'IncomeTaxExpenseBenefit': [{'decimals': '-5', 'unitRef': 'usd', 'period': {'startDate': '2023-12-31', 'endDate': '2024-12-28'}, 'value': '248600000'}, {'decimals': '-5', 'unitRef': 'usd', 'period': {'startDate': '2023-01-01', 'endDate': '2023-12-30'}, 'value': '191700000'}, {'decimals': '-5', 'unitRef': 'usd', 'period': {'startDate': '2022-01-02', 'endDate': '2022-12-31'}, 'value': '242200000'}], 'NetIncomeLoss': [{'decimals': '-5', 'unitRef': 'usd', 'period': {'startDate': '2023-12-31', 'endDate': '2024-12-28'}, 'value': '704900000'}, {'decimals': '-5', 'unitRef': 'usd', 'period': {'startDate': '2023-01-01', 'endDate': '2023-12-30'}, 'value': '503000000.0'}, {'decimals': '-5', 'unitRef': 'usd', 'period': {'startDate': '2022-01-02', 'endDate': '2022-12-31'}, 'value': '757100000'}, {'decimals': '-5', 'unitRef': 'usd', 'period': {'startDate': '2022-01-02', 'endDate': '2022-12-31'}, 'segment': {'dimension': 'us-gaap:StatementEquityComponentsAxis', 'value': 'us-gaap:RetainedEarningsMember'}, 'value': '757100000'}, {'decimals': '-5', 'unitRef': 'usd', 'period': {'startDate': '2023-01-01', 'endDate': '2023-12-30'}, 'segment': {'dimension': 'us-gaap:StatementEquityComponentsAxis', 'value': 'us-gaap:RetainedEarningsMember'}, 'value': '503000000.0'}, {'decimals': '-5', 'unitRef': 'usd', 'period': {'startDate': '2023-12-31', 'endDate': '2024-12-28'}, 'segment': {'dimension': 'us-gaap:StatementEquityComponentsAxis', 'value': 'us-gaap:RetainedEarningsMember'}, 'value': '704900000'}], 'EarningsPerShareBasic': [{'decimals': '2', 'unitRef': 'usdPerShare', 'period': {'startDate': '2023-12-31', 'endDate': '2024-12-28'}, 'value': '8.77'}, {'decimals': '2', 'unitRef': 'usdPerShare', 'period': {'startDate': '2023-01-01', 'endDate': '2023-12-30'}, 'value': '6.23'}, {'decimals': '2', 'unitRef': 'usdPerShare', 'period': {'startDate': '2022-01-02', 'endDate': '2022-12-31'}, 'value': '9.28'}], 'EarningsPerShareDiluted': [{'decimals': '2', 'unitRef': 'usdPerShare', 'period': {'startDate': '2023-12-31', 'endDate': '2024-12-28'}, 'value': '8.73'}, {'decimals': '2', 'unitRef': 'usdPerShare', 'period': {'startDate': '2023-01-01', 'endDate': '2023-12-30'}, 'value': '6.20'}, {'decimals': '2', 'unitRef': 'usdPerShare', 'period': {'startDate': '2022-01-02', 'endDate': '2022-12-31'}, 'value': '9.21'}], 'WeightedAverageNumberOfSharesOutstandingBasic': [{'decimals': '-5', 'unitRef': 'shares', 'period': {'startDate': '2023-12-31', 'endDate': '2024-12-28'}, 'value': '80400000'}, {'decimals': '-5', 'unitRef': 'shares', 'period': {'startDate': '2023-01-01', 'endDate': '2023-12-30'}, 'value': '80700000'}, {'decimals': '-5', 'unitRef': 'shares', 'period': {'startDate': '2022-01-02', 'endDate': '2022-12-31'}, 'value': '81600000'}], 'WeightedAverageNumberOfDilutedSharesOutstanding': [{'decimals': '-5', 'unitRef': 'shares', 'period': {'startDate': '2023-12-31', 'endDate': '2024-12-28'}, 'value': '80700000'}, {'decimals': '-5', 'unitRef': 'shares', 'period': {'startDate': '2023-01-01', 'endDate': '2023-12-30'}, 'value': '81100000'}, {'decimals': '-5', 'unitRef': 'shares', 'period': {'startDate': '2022-01-02', 'endDate': '2022-12-31'}, 'value': '82200000'}]}\n",
      "{'CashAndCashEquivalentsAtCarryingValue': [{'decimals': '-5', 'unitRef': 'usd', 'period': {'instant': '2024-12-28'}, 'value': '329100000'}, {'decimals': '-5', 'unitRef': 'usd', 'period': {'instant': '2023-12-30'}, 'value': '215000000.0'}], 'AccountsReceivableNetCurrent': [{'decimals': '-5', 'unitRef': 'usd', 'period': {'instant': '2024-12-28'}, 'value': '1466200000'}, {'decimals': '-5', 'unitRef': 'usd', 'period': {'instant': '2023-12-30'}, 'value': '1414900000'}], 'InventoryNet': [{'decimals': '-5', 'unitRef': 'usd', 'period': {'instant': '2024-12-28'}, 'value': '978100000'}, {'decimals': '-5', 'unitRef': 'usd', 'period': {'instant': '2023-12-30'}, 'value': '920700000'}], 'OtherAssetsCurrent': [{'decimals': '-5', 'unitRef': 'usd', 'period': {'instant': '2024-12-28'}, 'value': '305300000'}, {'decimals': '-5', 'unitRef': 'usd', 'period': {'instant': '2023-12-30'}, 'value': '245400000'}], 'AssetsCurrent': [{'decimals': '-5', 'unitRef': 'usd', 'period': {'instant': '2024-12-28'}, 'value': '3078700000'}, {'decimals': '-5', 'unitRef': 'usd', 'period': {'instant': '2023-12-30'}, 'value': '2796000000'}], 'PropertyPlantAndEquipmentAndFinanceLeaseRightOfUseAssetAfterAccumulatedDepreciationAndAmortization': [{'decimals': '-5', 'unitRef': 'usd', 'period': {'instant': '2024-12-28'}, 'value': '1586700000'}, {'decimals': '-5', 'unitRef': 'usd', 'period': {'instant': '2023-12-30'}, 'value': '1625800000'}], 'Goodwill': [{'decimals': '-5', 'unitRef': 'usd', 'period': {'instant': '2024-12-28'}, 'value': '1976200000'}, {'decimals': '-5', 'unitRef': 'usd', 'period': {'instant': '2023-12-30'}, 'value': '2013600000'}, {'decimals': '-5', 'unitRef': 'usd', 'period': {'instant': '2022-12-31'}, 'segment': {'dimension': 'us-gaap:StatementBusinessSegmentsAxis', 'value': 'avy:MaterialsGroupSegmentMember'}, 'value': '618700000'}, {'decimals': '-5', 'unitRef': 'usd', 'period': {'instant': '2022-12-31'}, 'segment': {'dimension': 'us-gaap:StatementBusinessSegmentsAxis', 'value': 'avy:SolutionsGroupSegmentMember'}, 'value': '1243700000'}, {'decimals': '-5', 'unitRef': 'usd', 'period': {'instant': '2022-12-31'}, 'value': '1862400000'}, {'decimals': '-5', 'unitRef': 'usd', 'period': {'instant': '2023-12-30'}, 'segment': {'dimension': 'us-gaap:StatementBusinessSegmentsAxis', 'value': 'avy:MaterialsGroupSegmentMember'}, 'value': '630700000'}, {'decimals': '-5', 'unitRef': 'usd', 'period': {'instant': '2023-12-30'}, 'segment': {'dimension': 'us-gaap:StatementBusinessSegmentsAxis', 'value': 'avy:SolutionsGroupSegmentMember'}, 'value': '1382900000'}, {'decimals': '-5', 'unitRef': 'usd', 'period': {'instant': '2024-12-28'}, 'segment': {'dimension': 'us-gaap:StatementBusinessSegmentsAxis', 'value': 'avy:MaterialsGroupSegmentMember'}, 'value': '606100000'}, {'decimals': '-5', 'unitRef': 'usd', 'period': {'instant': '2024-12-28'}, 'segment': {'dimension': 'us-gaap:StatementBusinessSegmentsAxis', 'value': 'avy:SolutionsGroupSegmentMember'}, 'value': '1370100000'}], 'IntangibleAssetsNetExcludingGoodwill': [{'decimals': '-5', 'unitRef': 'usd', 'period': {'instant': '2024-12-28'}, 'value': '755300000'}, {'decimals': '-5', 'unitRef': 'usd', 'period': {'instant': '2023-12-30'}, 'value': '849100000'}], 'DeferredIncomeTaxAssetsNet': [{'decimals': '-5', 'unitRef': 'usd', 'period': {'instant': '2024-12-28'}, 'value': '110000000.0'}, {'decimals': '-5', 'unitRef': 'usd', 'period': {'instant': '2023-12-30'}, 'value': '115700000'}], 'OtherAssetsNoncurrent': [{'decimals': '-5', 'unitRef': 'usd', 'period': {'instant': '2024-12-28'}, 'value': '897300000'}, {'decimals': '-5', 'unitRef': 'usd', 'period': {'instant': '2023-12-30'}, 'value': '809600000'}], 'Assets': [{'decimals': '-5', 'unitRef': 'usd', 'period': {'instant': '2024-12-28'}, 'value': '8404200000'}, {'decimals': '-5', 'unitRef': 'usd', 'period': {'instant': '2023-12-30'}, 'value': '8209800000'}], 'DebtCurrent': [{'decimals': '-5', 'unitRef': 'usd', 'period': {'instant': '2024-12-28'}, 'value': '592300000'}, {'decimals': '-5', 'unitRef': 'usd', 'period': {'instant': '2023-12-30'}, 'value': '622200000'}], 'AccountsPayableCurrent': [{'decimals': '-5', 'unitRef': 'usd', 'period': {'instant': '2024-12-28'}, 'value': '1340700000'}, {'decimals': '-5', 'unitRef': 'usd', 'period': {'instant': '2023-12-30'}, 'value': '1277100000'}], 'EmployeeRelatedLiabilitiesCurrent': [{'decimals': '-5', 'unitRef': 'usd', 'period': {'instant': '2024-12-28'}, 'value': '288900000'}, {'decimals': '-5', 'unitRef': 'usd', 'period': {'instant': '2023-12-30'}, 'value': '213400000'}], 'AccruedTradeRebates': [{'decimals': '-5', 'unitRef': 'usd', 'period': {'instant': '2024-12-28'}, 'value': '157900000'}, {'decimals': '-5', 'unitRef': 'usd', 'period': {'instant': '2023-12-30'}, 'value': '142400000'}], 'AccruedIncomeTaxesCurrent': [{'decimals': '-5', 'unitRef': 'usd', 'period': {'instant': '2024-12-28'}, 'value': '74700000'}, {'decimals': '-5', 'unitRef': 'usd', 'period': {'instant': '2023-12-30'}, 'value': '57600000'}], 'OtherLiabilitiesCurrent': [{'decimals': '-5', 'unitRef': 'usd', 'period': {'instant': '2024-12-28'}, 'value': '408100000'}, {'decimals': '-5', 'unitRef': 'usd', 'period': {'instant': '2023-12-30'}, 'value': '386800000'}], 'LiabilitiesCurrent': [{'decimals': '-5', 'unitRef': 'usd', 'period': {'instant': '2024-12-28'}, 'value': '2862600000'}, {'decimals': '-5', 'unitRef': 'usd', 'period': {'instant': '2023-12-30'}, 'value': '2699500000'}], 'LongTermDebtAndCapitalLeaseObligations': [{'decimals': '-5', 'unitRef': 'usd', 'period': {'instant': '2024-12-28'}, 'value': '2559900000'}, {'decimals': '-5', 'unitRef': 'usd', 'period': {'instant': '2023-12-30'}, 'value': '2622100000'}], 'LongTermRetirementBenefitsAndOtherLiabilities': [{'decimals': '-5', 'unitRef': 'usd', 'period': {'instant': '2024-12-28'}, 'value': '434600000'}, {'decimals': '-5', 'unitRef': 'usd', 'period': {'instant': '2023-12-30'}, 'value': '500300000'}], 'DeferredAndPayableIncomeTaxes': [{'decimals': '-5', 'unitRef': 'usd', 'period': {'instant': '2024-12-28'}, 'value': '234800000'}, {'decimals': '-5', 'unitRef': 'usd', 'period': {'instant': '2023-12-30'}, 'value': '260000000.0'}], 'CommitmentsAndContingencies': [{'unitRef': 'usd', 'xsi:nil': 'true', 'period': {'instant': '2024-12-28'}}, {'unitRef': 'usd', 'xsi:nil': 'true', 'period': {'instant': '2023-12-30'}}], 'CommonStockValue': [{'decimals': '-5', 'unitRef': 'usd', 'period': {'instant': '2024-12-28'}, 'value': '124100000'}, {'decimals': '-5', 'unitRef': 'usd', 'period': {'instant': '2023-12-30'}, 'value': '124100000'}], 'AdditionalPaidInCapitalCommonStock': [{'decimals': '-5', 'unitRef': 'usd', 'period': {'instant': '2024-12-28'}, 'value': '840600000'}, {'decimals': '-5', 'unitRef': 'usd', 'period': {'instant': '2023-12-30'}, 'value': '854500000'}], 'RetainedEarningsAccumulatedDeficit': [{'decimals': '-5', 'unitRef': 'usd', 'period': {'instant': '2024-12-28'}, 'value': '5151200000'}, {'decimals': '-5', 'unitRef': 'usd', 'period': {'instant': '2023-12-30'}, 'value': '4691800000'}], 'TreasuryStockCommonValue': [{'decimals': '-5', 'unitRef': 'usd', 'period': {'instant': '2024-12-28'}, 'value': '3347500000'}, {'decimals': '-5', 'unitRef': 'usd', 'period': {'instant': '2023-12-30'}, 'value': '3134400000'}], 'AccumulatedOtherComprehensiveIncomeLossNetOfTax': [{'decimals': '-5', 'unitRef': 'usd', 'period': {'instant': '2024-12-28'}, 'value': '-456100000'}, {'decimals': '-5', 'unitRef': 'usd', 'period': {'instant': '2023-12-30'}, 'value': '-408100000'}], 'StockholdersEquity': [{'decimals': '-5', 'unitRef': 'usd', 'period': {'instant': '2024-12-28'}, 'value': '2312300000'}, {'decimals': '-5', 'unitRef': 'usd', 'period': {'instant': '2023-12-30'}, 'value': '2127900000'}, {'decimals': '-5', 'unitRef': 'usd', 'period': {'instant': '2022-01-01'}, 'segment': {'dimension': 'us-gaap:StatementEquityComponentsAxis', 'value': 'us-gaap:CommonStockMember'}, 'value': '124100000'}, {'decimals': '-5', 'unitRef': 'usd', 'period': {'instant': '2022-01-01'}, 'segment': {'dimension': 'us-gaap:StatementEquityComponentsAxis', 'value': 'us-gaap:AdditionalPaidInCapitalMember'}, 'value': '862300000'}, {'decimals': '-5', 'unitRef': 'usd', 'period': {'instant': '2022-01-01'}, 'segment': {'dimension': 'us-gaap:StatementEquityComponentsAxis', 'value': 'us-gaap:RetainedEarningsMember'}, 'value': '3880700000'}, {'decimals': '-5', 'unitRef': 'usd', 'period': {'instant': '2022-01-01'}, 'segment': {'dimension': 'us-gaap:StatementEquityComponentsAxis', 'value': 'us-gaap:TreasuryStockCommonMember'}, 'value': '-2659800000'}, {'decimals': '-5', 'unitRef': 'usd', 'period': {'instant': '2022-01-01'}, 'segment': {'dimension': 'us-gaap:StatementEquityComponentsAxis', 'value': 'us-gaap:AccumulatedOtherComprehensiveIncomeMember'}, 'value': '-282900000'}, {'decimals': '-5', 'unitRef': 'usd', 'period': {'instant': '2022-01-01'}, 'value': '1924400000'}, {'decimals': '-5', 'unitRef': 'usd', 'period': {'instant': '2022-12-31'}, 'segment': {'dimension': 'us-gaap:StatementEquityComponentsAxis', 'value': 'us-gaap:CommonStockMember'}, 'value': '124100000'}, {'decimals': '-5', 'unitRef': 'usd', 'period': {'instant': '2022-12-31'}, 'segment': {'dimension': 'us-gaap:StatementEquityComponentsAxis', 'value': 'us-gaap:AdditionalPaidInCapitalMember'}, 'value': '879300000'}, {'decimals': '-5', 'unitRef': 'usd', 'period': {'instant': '2022-12-31'}, 'segment': {'dimension': 'us-gaap:StatementEquityComponentsAxis', 'value': 'us-gaap:RetainedEarningsMember'}, 'value': '4414600000'}, {'decimals': '-5', 'unitRef': 'usd', 'period': {'instant': '2022-12-31'}, 'segment': {'dimension': 'us-gaap:StatementEquityComponentsAxis', 'value': 'us-gaap:TreasuryStockCommonMember'}, 'value': '-3021800000'}, {'decimals': '-5', 'unitRef': 'usd', 'period': {'instant': '2022-12-31'}, 'segment': {'dimension': 'us-gaap:StatementEquityComponentsAxis', 'value': 'us-gaap:AccumulatedOtherComprehensiveIncomeMember'}, 'value': '-364000000.0'}, {'decimals': '-5', 'unitRef': 'usd', 'period': {'instant': '2022-12-31'}, 'value': '2032200000'}, {'decimals': '-5', 'unitRef': 'usd', 'period': {'instant': '2023-12-30'}, 'segment': {'dimension': 'us-gaap:StatementEquityComponentsAxis', 'value': 'us-gaap:CommonStockMember'}, 'value': '124100000'}, {'decimals': '-5', 'unitRef': 'usd', 'period': {'instant': '2023-12-30'}, 'segment': {'dimension': 'us-gaap:StatementEquityComponentsAxis', 'value': 'us-gaap:AdditionalPaidInCapitalMember'}, 'value': '854500000'}, {'decimals': '-5', 'unitRef': 'usd', 'period': {'instant': '2023-12-30'}, 'segment': {'dimension': 'us-gaap:StatementEquityComponentsAxis', 'value': 'us-gaap:RetainedEarningsMember'}, 'value': '4691800000'}, {'decimals': '-5', 'unitRef': 'usd', 'period': {'instant': '2023-12-30'}, 'segment': {'dimension': 'us-gaap:StatementEquityComponentsAxis', 'value': 'us-gaap:TreasuryStockCommonMember'}, 'value': '-3134400000'}, {'decimals': '-5', 'unitRef': 'usd', 'period': {'instant': '2023-12-30'}, 'segment': {'dimension': 'us-gaap:StatementEquityComponentsAxis', 'value': 'us-gaap:AccumulatedOtherComprehensiveIncomeMember'}, 'value': '-408100000'}, {'decimals': '-5', 'unitRef': 'usd', 'period': {'instant': '2024-12-28'}, 'segment': {'dimension': 'us-gaap:StatementEquityComponentsAxis', 'value': 'us-gaap:CommonStockMember'}, 'value': '124100000'}, {'decimals': '-5', 'unitRef': 'usd', 'period': {'instant': '2024-12-28'}, 'segment': {'dimension': 'us-gaap:StatementEquityComponentsAxis', 'value': 'us-gaap:AdditionalPaidInCapitalMember'}, 'value': '840600000'}, {'decimals': '-5', 'unitRef': 'usd', 'period': {'instant': '2024-12-28'}, 'segment': {'dimension': 'us-gaap:StatementEquityComponentsAxis', 'value': 'us-gaap:RetainedEarningsMember'}, 'value': '5151200000'}, {'decimals': '-5', 'unitRef': 'usd', 'period': {'instant': '2024-12-28'}, 'segment': {'dimension': 'us-gaap:StatementEquityComponentsAxis', 'value': 'us-gaap:TreasuryStockCommonMember'}, 'value': '-3347500000'}, {'decimals': '-5', 'unitRef': 'usd', 'period': {'instant': '2024-12-28'}, 'segment': {'dimension': 'us-gaap:StatementEquityComponentsAxis', 'value': 'us-gaap:AccumulatedOtherComprehensiveIncomeMember'}, 'value': '-456100000'}, {'decimals': '-5', 'unitRef': 'usd', 'period': {'instant': '2022-12-31'}, 'segment': {'dimension': 'us-gaap:StatementEquityComponentsAxis', 'value': 'us-gaap:AccumulatedTranslationAdjustmentMember'}, 'value': '-314000000.0'}, {'decimals': '-5', 'unitRef': 'usd', 'period': {'instant': '2022-12-31'}, 'segment': {'dimension': 'us-gaap:StatementEquityComponentsAxis', 'value': 'us-gaap:AccumulatedDefinedBenefitPlansAdjustmentMember'}, 'value': '-51300000'}, {'decimals': '-5', 'unitRef': 'usd', 'period': {'instant': '2022-12-31'}, 'segment': {'dimension': 'us-gaap:StatementEquityComponentsAxis', 'value': 'us-gaap:AccumulatedGainLossNetCashFlowHedgeParentMember'}, 'value': '1300000'}, {'decimals': '-5', 'unitRef': 'usd', 'period': {'instant': '2022-12-31'}, 'segment': {'dimension': 'us-gaap:StatementEquityComponentsAxis', 'value': 'avy:AccumulatedGainLossNetFairValueHedgeParentMember'}, 'value': '0'}, {'decimals': '-5', 'unitRef': 'usd', 'period': {'instant': '2023-12-30'}, 'segment': {'dimension': 'us-gaap:StatementEquityComponentsAxis', 'value': 'us-gaap:AccumulatedTranslationAdjustmentMember'}, 'value': '-328600000'}, {'decimals': '-5', 'unitRef': 'usd', 'period': {'instant': '2023-12-30'}, 'segment': {'dimension': 'us-gaap:StatementEquityComponentsAxis', 'value': 'us-gaap:AccumulatedDefinedBenefitPlansAdjustmentMember'}, 'value': '-77500000'}, {'decimals': '-5', 'unitRef': 'usd', 'period': {'instant': '2023-12-30'}, 'segment': {'dimension': 'us-gaap:StatementEquityComponentsAxis', 'value': 'us-gaap:AccumulatedGainLossNetCashFlowHedgeParentMember'}, 'value': '-2000000.0'}, {'decimals': '-5', 'unitRef': 'usd', 'period': {'instant': '2023-12-30'}, 'segment': {'dimension': 'us-gaap:StatementEquityComponentsAxis', 'value': 'avy:AccumulatedGainLossNetFairValueHedgeParentMember'}, 'value': '0'}, {'decimals': '-5', 'unitRef': 'usd', 'period': {'instant': '2024-12-28'}, 'segment': {'dimension': 'us-gaap:StatementEquityComponentsAxis', 'value': 'us-gaap:AccumulatedTranslationAdjustmentMember'}, 'value': '-375500000'}, {'decimals': '-5', 'unitRef': 'usd', 'period': {'instant': '2024-12-28'}, 'segment': {'dimension': 'us-gaap:StatementEquityComponentsAxis', 'value': 'us-gaap:AccumulatedDefinedBenefitPlansAdjustmentMember'}, 'value': '-78000000.0'}, {'decimals': '-5', 'unitRef': 'usd', 'period': {'instant': '2024-12-28'}, 'segment': {'dimension': 'us-gaap:StatementEquityComponentsAxis', 'value': 'us-gaap:AccumulatedGainLossNetCashFlowHedgeParentMember'}, 'value': '-4600000'}, {'decimals': '-5', 'unitRef': 'usd', 'period': {'instant': '2024-12-28'}, 'segment': {'dimension': 'us-gaap:StatementEquityComponentsAxis', 'value': 'avy:AccumulatedGainLossNetFairValueHedgeParentMember'}, 'value': '2000000.0'}], 'LiabilitiesAndStockholdersEquity': [{'decimals': '-5', 'unitRef': 'usd', 'period': {'instant': '2024-12-28'}, 'value': '8404200000'}, {'decimals': '-5', 'unitRef': 'usd', 'period': {'instant': '2023-12-30'}, 'value': '8209800000'}]}\n",
      "{'NetIncomeLoss': [{'decimals': '-5', 'unitRef': 'usd', 'period': {'startDate': '2023-12-31', 'endDate': '2024-12-28'}, 'value': '704900000'}, {'decimals': '-5', 'unitRef': 'usd', 'period': {'startDate': '2023-01-01', 'endDate': '2023-12-30'}, 'value': '503000000.0'}, {'decimals': '-5', 'unitRef': 'usd', 'period': {'startDate': '2022-01-02', 'endDate': '2022-12-31'}, 'value': '757100000'}, {'decimals': '-5', 'unitRef': 'usd', 'period': {'startDate': '2022-01-02', 'endDate': '2022-12-31'}, 'segment': {'dimension': 'us-gaap:StatementEquityComponentsAxis', 'value': 'us-gaap:RetainedEarningsMember'}, 'value': '757100000'}, {'decimals': '-5', 'unitRef': 'usd', 'period': {'startDate': '2023-01-01', 'endDate': '2023-12-30'}, 'segment': {'dimension': 'us-gaap:StatementEquityComponentsAxis', 'value': 'us-gaap:RetainedEarningsMember'}, 'value': '503000000.0'}, {'decimals': '-5', 'unitRef': 'usd', 'period': {'startDate': '2023-12-31', 'endDate': '2024-12-28'}, 'segment': {'dimension': 'us-gaap:StatementEquityComponentsAxis', 'value': 'us-gaap:RetainedEarningsMember'}, 'value': '704900000'}], 'Depreciation': [{'decimals': '-5', 'unitRef': 'usd', 'period': {'startDate': '2023-12-31', 'endDate': '2024-12-28'}, 'value': '197100000'}, {'decimals': '-5', 'unitRef': 'usd', 'period': {'startDate': '2023-01-01', 'endDate': '2023-12-30'}, 'value': '187400000'}, {'decimals': '-5', 'unitRef': 'usd', 'period': {'startDate': '2022-01-02', 'endDate': '2022-12-31'}, 'value': '177400000'}], 'AdjustmentForAmortization': [{'decimals': '-5', 'unitRef': 'usd', 'period': {'startDate': '2023-12-31', 'endDate': '2024-12-28'}, 'value': '115100000'}, {'decimals': '-5', 'unitRef': 'usd', 'period': {'startDate': '2023-01-01', 'endDate': '2023-12-30'}, 'value': '111000000.0'}, {'decimals': '-5', 'unitRef': 'usd', 'period': {'startDate': '2022-01-02', 'endDate': '2022-12-31'}, 'value': '113300000'}], 'AccountsReceivableCreditLossExpenseReversalAndSalesReturns': [{'decimals': '-5', 'unitRef': 'usd', 'period': {'startDate': '2023-12-31', 'endDate': '2024-12-28'}, 'value': '47400000'}, {'decimals': '-5', 'unitRef': 'usd', 'period': {'startDate': '2023-01-01', 'endDate': '2023-12-30'}, 'value': '49900000'}, {'decimals': '-5', 'unitRef': 'usd', 'period': {'startDate': '2022-01-02', 'endDate': '2022-12-31'}, 'value': '50100000'}], 'ShareBasedCompensation': [{'decimals': '-5', 'unitRef': 'usd', 'period': {'startDate': '2023-12-31', 'endDate': '2024-12-28'}, 'value': '28700000'}, {'decimals': '-5', 'unitRef': 'usd', 'period': {'startDate': '2023-01-01', 'endDate': '2023-12-30'}, 'value': '22300000'}, {'decimals': '-5', 'unitRef': 'usd', 'period': {'startDate': '2022-01-02', 'endDate': '2022-12-31'}, 'value': '47400000'}], 'DeferredIncomeTaxesAndTaxCredits': [{'decimals': '-5', 'unitRef': 'usd', 'period': {'startDate': '2023-12-31', 'endDate': '2024-12-28'}, 'value': '-18500000'}, {'decimals': '-5', 'unitRef': 'usd', 'period': {'startDate': '2023-01-01', 'endDate': '2023-12-30'}, 'value': '-24400000'}, {'decimals': '-5', 'unitRef': 'usd', 'period': {'startDate': '2022-01-02', 'endDate': '2022-12-31'}, 'value': '18400000'}], 'OtherNoncashIncomeExpense': [{'decimals': '-5', 'unitRef': 'usd', 'period': {'startDate': '2023-12-31', 'endDate': '2024-12-28'}, 'value': '-67200000'}, {'decimals': '-5', 'unitRef': 'usd', 'period': {'startDate': '2023-01-01', 'endDate': '2023-12-30'}, 'value': '-37100000'}, {'decimals': '-5', 'unitRef': 'usd', 'period': {'startDate': '2022-01-02', 'endDate': '2022-12-31'}, 'value': '-23500000'}], 'IncreaseDecreaseInAccountsReceivable': [{'decimals': '-5', 'unitRef': 'usd', 'period': {'startDate': '2023-12-31', 'endDate': '2024-12-28'}, 'value': '107300000'}, {'decimals': '-5', 'unitRef': 'usd', 'period': {'startDate': '2023-01-01', 'endDate': '2023-12-30'}, 'value': '16700000'}, {'decimals': '-5', 'unitRef': 'usd', 'period': {'startDate': '2022-01-02', 'endDate': '2022-12-31'}, 'value': '22100000'}], 'IncreaseDecreaseInInventories': [{'decimals': '-5', 'unitRef': 'usd', 'period': {'startDate': '2023-12-31', 'endDate': '2024-12-28'}, 'value': '90700000'}, {'decimals': '-5', 'unitRef': 'usd', 'period': {'startDate': '2023-01-01', 'endDate': '2023-12-30'}, 'value': '-111700000'}, {'decimals': '-5', 'unitRef': 'usd', 'period': {'startDate': '2022-01-02', 'endDate': '2022-12-31'}, 'value': '140700000'}], 'IncreaseDecreaseInAccountsPayable': [{'decimals': '-5', 'unitRef': 'usd', 'period': {'startDate': '2023-12-31', 'endDate': '2024-12-28'}, 'value': '106700000'}, {'decimals': '-5', 'unitRef': 'usd', 'period': {'startDate': '2023-01-01', 'endDate': '2023-12-30'}, 'value': '-87600000'}, {'decimals': '-5', 'unitRef': 'usd', 'period': {'startDate': '2022-01-02', 'endDate': '2022-12-31'}, 'value': '68200000'}], 'IncreaseDecreaseInAccruedIncomeTaxesPayable': [{'decimals': '-5', 'unitRef': 'usd', 'period': {'startDate': '2023-12-31', 'endDate': '2024-12-28'}, 'value': '40200000'}, {'decimals': '-5', 'unitRef': 'usd', 'period': {'startDate': '2023-01-01', 'endDate': '2023-12-30'}, 'value': '-18700000'}, {'decimals': '-5', 'unitRef': 'usd', 'period': {'startDate': '2022-01-02', 'endDate': '2022-12-31'}, 'value': '18900000'}], 'IncreaseDecreaseInOtherOperatingAssets': [{'decimals': '-5', 'unitRef': 'usd', 'period': {'startDate': '2023-12-31', 'endDate': '2024-12-28'}, 'value': '48000000.0'}, {'decimals': '-5', 'unitRef': 'usd', 'period': {'startDate': '2023-01-01', 'endDate': '2023-12-30'}, 'value': '-37700000'}, {'decimals': '-5', 'unitRef': 'usd', 'period': {'startDate': '2022-01-02', 'endDate': '2022-12-31'}, 'value': '-15300000'}], 'IncreaseDecreaseInOtherOperatingLiabilities': [{'decimals': '-5', 'unitRef': 'usd', 'period': {'startDate': '2023-12-31', 'endDate': '2024-12-28'}, 'value': '-104000000.0'}, {'decimals': '-5', 'unitRef': 'usd', 'period': {'startDate': '2023-01-01', 'endDate': '2023-12-30'}, 'value': '-86700000'}, {'decimals': '-5', 'unitRef': 'usd', 'period': {'startDate': '2022-01-02', 'endDate': '2022-12-31'}, 'value': '-165800000'}], 'NetCashProvidedByUsedInOperatingActivities': [{'decimals': '-5', 'unitRef': 'usd', 'period': {'startDate': '2023-12-31', 'endDate': '2024-12-28'}, 'value': '938800000'}, {'decimals': '-5', 'unitRef': 'usd', 'period': {'startDate': '2023-01-01', 'endDate': '2023-12-30'}, 'value': '826000000.0'}, {'decimals': '-5', 'unitRef': 'usd', 'period': {'startDate': '2022-01-02', 'endDate': '2022-12-31'}, 'value': '961000000.0'}], 'PaymentsToAcquirePropertyPlantAndEquipment': [{'decimals': '-5', 'unitRef': 'usd', 'period': {'startDate': '2023-12-31', 'endDate': '2024-12-28'}, 'value': '208800000'}, {'decimals': '-5', 'unitRef': 'usd', 'period': {'startDate': '2023-01-01', 'endDate': '2023-12-30'}, 'value': '265300000'}, {'decimals': '-5', 'unitRef': 'usd', 'period': {'startDate': '2022-01-02', 'endDate': '2022-12-31'}, 'value': '278100000'}], 'PurchaseOfSoftwareAndOtherDeferredCharges': [{'decimals': '-5', 'unitRef': 'usd', 'period': {'startDate': '2023-12-31', 'endDate': '2024-12-28'}, 'value': '31000000.0'}, {'decimals': '-5', 'unitRef': 'usd', 'period': {'startDate': '2023-01-01', 'endDate': '2023-12-30'}, 'value': '19800000'}, {'decimals': '-5', 'unitRef': 'usd', 'period': {'startDate': '2022-01-02', 'endDate': '2022-12-31'}, 'value': '20400000'}], 'ProceedsFromLifeInsurancePolicies': [{'decimals': '-5', 'unitRef': 'usd', 'period': {'startDate': '2023-12-31', 'endDate': '2024-12-28'}, 'value': '0'}, {'decimals': '-5', 'unitRef': 'usd', 'period': {'startDate': '2023-01-01', 'endDate': '2023-12-30'}, 'value': '48100000'}, {'decimals': '-5', 'unitRef': 'usd', 'period': {'startDate': '2022-01-02', 'endDate': '2022-12-31'}, 'value': '0'}], 'PaymentsToAcquireMarketableSecurities': [{'decimals': '-5', 'unitRef': 'usd', 'period': {'startDate': '2023-12-31', 'endDate': '2024-12-28'}, 'value': '34200000'}, {'decimals': '-5', 'unitRef': 'usd', 'period': {'startDate': '2023-01-01', 'endDate': '2023-12-30'}, 'value': '0'}, {'decimals': '-5', 'unitRef': 'usd', 'period': {'startDate': '2022-01-02', 'endDate': '2022-12-31'}, 'value': '0'}], 'ProceedsFromSaleAndMaturityOfMarketableSecurities': [{'decimals': '-5', 'unitRef': 'usd', 'period': {'startDate': '2023-12-31', 'endDate': '2024-12-28'}, 'value': '24000000.0'}, {'decimals': '-5', 'unitRef': 'usd', 'period': {'startDate': '2023-01-01', 'endDate': '2023-12-30'}, 'value': '0'}, {'decimals': '-5', 'unitRef': 'usd', 'period': {'startDate': '2022-01-02', 'endDate': '2022-12-31'}, 'value': '0'}], 'ProceedsFromSaleOfPropertyPlantAndEquipment': [{'decimals': '-5', 'unitRef': 'usd', 'period': {'startDate': '2023-12-31', 'endDate': '2024-12-28'}, 'value': '600000'}, {'decimals': '-5', 'unitRef': 'usd', 'period': {'startDate': '2023-01-01', 'endDate': '2023-12-30'}, 'value': '1000000.0'}, {'decimals': '-5', 'unitRef': 'usd', 'period': {'startDate': '2022-01-02', 'endDate': '2022-12-31'}, 'value': '2300000'}], 'ProceedsFromInsuranceAndSalesPurchasesOfInvestmentsNet': [{'decimals': '-5', 'unitRef': 'usd', 'period': {'startDate': '2023-12-31', 'endDate': '2024-12-28'}, 'value': '10100000'}, {'decimals': '-5', 'unitRef': 'usd', 'period': {'startDate': '2023-01-01', 'endDate': '2023-12-30'}, 'value': '1900000'}, {'decimals': '-5', 'unitRef': 'usd', 'period': {'startDate': '2022-01-02', 'endDate': '2022-12-31'}, 'value': '1900000'}], 'ProceedsFromDivestitureOfBusinessesAndInterestsInAffiliates': [{'decimals': '-5', 'unitRef': 'usd', 'period': {'startDate': '2023-12-31', 'endDate': '2024-12-28'}, 'value': '0'}, {'decimals': '-5', 'unitRef': 'usd', 'period': {'startDate': '2023-01-01', 'endDate': '2023-12-30'}, 'value': '0'}, {'decimals': '-5', 'unitRef': 'usd', 'period': {'startDate': '2022-01-02', 'endDate': '2022-12-31'}, 'value': '1100000'}], 'PaymentsToAcquireBusinessesAndInterestInAffiliates': [{'decimals': '-5', 'unitRef': 'usd', 'period': {'startDate': '2023-12-31', 'endDate': '2024-12-28'}, 'value': '3800000'}, {'decimals': '-5', 'unitRef': 'usd', 'period': {'startDate': '2023-01-01', 'endDate': '2023-12-30'}, 'value': '224900000'}, {'decimals': '-5', 'unitRef': 'usd', 'period': {'startDate': '2022-01-02', 'endDate': '2022-12-31'}, 'value': '39500000'}], 'NetCashProvidedByUsedInInvestingActivities': [{'decimals': '-5', 'unitRef': 'usd', 'period': {'startDate': '2023-12-31', 'endDate': '2024-12-28'}, 'value': '-243100000'}, {'decimals': '-5', 'unitRef': 'usd', 'period': {'startDate': '2023-01-01', 'endDate': '2023-12-30'}, 'value': '-459000000.0'}, {'decimals': '-5', 'unitRef': 'usd', 'period': {'startDate': '2022-01-02', 'endDate': '2022-12-31'}, 'value': '-332700000'}], 'ProceedsFromRepaymentsOfShortTermDebt': [{'decimals': '-5', 'unitRef': 'usd', 'period': {'startDate': '2023-12-31', 'endDate': '2024-12-28'}, 'value': '-269000000.0'}, {'decimals': '-5', 'unitRef': 'usd', 'period': {'startDate': '2023-01-01', 'endDate': '2023-12-30'}, 'value': '-36600000'}, {'decimals': '-5', 'unitRef': 'usd', 'period': {'startDate': '2022-01-02', 'endDate': '2022-12-31'}, 'value': '34600000'}], 'ProceedsFromIssuanceOfLongTermDebtAndCapitalSecuritiesNet': [{'decimals': '-5', 'unitRef': 'usd', 'period': {'startDate': '2023-12-31', 'endDate': '2024-12-28'}, 'value': '539200000'}, {'decimals': '-5', 'unitRef': 'usd', 'period': {'startDate': '2023-01-01', 'endDate': '2023-12-30'}, 'value': '394900000'}, {'decimals': '-5', 'unitRef': 'usd', 'period': {'startDate': '2022-01-02', 'endDate': '2022-12-31'}, 'value': '0'}], 'RepaymentsOfLongTermDebtAndCapitalSecurities': [{'decimals': '-5', 'unitRef': 'usd', 'period': {'startDate': '2023-12-31', 'endDate': '2024-12-28'}, 'value': '308100000'}, {'decimals': '-5', 'unitRef': 'usd', 'period': {'startDate': '2023-01-01', 'endDate': '2023-12-30'}, 'value': '255900000'}, {'decimals': '-5', 'unitRef': 'usd', 'period': {'startDate': '2022-01-02', 'endDate': '2022-12-31'}, 'value': '6300000'}], 'PaymentsOfDividendsCommonStock': [{'decimals': '-5', 'unitRef': 'usd', 'period': {'startDate': '2023-12-31', 'endDate': '2024-12-28'}, 'value': '277500000'}, {'decimals': '-5', 'unitRef': 'usd', 'period': {'startDate': '2023-01-01', 'endDate': '2023-12-30'}, 'value': '256700000'}, {'decimals': '-5', 'unitRef': 'usd', 'period': {'startDate': '2022-01-02', 'endDate': '2022-12-31'}, 'value': '238900000'}], 'PaymentsForRepurchaseOfCommonStock': [{'decimals': '-5', 'unitRef': 'usd', 'period': {'startDate': '2023-12-31', 'endDate': '2024-12-28'}, 'value': '247500000'}, {'decimals': '-5', 'unitRef': 'usd', 'period': {'startDate': '2023-01-01', 'endDate': '2023-12-30'}, 'value': '137500000'}, {'decimals': '-5', 'unitRef': 'usd', 'period': {'startDate': '2022-01-02', 'endDate': '2022-12-31'}, 'value': '379500000'}], 'PaymentsRelatedToTaxWithholdingForShareBasedCompensation': [{'decimals': '-5', 'unitRef': 'usd', 'period': {'startDate': '2023-12-31', 'endDate': '2024-12-28'}, 'value': '8400000'}, {'decimals': '-5', 'unitRef': 'usd', 'period': {'startDate': '2023-01-01', 'endDate': '2023-12-30'}, 'value': '23800000'}, {'decimals': '-5', 'unitRef': 'usd', 'period': {'startDate': '2022-01-02', 'endDate': '2022-12-31'}, 'value': '25100000'}], 'ProceedsFromPaymentsForOtherFinancingActivities': [{'decimals': '-5', 'unitRef': 'usd', 'period': {'startDate': '2023-12-31', 'endDate': '2024-12-28'}, 'value': '-4800000'}, {'decimals': '-5', 'unitRef': 'usd', 'period': {'startDate': '2023-01-01', 'endDate': '2023-12-30'}, 'value': '-1600000'}, {'decimals': '-5', 'unitRef': 'usd', 'period': {'startDate': '2022-01-02', 'endDate': '2022-12-31'}, 'value': '0'}], 'NetCashProvidedByUsedInFinancingActivities': [{'decimals': '-5', 'unitRef': 'usd', 'period': {'startDate': '2023-12-31', 'endDate': '2024-12-28'}, 'value': '-576100000'}, {'decimals': '-5', 'unitRef': 'usd', 'period': {'startDate': '2023-01-01', 'endDate': '2023-12-30'}, 'value': '-317200000'}, {'decimals': '-5', 'unitRef': 'usd', 'period': {'startDate': '2022-01-02', 'endDate': '2022-12-31'}, 'value': '-615200000'}], 'EffectOfExchangeRateOnCashCashEquivalentsRestrictedCashAndRestrictedCashEquivalents': [{'decimals': '-5', 'unitRef': 'usd', 'period': {'startDate': '2023-12-31', 'endDate': '2024-12-28'}, 'value': '-5500000'}, {'decimals': '-5', 'unitRef': 'usd', 'period': {'startDate': '2023-01-01', 'endDate': '2023-12-30'}, 'value': '-2000000.0'}, {'decimals': '-5', 'unitRef': 'usd', 'period': {'startDate': '2022-01-02', 'endDate': '2022-12-31'}, 'value': '-8600000'}], 'CashCashEquivalentsRestrictedCashAndRestrictedCashEquivalentsPeriodIncreaseDecreaseIncludingExchangeRateEffect': [{'decimals': '-5', 'unitRef': 'usd', 'period': {'startDate': '2023-12-31', 'endDate': '2024-12-28'}, 'value': '114100000'}, {'decimals': '-5', 'unitRef': 'usd', 'period': {'startDate': '2023-01-01', 'endDate': '2023-12-30'}, 'value': '47800000'}, {'decimals': '-5', 'unitRef': 'usd', 'period': {'startDate': '2022-01-02', 'endDate': '2022-12-31'}, 'value': '4500000'}], 'CashCashEquivalentsRestrictedCashAndRestrictedCashEquivalents': [{'decimals': '-5', 'unitRef': 'usd', 'period': {'instant': '2023-12-30'}, 'value': '215000000.0'}, {'decimals': '-5', 'unitRef': 'usd', 'period': {'instant': '2022-12-31'}, 'value': '167200000'}, {'decimals': '-5', 'unitRef': 'usd', 'period': {'instant': '2022-01-01'}, 'value': '162700000'}, {'decimals': '-5', 'unitRef': 'usd', 'period': {'instant': '2024-12-28'}, 'value': '329100000'}]}\n"
     ]
    }
   ],
   "source": [
    "# access income statement, balance sheet and cash flow statement\n",
    "print(xbrl_json[\"StatementsOfIncome\"])\n",
    "print(xbrl_json[\"BalanceSheets\"])\n",
    "print(xbrl_json[\"StatementsOfCashFlows\"])"
   ]
  },
  {
   "cell_type": "code",
   "execution_count": 4,
   "metadata": {},
   "outputs": [
    {
     "name": "stdout",
     "output_type": "stream",
     "text": [
      "CoverPage\n",
      "AuditInformation\n",
      "BalanceSheets\n",
      "BalanceSheetsParenthetical\n",
      "StatementsOfIncome\n",
      "StatementsOfComprehensiveIncome\n",
      "StatementsOfShareholdersEquity\n",
      "StatementsOfShareholdersEquityParenthetical\n",
      "StatementsOfCashFlows\n",
      "SUMMARYOFSIGNIFICANTACCOUNTINGPOLICIES\n",
      "BUSINESSACQUISITIONS\n",
      "GOODWILLANDOTHERINTANGIBLESRESULTINGFROMBUSINESSACQUISITIONS\n",
      "DEBT\n",
      "FINANCIALINSTRUMENTS\n",
      "PENSIONANDOTHERPOSTRETIREMENTBENEFITS\n",
      "COMMITMENTSANDLEASES\n",
      "CONTINGENCIES\n",
      "FAIRVALUEMEASUREMENTS\n",
      "NETINCOMEPERCOMMONSHARE\n",
      "SUPPLEMENTALEQUITYANDCOMPREHENSIVEINCOMEINFORMATION\n",
      "LONGTERMINCENTIVECOMPENSATION\n",
      "COSTREDUCTIONACTIONS\n",
      "TAXESBASEDONINCOME\n",
      "SEGMENTANDDISAGGREGATEDREVENUEINFORMATION\n",
      "SUPPLEMENTALFINANCIALINFORMATION\n",
      "SUMMARYOFSIGNIFICANTACCOUNTINGPOLICIESPolicies\n",
      "GOODWILLANDOTHERINTANGIBLESRESULTINGFROMBUSINESSACQUISITIONSTables\n",
      "DEBTTables\n",
      "FINANCIALINSTRUMENTSTables\n",
      "PENSIONANDOTHERPOSTRETIREMENTBENEFITSTables\n",
      "COMMITMENTSANDLEASESTables\n",
      "CONTINGENCIESTables\n",
      "FAIRVALUEMEASUREMENTSTables\n",
      "NETINCOMEPERCOMMONSHARETables\n",
      "SUPPLEMENTALEQUITYANDCOMPREHENSIVEINCOMEINFORMATIONTables\n",
      "LONGTERMINCENTIVECOMPENSATIONTables\n",
      "COSTREDUCTIONACTIONSTables\n",
      "TAXESBASEDONINCOMETables\n",
      "SEGMENTANDDISAGGREGATEDREVENUEINFORMATIONTables\n",
      "SUPPLEMENTALFINANCIALINFORMATIONTables\n",
      "SUMMARYOFSIGNIFICANTACCOUNTINGPOLICIESDetails\n",
      "BUSINESSACQUISITIONSDetails\n",
      "GOODWILLANDOTHERINTANGIBLESRESULTINGFROMBUSINESSACQUISITIONSNarrativeDetails\n",
      "GOODWILLANDOTHERINTANGIBLESRESULTINGFROMBUSINESSACQUISITIONSGoodwillRollforwardDetails\n",
      "GOODWILLANDOTHERINTANGIBLESRESULTINGFROMBUSINESSACQUISITIONSScheduleoftheAmountsandUsefulLivesofFiniteLivedIntangibleAssetsDetails\n",
      "GOODWILLANDOTHERINTANGIBLESRESULTINGFROMBUSINESSACQUISITIONSScheduleofFiniteLivedIntangibleAssetsDetails\n",
      "GOODWILLANDOTHERINTANGIBLESRESULTINGFROMBUSINESSACQUISITIONSExpectedAmortizationDetails\n",
      "DEBTShortTermBorrowingsDetails\n",
      "DEBTShortTermCreditFacilitiesDetails\n",
      "DEBTLongTermBorrowingsDetails\n",
      "DEBTScheduleofLongTermDebtIncludingitsRespectiveInterestRatesatYearEndDetails\n",
      "DEBTScheduleofMaturitiesofLongTermDebtDetails\n",
      "DEBTOtherDetails\n",
      "FINANCIALINSTRUMENTSNarrativeDetails\n",
      "FINANCIALINSTRUMENTSBalanceSheetLocationsofOtherDerivativesFairValueDetails\n",
      "FINANCIALINSTRUMENTSComponentsoftheNetGainsLossesRecognizedinIncomeRelatedtoDerivativeInstrumentsDetails\n",
      "FINANCIALINSTRUMENTSComponentsoftheNetGainsLossesRecognizedinIncomeRelatedtoDerivativeInstrumentsNotDesignatedasHedgesDetails\n",
      "PENSIONANDOTHERPOSTRETIREMENTBENEFITSNarrativeDetails\n",
      "PENSIONANDOTHERPOSTRETIREMENTBENEFITSDefinedBenefitPlansDetails\n",
      "PENSIONANDOTHERPOSTRETIREMENTBENEFITSReconciliationforAssetsMeasureatFairValueUsingLevel3Details\n",
      "PENSIONANDOTHERPOSTRETIREMENTBENEFITSChangeinProjectedBenefitObligationsDetails\n",
      "PENSIONANDOTHERPOSTRETIREMENTBENEFITSChangeinPlanAssetsDetails\n",
      "PENSIONANDOTHERPOSTRETIREMENTBENEFITSFundedStatusofthePlanDetails\n",
      "PENSIONANDOTHERPOSTRETIREMENTBENEFITSPretaxAmountRecognizedinAccumulatedOtherComprehensiveLossDetails\n",
      "PENSIONANDOTHERPOSTRETIREMENTBENEFITSPretaxAmountRecognizedinOtherComprehensiveLossIncomeDetails\n",
      "PENSIONANDOTHERPOSTRETIREMENTBENEFITSComponentsofNetPeriodicBenefitCostDetails\n",
      "PENSIONANDOTHERPOSTRETIREMENTBENEFITSWeightedAverageAssumptionsforDeterminingNetPeriodicCostDetails\n",
      "PENSIONANDOTHERPOSTRETIREMENTBENEFITSFutureBenefitPaymentsDetails\n",
      "PENSIONANDOTHERPOSTRETIREMENTBENEFITSPostretirementHealthBenefitsDefinedContributionandOtherRetirementPlansDetails\n",
      "COMMITMENTSANDLEASESSupplementalCostInformationRelatedtoLeasesDetails\n",
      "COMMITMENTSANDLEASESSupplementalBalanceSheetInformationRelatedtoLeasesDetails\n",
      "COMMITMENTSANDLEASESSupplementalCashFlowInformationRelatedtoLeasesDetails\n",
      "COMMITMENTSANDLEASESScheduleofWeightedAverageRemainingLeaseTermandDiscountRateInformationDetails\n",
      "COMMITMENTSANDLEASESScheduleofMaturitiesofLeaseLiabilitiesDetails\n",
      "CONTINGENCIESNarrativeDetails\n",
      "CONTINGENCIESActivityDetails\n",
      "FAIRVALUEMEASUREMENTSRecurringFairValueMeasurementsDetails\n",
      "FAIRVALUEMEASUREMENTSNarrativeDetails\n",
      "NETINCOMEPERCOMMONSHAREDetails\n",
      "SUPPLEMENTALEQUITYANDCOMPREHENSIVEINCOMEINFORMATIONNarrativeDetails\n",
      "SUPPLEMENTALEQUITYANDCOMPREHENSIVEINCOMEINFORMATIONChangeinAccumulatedOtherComprehensiveLossDetails\n",
      "SUPPLEMENTALEQUITYANDCOMPREHENSIVEINCOMEINFORMATIONIncomeTaxBenefitExpenseAllocatedtoEachComponentofOtherComprehensivelossDetails\n",
      "LONGTERMINCENTIVECOMPENSATIONNarrativeDetails\n",
      "LONGTERMINCENTIVECOMPENSATIONStockBasedCompensationExpenseandtheRelatedRecognizedTaxBenefitDetails\n",
      "LONGTERMINCENTIVECOMPENSATIONStockOptionInformationDetails\n",
      "LONGTERMINCENTIVECOMPENSATIONNumberofAwardsWeightedaverageGrantdateFairValueDetails\n",
      "COSTREDUCTIONACTIONSNarrativeDetails\n",
      "COSTREDUCTIONACTIONSRestructuringChargesandPaymentsDetails\n",
      "COSTREDUCTIONACTIONSRestructuringChargesbyReportableSegmentandCorporateDetails\n",
      "TAXESBASEDONINCOMEScheduleofTaxesBasedonIncomeDetails\n",
      "TAXESBASEDONINCOMEIncreaseDecreaseinTaxesDetails\n",
      "TAXESBASEDONINCOMEIncomeLossfromContinuingOperationsbeforeTaxesDetails\n",
      "TAXESBASEDONINCOMENarrativeDetails\n",
      "TAXESBASEDONINCOMEScheduleofComponentsoftheTemporaryDifferencesDetails\n",
      "TAXESBASEDONINCOMENetOperatingLossandTaxCarryforwardsDetails\n",
      "TAXESBASEDONINCOMEUnrecognizedTaxBenefitsDetails\n",
      "TAXESBASEDONINCOMEReconciliationofUnrecognizedTaxBenefitsDetails\n",
      "SEGMENTANDDISAGGREGATEDREVENUEINFORMATIONNetSalestoUnaffiliatedCustomersDetails\n",
      "SEGMENTANDDISAGGREGATEDREVENUEINFORMATIONMaterialGroupRevenueByProductDetails\n",
      "SEGMENTANDDISAGGREGATEDREVENUEINFORMATIONNarrativeDetails\n",
      "SEGMENTANDDISAGGREGATEDREVENUEINFORMATIONSegmentResultsandReconciliationtoIncomebeforeTaxesDetails\n",
      "SEGMENTANDDISAGGREGATEDREVENUEINFORMATIONSegmentExpensesDetails\n",
      "SEGMENTANDDISAGGREGATEDREVENUEINFORMATIONAdditionalFinancialInformationbyReportableSegmentDetails\n",
      "SEGMENTANDDISAGGREGATEDREVENUEINFORMATIONOtherExpenseIncomeNetbyTypeDetails\n",
      "SEGMENTANDDISAGGREGATEDREVENUEINFORMATIONLonglivedAssetsDetails\n",
      "SUPPLEMENTALFINANCIALINFORMATIONInventoriesDetails\n",
      "SUPPLEMENTALFINANCIALINFORMATIONPropertyPlantandEquipmentNetDetails\n",
      "SUPPLEMENTALFINANCIALINFORMATIONSoftwareDetails\n",
      "SUPPLEMENTALFINANCIALINFORMATIONCloudComputingArrangementsDetails\n",
      "SUPPLEMENTALFINANCIALINFORMATIONAllowanceofcreditlossesDetails\n",
      "SUPPLEMENTALFINANCIALINFORMATIONResearchandDevelopmentSupplementalCashFlowInformationandDeferredRevenueDetails\n",
      "SUPPLEMENTALFINANCIALINFORMATIONNarrativeDetails\n",
      "SUPPLEMENTALFINANCIALINFORMATIONSupplierFinanceProgramsDetails\n",
      "PvpDisclosure\n",
      "InsiderTradingArrangements\n",
      "InsiderTradingPoliciesProc\n",
      "CybersecurityRiskManagementProcessesForAssessingIdentifyingAndManagingThreatsTextBlock\n",
      "CybersecurityRiskManagementProcessesIntegratedTextBlock\n",
      "CybersecurityRiskManagementProcessesIntegratedFlag\n",
      "CybersecurityRiskThirdPartyOversightAndIdentificationProcessesFlag\n",
      "CybersecurityRiskManagementThirdPartyEngagedFlag\n",
      "CybersecurityRiskMateriallyAffectedOrReasonablyLikelyToMateriallyAffectRegistrantFlag\n",
      "CybersecurityRiskBoardOfDirectorsOversightTextBlock\n",
      "CybersecurityRiskManagementPositionsOrCommitteesResponsibleTextBlock\n",
      "CybersecurityRiskProcessForInformingManagementOrCommitteesResponsibleTextBlock\n",
      "CybersecurityRiskBoardCommitteeOrSubcommitteeResponsibleForOversightTextBlock\n",
      "CybersecurityRiskManagementPositionsOrCommitteesResponsibleFlag\n",
      "CybersecurityRiskManagementPositionsOrCommitteesResponsibleReportToBoardFlag\n",
      "CybersecurityRiskProcessForInformingBoardCommitteeOrSubcommitteeResponsibleForOversightTextBlock\n",
      "CybersecurityRiskRoleOfManagementTextBlock\n",
      "CybersecurityRiskManagementExpertiseOfManagementResponsibleTextBlock\n"
     ]
    }
   ],
   "source": [
    "print(*list(xbrl_json.keys()), sep='\\n')"
   ]
  },
  {
   "cell_type": "code",
   "execution_count": 5,
   "metadata": {},
   "outputs": [
    {
     "name": "stdout",
     "output_type": "stream",
     "text": [
      "CashAndCashEquivalentsAtCarryingValue: [{'decimals': '-5', 'unitRef': 'usd', 'period': {'instant': '2024-12-28'}, 'value': '329100000'}, {'decimals': '-5', 'unitRef': 'usd', 'period': {'instant': '2023-12-30'}, 'value': '215000000.0'}]\n",
      "AccountsReceivableNetCurrent: [{'decimals': '-5', 'unitRef': 'usd', 'period': {'instant': '2024-12-28'}, 'value': '1466200000'}, {'decimals': '-5', 'unitRef': 'usd', 'period': {'instant': '2023-12-30'}, 'value': '1414900000'}]\n",
      "InventoryNet: [{'decimals': '-5', 'unitRef': 'usd', 'period': {'instant': '2024-12-28'}, 'value': '978100000'}, {'decimals': '-5', 'unitRef': 'usd', 'period': {'instant': '2023-12-30'}, 'value': '920700000'}]\n",
      "OtherAssetsCurrent: [{'decimals': '-5', 'unitRef': 'usd', 'period': {'instant': '2024-12-28'}, 'value': '305300000'}, {'decimals': '-5', 'unitRef': 'usd', 'period': {'instant': '2023-12-30'}, 'value': '245400000'}]\n",
      "AssetsCurrent: [{'decimals': '-5', 'unitRef': 'usd', 'period': {'instant': '2024-12-28'}, 'value': '3078700000'}, {'decimals': '-5', 'unitRef': 'usd', 'period': {'instant': '2023-12-30'}, 'value': '2796000000'}]\n",
      "PropertyPlantAndEquipmentAndFinanceLeaseRightOfUseAssetAfterAccumulatedDepreciationAndAmortization: [{'decimals': '-5', 'unitRef': 'usd', 'period': {'instant': '2024-12-28'}, 'value': '1586700000'}, {'decimals': '-5', 'unitRef': 'usd', 'period': {'instant': '2023-12-30'}, 'value': '1625800000'}]\n",
      "Goodwill: [{'decimals': '-5', 'unitRef': 'usd', 'period': {'instant': '2024-12-28'}, 'value': '1976200000'}, {'decimals': '-5', 'unitRef': 'usd', 'period': {'instant': '2023-12-30'}, 'value': '2013600000'}, {'decimals': '-5', 'unitRef': 'usd', 'period': {'instant': '2022-12-31'}, 'segment': {'dimension': 'us-gaap:StatementBusinessSegmentsAxis', 'value': 'avy:MaterialsGroupSegmentMember'}, 'value': '618700000'}, {'decimals': '-5', 'unitRef': 'usd', 'period': {'instant': '2022-12-31'}, 'segment': {'dimension': 'us-gaap:StatementBusinessSegmentsAxis', 'value': 'avy:SolutionsGroupSegmentMember'}, 'value': '1243700000'}, {'decimals': '-5', 'unitRef': 'usd', 'period': {'instant': '2022-12-31'}, 'value': '1862400000'}, {'decimals': '-5', 'unitRef': 'usd', 'period': {'instant': '2023-12-30'}, 'segment': {'dimension': 'us-gaap:StatementBusinessSegmentsAxis', 'value': 'avy:MaterialsGroupSegmentMember'}, 'value': '630700000'}, {'decimals': '-5', 'unitRef': 'usd', 'period': {'instant': '2023-12-30'}, 'segment': {'dimension': 'us-gaap:StatementBusinessSegmentsAxis', 'value': 'avy:SolutionsGroupSegmentMember'}, 'value': '1382900000'}, {'decimals': '-5', 'unitRef': 'usd', 'period': {'instant': '2024-12-28'}, 'segment': {'dimension': 'us-gaap:StatementBusinessSegmentsAxis', 'value': 'avy:MaterialsGroupSegmentMember'}, 'value': '606100000'}, {'decimals': '-5', 'unitRef': 'usd', 'period': {'instant': '2024-12-28'}, 'segment': {'dimension': 'us-gaap:StatementBusinessSegmentsAxis', 'value': 'avy:SolutionsGroupSegmentMember'}, 'value': '1370100000'}]\n",
      "IntangibleAssetsNetExcludingGoodwill: [{'decimals': '-5', 'unitRef': 'usd', 'period': {'instant': '2024-12-28'}, 'value': '755300000'}, {'decimals': '-5', 'unitRef': 'usd', 'period': {'instant': '2023-12-30'}, 'value': '849100000'}]\n",
      "DeferredIncomeTaxAssetsNet: [{'decimals': '-5', 'unitRef': 'usd', 'period': {'instant': '2024-12-28'}, 'value': '110000000.0'}, {'decimals': '-5', 'unitRef': 'usd', 'period': {'instant': '2023-12-30'}, 'value': '115700000'}]\n",
      "OtherAssetsNoncurrent: [{'decimals': '-5', 'unitRef': 'usd', 'period': {'instant': '2024-12-28'}, 'value': '897300000'}, {'decimals': '-5', 'unitRef': 'usd', 'period': {'instant': '2023-12-30'}, 'value': '809600000'}]\n",
      "Assets: [{'decimals': '-5', 'unitRef': 'usd', 'period': {'instant': '2024-12-28'}, 'value': '8404200000'}, {'decimals': '-5', 'unitRef': 'usd', 'period': {'instant': '2023-12-30'}, 'value': '8209800000'}]\n",
      "DebtCurrent: [{'decimals': '-5', 'unitRef': 'usd', 'period': {'instant': '2024-12-28'}, 'value': '592300000'}, {'decimals': '-5', 'unitRef': 'usd', 'period': {'instant': '2023-12-30'}, 'value': '622200000'}]\n",
      "AccountsPayableCurrent: [{'decimals': '-5', 'unitRef': 'usd', 'period': {'instant': '2024-12-28'}, 'value': '1340700000'}, {'decimals': '-5', 'unitRef': 'usd', 'period': {'instant': '2023-12-30'}, 'value': '1277100000'}]\n",
      "EmployeeRelatedLiabilitiesCurrent: [{'decimals': '-5', 'unitRef': 'usd', 'period': {'instant': '2024-12-28'}, 'value': '288900000'}, {'decimals': '-5', 'unitRef': 'usd', 'period': {'instant': '2023-12-30'}, 'value': '213400000'}]\n",
      "AccruedTradeRebates: [{'decimals': '-5', 'unitRef': 'usd', 'period': {'instant': '2024-12-28'}, 'value': '157900000'}, {'decimals': '-5', 'unitRef': 'usd', 'period': {'instant': '2023-12-30'}, 'value': '142400000'}]\n",
      "AccruedIncomeTaxesCurrent: [{'decimals': '-5', 'unitRef': 'usd', 'period': {'instant': '2024-12-28'}, 'value': '74700000'}, {'decimals': '-5', 'unitRef': 'usd', 'period': {'instant': '2023-12-30'}, 'value': '57600000'}]\n",
      "OtherLiabilitiesCurrent: [{'decimals': '-5', 'unitRef': 'usd', 'period': {'instant': '2024-12-28'}, 'value': '408100000'}, {'decimals': '-5', 'unitRef': 'usd', 'period': {'instant': '2023-12-30'}, 'value': '386800000'}]\n",
      "LiabilitiesCurrent: [{'decimals': '-5', 'unitRef': 'usd', 'period': {'instant': '2024-12-28'}, 'value': '2862600000'}, {'decimals': '-5', 'unitRef': 'usd', 'period': {'instant': '2023-12-30'}, 'value': '2699500000'}]\n",
      "LongTermDebtAndCapitalLeaseObligations: [{'decimals': '-5', 'unitRef': 'usd', 'period': {'instant': '2024-12-28'}, 'value': '2559900000'}, {'decimals': '-5', 'unitRef': 'usd', 'period': {'instant': '2023-12-30'}, 'value': '2622100000'}]\n",
      "LongTermRetirementBenefitsAndOtherLiabilities: [{'decimals': '-5', 'unitRef': 'usd', 'period': {'instant': '2024-12-28'}, 'value': '434600000'}, {'decimals': '-5', 'unitRef': 'usd', 'period': {'instant': '2023-12-30'}, 'value': '500300000'}]\n",
      "DeferredAndPayableIncomeTaxes: [{'decimals': '-5', 'unitRef': 'usd', 'period': {'instant': '2024-12-28'}, 'value': '234800000'}, {'decimals': '-5', 'unitRef': 'usd', 'period': {'instant': '2023-12-30'}, 'value': '260000000.0'}]\n",
      "CommitmentsAndContingencies: [{'unitRef': 'usd', 'xsi:nil': 'true', 'period': {'instant': '2024-12-28'}}, {'unitRef': 'usd', 'xsi:nil': 'true', 'period': {'instant': '2023-12-30'}}]\n",
      "CommonStockValue: [{'decimals': '-5', 'unitRef': 'usd', 'period': {'instant': '2024-12-28'}, 'value': '124100000'}, {'decimals': '-5', 'unitRef': 'usd', 'period': {'instant': '2023-12-30'}, 'value': '124100000'}]\n",
      "AdditionalPaidInCapitalCommonStock: [{'decimals': '-5', 'unitRef': 'usd', 'period': {'instant': '2024-12-28'}, 'value': '840600000'}, {'decimals': '-5', 'unitRef': 'usd', 'period': {'instant': '2023-12-30'}, 'value': '854500000'}]\n",
      "RetainedEarningsAccumulatedDeficit: [{'decimals': '-5', 'unitRef': 'usd', 'period': {'instant': '2024-12-28'}, 'value': '5151200000'}, {'decimals': '-5', 'unitRef': 'usd', 'period': {'instant': '2023-12-30'}, 'value': '4691800000'}]\n",
      "TreasuryStockCommonValue: [{'decimals': '-5', 'unitRef': 'usd', 'period': {'instant': '2024-12-28'}, 'value': '3347500000'}, {'decimals': '-5', 'unitRef': 'usd', 'period': {'instant': '2023-12-30'}, 'value': '3134400000'}]\n",
      "AccumulatedOtherComprehensiveIncomeLossNetOfTax: [{'decimals': '-5', 'unitRef': 'usd', 'period': {'instant': '2024-12-28'}, 'value': '-456100000'}, {'decimals': '-5', 'unitRef': 'usd', 'period': {'instant': '2023-12-30'}, 'value': '-408100000'}]\n",
      "StockholdersEquity: [{'decimals': '-5', 'unitRef': 'usd', 'period': {'instant': '2024-12-28'}, 'value': '2312300000'}, {'decimals': '-5', 'unitRef': 'usd', 'period': {'instant': '2023-12-30'}, 'value': '2127900000'}, {'decimals': '-5', 'unitRef': 'usd', 'period': {'instant': '2022-01-01'}, 'segment': {'dimension': 'us-gaap:StatementEquityComponentsAxis', 'value': 'us-gaap:CommonStockMember'}, 'value': '124100000'}, {'decimals': '-5', 'unitRef': 'usd', 'period': {'instant': '2022-01-01'}, 'segment': {'dimension': 'us-gaap:StatementEquityComponentsAxis', 'value': 'us-gaap:AdditionalPaidInCapitalMember'}, 'value': '862300000'}, {'decimals': '-5', 'unitRef': 'usd', 'period': {'instant': '2022-01-01'}, 'segment': {'dimension': 'us-gaap:StatementEquityComponentsAxis', 'value': 'us-gaap:RetainedEarningsMember'}, 'value': '3880700000'}, {'decimals': '-5', 'unitRef': 'usd', 'period': {'instant': '2022-01-01'}, 'segment': {'dimension': 'us-gaap:StatementEquityComponentsAxis', 'value': 'us-gaap:TreasuryStockCommonMember'}, 'value': '-2659800000'}, {'decimals': '-5', 'unitRef': 'usd', 'period': {'instant': '2022-01-01'}, 'segment': {'dimension': 'us-gaap:StatementEquityComponentsAxis', 'value': 'us-gaap:AccumulatedOtherComprehensiveIncomeMember'}, 'value': '-282900000'}, {'decimals': '-5', 'unitRef': 'usd', 'period': {'instant': '2022-01-01'}, 'value': '1924400000'}, {'decimals': '-5', 'unitRef': 'usd', 'period': {'instant': '2022-12-31'}, 'segment': {'dimension': 'us-gaap:StatementEquityComponentsAxis', 'value': 'us-gaap:CommonStockMember'}, 'value': '124100000'}, {'decimals': '-5', 'unitRef': 'usd', 'period': {'instant': '2022-12-31'}, 'segment': {'dimension': 'us-gaap:StatementEquityComponentsAxis', 'value': 'us-gaap:AdditionalPaidInCapitalMember'}, 'value': '879300000'}, {'decimals': '-5', 'unitRef': 'usd', 'period': {'instant': '2022-12-31'}, 'segment': {'dimension': 'us-gaap:StatementEquityComponentsAxis', 'value': 'us-gaap:RetainedEarningsMember'}, 'value': '4414600000'}, {'decimals': '-5', 'unitRef': 'usd', 'period': {'instant': '2022-12-31'}, 'segment': {'dimension': 'us-gaap:StatementEquityComponentsAxis', 'value': 'us-gaap:TreasuryStockCommonMember'}, 'value': '-3021800000'}, {'decimals': '-5', 'unitRef': 'usd', 'period': {'instant': '2022-12-31'}, 'segment': {'dimension': 'us-gaap:StatementEquityComponentsAxis', 'value': 'us-gaap:AccumulatedOtherComprehensiveIncomeMember'}, 'value': '-364000000.0'}, {'decimals': '-5', 'unitRef': 'usd', 'period': {'instant': '2022-12-31'}, 'value': '2032200000'}, {'decimals': '-5', 'unitRef': 'usd', 'period': {'instant': '2023-12-30'}, 'segment': {'dimension': 'us-gaap:StatementEquityComponentsAxis', 'value': 'us-gaap:CommonStockMember'}, 'value': '124100000'}, {'decimals': '-5', 'unitRef': 'usd', 'period': {'instant': '2023-12-30'}, 'segment': {'dimension': 'us-gaap:StatementEquityComponentsAxis', 'value': 'us-gaap:AdditionalPaidInCapitalMember'}, 'value': '854500000'}, {'decimals': '-5', 'unitRef': 'usd', 'period': {'instant': '2023-12-30'}, 'segment': {'dimension': 'us-gaap:StatementEquityComponentsAxis', 'value': 'us-gaap:RetainedEarningsMember'}, 'value': '4691800000'}, {'decimals': '-5', 'unitRef': 'usd', 'period': {'instant': '2023-12-30'}, 'segment': {'dimension': 'us-gaap:StatementEquityComponentsAxis', 'value': 'us-gaap:TreasuryStockCommonMember'}, 'value': '-3134400000'}, {'decimals': '-5', 'unitRef': 'usd', 'period': {'instant': '2023-12-30'}, 'segment': {'dimension': 'us-gaap:StatementEquityComponentsAxis', 'value': 'us-gaap:AccumulatedOtherComprehensiveIncomeMember'}, 'value': '-408100000'}, {'decimals': '-5', 'unitRef': 'usd', 'period': {'instant': '2024-12-28'}, 'segment': {'dimension': 'us-gaap:StatementEquityComponentsAxis', 'value': 'us-gaap:CommonStockMember'}, 'value': '124100000'}, {'decimals': '-5', 'unitRef': 'usd', 'period': {'instant': '2024-12-28'}, 'segment': {'dimension': 'us-gaap:StatementEquityComponentsAxis', 'value': 'us-gaap:AdditionalPaidInCapitalMember'}, 'value': '840600000'}, {'decimals': '-5', 'unitRef': 'usd', 'period': {'instant': '2024-12-28'}, 'segment': {'dimension': 'us-gaap:StatementEquityComponentsAxis', 'value': 'us-gaap:RetainedEarningsMember'}, 'value': '5151200000'}, {'decimals': '-5', 'unitRef': 'usd', 'period': {'instant': '2024-12-28'}, 'segment': {'dimension': 'us-gaap:StatementEquityComponentsAxis', 'value': 'us-gaap:TreasuryStockCommonMember'}, 'value': '-3347500000'}, {'decimals': '-5', 'unitRef': 'usd', 'period': {'instant': '2024-12-28'}, 'segment': {'dimension': 'us-gaap:StatementEquityComponentsAxis', 'value': 'us-gaap:AccumulatedOtherComprehensiveIncomeMember'}, 'value': '-456100000'}, {'decimals': '-5', 'unitRef': 'usd', 'period': {'instant': '2022-12-31'}, 'segment': {'dimension': 'us-gaap:StatementEquityComponentsAxis', 'value': 'us-gaap:AccumulatedTranslationAdjustmentMember'}, 'value': '-314000000.0'}, {'decimals': '-5', 'unitRef': 'usd', 'period': {'instant': '2022-12-31'}, 'segment': {'dimension': 'us-gaap:StatementEquityComponentsAxis', 'value': 'us-gaap:AccumulatedDefinedBenefitPlansAdjustmentMember'}, 'value': '-51300000'}, {'decimals': '-5', 'unitRef': 'usd', 'period': {'instant': '2022-12-31'}, 'segment': {'dimension': 'us-gaap:StatementEquityComponentsAxis', 'value': 'us-gaap:AccumulatedGainLossNetCashFlowHedgeParentMember'}, 'value': '1300000'}, {'decimals': '-5', 'unitRef': 'usd', 'period': {'instant': '2022-12-31'}, 'segment': {'dimension': 'us-gaap:StatementEquityComponentsAxis', 'value': 'avy:AccumulatedGainLossNetFairValueHedgeParentMember'}, 'value': '0'}, {'decimals': '-5', 'unitRef': 'usd', 'period': {'instant': '2023-12-30'}, 'segment': {'dimension': 'us-gaap:StatementEquityComponentsAxis', 'value': 'us-gaap:AccumulatedTranslationAdjustmentMember'}, 'value': '-328600000'}, {'decimals': '-5', 'unitRef': 'usd', 'period': {'instant': '2023-12-30'}, 'segment': {'dimension': 'us-gaap:StatementEquityComponentsAxis', 'value': 'us-gaap:AccumulatedDefinedBenefitPlansAdjustmentMember'}, 'value': '-77500000'}, {'decimals': '-5', 'unitRef': 'usd', 'period': {'instant': '2023-12-30'}, 'segment': {'dimension': 'us-gaap:StatementEquityComponentsAxis', 'value': 'us-gaap:AccumulatedGainLossNetCashFlowHedgeParentMember'}, 'value': '-2000000.0'}, {'decimals': '-5', 'unitRef': 'usd', 'period': {'instant': '2023-12-30'}, 'segment': {'dimension': 'us-gaap:StatementEquityComponentsAxis', 'value': 'avy:AccumulatedGainLossNetFairValueHedgeParentMember'}, 'value': '0'}, {'decimals': '-5', 'unitRef': 'usd', 'period': {'instant': '2024-12-28'}, 'segment': {'dimension': 'us-gaap:StatementEquityComponentsAxis', 'value': 'us-gaap:AccumulatedTranslationAdjustmentMember'}, 'value': '-375500000'}, {'decimals': '-5', 'unitRef': 'usd', 'period': {'instant': '2024-12-28'}, 'segment': {'dimension': 'us-gaap:StatementEquityComponentsAxis', 'value': 'us-gaap:AccumulatedDefinedBenefitPlansAdjustmentMember'}, 'value': '-78000000.0'}, {'decimals': '-5', 'unitRef': 'usd', 'period': {'instant': '2024-12-28'}, 'segment': {'dimension': 'us-gaap:StatementEquityComponentsAxis', 'value': 'us-gaap:AccumulatedGainLossNetCashFlowHedgeParentMember'}, 'value': '-4600000'}, {'decimals': '-5', 'unitRef': 'usd', 'period': {'instant': '2024-12-28'}, 'segment': {'dimension': 'us-gaap:StatementEquityComponentsAxis', 'value': 'avy:AccumulatedGainLossNetFairValueHedgeParentMember'}, 'value': '2000000.0'}]\n",
      "LiabilitiesAndStockholdersEquity: [{'decimals': '-5', 'unitRef': 'usd', 'period': {'instant': '2024-12-28'}, 'value': '8404200000'}, {'decimals': '-5', 'unitRef': 'usd', 'period': {'instant': '2023-12-30'}, 'value': '8209800000'}]\n"
     ]
    }
   ],
   "source": [
    "for key in xbrl_json[\"BalanceSheets\"].keys():\n",
    "    print(f\"{key}: {xbrl_json['BalanceSheets'][key]}\")\n"
   ]
  },
  {
   "cell_type": "code",
   "execution_count": 6,
   "metadata": {},
   "outputs": [
    {
     "name": "stdout",
     "output_type": "stream",
     "text": [
      "NetIncomeLoss: [{'decimals': '-5', 'unitRef': 'usd', 'period': {'startDate': '2023-12-31', 'endDate': '2024-12-28'}, 'value': '704900000'}, {'decimals': '-5', 'unitRef': 'usd', 'period': {'startDate': '2023-01-01', 'endDate': '2023-12-30'}, 'value': '503000000.0'}, {'decimals': '-5', 'unitRef': 'usd', 'period': {'startDate': '2022-01-02', 'endDate': '2022-12-31'}, 'value': '757100000'}, {'decimals': '-5', 'unitRef': 'usd', 'period': {'startDate': '2022-01-02', 'endDate': '2022-12-31'}, 'segment': {'dimension': 'us-gaap:StatementEquityComponentsAxis', 'value': 'us-gaap:RetainedEarningsMember'}, 'value': '757100000'}, {'decimals': '-5', 'unitRef': 'usd', 'period': {'startDate': '2023-01-01', 'endDate': '2023-12-30'}, 'segment': {'dimension': 'us-gaap:StatementEquityComponentsAxis', 'value': 'us-gaap:RetainedEarningsMember'}, 'value': '503000000.0'}, {'decimals': '-5', 'unitRef': 'usd', 'period': {'startDate': '2023-12-31', 'endDate': '2024-12-28'}, 'segment': {'dimension': 'us-gaap:StatementEquityComponentsAxis', 'value': 'us-gaap:RetainedEarningsMember'}, 'value': '704900000'}]\n",
      "Depreciation: [{'decimals': '-5', 'unitRef': 'usd', 'period': {'startDate': '2023-12-31', 'endDate': '2024-12-28'}, 'value': '197100000'}, {'decimals': '-5', 'unitRef': 'usd', 'period': {'startDate': '2023-01-01', 'endDate': '2023-12-30'}, 'value': '187400000'}, {'decimals': '-5', 'unitRef': 'usd', 'period': {'startDate': '2022-01-02', 'endDate': '2022-12-31'}, 'value': '177400000'}]\n",
      "AdjustmentForAmortization: [{'decimals': '-5', 'unitRef': 'usd', 'period': {'startDate': '2023-12-31', 'endDate': '2024-12-28'}, 'value': '115100000'}, {'decimals': '-5', 'unitRef': 'usd', 'period': {'startDate': '2023-01-01', 'endDate': '2023-12-30'}, 'value': '111000000.0'}, {'decimals': '-5', 'unitRef': 'usd', 'period': {'startDate': '2022-01-02', 'endDate': '2022-12-31'}, 'value': '113300000'}]\n",
      "AccountsReceivableCreditLossExpenseReversalAndSalesReturns: [{'decimals': '-5', 'unitRef': 'usd', 'period': {'startDate': '2023-12-31', 'endDate': '2024-12-28'}, 'value': '47400000'}, {'decimals': '-5', 'unitRef': 'usd', 'period': {'startDate': '2023-01-01', 'endDate': '2023-12-30'}, 'value': '49900000'}, {'decimals': '-5', 'unitRef': 'usd', 'period': {'startDate': '2022-01-02', 'endDate': '2022-12-31'}, 'value': '50100000'}]\n",
      "ShareBasedCompensation: [{'decimals': '-5', 'unitRef': 'usd', 'period': {'startDate': '2023-12-31', 'endDate': '2024-12-28'}, 'value': '28700000'}, {'decimals': '-5', 'unitRef': 'usd', 'period': {'startDate': '2023-01-01', 'endDate': '2023-12-30'}, 'value': '22300000'}, {'decimals': '-5', 'unitRef': 'usd', 'period': {'startDate': '2022-01-02', 'endDate': '2022-12-31'}, 'value': '47400000'}]\n",
      "DeferredIncomeTaxesAndTaxCredits: [{'decimals': '-5', 'unitRef': 'usd', 'period': {'startDate': '2023-12-31', 'endDate': '2024-12-28'}, 'value': '-18500000'}, {'decimals': '-5', 'unitRef': 'usd', 'period': {'startDate': '2023-01-01', 'endDate': '2023-12-30'}, 'value': '-24400000'}, {'decimals': '-5', 'unitRef': 'usd', 'period': {'startDate': '2022-01-02', 'endDate': '2022-12-31'}, 'value': '18400000'}]\n",
      "OtherNoncashIncomeExpense: [{'decimals': '-5', 'unitRef': 'usd', 'period': {'startDate': '2023-12-31', 'endDate': '2024-12-28'}, 'value': '-67200000'}, {'decimals': '-5', 'unitRef': 'usd', 'period': {'startDate': '2023-01-01', 'endDate': '2023-12-30'}, 'value': '-37100000'}, {'decimals': '-5', 'unitRef': 'usd', 'period': {'startDate': '2022-01-02', 'endDate': '2022-12-31'}, 'value': '-23500000'}]\n",
      "IncreaseDecreaseInAccountsReceivable: [{'decimals': '-5', 'unitRef': 'usd', 'period': {'startDate': '2023-12-31', 'endDate': '2024-12-28'}, 'value': '107300000'}, {'decimals': '-5', 'unitRef': 'usd', 'period': {'startDate': '2023-01-01', 'endDate': '2023-12-30'}, 'value': '16700000'}, {'decimals': '-5', 'unitRef': 'usd', 'period': {'startDate': '2022-01-02', 'endDate': '2022-12-31'}, 'value': '22100000'}]\n",
      "IncreaseDecreaseInInventories: [{'decimals': '-5', 'unitRef': 'usd', 'period': {'startDate': '2023-12-31', 'endDate': '2024-12-28'}, 'value': '90700000'}, {'decimals': '-5', 'unitRef': 'usd', 'period': {'startDate': '2023-01-01', 'endDate': '2023-12-30'}, 'value': '-111700000'}, {'decimals': '-5', 'unitRef': 'usd', 'period': {'startDate': '2022-01-02', 'endDate': '2022-12-31'}, 'value': '140700000'}]\n",
      "IncreaseDecreaseInAccountsPayable: [{'decimals': '-5', 'unitRef': 'usd', 'period': {'startDate': '2023-12-31', 'endDate': '2024-12-28'}, 'value': '106700000'}, {'decimals': '-5', 'unitRef': 'usd', 'period': {'startDate': '2023-01-01', 'endDate': '2023-12-30'}, 'value': '-87600000'}, {'decimals': '-5', 'unitRef': 'usd', 'period': {'startDate': '2022-01-02', 'endDate': '2022-12-31'}, 'value': '68200000'}]\n",
      "IncreaseDecreaseInAccruedIncomeTaxesPayable: [{'decimals': '-5', 'unitRef': 'usd', 'period': {'startDate': '2023-12-31', 'endDate': '2024-12-28'}, 'value': '40200000'}, {'decimals': '-5', 'unitRef': 'usd', 'period': {'startDate': '2023-01-01', 'endDate': '2023-12-30'}, 'value': '-18700000'}, {'decimals': '-5', 'unitRef': 'usd', 'period': {'startDate': '2022-01-02', 'endDate': '2022-12-31'}, 'value': '18900000'}]\n",
      "IncreaseDecreaseInOtherOperatingAssets: [{'decimals': '-5', 'unitRef': 'usd', 'period': {'startDate': '2023-12-31', 'endDate': '2024-12-28'}, 'value': '48000000.0'}, {'decimals': '-5', 'unitRef': 'usd', 'period': {'startDate': '2023-01-01', 'endDate': '2023-12-30'}, 'value': '-37700000'}, {'decimals': '-5', 'unitRef': 'usd', 'period': {'startDate': '2022-01-02', 'endDate': '2022-12-31'}, 'value': '-15300000'}]\n",
      "IncreaseDecreaseInOtherOperatingLiabilities: [{'decimals': '-5', 'unitRef': 'usd', 'period': {'startDate': '2023-12-31', 'endDate': '2024-12-28'}, 'value': '-104000000.0'}, {'decimals': '-5', 'unitRef': 'usd', 'period': {'startDate': '2023-01-01', 'endDate': '2023-12-30'}, 'value': '-86700000'}, {'decimals': '-5', 'unitRef': 'usd', 'period': {'startDate': '2022-01-02', 'endDate': '2022-12-31'}, 'value': '-165800000'}]\n",
      "NetCashProvidedByUsedInOperatingActivities: [{'decimals': '-5', 'unitRef': 'usd', 'period': {'startDate': '2023-12-31', 'endDate': '2024-12-28'}, 'value': '938800000'}, {'decimals': '-5', 'unitRef': 'usd', 'period': {'startDate': '2023-01-01', 'endDate': '2023-12-30'}, 'value': '826000000.0'}, {'decimals': '-5', 'unitRef': 'usd', 'period': {'startDate': '2022-01-02', 'endDate': '2022-12-31'}, 'value': '961000000.0'}]\n",
      "PaymentsToAcquirePropertyPlantAndEquipment: [{'decimals': '-5', 'unitRef': 'usd', 'period': {'startDate': '2023-12-31', 'endDate': '2024-12-28'}, 'value': '208800000'}, {'decimals': '-5', 'unitRef': 'usd', 'period': {'startDate': '2023-01-01', 'endDate': '2023-12-30'}, 'value': '265300000'}, {'decimals': '-5', 'unitRef': 'usd', 'period': {'startDate': '2022-01-02', 'endDate': '2022-12-31'}, 'value': '278100000'}]\n",
      "PurchaseOfSoftwareAndOtherDeferredCharges: [{'decimals': '-5', 'unitRef': 'usd', 'period': {'startDate': '2023-12-31', 'endDate': '2024-12-28'}, 'value': '31000000.0'}, {'decimals': '-5', 'unitRef': 'usd', 'period': {'startDate': '2023-01-01', 'endDate': '2023-12-30'}, 'value': '19800000'}, {'decimals': '-5', 'unitRef': 'usd', 'period': {'startDate': '2022-01-02', 'endDate': '2022-12-31'}, 'value': '20400000'}]\n",
      "ProceedsFromLifeInsurancePolicies: [{'decimals': '-5', 'unitRef': 'usd', 'period': {'startDate': '2023-12-31', 'endDate': '2024-12-28'}, 'value': '0'}, {'decimals': '-5', 'unitRef': 'usd', 'period': {'startDate': '2023-01-01', 'endDate': '2023-12-30'}, 'value': '48100000'}, {'decimals': '-5', 'unitRef': 'usd', 'period': {'startDate': '2022-01-02', 'endDate': '2022-12-31'}, 'value': '0'}]\n",
      "PaymentsToAcquireMarketableSecurities: [{'decimals': '-5', 'unitRef': 'usd', 'period': {'startDate': '2023-12-31', 'endDate': '2024-12-28'}, 'value': '34200000'}, {'decimals': '-5', 'unitRef': 'usd', 'period': {'startDate': '2023-01-01', 'endDate': '2023-12-30'}, 'value': '0'}, {'decimals': '-5', 'unitRef': 'usd', 'period': {'startDate': '2022-01-02', 'endDate': '2022-12-31'}, 'value': '0'}]\n",
      "ProceedsFromSaleAndMaturityOfMarketableSecurities: [{'decimals': '-5', 'unitRef': 'usd', 'period': {'startDate': '2023-12-31', 'endDate': '2024-12-28'}, 'value': '24000000.0'}, {'decimals': '-5', 'unitRef': 'usd', 'period': {'startDate': '2023-01-01', 'endDate': '2023-12-30'}, 'value': '0'}, {'decimals': '-5', 'unitRef': 'usd', 'period': {'startDate': '2022-01-02', 'endDate': '2022-12-31'}, 'value': '0'}]\n",
      "ProceedsFromSaleOfPropertyPlantAndEquipment: [{'decimals': '-5', 'unitRef': 'usd', 'period': {'startDate': '2023-12-31', 'endDate': '2024-12-28'}, 'value': '600000'}, {'decimals': '-5', 'unitRef': 'usd', 'period': {'startDate': '2023-01-01', 'endDate': '2023-12-30'}, 'value': '1000000.0'}, {'decimals': '-5', 'unitRef': 'usd', 'period': {'startDate': '2022-01-02', 'endDate': '2022-12-31'}, 'value': '2300000'}]\n",
      "ProceedsFromInsuranceAndSalesPurchasesOfInvestmentsNet: [{'decimals': '-5', 'unitRef': 'usd', 'period': {'startDate': '2023-12-31', 'endDate': '2024-12-28'}, 'value': '10100000'}, {'decimals': '-5', 'unitRef': 'usd', 'period': {'startDate': '2023-01-01', 'endDate': '2023-12-30'}, 'value': '1900000'}, {'decimals': '-5', 'unitRef': 'usd', 'period': {'startDate': '2022-01-02', 'endDate': '2022-12-31'}, 'value': '1900000'}]\n",
      "ProceedsFromDivestitureOfBusinessesAndInterestsInAffiliates: [{'decimals': '-5', 'unitRef': 'usd', 'period': {'startDate': '2023-12-31', 'endDate': '2024-12-28'}, 'value': '0'}, {'decimals': '-5', 'unitRef': 'usd', 'period': {'startDate': '2023-01-01', 'endDate': '2023-12-30'}, 'value': '0'}, {'decimals': '-5', 'unitRef': 'usd', 'period': {'startDate': '2022-01-02', 'endDate': '2022-12-31'}, 'value': '1100000'}]\n",
      "PaymentsToAcquireBusinessesAndInterestInAffiliates: [{'decimals': '-5', 'unitRef': 'usd', 'period': {'startDate': '2023-12-31', 'endDate': '2024-12-28'}, 'value': '3800000'}, {'decimals': '-5', 'unitRef': 'usd', 'period': {'startDate': '2023-01-01', 'endDate': '2023-12-30'}, 'value': '224900000'}, {'decimals': '-5', 'unitRef': 'usd', 'period': {'startDate': '2022-01-02', 'endDate': '2022-12-31'}, 'value': '39500000'}]\n",
      "NetCashProvidedByUsedInInvestingActivities: [{'decimals': '-5', 'unitRef': 'usd', 'period': {'startDate': '2023-12-31', 'endDate': '2024-12-28'}, 'value': '-243100000'}, {'decimals': '-5', 'unitRef': 'usd', 'period': {'startDate': '2023-01-01', 'endDate': '2023-12-30'}, 'value': '-459000000.0'}, {'decimals': '-5', 'unitRef': 'usd', 'period': {'startDate': '2022-01-02', 'endDate': '2022-12-31'}, 'value': '-332700000'}]\n",
      "ProceedsFromRepaymentsOfShortTermDebt: [{'decimals': '-5', 'unitRef': 'usd', 'period': {'startDate': '2023-12-31', 'endDate': '2024-12-28'}, 'value': '-269000000.0'}, {'decimals': '-5', 'unitRef': 'usd', 'period': {'startDate': '2023-01-01', 'endDate': '2023-12-30'}, 'value': '-36600000'}, {'decimals': '-5', 'unitRef': 'usd', 'period': {'startDate': '2022-01-02', 'endDate': '2022-12-31'}, 'value': '34600000'}]\n",
      "ProceedsFromIssuanceOfLongTermDebtAndCapitalSecuritiesNet: [{'decimals': '-5', 'unitRef': 'usd', 'period': {'startDate': '2023-12-31', 'endDate': '2024-12-28'}, 'value': '539200000'}, {'decimals': '-5', 'unitRef': 'usd', 'period': {'startDate': '2023-01-01', 'endDate': '2023-12-30'}, 'value': '394900000'}, {'decimals': '-5', 'unitRef': 'usd', 'period': {'startDate': '2022-01-02', 'endDate': '2022-12-31'}, 'value': '0'}]\n",
      "RepaymentsOfLongTermDebtAndCapitalSecurities: [{'decimals': '-5', 'unitRef': 'usd', 'period': {'startDate': '2023-12-31', 'endDate': '2024-12-28'}, 'value': '308100000'}, {'decimals': '-5', 'unitRef': 'usd', 'period': {'startDate': '2023-01-01', 'endDate': '2023-12-30'}, 'value': '255900000'}, {'decimals': '-5', 'unitRef': 'usd', 'period': {'startDate': '2022-01-02', 'endDate': '2022-12-31'}, 'value': '6300000'}]\n",
      "PaymentsOfDividendsCommonStock: [{'decimals': '-5', 'unitRef': 'usd', 'period': {'startDate': '2023-12-31', 'endDate': '2024-12-28'}, 'value': '277500000'}, {'decimals': '-5', 'unitRef': 'usd', 'period': {'startDate': '2023-01-01', 'endDate': '2023-12-30'}, 'value': '256700000'}, {'decimals': '-5', 'unitRef': 'usd', 'period': {'startDate': '2022-01-02', 'endDate': '2022-12-31'}, 'value': '238900000'}]\n",
      "PaymentsForRepurchaseOfCommonStock: [{'decimals': '-5', 'unitRef': 'usd', 'period': {'startDate': '2023-12-31', 'endDate': '2024-12-28'}, 'value': '247500000'}, {'decimals': '-5', 'unitRef': 'usd', 'period': {'startDate': '2023-01-01', 'endDate': '2023-12-30'}, 'value': '137500000'}, {'decimals': '-5', 'unitRef': 'usd', 'period': {'startDate': '2022-01-02', 'endDate': '2022-12-31'}, 'value': '379500000'}]\n",
      "PaymentsRelatedToTaxWithholdingForShareBasedCompensation: [{'decimals': '-5', 'unitRef': 'usd', 'period': {'startDate': '2023-12-31', 'endDate': '2024-12-28'}, 'value': '8400000'}, {'decimals': '-5', 'unitRef': 'usd', 'period': {'startDate': '2023-01-01', 'endDate': '2023-12-30'}, 'value': '23800000'}, {'decimals': '-5', 'unitRef': 'usd', 'period': {'startDate': '2022-01-02', 'endDate': '2022-12-31'}, 'value': '25100000'}]\n",
      "ProceedsFromPaymentsForOtherFinancingActivities: [{'decimals': '-5', 'unitRef': 'usd', 'period': {'startDate': '2023-12-31', 'endDate': '2024-12-28'}, 'value': '-4800000'}, {'decimals': '-5', 'unitRef': 'usd', 'period': {'startDate': '2023-01-01', 'endDate': '2023-12-30'}, 'value': '-1600000'}, {'decimals': '-5', 'unitRef': 'usd', 'period': {'startDate': '2022-01-02', 'endDate': '2022-12-31'}, 'value': '0'}]\n",
      "NetCashProvidedByUsedInFinancingActivities: [{'decimals': '-5', 'unitRef': 'usd', 'period': {'startDate': '2023-12-31', 'endDate': '2024-12-28'}, 'value': '-576100000'}, {'decimals': '-5', 'unitRef': 'usd', 'period': {'startDate': '2023-01-01', 'endDate': '2023-12-30'}, 'value': '-317200000'}, {'decimals': '-5', 'unitRef': 'usd', 'period': {'startDate': '2022-01-02', 'endDate': '2022-12-31'}, 'value': '-615200000'}]\n",
      "EffectOfExchangeRateOnCashCashEquivalentsRestrictedCashAndRestrictedCashEquivalents: [{'decimals': '-5', 'unitRef': 'usd', 'period': {'startDate': '2023-12-31', 'endDate': '2024-12-28'}, 'value': '-5500000'}, {'decimals': '-5', 'unitRef': 'usd', 'period': {'startDate': '2023-01-01', 'endDate': '2023-12-30'}, 'value': '-2000000.0'}, {'decimals': '-5', 'unitRef': 'usd', 'period': {'startDate': '2022-01-02', 'endDate': '2022-12-31'}, 'value': '-8600000'}]\n",
      "CashCashEquivalentsRestrictedCashAndRestrictedCashEquivalentsPeriodIncreaseDecreaseIncludingExchangeRateEffect: [{'decimals': '-5', 'unitRef': 'usd', 'period': {'startDate': '2023-12-31', 'endDate': '2024-12-28'}, 'value': '114100000'}, {'decimals': '-5', 'unitRef': 'usd', 'period': {'startDate': '2023-01-01', 'endDate': '2023-12-30'}, 'value': '47800000'}, {'decimals': '-5', 'unitRef': 'usd', 'period': {'startDate': '2022-01-02', 'endDate': '2022-12-31'}, 'value': '4500000'}]\n",
      "CashCashEquivalentsRestrictedCashAndRestrictedCashEquivalents: [{'decimals': '-5', 'unitRef': 'usd', 'period': {'instant': '2023-12-30'}, 'value': '215000000.0'}, {'decimals': '-5', 'unitRef': 'usd', 'period': {'instant': '2022-12-31'}, 'value': '167200000'}, {'decimals': '-5', 'unitRef': 'usd', 'period': {'instant': '2022-01-01'}, 'value': '162700000'}, {'decimals': '-5', 'unitRef': 'usd', 'period': {'instant': '2024-12-28'}, 'value': '329100000'}]\n"
     ]
    }
   ],
   "source": [
    "for key in xbrl_json[\"StatementsOfCashFlows\"].keys():\n",
    "    print(f\"{key}: {xbrl_json['StatementsOfCashFlows'][key]}\")\n"
   ]
  },
  {
   "cell_type": "markdown",
   "metadata": {},
   "source": [
    "### Find specific Report in withreturns or withoutreturns namespace"
   ]
  },
  {
   "cell_type": "code",
   "execution_count": 7,
   "metadata": {},
   "outputs": [
    {
     "name": "stderr",
     "output_type": "stream",
     "text": [
      "2025-02-28 09:33:03,541 - root - INFO - Connected to Redis (prefix=reports:live:)\n",
      "2025-02-28 09:33:03,543 - root - INFO - Connected to Redis (prefix=reports:hist:)\n",
      "2025-02-28 09:33:03,545 - root - INFO - Connected to Redis (prefix=config:)\n",
      "2025-02-28 09:33:03,564 - root - INFO - Successfully read CSV with 825 rows\n",
      "2025-02-28 09:33:03,574 - root - INFO - Successfully initialized stock universe with 825 symbols\n"
     ]
    },
    {
     "name": "stdout",
     "output_type": "stream",
     "text": [
      "Found report in withreturns namespace\n",
      "{\"formType\": \"8-K\", \"cik\": \"1562401\", \"filedAt\": \"2025-02-20T21:17:55+00:00\", \"primaryDocumentUrl\": \"https://www.sec.gov/Archives/edgar/data/1562401/000156240125000009/amh-20250220_htm.xml\", \"accessionNo\": \"0001562401-25-000009\", \"is_xml\": true, \"id\": \"0001562401-25-000009\", \"description\": \"Form 8-K - Current report - Item 2.02 Item 9.01\", \"ticker\": \"AMH\", \"companyName\": \"American Homes 4 Rent\", \"entities\": [{\"cik\": \"1562401\", \"companyName\": \"American Homes 4 Rent (Filer)\", \"irsNo\": \"461229660\", \"stateOfIncorporation\": \"MD\", \"fiscalYearEnd\": \"1231\", \"sic\": \"6798 Real Estate Investment Trusts\", \"type\": \"8-K\", \"act\": \"34\", \"fileNo\": \"001-36013\", \"filmNo\": \"25645650\", \"undefined\": \"05 Real Estate &amp; Construction)\"}, {\"cik\": \"1716558\", \"companyName\": \"American Homes 4 Rent, L.P. (Filer)\", \"irsNo\": \"800860173\", \"stateOfIncorporation\": \"DE\", \"fiscalYearEnd\": \"1231\", \"sic\": \"6798 Real Estate Investment Trusts\", \"type\": \"8-K\", \"act\": \"34\", \"fileNo\": \"333-221878-02\", \"filmNo\": \"25645651\", \"undefined\": \"05 Real Estate &amp; Construction)\"}], \"periodOfReport\": \"2025-02-20\", \"effectivenessDate\": null, \"linkToTxt\": \"https://www.sec.gov/Archives/edgar/data/1562401/000156240125000009/0001562401-25-000009.txt\", \"linkToHtml\": \"https://www.sec.gov/Archives/edgar/data/1562401/000156240125000009/0001562401-25-000009-index.htm\", \"linkToFilingDetails\": \"https://www.sec.gov/Archives/edgar/data/1562401/000156240125000009/amh-20250220.htm\", \"exhibits\": {\"EX-99.1\": \"https://www.sec.gov/Archives/edgar/data/1562401/000156240125000009/amh1231248kexhibit991.htm\", \"EX-99.2\": \"https://www.sec.gov/Archives/edgar/data/1562401/000156240125000009/amh1231248kexhibit992.htm\"}, \"items\": [\"Item 2.02: Results of Operations and Financial Condition\", \"Item 9.01: Financial Statements and Exhibits\"], \"created\": \"2025-02-20T16:17:55-05:00\", \"updated\": \"2025-02-20T16:17:55-05:00\", \"symbols\": [\"AMH\"], \"extracted_sections\": {\"ResultsofOperationsandFinancialCondition\": \" Item 2.02 Results of Operations and Financial Condition \\n\\nOn February 20, 2025 , American Homes 4 Rent (\\u201cAMH\\u201d) issued a press release announcing its financial results for the quarter and year ended December 31, 2024, together with a Fourth Quarter 2024 Earnings Release and Supplemental Information Package. A copy of the press release and the Fourth Quarter 2024 Earnings Release and Supplemental Information Package are furnished as Exhibits 99.1 and 99.2, respectively, to this Current Report on Form 8-K and are incorporated herein by reference. \\n\\n\", \"FinancialStatementsandExhibits\": \" Item 9.01 Financial Statements and Exhibits \\n\\n(d) Exhibits \\n\\nExhibit 99.1\\u2014 Press Release dated February 20, 2025 concerning financial results, including financial tables \\n\\nExhibit 99.2\\u2014 Fourth Quarter 2024 Earnings Release and Supplemental Information Package \\n\\nExhibit 104\\u2014Cover Page Interactive Data File (embedded within the inline XBRL document) \\n\\n\"}, \"metadata\": {\"event\": {\"market_session\": \"post_market\", \"created\": \"2025-02-20T16:17:55-05:00\"}, \"returns_schedule\": {\"hourly\": \"2025-02-20T17:17:55-05:00\", \"session\": \"2025-02-21T09:35:00-05:00\", \"daily\": \"2025-02-21T16:00:00-05:00\"}, \"instruments\": [{\"symbol\": \"AMH\", \"benchmarks\": {\"sector\": \"XLRE\", \"industry\": \"IYR\"}}]}, \"returns\": {\"symbols\": {\"AMH\": {\"hourly_return\": {\"stock\": 0.0, \"sector\": -0.12, \"industry\": -0.33, \"macro\": 0.02}, \"session_return\": {\"stock\": -2.97, \"sector\": -0.27, \"industry\": -0.27, \"macro\": -0.02}, \"daily_return\": {\"stock\": -1.6, \"sector\": -0.82, \"industry\": -0.73, \"macro\": -1.72}}}}}\n"
     ]
    }
   ],
   "source": [
    "from utils.redisClasses import EventTraderRedis\n",
    "from utils.redis_constants import RedisKeys\n",
    "\n",
    "def find_report(report_id: str):\n",
    "    # Initialize Redis client for reports\n",
    "    redis = EventTraderRedis(source=RedisKeys.SOURCE_REPORTS)\n",
    "    \n",
    "    # Check both withreturns and withoutreturns namespaces\n",
    "    namespaces = [RedisKeys.SUFFIX_WITHRETURNS, RedisKeys.SUFFIX_WITHOUTRETURNS]\n",
    "    \n",
    "    for namespace in namespaces:\n",
    "        # Generate the key using RedisKeys helper\n",
    "        key = RedisKeys.get_key(\n",
    "            source_type=RedisKeys.SOURCE_REPORTS,\n",
    "            key_type=namespace,\n",
    "            identifier=report_id\n",
    "        )\n",
    "        \n",
    "        # Try to get the report\n",
    "        report = redis.live_client.get(key)\n",
    "        if report:\n",
    "            print(f\"Found report in {namespace} namespace\")\n",
    "            return report\n",
    "            \n",
    "    print(\"Report not found in either namespace\")\n",
    "    return None\n",
    "\n",
    "# Usage\n",
    "report_id = \"0001562401-25-000009.2025-02-20T21.17.55+00.00\"\n",
    "report = find_report(report_id)\n",
    "if report:\n",
    "    print(report)"
   ]
  },
  {
   "cell_type": "code",
   "execution_count": 8,
   "metadata": {},
   "outputs": [
    {
     "name": "stdout",
     "output_type": "stream",
     "text": [
      "formType:8-K\n",
      "cik:1562401\n",
      "filedAt:2025-02-20T21:17:55+00:00\n",
      "primaryDocumentUrl:https://www.sec.gov/Archives/edgar/data/1562401/000156240125000009/amh-20250220_htm.xml\n",
      "accessionNo:0001562401-25-000009\n",
      "is_xml:True\n",
      "id:0001562401-25-000009\n",
      "description:Form 8-K - Current report - Item 2.02 Item 9.01\n",
      "ticker:AMH\n",
      "companyName:American Homes 4 Rent\n",
      "entities:[{'cik': '1562401', 'companyName': 'American Homes 4 Rent (Filer)', 'irsNo': '461229660', 'stateOfIncorporation': 'MD', 'fiscalYearEnd': '1231', 'sic': '6798 Real Estate Investment Trusts', 'type': '8-K', 'act': '34', 'fileNo': '001-36013', 'filmNo': '25645650', 'undefined': '05 Real Estate &amp; Construction)'}, {'cik': '1716558', 'companyName': 'American Homes 4 Rent, L.P. (Filer)', 'irsNo': '800860173', 'stateOfIncorporation': 'DE', 'fiscalYearEnd': '1231', 'sic': '6798 Real Estate Investment Trusts', 'type': '8-K', 'act': '34', 'fileNo': '333-221878-02', 'filmNo': '25645651', 'undefined': '05 Real Estate &amp; Construction)'}]\n",
      "periodOfReport:2025-02-20\n",
      "effectivenessDate:None\n",
      "linkToTxt:https://www.sec.gov/Archives/edgar/data/1562401/000156240125000009/0001562401-25-000009.txt\n",
      "linkToHtml:https://www.sec.gov/Archives/edgar/data/1562401/000156240125000009/0001562401-25-000009-index.htm\n",
      "linkToFilingDetails:https://www.sec.gov/Archives/edgar/data/1562401/000156240125000009/amh-20250220.htm\n",
      "exhibits:{'EX-99.1': 'https://www.sec.gov/Archives/edgar/data/1562401/000156240125000009/amh1231248kexhibit991.htm', 'EX-99.2': 'https://www.sec.gov/Archives/edgar/data/1562401/000156240125000009/amh1231248kexhibit992.htm'}\n",
      "items:['Item 2.02: Results of Operations and Financial Condition', 'Item 9.01: Financial Statements and Exhibits']\n",
      "created:2025-02-20T16:17:55-05:00\n",
      "updated:2025-02-20T16:17:55-05:00\n",
      "symbols:['AMH']\n",
      "extracted_sections:{'ResultsofOperationsandFinancialCondition': ' Item 2.02 Results of Operations and Financial Condition \\n\\nOn February 20, 2025 , American Homes 4 Rent (“AMH”) issued a press release announcing its financial results for the quarter and year ended December 31, 2024, together with a Fourth Quarter 2024 Earnings Release and Supplemental Information Package. A copy of the press release and the Fourth Quarter 2024 Earnings Release and Supplemental Information Package are furnished as Exhibits 99.1 and 99.2, respectively, to this Current Report on Form 8-K and are incorporated herein by reference. \\n\\n', 'FinancialStatementsandExhibits': ' Item 9.01 Financial Statements and Exhibits \\n\\n(d) Exhibits \\n\\nExhibit 99.1— Press Release dated February 20, 2025 concerning financial results, including financial tables \\n\\nExhibit 99.2— Fourth Quarter 2024 Earnings Release and Supplemental Information Package \\n\\nExhibit 104—Cover Page Interactive Data File (embedded within the inline XBRL document) \\n\\n'}\n",
      "metadata:{'event': {'market_session': 'post_market', 'created': '2025-02-20T16:17:55-05:00'}, 'returns_schedule': {'hourly': '2025-02-20T17:17:55-05:00', 'session': '2025-02-21T09:35:00-05:00', 'daily': '2025-02-21T16:00:00-05:00'}, 'instruments': [{'symbol': 'AMH', 'benchmarks': {'sector': 'XLRE', 'industry': 'IYR'}}]}\n",
      "returns:{'symbols': {'AMH': {'hourly_return': {'stock': 0.0, 'sector': -0.12, 'industry': -0.33, 'macro': 0.02}, 'session_return': {'stock': -2.97, 'sector': -0.27, 'industry': -0.27, 'macro': -0.02}, 'daily_return': {'stock': -1.6, 'sector': -0.82, 'industry': -0.73, 'macro': -1.72}}}}\n"
     ]
    }
   ],
   "source": [
    "import json\n",
    "data = json.loads(report)\n",
    "keys = data.keys()\n",
    "for key in keys:\n",
    "    print(f\"{key}:{data[key]}\")\n"
   ]
  },
  {
   "cell_type": "code",
   "execution_count": 9,
   "metadata": {},
   "outputs": [
    {
     "name": "stdout",
     "output_type": "stream",
     "text": [
      "1.ResultsofOperationsandFinancialCondition: Item 2.02 Results of Operations and Financial Condition \n",
      "\n",
      "On February 20, 2025 , American Homes 4 Rent (“AMH”) issued a press release announcing its financial results for the quarter and year ended December 31, 2024, together with a Fourth Quarter 2024 Earnings Release and Supplemental Information Package. A copy of the press release and the Fourth Quarter 2024 Earnings Release and Supplemental Information Package are furnished as Exhibits 99.1 and 99.2, respectively, to this Current Report on Form 8-K and are incorporated herein by reference. \n",
      "\n",
      "/n2.FinancialStatementsandExhibits: Item 9.01 Financial Statements and Exhibits \n",
      "\n",
      "(d) Exhibits \n",
      "\n",
      "Exhibit 99.1— Press Release dated February 20, 2025 concerning financial results, including financial tables \n",
      "\n",
      "Exhibit 99.2— Fourth Quarter 2024 Earnings Release and Supplemental Information Package \n",
      "\n",
      "Exhibit 104—Cover Page Interactive Data File (embedded within the inline XBRL document) \n",
      "\n",
      "/n"
     ]
    }
   ],
   "source": [
    "ex_sec = data['extracted_sections']\n",
    "for i, key in enumerate(ex_sec.keys()):\n",
    "    print(f\"{i+1}.{key}:{ex_sec[key]}\",end='/n')"
   ]
  },
  {
   "cell_type": "code",
   "execution_count": 10,
   "metadata": {},
   "outputs": [
    {
     "name": "stdout",
     "output_type": "stream",
     "text": [
      "extracted_sections:{'ResultsofOperationsandFinancialCondition': ' Item 2.02 Results of Operations and Financial Condition \\n\\nOn February 20, 2025 , American Homes 4 Rent (“AMH”) issued a press release announcing its financial results for the quarter and year ended December 31, 2024, together with a Fourth Quarter 2024 Earnings Release and Supplemental Information Package. A copy of the press release and the Fourth Quarter 2024 Earnings Release and Supplemental Information Package are furnished as Exhibits 99.1 and 99.2, respectively, to this Current Report on Form 8-K and are incorporated herein by reference. \\n\\n', 'FinancialStatementsandExhibits': ' Item 9.01 Financial Statements and Exhibits \\n\\n(d) Exhibits \\n\\nExhibit 99.1— Press Release dated February 20, 2025 concerning financial results, including financial tables \\n\\nExhibit 99.2— Fourth Quarter 2024 Earnings Release and Supplemental Information Package \\n\\nExhibit 104—Cover Page Interactive Data File (embedded within the inline XBRL document) \\n\\n'}\n"
     ]
    }
   ],
   "source": [
    "print(f\"extracted_sections:{data['extracted_sections']}\")"
   ]
  },
  {
   "cell_type": "code",
   "execution_count": 11,
   "metadata": {},
   "outputs": [
    {
     "name": "stdout",
     "output_type": "stream",
     "text": [
      "2-2: Item 2.02 Results of Operations and Financial Condition \n",
      "\n",
      "On February 20, 2025 , American Homes 4 Rent (&#8220;AMH&#8221;) issued a press release announcing its financial results for the quarter and year ended December 31, 2024, together with a Fourth Quarter 2024 Earnings Release and Supplemental Information Package. A copy of the press release and the Fourth Quarter 2024 Earnings Release and Supplemental Information Package are furnished as Exhibits 99.1 and 99.2, respectively, to this Current Report on Form 8-K and are incorporated herein by reference. \n",
      "\n",
      "\n",
      "9-1: Item 9.01 Financial Statements and Exhibits \n",
      "\n",
      "(d) Exhibits \n",
      "\n",
      "Exhibit 99.1&#8212; Press Release dated February 20, 2025 concerning financial results, including financial tables \n",
      "\n",
      "Exhibit 99.2&#8212; Fourth Quarter 2024 Earnings Release and Supplemental Information Package \n",
      "\n",
      "Exhibit 104&#8212;Cover Page Interactive Data File (embedded within the inline XBRL document) \n",
      "\n",
      "\n"
     ]
    }
   ],
   "source": [
    "\n",
    "from sec_api import ExtractorApi\n",
    "from SEC_API_Files.reportSections import eight_k_sections\n",
    "extractorApi = ExtractorApi(SEC_API_KEY)\n",
    "\n",
    "filing_url = \"https://www.sec.gov/Archives/edgar/data/1562401/000156240125000009/amh1231248kexhibit991.htm\"\n",
    "\n",
    "# extract section 1.01 \"Entry into Material Definitive Agreement\" as cleaned text\n",
    "\n",
    "for sec in eight_k_sections.keys():\n",
    "    section_text = extractorApi.get_section(filing_url, sec, \"text\")\n",
    "    if section_text != 'processing':\n",
    "        print(f\"{sec}:{section_text}\")"
   ]
  },
  {
   "cell_type": "code",
   "execution_count": 12,
   "metadata": {},
   "outputs": [
    {
     "data": {
      "text/plain": [
       "' Item 9.01 Financial Statements and Exhibits \\n\\n(d) Exhibits \\n\\nExhibit 99.1&#8212; Press Release dated February 20, 2025 concerning financial results, including financial tables \\n\\nExhibit 99.2&#8212; Fourth Quarter 2024 Earnings Release and Supplemental Information Package \\n\\nExhibit 104&#8212;Cover Page Interactive Data File (embedded within the inline XBRL document) \\n\\n'"
      ]
     },
     "execution_count": 12,
     "metadata": {},
     "output_type": "execute_result"
    }
   ],
   "source": [
    "section_text"
   ]
  },
  {
   "cell_type": "markdown",
   "metadata": {},
   "source": [
    "### Find Live News in PROCESSED_QUEUE"
   ]
  },
  {
   "cell_type": "code",
   "execution_count": 13,
   "metadata": {},
   "outputs": [
    {
     "name": "stderr",
     "output_type": "stream",
     "text": [
      "2025-02-28 09:33:17,005 - root - INFO - Connected to Redis (prefix=reports:live:)\n",
      "2025-02-28 09:33:17,008 - root - INFO - Connected to Redis (prefix=reports:hist:)\n",
      "2025-02-28 09:33:17,010 - root - INFO - Connected to Redis (prefix=config:)\n",
      "2025-02-28 09:33:17,033 - root - INFO - Successfully read CSV with 825 rows\n",
      "2025-02-28 09:33:17,042 - root - INFO - Successfully initialized stock universe with 825 symbols\n"
     ]
    },
    {
     "name": "stdout",
     "output_type": "stream",
     "text": [
      "Total processed reports: 731\n",
      "Historical reports: 699\n",
      "Live reports: 32\n",
      "\n",
      "Live reports found:\n",
      "  reports:live:processed:0000067215-25-000012.2025-02-28T14.21.33+00.00\n",
      "  reports:live:processed:0000096943-25-000031.2025-02-28T13.46.38+00.00\n",
      "  reports:live:processed:0001558370-25-001891.2025-02-28T13.21.05+00.00\n",
      "  reports:live:processed:0001558370-25-001889.2025-02-28T13.19.11+00.00\n",
      "  reports:live:processed:0001558370-25-001886.2025-02-28T13.07.32+00.00\n",
      "  reports:live:processed:0000935703-25-000007.2025-02-28T13.00.55+00.00\n",
      "  reports:live:processed:0001193125-25-040756.2025-02-28T12.44.53+00.00\n",
      "  reports:live:processed:0001842718-25-000023.2025-02-28T12.41.48+00.00\n",
      "  reports:live:processed:0001842718-25-000022.2025-02-28T12.36.40+00.00\n",
      "  reports:live:processed:0001097149-25-000012.2025-02-28T12.03.45+00.00\n",
      "  reports:live:processed:0000950170-25-029507.2025-02-28T12.00.18+00.00\n",
      "  reports:live:processed:0001558370-25-001881.2025-02-28T12.00.28+00.00\n",
      "  reports:live:processed:0001723128-25-000009.2025-02-28T11.13.08+00.00\n",
      "  reports:live:processed:0000015615-25-000021.2025-02-28T11.07.29+00.00\n",
      "  reports:live:processed:0000874761-25-000006.2025-02-28T11.06.58+00.00\n",
      "  reports:live:processed:0001193125-25-040519.2025-02-28T11.06.07+00.00\n",
      "  reports:live:processed:0001506307-25-000012.2025-02-27T22.33.10+00.00\n",
      "  reports:live:processed:0001193125-25-040518.2025-02-28T11.05.51+00.00\n",
      "  reports:live:processed:0001217234-25-000012.2025-02-27T22.49.04+00.00\n",
      "  reports:live:processed:0001352010-25-000007.2025-02-27T22.51.06+00.00\n",
      "  reports:live:processed:0001321655-25-000033.2025-02-27T23.02.46+00.00\n",
      "  reports:live:processed:0001562088-25-000042.2025-02-27T23.27.48+00.00\n",
      "  reports:live:processed:0001707753-25-000010.2025-02-27T23.39.04+00.00\n",
      "  reports:live:processed:0001692819-25-000013.2025-02-27T23.59.13+00.00\n",
      "  reports:live:processed:0001687229-25-000011.2025-02-28T00.25.43+00.00\n",
      "  reports:live:processed:0000827052-25-000024.2025-02-28T00.28.36+00.00\n",
      "  reports:live:processed:0001070423-25-000006.2025-02-28T02.02.33+00.00\n",
      "  reports:live:processed:0001545654-25-000005.2025-02-28T02.11.03+00.00\n",
      "  reports:live:processed:0001581990-25-000006.2025-02-28T02.13.52+00.00\n",
      "  reports:live:processed:0001558370-25-001869.2025-02-28T02.43.05+00.00\n",
      "  reports:live:processed:0001193125-25-040255.2025-02-28T02.42.55+00.00\n",
      "  reports:live:processed:0000896262-25-000023.2025-02-28T02.28.35+00.00\n"
     ]
    }
   ],
   "source": [
    "from utils.redisClasses import EventTraderRedis, RedisKeys\n",
    "\n",
    "# Initialize Redis with the reports source\n",
    "redis_client = EventTraderRedis(source=RedisKeys.SOURCE_REPORTS)\n",
    "\n",
    "# Get all processed reports from the queue\n",
    "all_processed = redis_client.live_client.client.lrange(redis_client.live_client.PROCESSED_QUEUE, 0, -1)\n",
    "\n",
    "# Separate historical and live reports\n",
    "hist_reports = []\n",
    "live_reports = []\n",
    "\n",
    "for item in all_processed:\n",
    "    if isinstance(item, bytes):\n",
    "        item = item.decode()\n",
    "    if 'reports:hist:' in item:\n",
    "        hist_reports.append(item)\n",
    "    elif 'reports:live:' in item:\n",
    "        live_reports.append(item)\n",
    "\n",
    "print(f\"Total processed reports: {len(all_processed)}\")\n",
    "print(f\"Historical reports: {len(hist_reports)}\")\n",
    "print(f\"Live reports: {len(live_reports)}\")\n",
    "\n",
    "if live_reports:\n",
    "    print(\"\\nLive reports found:\")\n",
    "    for report in live_reports:\n",
    "        print(f\"  {report}\")"
   ]
  },
  {
   "cell_type": "markdown",
   "metadata": {},
   "source": [
    "# EDGAR Filing Search & Download"
   ]
  },
  {
   "cell_type": "code",
   "execution_count": 2,
   "metadata": {},
   "outputs": [],
   "source": [
    "from eventtrader.keys import SEC_API_KEY"
   ]
  },
  {
   "cell_type": "markdown",
   "metadata": {},
   "source": [
    "##### Read Final Symbols"
   ]
  },
  {
   "cell_type": "code",
   "execution_count": null,
   "metadata": {},
   "outputs": [],
   "source": [
    "file_path = '../StocksUniverse/final_symbols.csv'\n",
    "df = pd.read_csv(file_path)\n",
    "df.head()"
   ]
  },
  {
   "cell_type": "code",
   "execution_count": null,
   "metadata": {},
   "outputs": [],
   "source": [
    "df.cik.nunique(), df.symbol.nunique()"
   ]
  },
  {
   "cell_type": "markdown",
   "metadata": {},
   "source": [
    "### Filing Query API"
   ]
  },
  {
   "cell_type": "code",
   "execution_count": 5,
   "metadata": {},
   "outputs": [],
   "source": [
    "output_txt = 'sec_websocketOuput.txt'"
   ]
  },
  {
   "cell_type": "code",
   "execution_count": null,
   "metadata": {},
   "outputs": [],
   "source": [
    "import pandas as pd, json, re\n",
    "\n",
    "with open('sec_websocketOuput.txt', 'r', encoding='utf-8') as f:\n",
    "    raw_data = f.read()\n",
    "\n",
    "# Extract JSON blocks while handling nested brackets safely\n",
    "matches = re.findall(r\"Full filing info:\\s+(\\{[\\s\\S]*?\\})\", raw_data)\n",
    "\n",
    "parsed_data = []\n",
    "for m in matches:\n",
    "    try:\n",
    "        clean_json = m.replace(\"'\", '\"')  # Convert single quotes to valid JSON format\n",
    "        parsed_data.append(json.loads(clean_json))\n",
    "    except json.JSONDecodeError as e:\n",
    "        print(f\"Skipping malformed entry: {e}\")\n",
    "\n",
    "df = pd.DataFrame(parsed_data)\n",
    "\n",
    "# Display in DataFrame\n",
    "import ace_tools as tools\n",
    "tools.display_dataframe_to_user(name=\"SEC Filings Data\", dataframe=df)\n"
   ]
  },
  {
   "cell_type": "code",
   "execution_count": null,
   "metadata": {},
   "outputs": [],
   "source": []
  }
 ],
 "metadata": {
  "kernelspec": {
   "display_name": "EventTrader Environment",
   "language": "python",
   "name": "eventtrader_venv"
  },
  "language_info": {
   "codemirror_mode": {
    "name": "ipython",
    "version": 3
   },
   "file_extension": ".py",
   "mimetype": "text/x-python",
   "name": "python",
   "nbconvert_exporter": "python",
   "pygments_lexer": "ipython3",
   "version": "3.11.10"
  }
 },
 "nbformat": 4,
 "nbformat_minor": 2
}
