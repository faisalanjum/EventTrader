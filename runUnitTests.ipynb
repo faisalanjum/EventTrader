{
 "cells": [
  {
   "cell_type": "markdown",
   "metadata": {},
   "source": [
    "### get_session_times_et from MarketSessionClassifier"
   ]
  },
  {
   "cell_type": "code",
   "execution_count": 1,
   "metadata": {},
   "outputs": [
    {
     "ename": "KeyboardInterrupt",
     "evalue": "",
     "output_type": "error",
     "traceback": [
      "\u001b[0;31m---------------------------------------------------------------------------\u001b[0m",
      "\u001b[0;31mKeyboardInterrupt\u001b[0m                         Traceback (most recent call last)",
      "Cell \u001b[0;32mIn[1], line 1\u001b[0m\n\u001b[0;32m----> 1\u001b[0m \u001b[38;5;28;01mfrom\u001b[39;00m \u001b[38;5;21;01mutils\u001b[39;00m\u001b[38;5;21;01m.\u001b[39;00m\u001b[38;5;21;01munitTests\u001b[39;00m \u001b[38;5;28;01mimport\u001b[39;00m test_get_market_session\n\u001b[1;32m      2\u001b[0m test_get_market_session()\n",
      "File \u001b[0;32m~/Desktop/Faisal/EventTrader/utils/unitTests.py:1\u001b[0m\n\u001b[0;32m----> 1\u001b[0m \u001b[38;5;28;01mimport\u001b[39;00m \u001b[38;5;21;01mpandas\u001b[39;00m \u001b[38;5;28;01mas\u001b[39;00m \u001b[38;5;21;01mpd\u001b[39;00m\n\u001b[1;32m      2\u001b[0m \u001b[38;5;28;01mfrom\u001b[39;00m \u001b[38;5;21;01mutils\u001b[39;00m\u001b[38;5;21;01m.\u001b[39;00m\u001b[38;5;21;01mmarket_session\u001b[39;00m \u001b[38;5;28;01mimport\u001b[39;00m MarketSessionClassifier\n\u001b[1;32m      3\u001b[0m \u001b[38;5;28;01mfrom\u001b[39;00m \u001b[38;5;21;01mdatetime\u001b[39;00m \u001b[38;5;28;01mimport\u001b[39;00m datetime, date\n",
      "File \u001b[0;32m~/Desktop/Faisal/EventTrader/venv/lib/python3.11/site-packages/pandas/__init__.py:26\u001b[0m\n\u001b[1;32m     22\u001b[0m \u001b[38;5;28;01mdel\u001b[39;00m _hard_dependencies, _dependency, _missing_dependencies\n\u001b[1;32m     24\u001b[0m \u001b[38;5;28;01mtry\u001b[39;00m:\n\u001b[1;32m     25\u001b[0m     \u001b[38;5;66;03m# numpy compat\u001b[39;00m\n\u001b[0;32m---> 26\u001b[0m     \u001b[38;5;28;01mfrom\u001b[39;00m \u001b[38;5;21;01mpandas\u001b[39;00m\u001b[38;5;21;01m.\u001b[39;00m\u001b[38;5;21;01mcompat\u001b[39;00m \u001b[38;5;28;01mimport\u001b[39;00m (\n\u001b[1;32m     27\u001b[0m         is_numpy_dev \u001b[38;5;28;01mas\u001b[39;00m _is_numpy_dev,  \u001b[38;5;66;03m# pyright: ignore[reportUnusedImport] # noqa: F401\u001b[39;00m\n\u001b[1;32m     28\u001b[0m     )\n\u001b[1;32m     29\u001b[0m \u001b[38;5;28;01mexcept\u001b[39;00m \u001b[38;5;167;01mImportError\u001b[39;00m \u001b[38;5;28;01mas\u001b[39;00m _err:  \u001b[38;5;66;03m# pragma: no cover\u001b[39;00m\n\u001b[1;32m     30\u001b[0m     _module \u001b[38;5;241m=\u001b[39m _err\u001b[38;5;241m.\u001b[39mname\n",
      "File \u001b[0;32m~/Desktop/Faisal/EventTrader/venv/lib/python3.11/site-packages/pandas/compat/__init__.py:27\u001b[0m\n\u001b[1;32m     25\u001b[0m \u001b[38;5;28;01mimport\u001b[39;00m \u001b[38;5;21;01mpandas\u001b[39;00m\u001b[38;5;21;01m.\u001b[39;00m\u001b[38;5;21;01mcompat\u001b[39;00m\u001b[38;5;21;01m.\u001b[39;00m\u001b[38;5;21;01mcompressors\u001b[39;00m\n\u001b[1;32m     26\u001b[0m \u001b[38;5;28;01mfrom\u001b[39;00m \u001b[38;5;21;01mpandas\u001b[39;00m\u001b[38;5;21;01m.\u001b[39;00m\u001b[38;5;21;01mcompat\u001b[39;00m\u001b[38;5;21;01m.\u001b[39;00m\u001b[38;5;21;01mnumpy\u001b[39;00m \u001b[38;5;28;01mimport\u001b[39;00m is_numpy_dev\n\u001b[0;32m---> 27\u001b[0m \u001b[38;5;28;01mfrom\u001b[39;00m \u001b[38;5;21;01mpandas\u001b[39;00m\u001b[38;5;21;01m.\u001b[39;00m\u001b[38;5;21;01mcompat\u001b[39;00m\u001b[38;5;21;01m.\u001b[39;00m\u001b[38;5;21;01mpyarrow\u001b[39;00m \u001b[38;5;28;01mimport\u001b[39;00m (\n\u001b[1;32m     28\u001b[0m     pa_version_under10p1,\n\u001b[1;32m     29\u001b[0m     pa_version_under11p0,\n\u001b[1;32m     30\u001b[0m     pa_version_under13p0,\n\u001b[1;32m     31\u001b[0m     pa_version_under14p0,\n\u001b[1;32m     32\u001b[0m     pa_version_under14p1,\n\u001b[1;32m     33\u001b[0m     pa_version_under16p0,\n\u001b[1;32m     34\u001b[0m     pa_version_under17p0,\n\u001b[1;32m     35\u001b[0m )\n\u001b[1;32m     37\u001b[0m \u001b[38;5;28;01mif\u001b[39;00m TYPE_CHECKING:\n\u001b[1;32m     38\u001b[0m     \u001b[38;5;28;01mfrom\u001b[39;00m \u001b[38;5;21;01mpandas\u001b[39;00m\u001b[38;5;21;01m.\u001b[39;00m\u001b[38;5;21;01m_typing\u001b[39;00m \u001b[38;5;28;01mimport\u001b[39;00m F\n",
      "File \u001b[0;32m~/Desktop/Faisal/EventTrader/venv/lib/python3.11/site-packages/pandas/compat/pyarrow.py:8\u001b[0m\n\u001b[1;32m      5\u001b[0m \u001b[38;5;28;01mfrom\u001b[39;00m \u001b[38;5;21;01mpandas\u001b[39;00m\u001b[38;5;21;01m.\u001b[39;00m\u001b[38;5;21;01mutil\u001b[39;00m\u001b[38;5;21;01m.\u001b[39;00m\u001b[38;5;21;01mversion\u001b[39;00m \u001b[38;5;28;01mimport\u001b[39;00m Version\n\u001b[1;32m      7\u001b[0m \u001b[38;5;28;01mtry\u001b[39;00m:\n\u001b[0;32m----> 8\u001b[0m     \u001b[38;5;28;01mimport\u001b[39;00m \u001b[38;5;21;01mpyarrow\u001b[39;00m \u001b[38;5;28;01mas\u001b[39;00m \u001b[38;5;21;01mpa\u001b[39;00m\n\u001b[1;32m     10\u001b[0m     _palv \u001b[38;5;241m=\u001b[39m Version(Version(pa\u001b[38;5;241m.\u001b[39m__version__)\u001b[38;5;241m.\u001b[39mbase_version)\n\u001b[1;32m     11\u001b[0m     pa_version_under10p1 \u001b[38;5;241m=\u001b[39m _palv \u001b[38;5;241m<\u001b[39m Version(\u001b[38;5;124m\"\u001b[39m\u001b[38;5;124m10.0.1\u001b[39m\u001b[38;5;124m\"\u001b[39m)\n",
      "File \u001b[0;32m~/Desktop/Faisal/EventTrader/venv/lib/python3.11/site-packages/pyarrow/__init__.py:65\u001b[0m\n\u001b[1;32m     63\u001b[0m _gc_enabled \u001b[38;5;241m=\u001b[39m _gc\u001b[38;5;241m.\u001b[39misenabled()\n\u001b[1;32m     64\u001b[0m _gc\u001b[38;5;241m.\u001b[39mdisable()\n\u001b[0;32m---> 65\u001b[0m \u001b[38;5;28;01mimport\u001b[39;00m \u001b[38;5;21;01mpyarrow\u001b[39;00m\u001b[38;5;21;01m.\u001b[39;00m\u001b[38;5;21;01mlib\u001b[39;00m \u001b[38;5;28;01mas\u001b[39;00m \u001b[38;5;21;01m_lib\u001b[39;00m\n\u001b[1;32m     66\u001b[0m \u001b[38;5;28;01mif\u001b[39;00m _gc_enabled:\n\u001b[1;32m     67\u001b[0m     _gc\u001b[38;5;241m.\u001b[39menable()\n",
      "File \u001b[0;32m<frozen importlib._bootstrap>:405\u001b[0m, in \u001b[0;36mparent\u001b[0;34m(self)\u001b[0m\n",
      "\u001b[0;31mKeyboardInterrupt\u001b[0m: "
     ]
    }
   ],
   "source": [
    "from utils.unitTests import test_get_market_session\n",
    "test_get_market_session()"
   ]
  },
  {
   "cell_type": "markdown",
   "metadata": {},
   "source": [
    "### get_trading_hours from MarketSessionClassifier"
   ]
  },
  {
   "cell_type": "code",
   "execution_count": 2,
   "metadata": {},
   "outputs": [
    {
     "name": "stdout",
     "output_type": "stream",
     "text": [
      "\n",
      "Testing regular_trading_day...\n",
      "✅ Passed: regular_trading_day\n",
      "\n",
      "Testing weekend...\n",
      "✅ Passed: weekend\n",
      "\n",
      "Testing holiday...\n",
      "✅ Passed: holiday\n",
      "\n",
      "Testing early_close...\n",
      "✅ Passed: early_close\n",
      "\n",
      "Testing dst_spring_forward...\n",
      "✅ Passed: dst_spring_forward\n",
      "\n",
      "Testing dst_fall_back...\n",
      "✅ Passed: dst_fall_back\n",
      "\n",
      "Testing christmas_eve_early_close...\n",
      "✅ Passed: christmas_eve_early_close\n",
      "\n",
      "Testing year_boundary...\n",
      "✅ Passed: year_boundary\n",
      "\n",
      "Testing invalid inputs...\n",
      "✅ Passed: Invalid input None\n",
      "✅ Passed: Invalid input invalid_date\n",
      "✅ Passed: Invalid input NaT\n",
      "Error in get_trading_hours: 'NaTType' object has no attribute 'normalize'\n",
      "✅ Passed: Invalid input \n",
      "✅ Passed: Invalid input 2024-13-01\n",
      "✅ Passed: Invalid input 2024-04-31\n",
      "✅ Passed: Invalid input not a date\n",
      "✅ Passed: Invalid input 2024/13/01\n",
      "\n",
      "✅ All tests passed!\n"
     ]
    }
   ],
   "source": [
    "from utils.unitTests import test_get_trading_hours\n",
    "test_get_trading_hours()"
   ]
  },
  {
   "cell_type": "markdown",
   "metadata": {},
   "source": [
    "### get_trading_hours from MarketSessionClassifier against QuantConnect sample data"
   ]
  },
  {
   "cell_type": "code",
   "execution_count": 3,
   "metadata": {},
   "outputs": [
    {
     "name": "stdout",
     "output_type": "stream",
     "text": [
      "\n",
      "Testing date: 2023-12-30\n",
      "✅ Passed: 2023-12-30\n",
      "\n",
      "Testing date: 2023-12-31\n",
      "✅ Passed: 2023-12-31\n",
      "\n",
      "Testing date: 2024-01-01\n",
      "✅ Passed: 2024-01-01\n",
      "\n",
      "Testing date: 2024-01-02\n",
      "✅ Passed: 2024-01-02\n",
      "\n",
      "Testing date: 2024-01-03\n",
      "✅ Passed: 2024-01-03\n",
      "\n",
      "Testing date: 2024-01-04\n",
      "✅ Passed: 2024-01-04\n",
      "\n",
      "Testing date: 2024-01-05\n",
      "✅ Passed: 2024-01-05\n",
      "\n",
      "Testing date: 2024-01-06\n",
      "✅ Passed: 2024-01-06\n",
      "\n",
      "Testing date: 2024-01-07\n",
      "✅ Passed: 2024-01-07\n",
      "\n",
      "Testing date: 2024-01-08\n",
      "✅ Passed: 2024-01-08\n",
      "\n",
      "Testing date: 2024-01-09\n",
      "✅ Passed: 2024-01-09\n",
      "\n",
      "Testing date: 2024-01-10\n",
      "✅ Passed: 2024-01-10\n",
      "\n",
      "Testing date: 2024-01-11\n",
      "✅ Passed: 2024-01-11\n",
      "\n",
      "✅ All tests match QuantConnect outputs!\n"
     ]
    }
   ],
   "source": [
    "from utils.unitTests import test_get_trading_hours_qc\n",
    "test_get_trading_hours_qc()"
   ]
  },
  {
   "cell_type": "code",
   "execution_count": 1,
   "metadata": {},
   "outputs": [
    {
     "name": "stdout",
     "output_type": "stream",
     "text": [
      "Starting unit tests for time calculations...\n",
      "\n"
     ]
    },
    {
     "name": "stderr",
     "output_type": "stream",
     "text": [
      "/Users/macowne/Desktop/Faisal/EventTrader/utils/unitTests.py:55: FutureWarning: In a future version of pandas, parsing datetimes with mixed time zones will raise an error unless `utc=True`. Please specify `utc=True` to opt in to the new behaviour and silence this warning. To create a `Series` with mixed offsets and `object` dtype, please use `apply` and `datetime.datetime.strptime`\n",
      "  df['time'] = pd.to_datetime(df['originalTime'], errors='coerce')\n",
      "/Users/macowne/Desktop/Faisal/EventTrader/utils/unitTests.py:55: FutureWarning: In a future version of pandas, parsing datetimes with mixed time zones will raise an error unless `utc=True`. Please specify `utc=True` to opt in to the new behaviour and silence this warning. To create a `Series` with mixed offsets and `object` dtype, please use `apply` and `datetime.datetime.strptime`\n",
      "  df['time'] = pd.to_datetime(df['originalTime'], errors='coerce')\n"
     ]
    },
    {
     "name": "stdout",
     "output_type": "stream",
     "text": [
      "Total valid rows: 389,252\n",
      "Mismatches: 0\n",
      "Accuracy: 100.00%\n",
      "\n",
      "Total valid rows: 389,252\n",
      "Mismatches: 0\n",
      "Accuracy: 100.00%\n",
      "\n",
      "Total valid rows: 389,252\n",
      "Mismatches: 0\n",
      "Accuracy: 100.00%\n",
      "\n",
      "Total runtime for unit tests: 3102.48 seconds\n",
      "\n",
      "Unit tests completed successfully!\n"
     ]
    }
   ],
   "source": [
    "# Takes ~ 52 minutes to run for all 3 \n",
    "# This is a unit test for all time calculations (such as start_time, end_time, interval_start_time in one go inside NewsQC.csv)\n",
    "from utils.unitTests import run_unit_tests_for_time_calculations\n",
    "run_unit_tests_for_time_calculations()\n"
   ]
  },
  {
   "cell_type": "code",
   "execution_count": null,
   "metadata": {},
   "outputs": [],
   "source": []
  }
 ],
 "metadata": {
  "kernelspec": {
   "display_name": "EventTrader Environment",
   "language": "python",
   "name": "eventtrader_venv"
  },
  "language_info": {
   "codemirror_mode": {
    "name": "ipython",
    "version": 3
   },
   "file_extension": ".py",
   "mimetype": "text/x-python",
   "name": "python",
   "nbconvert_exporter": "python",
   "pygments_lexer": "ipython3",
   "version": "3.11.10"
  }
 },
 "nbformat": 4,
 "nbformat_minor": 2
}
