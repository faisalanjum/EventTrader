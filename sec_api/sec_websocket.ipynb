{
 "cells": [
  {
   "cell_type": "code",
   "execution_count": 65,
   "metadata": {},
   "outputs": [],
   "source": [
    "from eventtrader.keys import SEC_API_KEY"
   ]
  },
  {
   "cell_type": "code",
   "execution_count": null,
   "metadata": {},
   "outputs": [
    {
     "name": "stdout",
     "output_type": "stream",
     "text": [
      "✅ Connected to: wss://stream.sec-api.io\n",
      "Full filing info: {'id': 'fe54fc3acf57013c2989bbc9634a5403', 'accessionNo': '0001193125-25-026807', 'cik': '1359314', 'ticker': '', 'companyName': 'Northwestern Mutual Variable Life Account II', 'companyNameLong': 'Northwestern Mutual Variable Life Account II (Filer)', 'formType': '485APOS', 'description': 'Form 485APOS - Post-effective amendment [Rule 485(a)]', 'filedAt': '2025-02-14T10:25:02-05:00', 'linkToTxt': 'https://www.sec.gov/Archives/edgar/data/1359314/000119312525026807/0001193125-25-026807.txt', 'linkToHtml': 'https://www.sec.gov/Archives/edgar/data/1359314/000119312525026807/0001193125-25-026807-index.htm', 'linkToXbrl': '', 'linkToFilingDetails': 'https://www.sec.gov/Archives/edgar/data/1359314/000119312525026807/d919803d485apos.htm', 'entities': [{'companyName': 'Northwestern Mutual Variable Life Account II (Filer)', 'cik': '1359314', 'irsNo': '390509570', 'stateOfIncorporation': 'WI', 'fiscalYearEnd': '1231', 'type': '485APOS', 'act': '40', 'fileNo': '811-21933', 'filmNo': '25624501'}, {'companyName': 'Northwestern Mutual Variable Life Account II (Filer)', 'cik': '1359314', 'irsNo': '390509570', 'stateOfIncorporation': 'WI', 'fiscalYearEnd': '1231', 'type': '485APOS', 'act': '33', 'fileNo': '333-230143', 'filmNo': '25624500'}], 'documentFormatFiles': [{'sequence': '1', 'description': 'NORTHWESTERN MUTUAL VARIABLE LIFE ACCOUNT II (VULP)', 'documentUrl': 'https://www.sec.gov/Archives/edgar/data/1359314/000119312525026807/d919803d485apos.htm', 'type': '485APOS', 'size': '2148160'}, {'sequence': '2', 'description': 'EX-99.(D)2', 'documentUrl': 'https://www.sec.gov/Archives/edgar/data/1359314/000119312525026807/d919803dex99d2.htm', 'type': 'EX-99.(D)2', 'size': '34470'}, {'sequence': '3', 'description': 'EX-99.(H)(A)(3)', 'documentUrl': 'https://www.sec.gov/Archives/edgar/data/1359314/000119312525026807/d919803dex99ha3.htm', 'type': 'EX-99.(H)(A)(3)', 'size': '21519'}, {'sequence': '4', 'description': 'EX-99.(H)(B)(4)', 'documentUrl': 'https://www.sec.gov/Archives/edgar/data/1359314/000119312525026807/d919803dex99hb4.htm', 'type': 'EX-99.(H)(B)(4)', 'size': '20620'}, {'sequence': '5', 'description': 'EX-99.(H)(C)(3)', 'documentUrl': 'https://www.sec.gov/Archives/edgar/data/1359314/000119312525026807/d919803dex99hc3.htm', 'type': 'EX-99.(H)(C)(3)', 'size': '21162'}, {'sequence': '6', 'description': 'EX-99.(H)(D)(3)', 'documentUrl': 'https://www.sec.gov/Archives/edgar/data/1359314/000119312525026807/d919803dex99hd3.htm', 'type': 'EX-99.(H)(D)(3)', 'size': '50885'}, {'sequence': '7', 'description': 'EX-99.(H)(D)(4)', 'documentUrl': 'https://www.sec.gov/Archives/edgar/data/1359314/000119312525026807/d919803dex99hd4.htm', 'type': 'EX-99.(H)(D)(4)', 'size': '25971'}, {'sequence': '8', 'description': 'EX-99.(J)(G)', 'documentUrl': 'https://www.sec.gov/Archives/edgar/data/1359314/000119312525026807/d919803dex99jg.htm', 'type': 'EX-99.(J)(G)', 'size': '41341'}, {'sequence': '9', 'description': 'EX-99.(R)', 'documentUrl': 'https://www.sec.gov/Archives/edgar/data/1359314/000119312525026807/d919803dex99r.htm', 'type': 'EX-99.(R)', 'size': '830886'}, {'sequence': '11', 'description': 'GRAPHIC', 'documentUrl': 'https://www.sec.gov/Archives/edgar/data/1359314/000119312525026807/g919803dsp004a.jpg', 'type': 'GRAPHIC', 'size': '6397'}, {'sequence': '12', 'description': 'GRAPHIC', 'documentUrl': 'https://www.sec.gov/Archives/edgar/data/1359314/000119312525026807/g919803dsp004b.jpg', 'type': 'GRAPHIC', 'size': '3396'}, {'sequence': '13', 'description': 'GRAPHIC', 'documentUrl': 'https://www.sec.gov/Archives/edgar/data/1359314/000119312525026807/g919803dsp004c.jpg', 'type': 'GRAPHIC', 'size': '3929'}, {'sequence': '14', 'description': 'GRAPHIC', 'documentUrl': 'https://www.sec.gov/Archives/edgar/data/1359314/000119312525026807/g919803dsp008a.jpg', 'type': 'GRAPHIC', 'size': '7023'}, {'sequence': '15', 'description': 'GRAPHIC', 'documentUrl': 'https://www.sec.gov/Archives/edgar/data/1359314/000119312525026807/g919803dsp008b.jpg', 'type': 'GRAPHIC', 'size': '3899'}, {'sequence': '16', 'description': 'GRAPHIC', 'documentUrl': 'https://www.sec.gov/Archives/edgar/data/1359314/000119312525026807/g919803dsp008c.jpg', 'type': 'GRAPHIC', 'size': '3967'}, {'sequence': '17', 'description': 'GRAPHIC', 'documentUrl': 'https://www.sec.gov/Archives/edgar/data/1359314/000119312525026807/g919803dsp011a.jpg', 'type': 'GRAPHIC', 'size': '7521'}, {'sequence': '18', 'description': 'GRAPHIC', 'documentUrl': 'https://www.sec.gov/Archives/edgar/data/1359314/000119312525026807/g919803dsp011b.jpg', 'type': 'GRAPHIC', 'size': '5881'}, {'sequence': '19', 'description': 'GRAPHIC', 'documentUrl': 'https://www.sec.gov/Archives/edgar/data/1359314/000119312525026807/g919803dsp011c.jpg', 'type': 'GRAPHIC', 'size': '5461'}, {'sequence': '20', 'description': 'GRAPHIC', 'documentUrl': 'https://www.sec.gov/Archives/edgar/data/1359314/000119312525026807/g919803dsp011d.jpg', 'type': 'GRAPHIC', 'size': '6003'}, {'sequence': '21', 'description': 'GRAPHIC', 'documentUrl': 'https://www.sec.gov/Archives/edgar/data/1359314/000119312525026807/g919803dsp011e.jpg', 'type': 'GRAPHIC', 'size': '8652'}, {'sequence': '22', 'description': 'GRAPHIC', 'documentUrl': 'https://www.sec.gov/Archives/edgar/data/1359314/000119312525026807/g919803dsp011f.jpg', 'type': 'GRAPHIC', 'size': '5363'}, {'sequence': '23', 'description': 'GRAPHIC', 'documentUrl': 'https://www.sec.gov/Archives/edgar/data/1359314/000119312525026807/g919803dsp012a.jpg', 'type': 'GRAPHIC', 'size': '5927'}, {'sequence': '24', 'description': 'GRAPHIC', 'documentUrl': 'https://www.sec.gov/Archives/edgar/data/1359314/000119312525026807/g919803dsp012b.jpg', 'type': 'GRAPHIC', 'size': '12017'}, {'sequence': '25', 'description': 'GRAPHIC', 'documentUrl': 'https://www.sec.gov/Archives/edgar/data/1359314/000119312525026807/g919803dsp012c.jpg', 'type': 'GRAPHIC', 'size': '5871'}, {'sequence': '26', 'description': 'GRAPHIC', 'documentUrl': 'https://www.sec.gov/Archives/edgar/data/1359314/000119312525026807/g919803dsp017a.jpg', 'type': 'GRAPHIC', 'size': '6411'}, {'sequence': '27', 'description': 'GRAPHIC', 'documentUrl': 'https://www.sec.gov/Archives/edgar/data/1359314/000119312525026807/g919803dsp017b.jpg', 'type': 'GRAPHIC', 'size': '3590'}, {'sequence': '28', 'description': 'GRAPHIC', 'documentUrl': 'https://www.sec.gov/Archives/edgar/data/1359314/000119312525026807/g919803dsp017c.jpg', 'type': 'GRAPHIC', 'size': '3742'}, {'sequence': '29', 'description': 'GRAPHIC', 'documentUrl': 'https://www.sec.gov/Archives/edgar/data/1359314/000119312525026807/g919803dsp017d.jpg', 'type': 'GRAPHIC', 'size': '3164'}, {'sequence': '30', 'description': 'GRAPHIC', 'documentUrl': 'https://www.sec.gov/Archives/edgar/data/1359314/000119312525026807/g919803dsp017e.jpg', 'type': 'GRAPHIC', 'size': '3674'}, {'sequence': '31', 'description': 'GRAPHIC', 'documentUrl': 'https://www.sec.gov/Archives/edgar/data/1359314/000119312525026807/g919803dsp017f.jpg', 'type': 'GRAPHIC', 'size': '3801'}, {'sequence': '32', 'description': 'GRAPHIC', 'documentUrl': 'https://www.sec.gov/Archives/edgar/data/1359314/000119312525026807/g919803g79m37.jpg', 'type': 'GRAPHIC', 'size': '3598'}, {'sequence': '33', 'description': 'GRAPHIC', 'documentUrl': 'https://www.sec.gov/Archives/edgar/data/1359314/000119312525026807/g919803page004a.jpg', 'type': 'GRAPHIC', 'size': '3543'}, {'sequence': '34', 'description': 'GRAPHIC', 'documentUrl': 'https://www.sec.gov/Archives/edgar/data/1359314/000119312525026807/g919803page004b.jpg', 'type': 'GRAPHIC', 'size': '3814'}, {'sequence': '35', 'description': 'GRAPHIC', 'documentUrl': 'https://www.sec.gov/Archives/edgar/data/1359314/000119312525026807/g919803page004c.jpg', 'type': 'GRAPHIC', 'size': '2668'}, {'sequence': '36', 'description': 'GRAPHIC', 'documentUrl': 'https://www.sec.gov/Archives/edgar/data/1359314/000119312525026807/g173063nwmutual_logo.gif', 'type': 'GRAPHIC', 'size': '13783'}, {'sequence': '37', 'description': 'GRAPHIC', 'documentUrl': 'https://www.sec.gov/Archives/edgar/data/1359314/000119312525026807/g189642nwmutual_logo.jpg', 'type': 'GRAPHIC', 'size': '6159'}, {'sequence': '38', 'description': 'GRAPHIC', 'documentUrl': 'https://www.sec.gov/Archives/edgar/data/1359314/000119312525026807/g42156nwmutual_logo.gif', 'type': 'GRAPHIC', 'size': '13783'}, {'sequence': '\\xa0', 'description': 'Complete submission text file', 'documentUrl': 'https://www.sec.gov/Archives/edgar/data/1359314/000119312525026807/0001193125-25-026807.txt', 'type': '\\xa0', 'size': '3425066'}], 'dataFiles': [], 'seriesAndClassesContractsInformation': []}\n",
      "Full filing info: {'id': '2d18c83f53d9561f521252206a523cdb', 'accessionNo': '0001949846-25-000046', 'cik': '1773383', 'ticker': 'DT', 'companyName': 'Dynatrace, Inc.', 'companyNameLong': 'Dynatrace, Inc. (Subject)', 'formType': '144', 'description': 'Form 144 - Report of proposed sale of securities', 'filedAt': '2025-02-14T10:25:23-05:00', 'linkToTxt': 'https://www.sec.gov/Archives/edgar/data/1773383/000194984625000046/0001949846-25-000046.txt', 'linkToHtml': 'https://www.sec.gov/Archives/edgar/data/1773383/000194984625000046/0001949846-25-000046-index.htm', 'linkToXbrl': '', 'linkToFilingDetails': 'https://www.sec.gov/Archives/edgar/data/1773383/000194984625000046/xsl144X01/primary_doc.xml', 'entities': [{'companyName': 'Dynatrace, Inc. (Subject)', 'cik': '1773383', 'irsNo': '000000000', 'fiscalYearEnd': '0331', 'sic': '7372 Services-Prepackaged Software', 'undefined': '06 Technology)'}], 'documentFormatFiles': [{'sequence': '1', 'documentUrl': 'https://www.sec.gov/Archives/edgar/data/1773383/000194984625000046/xsl144X01/primary_doc.xml', 'type': '144', 'size': '\\xa0'}, {'sequence': '1', 'documentUrl': 'https://www.sec.gov/Archives/edgar/data/1773383/000194984625000046/primary_doc.xml', 'type': '144', 'size': '2966'}, {'sequence': '\\xa0', 'description': 'Complete submission text file', 'documentUrl': 'https://www.sec.gov/Archives/edgar/data/1773383/000194984625000046/0001949846-25-000046.txt', 'type': '\\xa0', 'size': '4442'}], 'dataFiles': [], 'seriesAndClassesContractsInformation': []}\n",
      "Full filing info: {'id': 'c8833dc7a58394596f3e99944d179ca1', 'accessionNo': '0001949846-25-000046', 'cik': '1239165', 'ticker': '', 'companyName': 'MCCONNELL RICK M', 'companyNameLong': 'MCCONNELL RICK M (Reporting)', 'formType': '144', 'description': 'Form 144 - Report of proposed sale of securities', 'filedAt': '2025-02-14T10:25:23-05:00', 'linkToTxt': 'https://www.sec.gov/Archives/edgar/data/1239165/000194984625000046/0001949846-25-000046.txt', 'linkToHtml': 'https://www.sec.gov/Archives/edgar/data/1239165/000194984625000046/0001949846-25-000046-index.htm', 'linkToXbrl': '', 'linkToFilingDetails': 'https://www.sec.gov/Archives/edgar/data/1239165/000194984625000046/xsl144X01/primary_doc.xml', 'entities': [{'companyName': 'MCCONNELL RICK M (Reporting)', 'cik': '1239165', 'type': '144'}, {'companyName': 'Dynatrace, Inc. (Subject)', 'cik': '1773383', 'irsNo': '000000000', 'fiscalYearEnd': '0331', 'type': '144', 'act': '33', 'fileNo': '001-39010', 'filmNo': '25624503', 'sic': '7372 Services-Prepackaged Software', 'undefined': '06 Technology)'}], 'documentFormatFiles': [{'sequence': '1', 'documentUrl': 'https://www.sec.gov/Archives/edgar/data/1239165/000194984625000046/xsl144X01/primary_doc.xml', 'type': '144', 'size': '\\xa0'}, {'sequence': '1', 'documentUrl': 'https://www.sec.gov/Archives/edgar/data/1239165/000194984625000046/primary_doc.xml', 'type': '144', 'size': '2966'}, {'sequence': '\\xa0', 'description': 'Complete submission text file', 'documentUrl': 'https://www.sec.gov/Archives/edgar/data/1239165/000194984625000046/0001949846-25-000046.txt', 'type': '\\xa0', 'size': '4442'}], 'dataFiles': [], 'seriesAndClassesContractsInformation': []}\n",
      "Full filing info: {'id': 'b5b5ecb8abcba7d181530b61ae99616b', 'accessionNo': '0001157733-25-000004', 'cik': '1157733', 'ticker': '', 'companyName': 'LIGHTHOUSE AGGRESSIVE GROWTH FUND LP', 'companyNameLong': 'LIGHTHOUSE AGGRESSIVE GROWTH FUND LP (Filer)', 'formType': 'D/A', 'description': 'Form D/A - Notice of Exempt Offering of Securities: [Amend] - Item 06b Item 3C Item 3C.7', 'filedAt': '2025-02-14T10:25:38-05:00', 'linkToTxt': 'https://www.sec.gov/Archives/edgar/data/1157733/000115773325000004/0001157733-25-000004.txt', 'linkToHtml': 'https://www.sec.gov/Archives/edgar/data/1157733/000115773325000004/0001157733-25-000004-index.htm', 'linkToXbrl': '', 'linkToFilingDetails': 'https://www.sec.gov/Archives/edgar/data/1157733/000115773325000004/xslFormDX01/primary_doc.xml', 'entities': [{'companyName': 'LIGHTHOUSE AGGRESSIVE GROWTH FUND LP (Filer)', 'cik': '1157733', 'irsNo': '000000000', 'stateOfIncorporation': 'DE', 'fiscalYearEnd': '1231', 'type': 'D/A', 'act': '33', 'fileNo': '021-360604', 'filmNo': '25624504'}], 'documentFormatFiles': [{'sequence': '1', 'documentUrl': 'https://www.sec.gov/Archives/edgar/data/1157733/000115773325000004/xslFormDX01/primary_doc.xml', 'type': 'D/A', 'size': '\\xa0'}, {'sequence': '1', 'documentUrl': 'https://www.sec.gov/Archives/edgar/data/1157733/000115773325000004/primary_doc.xml', 'type': 'D/A', 'size': '7534'}, {'sequence': '\\xa0', 'description': 'Complete submission text file', 'documentUrl': 'https://www.sec.gov/Archives/edgar/data/1157733/000115773325000004/0001157733-25-000004.txt', 'type': '\\xa0', 'size': '8744'}], 'dataFiles': [], 'seriesAndClassesContractsInformation': [], 'items': ['Item 06b: ', 'Item 3C: Investment Company Act Section 3(c)', 'Item 3C.7: Section 3(c)(7)'], 'effectivenessDate': '2025-02-14'}\n",
      "Full filing info: {'id': '1999201a4e9226ed6eed5e5ef89cfa88', 'accessionNo': '0002000324-25-000280', 'cik': '932781', 'ticker': 'FCCO', 'companyName': 'FIRST COMMUNITY CORP /SC/', 'companyNameLong': 'FIRST COMMUNITY CORP /SC/ (Subject)', 'formType': 'SCHEDULE 13G/A', 'description': 'Form SCHEDULE 13G/A - Statement of Beneficial Ownership by Certain Investors: [Amend]', 'filedAt': '2025-02-14T10:26:00-05:00', 'linkToTxt': 'https://www.sec.gov/Archives/edgar/data/932781/000200032425000280/0002000324-25-000280.txt', 'linkToHtml': 'https://www.sec.gov/Archives/edgar/data/932781/000200032425000280/0002000324-25-000280-index.htm', 'linkToXbrl': '', 'linkToFilingDetails': 'https://www.sec.gov/Archives/edgar/data/932781/000200032425000280/xslSCHEDULE_13G_X01/primary_doc.xml', 'entities': [{'companyName': 'FIRST COMMUNITY CORP /SC/ (Subject)', 'cik': '932781', 'irsNo': '571010751', 'stateOfIncorporation': 'SC', 'fiscalYearEnd': '1231', 'type': 'SCHEDULE 13G/A', 'act': '34', 'fileNo': '005-86540', 'filmNo': '25624506', 'sic': '6022 State Commercial Banks', 'undefined': '02 Finance)'}, {'companyName': 'Fourthstone LLC (Filed by)', 'cik': '1767803', 'irsNo': '463780351', 'stateOfIncorporation': 'MO', 'fiscalYearEnd': '1231'}], 'documentFormatFiles': [{'sequence': '1', 'documentUrl': 'https://www.sec.gov/Archives/edgar/data/932781/000200032425000280/xslSCHEDULE_13G_X01/primary_doc.xml', 'type': 'SCHEDULE 13G/A', 'size': '\\xa0'}, {'sequence': '1', 'documentUrl': 'https://www.sec.gov/Archives/edgar/data/932781/000200032425000280/primary_doc.xml', 'type': 'SCHEDULE 13G/A', 'size': '13186'}, {'sequence': '\\xa0', 'description': 'Complete submission text file', 'documentUrl': 'https://www.sec.gov/Archives/edgar/data/932781/000200032425000280/0002000324-25-000280.txt', 'type': '\\xa0', 'size': '14759'}], 'dataFiles': [], 'seriesAndClassesContractsInformation': []}\n",
      "Full filing info: {'id': '76bfc816921915e3e64256201fc246eb', 'accessionNo': '0002000324-25-000280', 'cik': '1767803', 'ticker': '', 'companyName': 'Fourthstone LLC', 'companyNameLong': 'Fourthstone LLC (Filed by)', 'formType': 'SCHEDULE 13G/A', 'description': 'Form SCHEDULE 13G/A - Statement of Beneficial Ownership by Certain Investors: [Amend]', 'filedAt': '2025-02-14T10:26:00-05:00', 'linkToTxt': 'https://www.sec.gov/Archives/edgar/data/1767803/000200032425000280/0002000324-25-000280.txt', 'linkToHtml': 'https://www.sec.gov/Archives/edgar/data/1767803/000200032425000280/0002000324-25-000280-index.htm', 'linkToXbrl': '', 'linkToFilingDetails': 'https://www.sec.gov/Archives/edgar/data/932781/000200032425000280/xslSCHEDULE_13G_X01/primary_doc.xml', 'entities': [{'companyName': 'FIRST COMMUNITY CORP /SC/ (Subject)', 'cik': '932781', 'irsNo': '571010751', 'stateOfIncorporation': 'SC', 'fiscalYearEnd': '1231', 'type': 'SCHEDULE 13G/A', 'act': '34', 'fileNo': '005-86540', 'filmNo': '25624506', 'sic': '6022 State Commercial Banks', 'undefined': '02 Finance)'}, {'companyName': 'Fourthstone LLC (Filed by)', 'cik': '1767803', 'irsNo': '463780351', 'stateOfIncorporation': 'MO', 'fiscalYearEnd': '1231', 'type': 'SCHEDULE 13G/A'}], 'documentFormatFiles': [{'sequence': '1', 'documentUrl': 'https://www.sec.gov/Archives/edgar/data/932781/000200032425000280/xslSCHEDULE_13G_X01/primary_doc.xml', 'type': 'SCHEDULE 13G/A', 'size': '\\xa0'}, {'sequence': '1', 'documentUrl': 'https://www.sec.gov/Archives/edgar/data/932781/000200032425000280/primary_doc.xml', 'type': 'SCHEDULE 13G/A', 'size': '13186'}, {'sequence': '\\xa0', 'description': 'Complete submission text file', 'documentUrl': 'https://www.sec.gov/Archives/edgar/data/932781/000200032425000280/0002000324-25-000280.txt', 'type': '\\xa0', 'size': '14759'}], 'dataFiles': [], 'seriesAndClassesContractsInformation': []}\n",
      "Full filing info: {'id': 'daee8096507906fb57eb7f65c6720e6c', 'accessionNo': '0000919574-25-001388', 'cik': '728387', 'ticker': 'CATX', 'companyName': 'Perspective Therapeutics, Inc.', 'companyNameLong': 'Perspective Therapeutics, Inc. (Subject)', 'formType': 'SCHEDULE 13G/A', 'description': 'Form SCHEDULE 13G/A - Statement of Beneficial Ownership by Certain Investors: [Amend]', 'filedAt': '2025-02-14T10:26:05-05:00', 'linkToTxt': 'https://www.sec.gov/Archives/edgar/data/728387/000091957425001388/0000919574-25-001388.txt', 'linkToHtml': 'https://www.sec.gov/Archives/edgar/data/728387/000091957425001388/0000919574-25-001388-index.htm', 'linkToXbrl': '', 'linkToFilingDetails': 'https://www.sec.gov/Archives/edgar/data/728387/000091957425001388/xslSCHEDULE_13G_X01/primary_doc.xml', 'entities': [{'companyName': 'Perspective Therapeutics, Inc. (Subject)', 'cik': '728387', 'irsNo': '411458152', 'stateOfIncorporation': 'DE', 'fiscalYearEnd': '1231', 'type': 'SCHEDULE 13G/A', 'act': '34', 'fileNo': '005-80930', 'filmNo': '25624507', 'sic': '3841 Surgical &amp; Medical Instruments &amp; Apparatus', 'undefined': '08 Industrial Applications and Services)'}, {'companyName': 'Avidity Partners Management LP (Filed by)', 'cik': '1791827', 'irsNo': '000000000', 'stateOfIncorporation': 'DE', 'fiscalYearEnd': '1231'}], 'documentFormatFiles': [{'sequence': '1', 'documentUrl': 'https://www.sec.gov/Archives/edgar/data/728387/000091957425001388/xslSCHEDULE_13G_X01/primary_doc.xml', 'type': 'SCHEDULE 13G/A', 'size': '\\xa0'}, {'sequence': '1', 'documentUrl': 'https://www.sec.gov/Archives/edgar/data/728387/000091957425001388/primary_doc.xml', 'type': 'SCHEDULE 13G/A', 'size': '15429'}, {'sequence': '2', 'documentUrl': 'https://www.sec.gov/Archives/edgar/data/728387/000091957425001388/d11609039_ex99-a.htm', 'type': 'EX-99', 'size': '8305'}, {'sequence': '\\xa0', 'description': 'Complete submission text file', 'documentUrl': 'https://www.sec.gov/Archives/edgar/data/728387/000091957425001388/0000919574-25-001388.txt', 'type': '\\xa0', 'size': '25795'}], 'dataFiles': [], 'seriesAndClassesContractsInformation': []}\n",
      "Full filing info: {'id': 'a4dcebda2b979110ec668cc55ddeac03', 'accessionNo': '0000919574-25-001388', 'cik': '1791827', 'ticker': '', 'companyName': 'Avidity Partners Management LP', 'companyNameLong': 'Avidity Partners Management LP (Filed by)', 'formType': 'SCHEDULE 13G/A', 'description': 'Form SCHEDULE 13G/A - Statement of Beneficial Ownership by Certain Investors: [Amend]', 'filedAt': '2025-02-14T10:26:05-05:00', 'linkToTxt': 'https://www.sec.gov/Archives/edgar/data/1791827/000091957425001388/0000919574-25-001388.txt', 'linkToHtml': 'https://www.sec.gov/Archives/edgar/data/1791827/000091957425001388/0000919574-25-001388-index.htm', 'linkToXbrl': '', 'linkToFilingDetails': 'https://www.sec.gov/Archives/edgar/data/728387/000091957425001388/xslSCHEDULE_13G_X01/primary_doc.xml', 'entities': [{'companyName': 'Perspective Therapeutics, Inc. (Subject)', 'cik': '728387', 'irsNo': '411458152', 'stateOfIncorporation': 'DE', 'fiscalYearEnd': '1231', 'type': 'SCHEDULE 13G/A', 'act': '34', 'fileNo': '005-80930', 'filmNo': '25624507', 'sic': '3841 Surgical &amp; Medical Instruments &amp; Apparatus', 'undefined': '08 Industrial Applications and Services)'}, {'companyName': 'Avidity Partners Management LP (Filed by)', 'cik': '1791827', 'irsNo': '000000000', 'stateOfIncorporation': 'DE', 'fiscalYearEnd': '1231', 'type': 'SCHEDULE 13G/A'}], 'documentFormatFiles': [{'sequence': '1', 'documentUrl': 'https://www.sec.gov/Archives/edgar/data/728387/000091957425001388/xslSCHEDULE_13G_X01/primary_doc.xml', 'type': 'SCHEDULE 13G/A', 'size': '\\xa0'}, {'sequence': '1', 'documentUrl': 'https://www.sec.gov/Archives/edgar/data/728387/000091957425001388/primary_doc.xml', 'type': 'SCHEDULE 13G/A', 'size': '15429'}, {'sequence': '2', 'documentUrl': 'https://www.sec.gov/Archives/edgar/data/728387/000091957425001388/d11609039_ex99-a.htm', 'type': 'EX-99', 'size': '8305'}, {'sequence': '\\xa0', 'description': 'Complete submission text file', 'documentUrl': 'https://www.sec.gov/Archives/edgar/data/728387/000091957425001388/0000919574-25-001388.txt', 'type': '\\xa0', 'size': '25795'}], 'dataFiles': [], 'seriesAndClassesContractsInformation': []}\n",
      "Full filing info: {'id': '770f9da778b231881c2a7be8f23703a0', 'accessionNo': '0001691982-25-000001', 'cik': '1691982', 'ticker': '', 'companyName': 'Bowie Capital Management, LLC', 'companyNameLong': 'Bowie Capital Management, LLC (Filer)', 'formType': '13F-HR', 'description': 'Form 13F-HR - Quarterly report filed by institutional managers, Holdings', 'filedAt': '2025-02-14T10:26:14-05:00', 'linkToTxt': 'https://www.sec.gov/Archives/edgar/data/1691982/000169198225000001/0001691982-25-000001.txt', 'linkToHtml': 'https://www.sec.gov/Archives/edgar/data/1691982/000169198225000001/0001691982-25-000001-index.htm', 'linkToXbrl': '', 'linkToFilingDetails': 'https://www.sec.gov/Archives/edgar/data/1691982/000169198225000001/xslForm13F_X02/primary_doc.xml', 'entities': [{'companyName': 'Bowie Capital Management, LLC (Filer)', 'cik': '1691982', 'irsNo': '000000000', 'stateOfIncorporation': 'TX', 'fiscalYearEnd': '1231'}], 'documentFormatFiles': [{'sequence': '1', 'documentUrl': 'https://www.sec.gov/Archives/edgar/data/1691982/000169198225000001/xslForm13F_X02/primary_doc.xml', 'type': '13F-HR', 'size': '\\xa0'}, {'sequence': '1', 'documentUrl': 'https://www.sec.gov/Archives/edgar/data/1691982/000169198225000001/primary_doc.xml', 'type': '13F-HR', 'size': '2049'}, {'sequence': '2', 'description': 'INFORMATION TABLE', 'documentUrl': 'https://www.sec.gov/Archives/edgar/data/1691982/000169198225000001/xslForm13F_X02/infotable.xml', 'type': 'INFORMATION TABLE', 'size': '\\xa0'}, {'sequence': '2', 'description': 'INFORMATION TABLE', 'documentUrl': 'https://www.sec.gov/Archives/edgar/data/1691982/000169198225000001/infotable.xml', 'type': 'INFORMATION TABLE', 'size': '17162'}, {'sequence': '\\xa0', 'description': 'Complete submission text file', 'documentUrl': 'https://www.sec.gov/Archives/edgar/data/1691982/000169198225000001/0001691982-25-000001.txt', 'type': '\\xa0', 'size': '20477'}], 'dataFiles': [], 'seriesAndClassesContractsInformation': [], 'periodOfReport': '2024-12-31', 'effectivenessDate': '2025-02-14'}\n",
      "Full filing info: {'id': '2501fa3a81829b9e219d36ea1557f516', 'accessionNo': '0001373604-25-000031', 'cik': '1633932', 'ticker': 'EPIX', 'companyName': 'ESSA Pharma Inc.', 'companyNameLong': 'ESSA Pharma Inc. (Subject)', 'formType': 'SCHEDULE 13G/A', 'description': 'Form SCHEDULE 13G/A - Statement of Beneficial Ownership by Certain Investors: [Amend]', 'filedAt': '2025-02-14T10:26:22-05:00', 'linkToTxt': 'https://www.sec.gov/Archives/edgar/data/1633932/000137360425000031/0001373604-25-000031.txt', 'linkToHtml': 'https://www.sec.gov/Archives/edgar/data/1633932/000137360425000031/0001373604-25-000031-index.htm', 'linkToXbrl': '', 'linkToFilingDetails': 'https://www.sec.gov/Archives/edgar/data/1373604/000137360425000031/xslSCHEDULE_13G_X01/primary_doc.xml', 'entities': [{'companyName': 'BML Investment Partners, L.P. (Filed by)', 'cik': '1373604', 'irsNo': '383708345', 'stateOfIncorporation': 'DE', 'fiscalYearEnd': '1231'}, {'companyName': 'ESSA Pharma Inc. (Subject)', 'cik': '1633932', 'irsNo': '000000000', 'stateOfIncorporation': 'A1', 'fiscalYearEnd': '0930', 'type': 'SCHEDULE 13G/A', 'act': '34', 'fileNo': '005-88939', 'filmNo': '25624510', 'sic': '2834 Pharmaceutical Preparations', 'undefined': '03 Life Sciences)'}], 'documentFormatFiles': [{'sequence': '1', 'documentUrl': 'https://www.sec.gov/Archives/edgar/data/1373604/000137360425000031/xslSCHEDULE_13G_X01/primary_doc.xml', 'type': 'SCHEDULE 13G/A', 'size': '\\xa0'}, {'sequence': '1', 'documentUrl': 'https://www.sec.gov/Archives/edgar/data/1373604/000137360425000031/primary_doc.xml', 'type': 'SCHEDULE 13G/A', 'size': '4863'}, {'sequence': '\\xa0', 'description': 'Complete submission text file', 'documentUrl': 'https://www.sec.gov/Archives/edgar/data/1373604/000137360425000031/0001373604-25-000031.txt', 'type': '\\xa0', 'size': '6552'}], 'dataFiles': [], 'seriesAndClassesContractsInformation': []}\n",
      "Full filing info: {'id': '672805bbd2a8df85f700364ea4e3d361', 'accessionNo': '0002023375-25-000001', 'cik': '2023375', 'ticker': '', 'companyName': 'Gen-Wealth Partners Inc', 'companyNameLong': 'Gen-Wealth Partners Inc (Filer)', 'formType': '13F-HR', 'description': 'Form 13F-HR - Quarterly report filed by institutional managers, Holdings', 'filedAt': '2025-02-14T10:26:21-05:00', 'linkToTxt': 'https://www.sec.gov/Archives/edgar/data/2023375/000202337525000001/0002023375-25-000001.txt', 'linkToHtml': 'https://www.sec.gov/Archives/edgar/data/2023375/000202337525000001/0002023375-25-000001-index.htm', 'linkToXbrl': '', 'linkToFilingDetails': 'https://www.sec.gov/Archives/edgar/data/2023375/000202337525000001/xslForm13F_X02/primary_doc.xml', 'entities': [{'companyName': 'Gen-Wealth Partners Inc (Filer)', 'cik': '2023375', 'irsNo': '474851723', 'stateOfIncorporation': 'MI', 'fiscalYearEnd': '1231', 'type': '13F-HR', 'act': '34', 'fileNo': '028-24161', 'filmNo': '25624509'}], 'documentFormatFiles': [{'sequence': '1', 'documentUrl': 'https://www.sec.gov/Archives/edgar/data/2023375/000202337525000001/xslForm13F_X02/primary_doc.xml', 'type': '13F-HR', 'size': '\\xa0'}, {'sequence': '1', 'documentUrl': 'https://www.sec.gov/Archives/edgar/data/2023375/000202337525000001/primary_doc.xml', 'type': '13F-HR', 'size': '1999'}, {'sequence': '2', 'description': 'GENWEALH4THQTR2024', 'documentUrl': 'https://www.sec.gov/Archives/edgar/data/2023375/000202337525000001/xslForm13F_X02/GW4qtr2024.xml', 'type': 'INFORMATION TABLE', 'size': '\\xa0'}, {'sequence': '2', 'description': 'GENWEALH4THQTR2024', 'documentUrl': 'https://www.sec.gov/Archives/edgar/data/2023375/000202337525000001/GW4qtr2024.xml', 'type': 'INFORMATION TABLE', 'size': '370413'}, {'sequence': '\\xa0', 'description': 'Complete submission text file', 'documentUrl': 'https://www.sec.gov/Archives/edgar/data/2023375/000202337525000001/0002023375-25-000001.txt', 'type': '\\xa0', 'size': '373624'}], 'dataFiles': [], 'seriesAndClassesContractsInformation': [], 'periodOfReport': '2024-12-31', 'effectivenessDate': '2025-02-14'}\n",
      "Full filing info: {'id': '410bf92d1e0119d6ce7c2ec8925fa511', 'accessionNo': '0001373604-25-000031', 'cik': '1373604', 'ticker': '', 'companyName': 'BML Investment Partners, L.P.', 'companyNameLong': 'BML Investment Partners, L.P. (Filed by)', 'formType': 'SCHEDULE 13G/A', 'description': 'Form SCHEDULE 13G/A - Statement of Beneficial Ownership by Certain Investors: [Amend]', 'filedAt': '2025-02-14T10:26:22-05:00', 'linkToTxt': 'https://www.sec.gov/Archives/edgar/data/1373604/000137360425000031/0001373604-25-000031.txt', 'linkToHtml': 'https://www.sec.gov/Archives/edgar/data/1373604/000137360425000031/0001373604-25-000031-index.htm', 'linkToXbrl': '', 'linkToFilingDetails': 'https://www.sec.gov/Archives/edgar/data/1373604/000137360425000031/xslSCHEDULE_13G_X01/primary_doc.xml', 'entities': [{'companyName': 'BML Investment Partners, L.P. (Filed by)', 'cik': '1373604', 'irsNo': '383708345', 'stateOfIncorporation': 'DE', 'fiscalYearEnd': '1231', 'type': 'SCHEDULE 13G/A'}, {'companyName': 'ESSA Pharma Inc. (Subject)', 'cik': '1633932', 'irsNo': '000000000', 'stateOfIncorporation': 'A1', 'fiscalYearEnd': '0930', 'type': 'SCHEDULE 13G/A', 'act': '34', 'fileNo': '005-88939', 'filmNo': '25624510', 'sic': '2834 Pharmaceutical Preparations', 'undefined': '03 Life Sciences)'}], 'documentFormatFiles': [{'sequence': '1', 'documentUrl': 'https://www.sec.gov/Archives/edgar/data/1373604/000137360425000031/xslSCHEDULE_13G_X01/primary_doc.xml', 'type': 'SCHEDULE 13G/A', 'size': '\\xa0'}, {'sequence': '1', 'documentUrl': 'https://www.sec.gov/Archives/edgar/data/1373604/000137360425000031/primary_doc.xml', 'type': 'SCHEDULE 13G/A', 'size': '4863'}, {'sequence': '\\xa0', 'description': 'Complete submission text file', 'documentUrl': 'https://www.sec.gov/Archives/edgar/data/1373604/000137360425000031/0001373604-25-000031.txt', 'type': '\\xa0', 'size': '6552'}], 'dataFiles': [], 'seriesAndClassesContractsInformation': []}\n",
      "Full filing info: {'id': '16be7dbec80cfd2bd12accdba3bd9679', 'accessionNo': '0001835700-25-000001', 'cik': '1835700', 'ticker': '', 'companyName': 'Wolfswood Holdings, LLC', 'companyNameLong': 'Wolfswood Holdings, LLC (Filer)', 'formType': '13F-HR', 'description': 'Form 13F-HR - Quarterly report filed by institutional managers, Holdings', 'filedAt': '2025-02-14T10:26:55-05:00', 'linkToTxt': 'https://www.sec.gov/Archives/edgar/data/1835700/000183570025000001/0001835700-25-000001.txt', 'linkToHtml': 'https://www.sec.gov/Archives/edgar/data/1835700/000183570025000001/0001835700-25-000001-index.htm', 'linkToXbrl': '', 'linkToFilingDetails': 'https://www.sec.gov/Archives/edgar/data/1835700/000183570025000001/xslForm13F_X02/primary_doc.xml', 'entities': [{'companyName': 'Wolfswood Holdings, LLC (Filer)', 'cik': '1835700', 'irsNo': '464896768', 'stateOfIncorporation': 'DE', 'fiscalYearEnd': '1231', 'type': '13F-HR', 'act': '34', 'fileNo': '028-20739', 'filmNo': '25624511'}], 'documentFormatFiles': [{'sequence': '1', 'documentUrl': 'https://www.sec.gov/Archives/edgar/data/1835700/000183570025000001/xslForm13F_X02/primary_doc.xml', 'type': '13F-HR', 'size': '\\xa0'}, {'sequence': '1', 'documentUrl': 'https://www.sec.gov/Archives/edgar/data/1835700/000183570025000001/primary_doc.xml', 'type': '13F-HR', 'size': '1959'}, {'sequence': '2', 'documentUrl': 'https://www.sec.gov/Archives/edgar/data/1835700/000183570025000001/xslForm13F_X02/13F_Pos_2024_Q4.xml', 'type': 'INFORMATION TABLE', 'size': '\\xa0'}, {'sequence': '2', 'documentUrl': 'https://www.sec.gov/Archives/edgar/data/1835700/000183570025000001/13F_Pos_2024_Q4.xml', 'type': 'INFORMATION TABLE', 'size': '1057'}, {'sequence': '\\xa0', 'description': 'Complete submission text file', 'documentUrl': 'https://www.sec.gov/Archives/edgar/data/1835700/000183570025000001/0001835700-25-000001.txt', 'type': '\\xa0', 'size': '4235'}], 'dataFiles': [], 'seriesAndClassesContractsInformation': [], 'periodOfReport': '2024-12-31', 'effectivenessDate': '2025-02-14'}\n",
      "Full filing info: {'id': '4314651b37587b0301a9b8db734e0e7c', 'accessionNo': '0001172661-25-000973', 'cik': '1335325', 'ticker': '', 'companyName': 'HighVista Strategies LLC', 'companyNameLong': 'HighVista Strategies LLC (Filer)', 'formType': '13F-HR', 'description': 'Form 13F-HR - Quarterly report filed by institutional managers, Holdings', 'filedAt': '2025-02-14T10:27:10-05:00', 'linkToTxt': 'https://www.sec.gov/Archives/edgar/data/1335325/000117266125000973/0001172661-25-000973.txt', 'linkToHtml': 'https://www.sec.gov/Archives/edgar/data/1335325/000117266125000973/0001172661-25-000973-index.htm', 'linkToXbrl': '', 'linkToFilingDetails': 'https://www.sec.gov/Archives/edgar/data/1335325/000117266125000973/xslForm13F_X02/primary_doc.xml', 'entities': [{'companyName': 'HighVista Strategies LLC (Filer)', 'cik': '1335325', 'irsNo': '830423786', 'stateOfIncorporation': 'DE', 'fiscalYearEnd': '1231', 'type': '13F-HR', 'act': '34', 'fileNo': '028-14212', 'filmNo': '25624512'}], 'documentFormatFiles': [{'sequence': '1', 'documentUrl': 'https://www.sec.gov/Archives/edgar/data/1335325/000117266125000973/xslForm13F_X02/primary_doc.xml', 'type': '13F-HR', 'size': '\\xa0'}, {'sequence': '1', 'documentUrl': 'https://www.sec.gov/Archives/edgar/data/1335325/000117266125000973/primary_doc.xml', 'type': '13F-HR', 'size': '2505'}, {'sequence': '2', 'documentUrl': 'https://www.sec.gov/Archives/edgar/data/1335325/000117266125000973/xslForm13F_X02/q201813f.inftab.xml', 'type': 'INFORMATION TABLE', 'size': '\\xa0'}, {'sequence': '2', 'documentUrl': 'https://www.sec.gov/Archives/edgar/data/1335325/000117266125000973/q201813f.inftab.xml', 'type': 'INFORMATION TABLE', 'size': '63517'}, {'sequence': '\\xa0', 'description': 'Complete submission text file', 'documentUrl': 'https://www.sec.gov/Archives/edgar/data/1335325/000117266125000973/0001172661-25-000973.txt', 'type': '\\xa0', 'size': '67230'}], 'dataFiles': [], 'seriesAndClassesContractsInformation': [], 'periodOfReport': '2024-12-31', 'effectivenessDate': '2025-02-14'}\n",
      "Full filing info: {'id': 'c3685351f98a530b145bea9f6244aafb', 'accessionNo': '0000919574-25-001390', 'cik': '1832568', 'ticker': '', 'companyName': 'RPD Fund Management LLC', 'companyNameLong': 'RPD Fund Management LLC (Filer)', 'formType': '13F-HR', 'description': 'Form 13F-HR - Quarterly report filed by institutional managers, Holdings', 'filedAt': '2025-02-14T10:27:15-05:00', 'linkToTxt': 'https://www.sec.gov/Archives/edgar/data/1832568/000091957425001390/0000919574-25-001390.txt', 'linkToHtml': 'https://www.sec.gov/Archives/edgar/data/1832568/000091957425001390/0000919574-25-001390-index.htm', 'linkToXbrl': '', 'linkToFilingDetails': 'https://www.sec.gov/Archives/edgar/data/1832568/000091957425001390/xslForm13F_X02/primary_doc.xml', 'entities': [{'companyName': 'RPD Fund Management LLC (Filer)', 'cik': '1832568', 'irsNo': '853812834', 'stateOfIncorporation': 'DE', 'fiscalYearEnd': '1231', 'type': '13F-HR', 'act': '34', 'fileNo': '028-21965', 'filmNo': '25624514'}], 'documentFormatFiles': [{'sequence': '1', 'documentUrl': 'https://www.sec.gov/Archives/edgar/data/1832568/000091957425001390/xslForm13F_X02/primary_doc.xml', 'type': '13F-HR', 'size': '\\xa0'}, {'sequence': '1', 'documentUrl': 'https://www.sec.gov/Archives/edgar/data/1832568/000091957425001390/primary_doc.xml', 'type': '13F-HR', 'size': '2454'}, {'sequence': '2', 'documentUrl': 'https://www.sec.gov/Archives/edgar/data/1832568/000091957425001390/xslForm13F_X02/infotable.xml', 'type': 'INFORMATION TABLE', 'size': '\\xa0'}, {'sequence': '2', 'documentUrl': 'https://www.sec.gov/Archives/edgar/data/1832568/000091957425001390/infotable.xml', 'type': 'INFORMATION TABLE', 'size': '8050'}, {'sequence': '\\xa0', 'description': 'Complete submission text file', 'documentUrl': 'https://www.sec.gov/Archives/edgar/data/1832568/000091957425001390/0000919574-25-001390.txt', 'type': '\\xa0', 'size': '11731'}], 'dataFiles': [], 'seriesAndClassesContractsInformation': [], 'periodOfReport': '2024-12-31', 'effectivenessDate': '2025-02-14'}\n",
      "Full filing info: {'id': '6e8a45d9f103e4d0680367f81160a1f4', 'accessionNo': '0001522453-25-000003', 'cik': '1522453', 'ticker': '', 'companyName': 'Lighthouse Asian Compass Segregated Portfolio, a segregated portfolio of Lighthouse Strategies Fund, SPC', 'companyNameLong': 'Lighthouse Asian Compass Segregated Portfolio, a segregated portfolio of Lighthouse Strategies Fund, SPC (Filer)', 'formType': 'D/A', 'description': 'Form D/A - Notice of Exempt Offering of Securities: [Amend] - Item 06b Item 3C Item 3C.7', 'filedAt': '2025-02-14T10:27:12-05:00', 'linkToTxt': 'https://www.sec.gov/Archives/edgar/data/1522453/000152245325000003/0001522453-25-000003.txt', 'linkToHtml': 'https://www.sec.gov/Archives/edgar/data/1522453/000152245325000003/0001522453-25-000003-index.htm', 'linkToXbrl': '', 'linkToFilingDetails': 'https://www.sec.gov/Archives/edgar/data/1522453/000152245325000003/xslFormDX01/primary_doc.xml', 'entities': [{'companyName': 'Lighthouse Asian Compass Segregated Portfolio, a segregated portfolio of Lighthouse Strategies Fund, SPC (Filer)', 'cik': '1522453', 'irsNo': '000000000', 'stateOfIncorporation': 'E9', 'fiscalYearEnd': '1231', 'type': 'D/A', 'act': '33', 'fileNo': '021-523028', 'filmNo': '25624513'}], 'documentFormatFiles': [{'sequence': '1', 'documentUrl': 'https://www.sec.gov/Archives/edgar/data/1522453/000152245325000003/xslFormDX01/primary_doc.xml', 'type': 'D/A', 'size': '\\xa0'}, {'sequence': '1', 'documentUrl': 'https://www.sec.gov/Archives/edgar/data/1522453/000152245325000003/primary_doc.xml', 'type': 'D/A', 'size': '9537'}, {'sequence': '\\xa0', 'description': 'Complete submission text file', 'documentUrl': 'https://www.sec.gov/Archives/edgar/data/1522453/000152245325000003/0001522453-25-000003.txt', 'type': '\\xa0', 'size': '10873'}], 'dataFiles': [], 'seriesAndClassesContractsInformation': [], 'items': ['Item 06b: ', 'Item 3C: Investment Company Act Section 3(c)', 'Item 3C.7: Section 3(c)(7)'], 'effectivenessDate': '2025-02-14'}\n",
      "Full filing info: {'id': 'e3a02b198e81ec4b04c7df118f2ee0da', 'accessionNo': '0000784977-25-000028', 'cik': '1926657', 'ticker': '', 'companyName': 'Trpik Joseph R JR', 'companyNameLong': 'Trpik Joseph R JR (Reporting)', 'formType': '4', 'description': 'Form 4 - Statement of changes in beneficial ownership of securities', 'filedAt': '2025-02-14T10:27:24-05:00', 'linkToTxt': 'https://www.sec.gov/Archives/edgar/data/1926657/000078497725000028/0000784977-25-000028.txt', 'linkToHtml': 'https://www.sec.gov/Archives/edgar/data/1926657/000078497725000028/0000784977-25-000028-index.htm', 'linkToXbrl': '', 'linkToFilingDetails': 'https://www.sec.gov/Archives/edgar/data/784977/000078497725000028/xslF345X05/wk-form4_1739546837.xml', 'entities': [{'companyName': 'PORTLAND GENERAL ELECTRIC CO /OR/ (Issuer)', 'cik': '784977', 'irsNo': '930256820', 'stateOfIncorporation': 'OR', 'fiscalYearEnd': '1231', 'sic': '4911 Electric Services', 'undefined': '01 Energy &amp; Transportation)'}, {'companyName': 'Trpik Joseph R JR (Reporting)', 'cik': '1926657', 'type': '4', 'act': '34', 'fileNo': '001-05532-99', 'filmNo': '25624516'}], 'documentFormatFiles': [{'sequence': '1', 'description': 'FORM 4', 'documentUrl': 'https://www.sec.gov/Archives/edgar/data/784977/000078497725000028/xslF345X05/wk-form4_1739546837.xml', 'type': '4', 'size': '\\xa0'}, {'sequence': '1', 'description': 'FORM 4', 'documentUrl': 'https://www.sec.gov/Archives/edgar/data/784977/000078497725000028/wk-form4_1739546837.xml', 'type': '4', 'size': '3077'}, {'sequence': '\\xa0', 'description': 'Complete submission text file', 'documentUrl': 'https://www.sec.gov/Archives/edgar/data/784977/000078497725000028/0000784977-25-000028.txt', 'type': '\\xa0', 'size': '4520'}], 'dataFiles': [], 'seriesAndClassesContractsInformation': [], 'periodOfReport': '2025-02-12'}\n",
      "Full filing info: {'id': 'c9224cfdb70104f47301432fed2011ac', 'accessionNo': '0001839882-25-009063', 'cik': '1114446', 'ticker': 'AMUB', 'companyName': 'UBS AG', 'companyNameLong': 'UBS AG (Filer)', 'formType': '424B2', 'description': 'Form 424B2 - Prospectus [Rule 424(b)(2)]', 'filedAt': '2025-02-14T10:27:20-05:00', 'linkToTxt': 'https://www.sec.gov/Archives/edgar/data/1114446/000183988225009063/0001839882-25-009063.txt', 'linkToHtml': 'https://www.sec.gov/Archives/edgar/data/1114446/000183988225009063/0001839882-25-009063-index.htm', 'linkToXbrl': '', 'linkToFilingDetails': 'https://www.sec.gov/Archives/edgar/data/1114446/000183988225009063/ubs_424b2-04685.htm', 'entities': [{'companyName': 'UBS AG (Filer)', 'cik': '1114446', 'irsNo': '000000000', 'stateOfIncorporation': 'V8', 'fiscalYearEnd': '1231', 'type': '424B2', 'act': '33', 'fileNo': '333-283672', 'filmNo': '25624515', 'sic': '6021 National Commercial Banks', 'undefined': '02 Finance)'}], 'documentFormatFiles': [{'sequence': '1', 'description': 'FORM 424B2', 'documentUrl': 'https://www.sec.gov/Archives/edgar/data/1114446/000183988225009063/ubs_424b2-04685.htm', 'type': '424B2', 'size': '286568'}, {'sequence': '2', 'description': 'EXHIBIT 107.1', 'documentUrl': 'https://www.sec.gov/Archives/edgar/data/1114446/000183988225009063/ex-filingfees.htm', 'type': 'EX-FILING FEES', 'size': '1597'}, {'sequence': '3', 'description': 'GRAPHIC', 'documentUrl': 'https://www.sec.gov/Archives/edgar/data/1114446/000183988225009063/image1.jpg', 'type': 'GRAPHIC', 'size': '12430'}, {'sequence': '4', 'description': 'GRAPHIC', 'documentUrl': 'https://www.sec.gov/Archives/edgar/data/1114446/000183988225009063/image2.jpg', 'type': 'GRAPHIC', 'size': '87494'}, {'sequence': '5', 'description': 'GRAPHIC', 'documentUrl': 'https://www.sec.gov/Archives/edgar/data/1114446/000183988225009063/arrow.jpg', 'type': 'GRAPHIC', 'size': '7759'}, {'sequence': '\\xa0', 'description': 'Complete submission text file', 'documentUrl': 'https://www.sec.gov/Archives/edgar/data/1114446/000183988225009063/0001839882-25-009063.txt', 'type': '\\xa0', 'size': '432342'}], 'dataFiles': [], 'seriesAndClassesContractsInformation': []}\n",
      "Full filing info: {'id': '0f3cea6f0961176b7110b78be825ad92', 'accessionNo': '0000784977-25-000028', 'cik': '784977', 'ticker': 'POR', 'companyName': 'PORTLAND GENERAL ELECTRIC CO /OR/', 'companyNameLong': 'PORTLAND GENERAL ELECTRIC CO /OR/ (Issuer)', 'formType': '4', 'description': 'Form 4 - Statement of changes in beneficial ownership of securities', 'filedAt': '2025-02-14T10:27:24-05:00', 'linkToTxt': 'https://www.sec.gov/Archives/edgar/data/784977/000078497725000028/0000784977-25-000028.txt', 'linkToHtml': 'https://www.sec.gov/Archives/edgar/data/784977/000078497725000028/0000784977-25-000028-index.htm', 'linkToXbrl': '', 'linkToFilingDetails': 'https://www.sec.gov/Archives/edgar/data/784977/000078497725000028/xslF345X05/wk-form4_1739546837.xml', 'entities': [{'companyName': 'PORTLAND GENERAL ELECTRIC CO /OR/ (Issuer)', 'cik': '784977', 'irsNo': '930256820', 'stateOfIncorporation': 'OR', 'fiscalYearEnd': '1231', 'sic': '4911 Electric Services', 'undefined': '01 Energy &amp; Transportation)'}, {'companyName': 'Trpik Joseph R JR (Reporting)', 'cik': '1926657', 'type': '4', 'act': '34', 'fileNo': '001-05532-99', 'filmNo': '25624516'}], 'documentFormatFiles': [{'sequence': '1', 'description': 'FORM 4', 'documentUrl': 'https://www.sec.gov/Archives/edgar/data/784977/000078497725000028/xslF345X05/wk-form4_1739546837.xml', 'type': '4', 'size': '\\xa0'}, {'sequence': '1', 'description': 'FORM 4', 'documentUrl': 'https://www.sec.gov/Archives/edgar/data/784977/000078497725000028/wk-form4_1739546837.xml', 'type': '4', 'size': '3077'}, {'sequence': '\\xa0', 'description': 'Complete submission text file', 'documentUrl': 'https://www.sec.gov/Archives/edgar/data/784977/000078497725000028/0000784977-25-000028.txt', 'type': '\\xa0', 'size': '4520'}], 'dataFiles': [], 'seriesAndClassesContractsInformation': [], 'periodOfReport': '2025-02-12'}\n",
      "Full filing info: {'id': '9d11489581ee3aa21554a2021feb8b2c', 'accessionNo': '0001405086-25-000069', 'cik': '1846838', 'ticker': '', 'companyName': 'Ewing Morris & Co. Investment Partners Ltd.', 'companyNameLong': 'Ewing Morris & Co. Investment Partners Ltd. (Filer)', 'formType': '13F-HR', 'description': 'Form 13F-HR - Quarterly report filed by institutional managers, Holdings', 'filedAt': '2025-02-14T10:27:37-05:00', 'linkToTxt': 'https://www.sec.gov/Archives/edgar/data/1846838/000140508625000069/0001405086-25-000069.txt', 'linkToHtml': 'https://www.sec.gov/Archives/edgar/data/1846838/000140508625000069/0001405086-25-000069-index.htm', 'linkToXbrl': '', 'linkToFilingDetails': 'https://www.sec.gov/Archives/edgar/data/1846838/000140508625000069/xslForm13F_X02/primary_doc.xml', 'entities': [{'companyName': 'Ewing Morris & Co. Investment Partners Ltd. (Filer)', 'cik': '1846838', 'irsNo': '000000000', 'type': '13F-HR', 'act': '34', 'fileNo': '028-21963', 'filmNo': '25624518'}], 'documentFormatFiles': [{'sequence': '1', 'documentUrl': 'https://www.sec.gov/Archives/edgar/data/1846838/000140508625000069/xslForm13F_X02/primary_doc.xml', 'type': '13F-HR', 'size': '\\xa0'}, {'sequence': '1', 'documentUrl': 'https://www.sec.gov/Archives/edgar/data/1846838/000140508625000069/primary_doc.xml', 'type': '13F-HR', 'size': '2061'}, {'sequence': '2', 'documentUrl': 'https://www.sec.gov/Archives/edgar/data/1846838/000140508625000069/xslForm13F_X02/ewing-table-q4-2024.xml', 'type': 'INFORMATION TABLE', 'size': '\\xa0'}, {'sequence': '2', 'documentUrl': 'https://www.sec.gov/Archives/edgar/data/1846838/000140508625000069/ewing-table-q4-2024.xml', 'type': 'INFORMATION TABLE', 'size': '50487'}, {'sequence': '\\xa0', 'description': 'Complete submission text file', 'documentUrl': 'https://www.sec.gov/Archives/edgar/data/1846838/000140508625000069/0001405086-25-000069.txt', 'type': '\\xa0', 'size': '53722'}], 'dataFiles': [], 'seriesAndClassesContractsInformation': [], 'periodOfReport': '2024-12-31', 'effectivenessDate': '2025-02-14'}\n",
      "Full filing info: {'id': '3294ef6867bdbb2dadf9daed4fd3a034', 'accessionNo': '0001140361-25-004519', 'cik': '1423774', 'ticker': 'ZUO', 'companyName': 'ZUORA INC', 'companyNameLong': 'ZUORA INC (Filer)', 'formType': 'POSASR', 'description': 'Form POSASR - Post-effective Amendment to an automatic shelf registration statement', 'filedAt': '2025-02-14T10:27:58-05:00', 'linkToTxt': 'https://www.sec.gov/Archives/edgar/data/1423774/000114036125004519/0001140361-25-004519.txt', 'linkToHtml': 'https://www.sec.gov/Archives/edgar/data/1423774/000114036125004519/0001140361-25-004519-index.htm', 'linkToXbrl': '', 'linkToFilingDetails': 'https://www.sec.gov/Archives/edgar/data/1423774/000114036125004519/ef20043592_posasr.htm', 'entities': [{'companyName': 'ZUORA INC (Filer)', 'cik': '1423774', 'irsNo': '205530976', 'stateOfIncorporation': 'DE', 'fiscalYearEnd': '0131', 'type': 'POSASR', 'act': '33', 'fileNo': '333-278240', 'filmNo': '25624521', 'sic': '7372 Services-Prepackaged Software', 'undefined': '06 Technology)'}], 'documentFormatFiles': [{'sequence': '1', 'description': 'POSASR', 'documentUrl': 'https://www.sec.gov/Archives/edgar/data/1423774/000114036125004519/ef20043592_posasr.htm', 'type': 'POSASR', 'size': '18542'}, {'sequence': '\\xa0', 'description': 'Complete submission text file', 'documentUrl': 'https://www.sec.gov/Archives/edgar/data/1423774/000114036125004519/0001140361-25-004519.txt', 'type': '\\xa0', 'size': '19568'}], 'dataFiles': [], 'seriesAndClassesContractsInformation': [], 'effectivenessDate': '2025-02-14'}\n",
      "Full filing info: {'id': '8e51da7c64d37454dfa65312150fe397', 'accessionNo': '0001765380-25-000111', 'cik': '2052916', 'ticker': '', 'companyName': 'BEARING POINT CAPITAL, LLC', 'companyNameLong': 'BEARING POINT CAPITAL, LLC (Filer)', 'formType': '13F-HR', 'description': 'Form 13F-HR - Quarterly report filed by institutional managers, Holdings', 'filedAt': '2025-02-14T10:27:52-05:00', 'linkToTxt': 'https://www.sec.gov/Archives/edgar/data/2052916/000176538025000111/0001765380-25-000111.txt', 'linkToHtml': 'https://www.sec.gov/Archives/edgar/data/2052916/000176538025000111/0001765380-25-000111-index.htm', 'linkToXbrl': '', 'linkToFilingDetails': 'https://www.sec.gov/Archives/edgar/data/2052916/000176538025000111/xslForm13F_X02/primary_doc.xml', 'entities': [{'companyName': 'BEARING POINT CAPITAL, LLC (Filer)', 'cik': '2052916', 'irsNo': '994033362', 'stateOfIncorporation': 'MN', 'fiscalYearEnd': '1231', 'type': '13F-HR', 'act': '34', 'fileNo': '028-25176', 'filmNo': '25624519'}], 'documentFormatFiles': [{'sequence': '1', 'documentUrl': 'https://www.sec.gov/Archives/edgar/data/2052916/000176538025000111/xslForm13F_X02/primary_doc.xml', 'type': '13F-HR', 'size': '\\xa0'}, {'sequence': '1', 'documentUrl': 'https://www.sec.gov/Archives/edgar/data/2052916/000176538025000111/primary_doc.xml', 'type': '13F-HR', 'size': '2070'}, {'sequence': '2', 'documentUrl': 'https://www.sec.gov/Archives/edgar/data/2052916/000176538025000111/xslForm13F_X02/bearingpoint13f.xml', 'type': 'INFORMATION TABLE', 'size': '\\xa0'}, {'sequence': '2', 'documentUrl': 'https://www.sec.gov/Archives/edgar/data/2052916/000176538025000111/bearingpoint13f.xml', 'type': 'INFORMATION TABLE', 'size': '81127'}, {'sequence': '\\xa0', 'description': 'Complete submission text file', 'documentUrl': 'https://www.sec.gov/Archives/edgar/data/2052916/000176538025000111/0001765380-25-000111.txt', 'type': '\\xa0', 'size': '84447'}], 'dataFiles': [], 'seriesAndClassesContractsInformation': [], 'periodOfReport': '2024-12-31', 'effectivenessDate': '2025-02-14'}\n",
      "Full filing info: {'id': '7b1a80f04308a81a1673184af83d2a18', 'accessionNo': '0001172661-25-000974', 'cik': '1905106', 'ticker': '', 'companyName': 'METEORA CAPITAL, LLC', 'companyNameLong': 'METEORA CAPITAL, LLC (Filed by)', 'formType': 'SCHEDULE 13G/A', 'description': 'Form SCHEDULE 13G/A - Statement of Beneficial Ownership by Certain Investors: [Amend]', 'filedAt': '2025-02-14T10:28:09-05:00', 'linkToTxt': 'https://www.sec.gov/Archives/edgar/data/1905106/000117266125000974/0001172661-25-000974.txt', 'linkToHtml': 'https://www.sec.gov/Archives/edgar/data/1905106/000117266125000974/0001172661-25-000974-index.htm', 'linkToXbrl': '', 'linkToFilingDetails': 'https://www.sec.gov/Archives/edgar/data/1827871/000117266125000974/xslSCHEDULE_13G_X01/primary_doc.xml', 'entities': [{'companyName': 'Electriq Power Holdings, Inc. (Subject)', 'cik': '1827871', 'irsNo': '000000000', 'stateOfIncorporation': 'DE', 'fiscalYearEnd': '1231', 'type': 'SCHEDULE 13G/A', 'act': '34', 'fileNo': '005-93386', 'filmNo': '25624523', 'sic': '3690 Miscellaneous Electrical Machinery, Equipment &amp; Supplies', 'undefined': '04 Manufacturing)'}, {'companyName': 'METEORA CAPITAL, LLC (Filed by)', 'cik': '1905106', 'irsNo': '000000000', 'stateOfIncorporation': 'DE', 'fiscalYearEnd': '1231', 'type': 'SCHEDULE 13G/A'}], 'documentFormatFiles': [{'sequence': '1', 'documentUrl': 'https://www.sec.gov/Archives/edgar/data/1827871/000117266125000974/xslSCHEDULE_13G_X01/primary_doc.xml', 'type': 'SCHEDULE 13G/A', 'size': '\\xa0'}, {'sequence': '1', 'documentUrl': 'https://www.sec.gov/Archives/edgar/data/1827871/000117266125000974/primary_doc.xml', 'type': 'SCHEDULE 13G/A', 'size': '8165'}, {'sequence': '\\xa0', 'description': 'Complete submission text file', 'documentUrl': 'https://www.sec.gov/Archives/edgar/data/1827871/000117266125000974/0001172661-25-000974.txt', 'type': '\\xa0', 'size': '10122'}], 'dataFiles': [], 'seriesAndClassesContractsInformation': []}\n",
      "Full filing info: {'id': 'f9b804b94d4d06775df43633c0c52ed8', 'accessionNo': '0001172661-25-000974', 'cik': '1827871', 'ticker': 'ELIQQ', 'companyName': 'Electriq Power Holdings, Inc.', 'companyNameLong': 'Electriq Power Holdings, Inc. (Subject)', 'formType': 'SCHEDULE 13G/A', 'description': 'Form SCHEDULE 13G/A - Statement of Beneficial Ownership by Certain Investors: [Amend]', 'filedAt': '2025-02-14T10:28:09-05:00', 'linkToTxt': 'https://www.sec.gov/Archives/edgar/data/1827871/000117266125000974/0001172661-25-000974.txt', 'linkToHtml': 'https://www.sec.gov/Archives/edgar/data/1827871/000117266125000974/0001172661-25-000974-index.htm', 'linkToXbrl': '', 'linkToFilingDetails': 'https://www.sec.gov/Archives/edgar/data/1827871/000117266125000974/xslSCHEDULE_13G_X01/primary_doc.xml', 'entities': [{'companyName': 'Electriq Power Holdings, Inc. (Subject)', 'cik': '1827871', 'irsNo': '000000000', 'stateOfIncorporation': 'DE', 'fiscalYearEnd': '1231', 'type': 'SCHEDULE 13G/A', 'act': '34', 'fileNo': '005-93386', 'filmNo': '25624523', 'sic': '3690 Miscellaneous Electrical Machinery, Equipment &amp; Supplies', 'undefined': '04 Manufacturing)'}, {'companyName': 'METEORA CAPITAL, LLC (Filed by)', 'cik': '1905106', 'irsNo': '000000000', 'stateOfIncorporation': 'DE', 'fiscalYearEnd': '1231', 'type': 'SCHEDULE 13G/A'}], 'documentFormatFiles': [{'sequence': '1', 'documentUrl': 'https://www.sec.gov/Archives/edgar/data/1827871/000117266125000974/xslSCHEDULE_13G_X01/primary_doc.xml', 'type': 'SCHEDULE 13G/A', 'size': '\\xa0'}, {'sequence': '1', 'documentUrl': 'https://www.sec.gov/Archives/edgar/data/1827871/000117266125000974/primary_doc.xml', 'type': 'SCHEDULE 13G/A', 'size': '8165'}, {'sequence': '\\xa0', 'description': 'Complete submission text file', 'documentUrl': 'https://www.sec.gov/Archives/edgar/data/1827871/000117266125000974/0001172661-25-000974.txt', 'type': '\\xa0', 'size': '10122'}], 'dataFiles': [], 'seriesAndClassesContractsInformation': []}\n",
      "Full filing info: {'id': 'c0b9d3d102c4b7ef4946111a1f490ab9', 'accessionNo': '0000313028-25-000024', 'cik': '894081', 'ticker': 'ATSG', 'companyName': 'Air Transport Services Group, Inc.', 'companyNameLong': 'Air Transport Services Group, Inc. (Subject)', 'formType': 'SCHEDULE 13G', 'description': 'Form SCHEDULE 13G - Statement of Beneficial Ownership by Certain Investors', 'filedAt': '2025-02-14T10:28:04-05:00', 'linkToTxt': 'https://www.sec.gov/Archives/edgar/data/894081/000031302825000024/0000313028-25-000024.txt', 'linkToHtml': 'https://www.sec.gov/Archives/edgar/data/894081/000031302825000024/0000313028-25-000024-index.htm', 'linkToXbrl': '', 'linkToFilingDetails': 'https://www.sec.gov/Archives/edgar/data/313028/000031302825000024/xslSCHEDULE_13G_X01/primary_doc.xml', 'entities': [{'companyName': 'BARROW HANLEY MEWHINNEY & STRAUSS LLC (Filed by)', 'cik': '313028', 'irsNo': '752403190', 'stateOfIncorporation': 'DE', 'fiscalYearEnd': '1231', 'type': 'SCHEDULE 13G'}, {'companyName': 'Air Transport Services Group, Inc. (Subject)', 'cik': '894081', 'irsNo': '261631624', 'stateOfIncorporation': 'DE', 'fiscalYearEnd': '1231', 'type': 'SCHEDULE 13G', 'act': '34', 'fileNo': '005-79181', 'filmNo': '25624522', 'sic': '4513 Air Courier Services', 'undefined': '01 Energy &amp; Transportation)'}], 'documentFormatFiles': [{'sequence': '1', 'documentUrl': 'https://www.sec.gov/Archives/edgar/data/313028/000031302825000024/xslSCHEDULE_13G_X01/primary_doc.xml', 'type': 'SCHEDULE 13G', 'size': '\\xa0'}, {'sequence': '1', 'documentUrl': 'https://www.sec.gov/Archives/edgar/data/313028/000031302825000024/primary_doc.xml', 'type': 'SCHEDULE 13G', 'size': '4152'}, {'sequence': '\\xa0', 'description': 'Complete submission text file', 'documentUrl': 'https://www.sec.gov/Archives/edgar/data/313028/000031302825000024/0000313028-25-000024.txt', 'type': '\\xa0', 'size': '6143'}], 'dataFiles': [], 'seriesAndClassesContractsInformation': []}\n",
      "Full filing info: {'id': '7302ec06f6a6aa25192d745291724f01', 'accessionNo': '0000313028-25-000024', 'cik': '313028', 'ticker': '', 'companyName': 'BARROW HANLEY MEWHINNEY & STRAUSS LLC', 'companyNameLong': 'BARROW HANLEY MEWHINNEY & STRAUSS LLC (Filed by)', 'formType': 'SCHEDULE 13G', 'description': 'Form SCHEDULE 13G - Statement of Beneficial Ownership by Certain Investors', 'filedAt': '2025-02-14T10:28:04-05:00', 'linkToTxt': 'https://www.sec.gov/Archives/edgar/data/313028/000031302825000024/0000313028-25-000024.txt', 'linkToHtml': 'https://www.sec.gov/Archives/edgar/data/313028/000031302825000024/0000313028-25-000024-index.htm', 'linkToXbrl': '', 'linkToFilingDetails': 'https://www.sec.gov/Archives/edgar/data/313028/000031302825000024/xslSCHEDULE_13G_X01/primary_doc.xml', 'entities': [{'companyName': 'BARROW HANLEY MEWHINNEY & STRAUSS LLC (Filed by)', 'cik': '313028', 'irsNo': '752403190', 'stateOfIncorporation': 'DE', 'fiscalYearEnd': '1231', 'type': 'SCHEDULE 13G'}, {'companyName': 'Air Transport Services Group, Inc. (Subject)', 'cik': '894081', 'irsNo': '261631624', 'stateOfIncorporation': 'DE', 'fiscalYearEnd': '1231', 'type': 'SCHEDULE 13G', 'act': '34', 'fileNo': '005-79181', 'filmNo': '25624522', 'sic': '4513 Air Courier Services', 'undefined': '01 Energy &amp; Transportation)'}], 'documentFormatFiles': [{'sequence': '1', 'documentUrl': 'https://www.sec.gov/Archives/edgar/data/313028/000031302825000024/xslSCHEDULE_13G_X01/primary_doc.xml', 'type': 'SCHEDULE 13G', 'size': '\\xa0'}, {'sequence': '1', 'documentUrl': 'https://www.sec.gov/Archives/edgar/data/313028/000031302825000024/primary_doc.xml', 'type': 'SCHEDULE 13G', 'size': '4152'}, {'sequence': '\\xa0', 'description': 'Complete submission text file', 'documentUrl': 'https://www.sec.gov/Archives/edgar/data/313028/000031302825000024/0000313028-25-000024.txt', 'type': '\\xa0', 'size': '6143'}], 'dataFiles': [], 'seriesAndClassesContractsInformation': []}\n",
      "Full filing info: {'id': '9abdfd4e23153bf114ce2575d5c364f8', 'accessionNo': '0001979028-25-000001', 'cik': '2056577', 'ticker': '', 'companyName': 'CHAPMAN FINANCIAL GROUP, LLC', 'companyNameLong': 'CHAPMAN FINANCIAL GROUP, LLC (Filer)', 'formType': '13F-HR', 'description': 'Form 13F-HR - Quarterly report filed by institutional managers, Holdings', 'filedAt': '2025-02-14T10:28:17-05:00', 'linkToTxt': 'https://www.sec.gov/Archives/edgar/data/2056577/000197902825000001/0001979028-25-000001.txt', 'linkToHtml': 'https://www.sec.gov/Archives/edgar/data/2056577/000197902825000001/0001979028-25-000001-index.htm', 'linkToXbrl': '', 'linkToFilingDetails': 'https://www.sec.gov/Archives/edgar/data/2056577/000197902825000001/xslForm13F_X02/primary_doc.xml', 'entities': [{'companyName': 'CHAPMAN FINANCIAL GROUP, LLC (Filer)', 'cik': '2056577', 'irsNo': '814749803', 'stateOfIncorporation': 'IL', 'fiscalYearEnd': '1231', 'type': '13F-HR', 'act': '34', 'fileNo': '028-25177', 'filmNo': '25624524'}], 'documentFormatFiles': [{'sequence': '1', 'documentUrl': 'https://www.sec.gov/Archives/edgar/data/2056577/000197902825000001/xslForm13F_X02/primary_doc.xml', 'type': '13F-HR', 'size': '\\xa0'}, {'sequence': '1', 'documentUrl': 'https://www.sec.gov/Archives/edgar/data/2056577/000197902825000001/primary_doc.xml', 'type': '13F-HR', 'size': '2011'}, {'sequence': '2', 'documentUrl': 'https://www.sec.gov/Archives/edgar/data/2056577/000197902825000001/xslForm13F_X02/chapman13fq42024.xml', 'type': 'INFORMATION TABLE', 'size': '\\xa0'}, {'sequence': '2', 'documentUrl': 'https://www.sec.gov/Archives/edgar/data/2056577/000197902825000001/chapman13fq42024.xml', 'type': 'INFORMATION TABLE', 'size': '120745'}, {'sequence': '\\xa0', 'description': 'Complete submission text file', 'documentUrl': 'https://www.sec.gov/Archives/edgar/data/2056577/000197902825000001/0001979028-25-000001.txt', 'type': '\\xa0', 'size': '123943'}], 'dataFiles': [], 'seriesAndClassesContractsInformation': [], 'periodOfReport': '2024-12-31', 'effectivenessDate': '2025-02-14'}\n",
      "Full filing info: {'id': '0aab4efb238ae784fa67be45bf0a91f5', 'accessionNo': '0001062993-25-002445', 'cik': '1984268', 'ticker': '', 'companyName': 'Foust Andrew', 'companyNameLong': 'Foust Andrew (Reporting)', 'formType': '4', 'description': 'Form 4 - Statement of changes in beneficial ownership of securities', 'filedAt': '2025-02-14T10:28:22-05:00', 'linkToTxt': 'https://www.sec.gov/Archives/edgar/data/1984268/000106299325002445/0001062993-25-002445.txt', 'linkToHtml': 'https://www.sec.gov/Archives/edgar/data/1984268/000106299325002445/0001062993-25-002445-index.htm', 'linkToXbrl': '', 'linkToFilingDetails': 'https://www.sec.gov/Archives/edgar/data/63754/000106299325002445/xslF345X05/form4.xml', 'entities': [{'companyName': 'MCCORMICK & CO INC (Issuer)', 'cik': '63754', 'irsNo': '520408290', 'stateOfIncorporation': 'MD', 'fiscalYearEnd': '1130', 'sic': '2090 Miscellaneous Food Preparations &amp; Kindred Products', 'undefined': '04 Manufacturing)'}, {'companyName': 'Foust Andrew (Reporting)', 'cik': '1984268', 'type': '4', 'act': '34', 'fileNo': '001-14920', 'filmNo': '25624525'}], 'documentFormatFiles': [{'sequence': '1', 'description': 'STATEMENT OF CHANGES IN BENEFICIAL OWNERSHIP OF SECURITIES', 'documentUrl': 'https://www.sec.gov/Archives/edgar/data/63754/000106299325002445/xslF345X05/form4.xml', 'type': '4', 'size': '\\xa0'}, {'sequence': '1', 'description': 'STATEMENT OF CHANGES IN BENEFICIAL OWNERSHIP OF SECURITIES', 'documentUrl': 'https://www.sec.gov/Archives/edgar/data/63754/000106299325002445/form4.xml', 'type': '4', 'size': '5088'}, {'sequence': '\\xa0', 'description': 'Complete submission text file', 'documentUrl': 'https://www.sec.gov/Archives/edgar/data/63754/000106299325002445/0001062993-25-002445.txt', 'type': '\\xa0', 'size': '6682'}], 'dataFiles': [], 'seriesAndClassesContractsInformation': [], 'periodOfReport': '2025-02-07'}\n",
      "Full filing info: {'id': 'b1c9c42c70561ed24d0fc6f3f490721d', 'accessionNo': '0001062993-25-002445', 'cik': '63754', 'ticker': 'MKC', 'companyName': 'MCCORMICK & CO INC', 'companyNameLong': 'MCCORMICK & CO INC (Issuer)', 'formType': '4', 'description': 'Form 4 - Statement of changes in beneficial ownership of securities', 'filedAt': '2025-02-14T10:28:22-05:00', 'linkToTxt': 'https://www.sec.gov/Archives/edgar/data/63754/000106299325002445/0001062993-25-002445.txt', 'linkToHtml': 'https://www.sec.gov/Archives/edgar/data/63754/000106299325002445/0001062993-25-002445-index.htm', 'linkToXbrl': '', 'linkToFilingDetails': 'https://www.sec.gov/Archives/edgar/data/63754/000106299325002445/xslF345X05/form4.xml', 'entities': [{'companyName': 'MCCORMICK & CO INC (Issuer)', 'cik': '63754', 'irsNo': '520408290', 'stateOfIncorporation': 'MD', 'fiscalYearEnd': '1130', 'sic': '2090 Miscellaneous Food Preparations &amp; Kindred Products', 'undefined': '04 Manufacturing)'}, {'companyName': 'Foust Andrew (Reporting)', 'cik': '1984268', 'type': '4', 'act': '34', 'fileNo': '001-14920', 'filmNo': '25624525'}], 'documentFormatFiles': [{'sequence': '1', 'description': 'STATEMENT OF CHANGES IN BENEFICIAL OWNERSHIP OF SECURITIES', 'documentUrl': 'https://www.sec.gov/Archives/edgar/data/63754/000106299325002445/xslF345X05/form4.xml', 'type': '4', 'size': '\\xa0'}, {'sequence': '1', 'description': 'STATEMENT OF CHANGES IN BENEFICIAL OWNERSHIP OF SECURITIES', 'documentUrl': 'https://www.sec.gov/Archives/edgar/data/63754/000106299325002445/form4.xml', 'type': '4', 'size': '5088'}, {'sequence': '\\xa0', 'description': 'Complete submission text file', 'documentUrl': 'https://www.sec.gov/Archives/edgar/data/63754/000106299325002445/0001062993-25-002445.txt', 'type': '\\xa0', 'size': '6682'}], 'dataFiles': [], 'seriesAndClassesContractsInformation': [], 'periodOfReport': '2025-02-07'}\n",
      "Full filing info: {'id': '8071fc9e0808d8bcc4b9a5d9a9c8c03b', 'accessionNo': '0001415889-25-003970', 'cik': '1190303', 'ticker': '', 'companyName': 'RUST BRADLEY M', 'companyNameLong': 'RUST BRADLEY M (Reporting)', 'formType': '5', 'description': 'Form 5 - Annual statement of changes in beneficial ownership of securities', 'filedAt': '2025-02-14T10:28:34-05:00', 'linkToTxt': 'https://www.sec.gov/Archives/edgar/data/1190303/000141588925003970/0001415889-25-003970.txt', 'linkToHtml': 'https://www.sec.gov/Archives/edgar/data/1190303/000141588925003970/0001415889-25-003970-index.htm', 'linkToXbrl': '', 'linkToFilingDetails': 'https://www.sec.gov/Archives/edgar/data/714395/000141588925003970/xslF345X05/form5-02142025_030231.xml', 'entities': [{'companyName': 'GERMAN AMERICAN BANCORP, INC. (Issuer)', 'cik': '714395', 'irsNo': '351547518', 'stateOfIncorporation': 'IN', 'fiscalYearEnd': '1231', 'sic': '6022 State Commercial Banks', 'undefined': '02 Finance)'}, {'companyName': 'RUST BRADLEY M (Reporting)', 'cik': '1190303', 'type': '5', 'act': '34', 'fileNo': '001-15877', 'filmNo': '25624526'}], 'documentFormatFiles': [{'sequence': '1', 'documentUrl': 'https://www.sec.gov/Archives/edgar/data/714395/000141588925003970/xslF345X05/form5-02142025_030231.xml', 'type': '5', 'size': '\\xa0'}, {'sequence': '1', 'documentUrl': 'https://www.sec.gov/Archives/edgar/data/714395/000141588925003970/form5-02142025_030231.xml', 'type': '5', 'size': '2696'}, {'sequence': '\\xa0', 'description': 'Complete submission text file', 'documentUrl': 'https://www.sec.gov/Archives/edgar/data/714395/000141588925003970/0001415889-25-003970.txt', 'type': '\\xa0', 'size': '4272'}], 'dataFiles': [], 'seriesAndClassesContractsInformation': [], 'periodOfReport': '2024-12-31'}\n",
      "Full filing info: {'id': 'bf4cd73454c0e117f2f4ca4efe469534', 'accessionNo': '0001415889-25-003970', 'cik': '714395', 'ticker': 'GABC', 'companyName': 'GERMAN AMERICAN BANCORP, INC.', 'companyNameLong': 'GERMAN AMERICAN BANCORP, INC. (Issuer)', 'formType': '5', 'description': 'Form 5 - Annual statement of changes in beneficial ownership of securities', 'filedAt': '2025-02-14T10:28:34-05:00', 'linkToTxt': 'https://www.sec.gov/Archives/edgar/data/714395/000141588925003970/0001415889-25-003970.txt', 'linkToHtml': 'https://www.sec.gov/Archives/edgar/data/714395/000141588925003970/0001415889-25-003970-index.htm', 'linkToXbrl': '', 'linkToFilingDetails': 'https://www.sec.gov/Archives/edgar/data/714395/000141588925003970/xslF345X05/form5-02142025_030231.xml', 'entities': [{'companyName': 'GERMAN AMERICAN BANCORP, INC. (Issuer)', 'cik': '714395', 'irsNo': '351547518', 'stateOfIncorporation': 'IN', 'fiscalYearEnd': '1231', 'sic': '6022 State Commercial Banks', 'undefined': '02 Finance)'}, {'companyName': 'RUST BRADLEY M (Reporting)', 'cik': '1190303', 'type': '5', 'act': '34', 'fileNo': '001-15877', 'filmNo': '25624526'}], 'documentFormatFiles': [{'sequence': '1', 'documentUrl': 'https://www.sec.gov/Archives/edgar/data/714395/000141588925003970/xslF345X05/form5-02142025_030231.xml', 'type': '5', 'size': '\\xa0'}, {'sequence': '1', 'documentUrl': 'https://www.sec.gov/Archives/edgar/data/714395/000141588925003970/form5-02142025_030231.xml', 'type': '5', 'size': '2696'}, {'sequence': '\\xa0', 'description': 'Complete submission text file', 'documentUrl': 'https://www.sec.gov/Archives/edgar/data/714395/000141588925003970/0001415889-25-003970.txt', 'type': '\\xa0', 'size': '4272'}], 'dataFiles': [], 'seriesAndClassesContractsInformation': [], 'periodOfReport': '2024-12-31'}\n",
      "Full filing info: {'id': '125782be5c8df61ae84a7c40df39a34c', 'accessionNo': '0001172661-25-000975', 'cik': '1905106', 'ticker': '', 'companyName': 'METEORA CAPITAL, LLC', 'companyNameLong': 'METEORA CAPITAL, LLC (Filed by)', 'formType': 'SCHEDULE 13G/A', 'description': 'Form SCHEDULE 13G/A - Statement of Beneficial Ownership by Certain Investors: [Amend]', 'filedAt': '2025-02-14T10:28:42-05:00', 'linkToTxt': 'https://www.sec.gov/Archives/edgar/data/1905106/000117266125000975/0001172661-25-000975.txt', 'linkToHtml': 'https://www.sec.gov/Archives/edgar/data/1905106/000117266125000975/0001172661-25-000975-index.htm', 'linkToXbrl': '', 'linkToFilingDetails': 'https://www.sec.gov/Archives/edgar/data/1900402/000117266125000975/xslSCHEDULE_13G_X01/primary_doc.xml', 'entities': [{'companyName': 'Evergreen Corp (Subject)', 'cik': '1900402', 'irsNo': '000000000', 'fiscalYearEnd': '1130', 'type': 'SCHEDULE 13G/A', 'act': '34', 'fileNo': '005-93565', 'filmNo': '25624527', 'sic': '6770 Blank Checks', 'undefined': '05 Real Estate &amp; Construction)'}, {'companyName': 'METEORA CAPITAL, LLC (Filed by)', 'cik': '1905106', 'irsNo': '000000000', 'stateOfIncorporation': 'DE', 'fiscalYearEnd': '1231', 'type': 'SCHEDULE 13G/A'}], 'documentFormatFiles': [{'sequence': '1', 'documentUrl': 'https://www.sec.gov/Archives/edgar/data/1900402/000117266125000975/xslSCHEDULE_13G_X01/primary_doc.xml', 'type': 'SCHEDULE 13G/A', 'size': '\\xa0'}, {'sequence': '1', 'documentUrl': 'https://www.sec.gov/Archives/edgar/data/1900402/000117266125000975/primary_doc.xml', 'type': 'SCHEDULE 13G/A', 'size': '8073'}, {'sequence': '\\xa0', 'description': 'Complete submission text file', 'documentUrl': 'https://www.sec.gov/Archives/edgar/data/1900402/000117266125000975/0001172661-25-000975.txt', 'type': '\\xa0', 'size': '9841'}], 'dataFiles': [], 'seriesAndClassesContractsInformation': []}\n",
      "Full filing info: {'id': '2d331ccd12dc1acf0aea5bd8ed9538ad', 'accessionNo': '0001172661-25-000975', 'cik': '1900402', 'ticker': 'EVGR', 'companyName': 'Evergreen Corp', 'companyNameLong': 'Evergreen Corp (Subject)', 'formType': 'SCHEDULE 13G/A', 'description': 'Form SCHEDULE 13G/A - Statement of Beneficial Ownership by Certain Investors: [Amend]', 'filedAt': '2025-02-14T10:28:42-05:00', 'linkToTxt': 'https://www.sec.gov/Archives/edgar/data/1900402/000117266125000975/0001172661-25-000975.txt', 'linkToHtml': 'https://www.sec.gov/Archives/edgar/data/1900402/000117266125000975/0001172661-25-000975-index.htm', 'linkToXbrl': '', 'linkToFilingDetails': 'https://www.sec.gov/Archives/edgar/data/1900402/000117266125000975/xslSCHEDULE_13G_X01/primary_doc.xml', 'entities': [{'companyName': 'Evergreen Corp (Subject)', 'cik': '1900402', 'irsNo': '000000000', 'fiscalYearEnd': '1130', 'type': 'SCHEDULE 13G/A', 'act': '34', 'fileNo': '005-93565', 'filmNo': '25624527', 'sic': '6770 Blank Checks', 'undefined': '05 Real Estate &amp; Construction)'}, {'companyName': 'METEORA CAPITAL, LLC (Filed by)', 'cik': '1905106', 'irsNo': '000000000', 'stateOfIncorporation': 'DE', 'fiscalYearEnd': '1231'}], 'documentFormatFiles': [{'sequence': '1', 'documentUrl': 'https://www.sec.gov/Archives/edgar/data/1900402/000117266125000975/xslSCHEDULE_13G_X01/primary_doc.xml', 'type': 'SCHEDULE 13G/A', 'size': '\\xa0'}, {'sequence': '1', 'documentUrl': 'https://www.sec.gov/Archives/edgar/data/1900402/000117266125000975/primary_doc.xml', 'type': 'SCHEDULE 13G/A', 'size': '8073'}, {'sequence': '\\xa0', 'description': 'Complete submission text file', 'documentUrl': 'https://www.sec.gov/Archives/edgar/data/1900402/000117266125000975/0001172661-25-000975.txt', 'type': '\\xa0', 'size': '9841'}], 'dataFiles': [], 'seriesAndClassesContractsInformation': []}\n"
     ]
    }
   ],
   "source": [
    "import asyncio\n",
    "import websockets\n",
    "import json\n",
    "SERVER_URL = \"wss://stream.sec-api.io\"\n",
    "WS_ENDPOINT = SERVER_URL + \"?apiKey=\" + SEC_API_KEY\n",
    "async def websocket_client():\n",
    "    try:\n",
    "        async with websockets.connect(WS_ENDPOINT) as websocket:\n",
    "            print(\"✅ Connected to:\", SERVER_URL)\n",
    "            while True:\n",
    "                message = await websocket.recv()\n",
    "                filings = json.loads(message)\n",
    "                for f in filings:\n",
    "                    print(f\"Full filing info: {f}\")\n",
    "                    # print(f[\"accessionNo\"], f[\"formType\"], f[\"filedAt\"], f[\"cik\"])\n",
    "    except Exception as e:\n",
    "        print(f\"An unexpected error occurred: {e}\")\n",
    "# asyncio.run(websocket_client())\n",
    "await websocket_client()"
   ]
  },
  {
   "cell_type": "markdown",
   "metadata": {},
   "source": [
    "# Filtering Rules"
   ]
  },
  {
   "cell_type": "markdown",
   "metadata": {},
   "source": [
    "Original filing format: {'id': '2d18c83f53d9561f521252206a523cdb', 'accessionNo': '0001949846-25-000046', 'cik': '1773383', 'ticker': 'DT', 'companyName': 'Dynatrace, Inc.', 'companyNameLong': 'Dynatrace, Inc. (Subject)', 'formType': '144', 'description': 'Form 144 - Report of proposed sale of securities', 'filedAt': '2025-02-14T10:25:23-05:00', 'linkToTxt': 'https://www.sec.gov/Archives/edgar/data/1773383/000194984625000046/0001949846-25-000046.txt', 'linkToHtml': 'https://www.sec.gov/Archives/edgar/data/1773383/000194984625000046/0001949846-25-000046-index.htm', 'linkToXbrl': '', 'linkToFilingDetails': 'https://www.sec.gov/Archives/edgar/data/1773383/000194984625000046/xsl144X01/primary_doc.xml', 'entities': [{'companyName': 'Dynatrace, Inc. (Subject)', 'cik': '1773383', 'irsNo': '000000000', 'fiscalYearEnd': '0331', 'sic': '7372 Services-Prepackaged Software', 'undefined': '06 Technology)'}], 'documentFormatFiles': [{'sequence': '1', 'documentUrl': 'https://www.sec.gov/Archives/edgar/data/1773383/000194984625000046/xsl144X01/primary_doc.xml', 'type': '144', 'size': '\\xa0'}, {'sequence': '1', 'documentUrl': 'https://www.sec.gov/Archives/edgar/data/1773383/000194984625000046/primary_doc.xml', 'type': '144', 'size': '2966'}, {'sequence': '\\xa0', 'description': 'Complete submission text file', 'documentUrl': 'https://www.sec.gov/Archives/edgar/data/1773383/000194984625000046/0001949846-25-000046.txt', 'type': '\\xa0', 'size': '4442'}], 'dataFiles': [], 'seriesAndClassesContractsInformation': []}\n"
   ]
  },
  {
   "cell_type": "markdown",
   "metadata": {},
   "source": [
    "1. Filter filings based on the \"formType\":\n",
    "\n",
    "- Keep filings where \"formType\" is one of ['8-K', '10-K', '10-Q', '8-K/A', '10-K/A', '10-Q/A']\n",
    "- Discard any filing where \"formType\" does not match the above list\n",
    "\n",
    "\n",
    "2. For each filing, process the data based on the \"formType\":\n",
    "a. If \"formType\" is one of ['10-K', '10-Q', '10-K/A', '10-Q/A']:\n",
    "\n",
    "- Check the 'dataFiles' array for an object where 'type' is 'XML'\n",
    "- If found, extract the URL from the 'documentUrl' field within that object\n",
    "- If no XML data is found, discard the filing\n",
    "\n",
    "\n",
    "b. If \"formType\" is one of ['8-K', '8-K/A']:\n",
    "\n",
    "- Check the 'dataFiles' array for an object where 'type' is 'XML'\n",
    "- If found, extract the URL from the 'documentUrl' field within that object\n",
    "- If not found, get the URL from the 'linkToTxt' field\n",
    "\n",
    "\n",
    "3. Process the 'documentFormatFiles' array for each filing:\n",
    "\n",
    "- Iterate through the 'documentFormatFiles' array\n",
    "- For each object in the array, check if the 'type' field starts with 'EX-10.' or 'EX-99.'\n",
    "- If the 'type' field matches 'EX-10.' or 'EX-99.', extract the URL from the 'documentUrl' field within that object\n",
    "- Discard all other objects in the 'documentFormatFiles' array where the 'type' field does not start with 'EX-10.' or 'EX-99.'\n",
    "\n",
    "\n",
    "4. Output a single line for each filing that includes:\n",
    "\n",
    "- Base fields (e.g., \"id\", \"companyName\", \"formType\", \"filingDate\", etc.)\n",
    "- Entity fields (e.g., \"entityId\", \"entityName\", etc.)\n",
    "- A dictionary containing the extracted 'EX-10.x' and 'EX-99.x' exhibits along with their associated URLs\n",
    "\n",
    "\n",
    "The goal is to have each row of the output contain all the relevant metadata for a single filing, including the primary form URL (based on the \"formType\" rules) and the associated 'EX-10.x' and 'EX-99.x' exhibit URLs (if any)."
   ]
  },
  {
   "cell_type": "markdown",
   "metadata": {},
   "source": [
    "    RULE: Discard any filing where \"formType\" != ['8-K', '10-K', '10-Q', '8-K/A', '10-K/A', '10-Q/A']\n",
    "\n",
    "    \n",
    "    * Note ouput for each filing below will have a single line ouput with **all meta details for that filing**. Meaning each row will include base_fields, entity fields as well as a dictionary containing any 'EX-10.x' or 'EX-99.x' and their associated url (based on rules below)\n",
    "\n",
    "\n",
    "    RULE IF \"formType\" == ['10-K', '10-Q', '10-K/A', '10-Q/A'], Keep following data:\n",
    "        1. In 'dataFiles' > 'type' == 'XML', get url from 'documentUrl' (in 'dataFiles')\n",
    "        2. Discard if no XML data is found\n",
    "\n",
    "    RULE IF \"formType\" == ['8-K', '8-K/A'], Keep following data:\n",
    "        1. If 'dataFiles' > 'type' == 'XML', get url from 'documentUrl' (in 'dataFiles') else get url from 'linkToTxt'\n",
    "\n",
    "    RULE for finding EX-10.x and EX-99.x for each \"formType\" above:\n",
    "        1. In 'documentFormatFiles' > 'type' == 'EX-10.x' or 'EX-99.x', get value from 'documentUrl' (in documentFormatFiles)\n",
    "        2. Discard all other 'documentFormatFiles' > 'type' and in the same line store 'EX-10.x' or 'EX-99.x' along with their associated url ('documentUrl')\n",
    "\n",
    "Overall idea is that each single line of output will contain primary forms such as ['8-K', '10-K', '10-Q', '8-K/A', '10-K/A', '10-Q/A'] along with their associated EX-10.x and EX-99.x exhibits urls.\n",
    "        "
   ]
  },
  {
   "cell_type": "code",
   "execution_count": null,
   "metadata": {},
   "outputs": [],
   "source": []
  },
  {
   "cell_type": "markdown",
   "metadata": {},
   "source": [
    "### For storing the data in a Json file\n"
   ]
  },
  {
   "cell_type": "code",
   "execution_count": null,
   "metadata": {},
   "outputs": [
    {
     "name": "stdout",
     "output_type": "stream",
     "text": [
      "✅ Connected to: wss://stream.sec-api.io\n",
      "✅ Data saved to sec_filings.json\n",
      "✅ Data saved to sec_filings.json\n",
      "✅ Data saved to sec_filings.json\n",
      "✅ Data saved to sec_filings.json\n",
      "✅ Data saved to sec_filings.json\n",
      "✅ Data saved to sec_filings.json\n",
      "✅ Data saved to sec_filings.json\n",
      "✅ Data saved to sec_filings.json\n",
      "✅ Data saved to sec_filings.json\n",
      "✅ Data saved to sec_filings.json\n",
      "✅ Data saved to sec_filings.json\n",
      "✅ Data saved to sec_filings.json\n",
      "✅ Data saved to sec_filings.json\n",
      "✅ Data saved to sec_filings.json\n",
      "✅ Data saved to sec_filings.json\n",
      "✅ Data saved to sec_filings.json\n",
      "✅ Data saved to sec_filings.json\n",
      "✅ Data saved to sec_filings.json\n",
      "✅ Data saved to sec_filings.json\n",
      "✅ Data saved to sec_filings.json\n",
      "✅ Data saved to sec_filings.json\n",
      "✅ Data saved to sec_filings.json\n",
      "✅ Data saved to sec_filings.json\n",
      "✅ Data saved to sec_filings.json\n",
      "✅ Data saved to sec_filings.json\n",
      "✅ Data saved to sec_filings.json\n",
      "✅ Data saved to sec_filings.json\n",
      "✅ Data saved to sec_filings.json\n",
      "✅ Data saved to sec_filings.json\n",
      "✅ Data saved to sec_filings.json\n",
      "✅ Data saved to sec_filings.json\n",
      "✅ Data saved to sec_filings.json\n",
      "✅ Data saved to sec_filings.json\n",
      "✅ Data saved to sec_filings.json\n",
      "✅ Data saved to sec_filings.json\n",
      "✅ Data saved to sec_filings.json\n",
      "✅ Data saved to sec_filings.json\n",
      "✅ Data saved to sec_filings.json\n",
      "✅ Data saved to sec_filings.json\n",
      "✅ Data saved to sec_filings.json\n",
      "✅ Data saved to sec_filings.json\n",
      "✅ Data saved to sec_filings.json\n",
      "✅ Data saved to sec_filings.json\n",
      "✅ Data saved to sec_filings.json\n",
      "✅ Data saved to sec_filings.json\n",
      "✅ Data saved to sec_filings.json\n",
      "✅ Data saved to sec_filings.json\n",
      "✅ Data saved to sec_filings.json\n",
      "✅ Data saved to sec_filings.json\n",
      "✅ Data saved to sec_filings.json\n",
      "✅ Data saved to sec_filings.json\n",
      "✅ Data saved to sec_filings.json\n",
      "✅ Data saved to sec_filings.json\n",
      "✅ Data saved to sec_filings.json\n",
      "✅ Data saved to sec_filings.json\n",
      "✅ Data saved to sec_filings.json\n",
      "✅ Data saved to sec_filings.json\n",
      "✅ Data saved to sec_filings.json\n",
      "✅ Data saved to sec_filings.json\n",
      "✅ Data saved to sec_filings.json\n",
      "✅ Data saved to sec_filings.json\n",
      "✅ Data saved to sec_filings.json\n",
      "✅ Data saved to sec_filings.json\n",
      "✅ Data saved to sec_filings.json\n",
      "✅ Data saved to sec_filings.json\n",
      "✅ Data saved to sec_filings.json\n",
      "✅ Data saved to sec_filings.json\n",
      "✅ Data saved to sec_filings.json\n",
      "✅ Data saved to sec_filings.json\n",
      "✅ Data saved to sec_filings.json\n",
      "✅ Data saved to sec_filings.json\n",
      "✅ Data saved to sec_filings.json\n",
      "✅ Data saved to sec_filings.json\n",
      "✅ Data saved to sec_filings.json\n",
      "✅ Data saved to sec_filings.json\n",
      "✅ Data saved to sec_filings.json\n",
      "✅ Data saved to sec_filings.json\n",
      "✅ Data saved to sec_filings.json\n",
      "✅ Data saved to sec_filings.json\n",
      "✅ Data saved to sec_filings.json\n",
      "✅ Data saved to sec_filings.json\n",
      "✅ Data saved to sec_filings.json\n",
      "✅ Data saved to sec_filings.json\n",
      "✅ Data saved to sec_filings.json\n",
      "✅ Data saved to sec_filings.json\n",
      "✅ Data saved to sec_filings.json\n",
      "✅ Data saved to sec_filings.json\n",
      "✅ Data saved to sec_filings.json\n",
      "✅ Data saved to sec_filings.json\n",
      "✅ Data saved to sec_filings.json\n",
      "✅ Data saved to sec_filings.json\n",
      "✅ Data saved to sec_filings.json\n",
      "✅ Data saved to sec_filings.json\n",
      "✅ Data saved to sec_filings.json\n",
      "✅ Data saved to sec_filings.json\n",
      "✅ Data saved to sec_filings.json\n",
      "✅ Data saved to sec_filings.json\n",
      "✅ Data saved to sec_filings.json\n",
      "✅ Data saved to sec_filings.json\n",
      "✅ Data saved to sec_filings.json\n",
      "✅ Data saved to sec_filings.json\n",
      "✅ Data saved to sec_filings.json\n",
      "✅ Data saved to sec_filings.json\n",
      "✅ Data saved to sec_filings.json\n",
      "✅ Data saved to sec_filings.json\n",
      "✅ Data saved to sec_filings.json\n",
      "✅ Data saved to sec_filings.json\n",
      "✅ Data saved to sec_filings.json\n",
      "✅ Data saved to sec_filings.json\n",
      "✅ Data saved to sec_filings.json\n",
      "✅ Data saved to sec_filings.json\n",
      "✅ Data saved to sec_filings.json\n",
      "✅ Data saved to sec_filings.json\n",
      "✅ Data saved to sec_filings.json\n",
      "✅ Data saved to sec_filings.json\n",
      "✅ Data saved to sec_filings.json\n",
      "✅ Data saved to sec_filings.json\n",
      "✅ Data saved to sec_filings.json\n"
     ]
    }
   ],
   "source": [
    "import asyncio\n",
    "import websockets\n",
    "import json\n",
    "from eventtrader.keys import SEC_API_KEY\n",
    "\n",
    "\n",
    "SERVER_URL = \"wss://stream.sec-api.io\"\n",
    "WS_ENDPOINT = SERVER_URL + \"?apiKey=\" + SEC_API_KEY\n",
    "OUTPUT_FILE = \"sec_filings.json\"  # File to save valid JSON data\n",
    "\n",
    "async def websocket_client():\n",
    "    try:\n",
    "        async with websockets.connect(WS_ENDPOINT) as websocket:\n",
    "            print(\"✅ Connected to:\", SERVER_URL)\n",
    "            filings_list = []\n",
    "\n",
    "            while True:\n",
    "                message = await websocket.recv()\n",
    "                filings = json.loads(message)\n",
    "\n",
    "                for f in filings:\n",
    "                    filings_list.append(f)  # Append each valid JSON object\n",
    "\n",
    "                # Save data every 10 filings\n",
    "                if len(filings_list) % 1 == 0:\n",
    "                    save_data(filings_list)\n",
    "\n",
    "    except Exception as e:\n",
    "        print(f\"❌ An unexpected error occurred: {e}\")\n",
    "\n",
    "# Save the JSON data correctly\n",
    "def save_data(filings_list):\n",
    "    with open(OUTPUT_FILE, \"w\", encoding=\"utf-8\") as f:\n",
    "        json.dump(filings_list, f, indent=4)  # Ensure proper formatting\n",
    "    print(f\"✅ Data saved to {OUTPUT_FILE}\")\n",
    "\n",
    "# Run WebSocket client\n",
    "await websocket_client()\n"
   ]
  },
  {
   "cell_type": "markdown",
   "metadata": {},
   "source": [
    "#### Load saved JSON file"
   ]
  },
  {
   "cell_type": "code",
   "execution_count": 58,
   "metadata": {},
   "outputs": [
    {
     "data": {
      "text/html": [
       "<div>\n",
       "<style scoped>\n",
       "    .dataframe tbody tr th:only-of-type {\n",
       "        vertical-align: middle;\n",
       "    }\n",
       "\n",
       "    .dataframe tbody tr th {\n",
       "        vertical-align: top;\n",
       "    }\n",
       "\n",
       "    .dataframe thead th {\n",
       "        text-align: right;\n",
       "    }\n",
       "</style>\n",
       "<table border=\"1\" class=\"dataframe\">\n",
       "  <thead>\n",
       "    <tr style=\"text-align: right;\">\n",
       "      <th></th>\n",
       "      <th>id</th>\n",
       "      <th>accessionNo</th>\n",
       "      <th>cik</th>\n",
       "      <th>ticker</th>\n",
       "      <th>companyName</th>\n",
       "      <th>companyNameLong</th>\n",
       "      <th>formType</th>\n",
       "      <th>description</th>\n",
       "      <th>filedAt</th>\n",
       "      <th>linkToTxt</th>\n",
       "      <th>linkToHtml</th>\n",
       "      <th>linkToXbrl</th>\n",
       "      <th>linkToFilingDetails</th>\n",
       "      <th>periodOfReport</th>\n",
       "      <th>effectivenessDate</th>\n",
       "      <th>entity_companyName</th>\n",
       "      <th>entity_cik</th>\n",
       "      <th>entity_irsNo</th>\n",
       "      <th>entity_stateOfIncorporation</th>\n",
       "      <th>entity_fiscalYearEnd</th>\n",
       "      <th>entity_type</th>\n",
       "      <th>entity_act</th>\n",
       "      <th>entity_fileNo</th>\n",
       "      <th>entity_filmNo</th>\n",
       "      <th>entity_sic</th>\n",
       "      <th>doc_sequence</th>\n",
       "      <th>doc_description</th>\n",
       "      <th>doc_documentUrl</th>\n",
       "      <th>doc_type</th>\n",
       "      <th>doc_size</th>\n",
       "      <th>data_sequence</th>\n",
       "      <th>data_description</th>\n",
       "      <th>data_documentUrl</th>\n",
       "      <th>data_type</th>\n",
       "      <th>data_size</th>\n",
       "      <th>series_id</th>\n",
       "      <th>series_name</th>\n",
       "      <th>classContract</th>\n",
       "      <th>classContract_name</th>\n",
       "      <th>classContract_ticker</th>\n",
       "    </tr>\n",
       "  </thead>\n",
       "  <tbody>\n",
       "    <tr>\n",
       "      <th>0</th>\n",
       "      <td>6a8edceafbcd082c49e7290de2591f72</td>\n",
       "      <td>0001213900-25-013179</td>\n",
       "      <td>1828098</td>\n",
       "      <td>STKH</td>\n",
       "      <td>Steakholder Foods Ltd.</td>\n",
       "      <td>Steakholder Foods Ltd. (Filer)</td>\n",
       "      <td>6-K</td>\n",
       "      <td>Form 6-K - Report of foreign issuer [Rules 13a-16 and 15d-16]</td>\n",
       "      <td>2025-02-13T08:07:15-05:00</td>\n",
       "      <td>https://www.sec.gov/Archives/edgar/data/1828098/000121390025013179/0001213900-25-013179.txt</td>\n",
       "      <td>https://www.sec.gov/Archives/edgar/data/1828098/000121390025013179/0001213900-25-013179-index.htm</td>\n",
       "      <td></td>\n",
       "      <td>https://www.sec.gov/Archives/edgar/data/1828098/000121390025013179/ea0230980-6k_steakholder.htm</td>\n",
       "      <td>2025-02-13</td>\n",
       "      <td>None</td>\n",
       "      <td>Steakholder Foods Ltd. (Filer)</td>\n",
       "      <td>1828098</td>\n",
       "      <td>000000000</td>\n",
       "      <td>L3</td>\n",
       "      <td>1231</td>\n",
       "      <td>6-K</td>\n",
       "      <td>34</td>\n",
       "      <td>001-40173</td>\n",
       "      <td>25617285</td>\n",
       "      <td>2000 Food and Kindred Products</td>\n",
       "      <td>NaN</td>\n",
       "      <td>NaN</td>\n",
       "      <td>NaN</td>\n",
       "      <td>NaN</td>\n",
       "      <td>NaN</td>\n",
       "      <td>NaN</td>\n",
       "      <td>NaN</td>\n",
       "      <td>NaN</td>\n",
       "      <td>NaN</td>\n",
       "      <td>NaN</td>\n",
       "      <td>NaN</td>\n",
       "      <td>NaN</td>\n",
       "      <td>NaN</td>\n",
       "      <td>NaN</td>\n",
       "      <td>NaN</td>\n",
       "    </tr>\n",
       "    <tr>\n",
       "      <th>1</th>\n",
       "      <td>6a8edceafbcd082c49e7290de2591f72</td>\n",
       "      <td>0001213900-25-013179</td>\n",
       "      <td>1828098</td>\n",
       "      <td>STKH</td>\n",
       "      <td>Steakholder Foods Ltd.</td>\n",
       "      <td>Steakholder Foods Ltd. (Filer)</td>\n",
       "      <td>6-K</td>\n",
       "      <td>Form 6-K - Report of foreign issuer [Rules 13a-16 and 15d-16]</td>\n",
       "      <td>2025-02-13T08:07:15-05:00</td>\n",
       "      <td>https://www.sec.gov/Archives/edgar/data/1828098/000121390025013179/0001213900-25-013179.txt</td>\n",
       "      <td>https://www.sec.gov/Archives/edgar/data/1828098/000121390025013179/0001213900-25-013179-index.htm</td>\n",
       "      <td></td>\n",
       "      <td>https://www.sec.gov/Archives/edgar/data/1828098/000121390025013179/ea0230980-6k_steakholder.htm</td>\n",
       "      <td>2025-02-13</td>\n",
       "      <td>None</td>\n",
       "      <td>NaN</td>\n",
       "      <td>NaN</td>\n",
       "      <td>NaN</td>\n",
       "      <td>NaN</td>\n",
       "      <td>NaN</td>\n",
       "      <td>NaN</td>\n",
       "      <td>NaN</td>\n",
       "      <td>NaN</td>\n",
       "      <td>NaN</td>\n",
       "      <td>NaN</td>\n",
       "      <td>1</td>\n",
       "      <td>REPORT OF FOREIGN PRIVATE ISSUER</td>\n",
       "      <td>https://www.sec.gov/Archives/edgar/data/1828098/000121390025013179/ea0230980-6k_steakholder.htm</td>\n",
       "      <td>6-K</td>\n",
       "      <td>10988</td>\n",
       "      <td>NaN</td>\n",
       "      <td>NaN</td>\n",
       "      <td>NaN</td>\n",
       "      <td>NaN</td>\n",
       "      <td>NaN</td>\n",
       "      <td>NaN</td>\n",
       "      <td>NaN</td>\n",
       "      <td>NaN</td>\n",
       "      <td>NaN</td>\n",
       "      <td>NaN</td>\n",
       "    </tr>\n",
       "  </tbody>\n",
       "</table>\n",
       "</div>"
      ],
      "text/plain": [
       "                                 id           accessionNo      cik ticker  \\\n",
       "0  6a8edceafbcd082c49e7290de2591f72  0001213900-25-013179  1828098   STKH   \n",
       "1  6a8edceafbcd082c49e7290de2591f72  0001213900-25-013179  1828098   STKH   \n",
       "\n",
       "              companyName                 companyNameLong formType  \\\n",
       "0  Steakholder Foods Ltd.  Steakholder Foods Ltd. (Filer)      6-K   \n",
       "1  Steakholder Foods Ltd.  Steakholder Foods Ltd. (Filer)      6-K   \n",
       "\n",
       "                                                     description  \\\n",
       "0  Form 6-K - Report of foreign issuer [Rules 13a-16 and 15d-16]   \n",
       "1  Form 6-K - Report of foreign issuer [Rules 13a-16 and 15d-16]   \n",
       "\n",
       "                     filedAt  \\\n",
       "0  2025-02-13T08:07:15-05:00   \n",
       "1  2025-02-13T08:07:15-05:00   \n",
       "\n",
       "                                                                                     linkToTxt  \\\n",
       "0  https://www.sec.gov/Archives/edgar/data/1828098/000121390025013179/0001213900-25-013179.txt   \n",
       "1  https://www.sec.gov/Archives/edgar/data/1828098/000121390025013179/0001213900-25-013179.txt   \n",
       "\n",
       "                                                                                          linkToHtml  \\\n",
       "0  https://www.sec.gov/Archives/edgar/data/1828098/000121390025013179/0001213900-25-013179-index.htm   \n",
       "1  https://www.sec.gov/Archives/edgar/data/1828098/000121390025013179/0001213900-25-013179-index.htm   \n",
       "\n",
       "  linkToXbrl  \\\n",
       "0              \n",
       "1              \n",
       "\n",
       "                                                                               linkToFilingDetails  \\\n",
       "0  https://www.sec.gov/Archives/edgar/data/1828098/000121390025013179/ea0230980-6k_steakholder.htm   \n",
       "1  https://www.sec.gov/Archives/edgar/data/1828098/000121390025013179/ea0230980-6k_steakholder.htm   \n",
       "\n",
       "  periodOfReport effectivenessDate              entity_companyName entity_cik  \\\n",
       "0     2025-02-13              None  Steakholder Foods Ltd. (Filer)    1828098   \n",
       "1     2025-02-13              None                             NaN        NaN   \n",
       "\n",
       "  entity_irsNo entity_stateOfIncorporation entity_fiscalYearEnd entity_type  \\\n",
       "0    000000000                          L3                 1231         6-K   \n",
       "1          NaN                         NaN                  NaN         NaN   \n",
       "\n",
       "  entity_act entity_fileNo entity_filmNo                      entity_sic  \\\n",
       "0         34     001-40173      25617285  2000 Food and Kindred Products   \n",
       "1        NaN           NaN           NaN                             NaN   \n",
       "\n",
       "  doc_sequence                   doc_description  \\\n",
       "0          NaN                               NaN   \n",
       "1            1  REPORT OF FOREIGN PRIVATE ISSUER   \n",
       "\n",
       "                                                                                   doc_documentUrl  \\\n",
       "0                                                                                              NaN   \n",
       "1  https://www.sec.gov/Archives/edgar/data/1828098/000121390025013179/ea0230980-6k_steakholder.htm   \n",
       "\n",
       "  doc_type doc_size data_sequence data_description data_documentUrl data_type  \\\n",
       "0      NaN      NaN           NaN              NaN              NaN       NaN   \n",
       "1      6-K    10988           NaN              NaN              NaN       NaN   \n",
       "\n",
       "  data_size series_id series_name classContract classContract_name  \\\n",
       "0       NaN       NaN         NaN           NaN                NaN   \n",
       "1       NaN       NaN         NaN           NaN                NaN   \n",
       "\n",
       "  classContract_ticker  \n",
       "0                  NaN  \n",
       "1                  NaN  "
      ]
     },
     "execution_count": 58,
     "metadata": {},
     "output_type": "execute_result"
    }
   ],
   "source": [
    "import json\n",
    "import pandas as pd\n",
    "\n",
    "# Load JSON file\n",
    "file_path = \"sec_filings.json\"\n",
    "with open(file_path, \"r\", encoding=\"utf-8\") as file:\n",
    "    filings_data = json.load(file)\n",
    "\n",
    "# Flatten function to extract nested fields\n",
    "def flatten_filing(filing):\n",
    "    base_fields = {\n",
    "        \"id\": filing.get(\"id\"),\n",
    "        \"accessionNo\": filing.get(\"accessionNo\"),\n",
    "        \"cik\": filing.get(\"cik\"),\n",
    "        \"ticker\": filing.get(\"ticker\"),\n",
    "        \"companyName\": filing.get(\"companyName\"),\n",
    "        \"companyNameLong\": filing.get(\"companyNameLong\"),\n",
    "        \"formType\": filing.get(\"formType\"),\n",
    "        \"description\": filing.get(\"description\"),\n",
    "        \"filedAt\": filing.get(\"filedAt\"),\n",
    "        \"linkToTxt\": filing.get(\"linkToTxt\"),\n",
    "        \"linkToHtml\": filing.get(\"linkToHtml\"),\n",
    "        \"linkToXbrl\": filing.get(\"linkToXbrl\"),\n",
    "        \"linkToFilingDetails\": filing.get(\"linkToFilingDetails\"),\n",
    "        \"periodOfReport\": filing.get(\"periodOfReport\"),\n",
    "        \"effectivenessDate\": filing.get(\"effectivenessDate\"),\n",
    "    }\n",
    "\n",
    "    # Extract Entities\n",
    "    entities = filing.get(\"entities\", [])\n",
    "    entity_rows = []\n",
    "    for entity in entities:\n",
    "        entity_row = base_fields.copy()\n",
    "        entity_row.update({\n",
    "            \"entity_companyName\": entity.get(\"companyName\"),\n",
    "            \"entity_cik\": entity.get(\"cik\"),\n",
    "            \"entity_irsNo\": entity.get(\"irsNo\"),\n",
    "            \"entity_stateOfIncorporation\": entity.get(\"stateOfIncorporation\"),\n",
    "            \"entity_fiscalYearEnd\": entity.get(\"fiscalYearEnd\"),\n",
    "            \"entity_type\": entity.get(\"type\"),\n",
    "            \"entity_act\": entity.get(\"act\"),\n",
    "            \"entity_fileNo\": entity.get(\"fileNo\"),\n",
    "            \"entity_filmNo\": entity.get(\"filmNo\"),\n",
    "            \"entity_sic\": entity.get(\"sic\"),\n",
    "        })\n",
    "        entity_rows.append(entity_row)\n",
    "\n",
    "    # Extract Documents\n",
    "    documents = filing.get(\"documentFormatFiles\", [])\n",
    "    doc_rows = []\n",
    "    for doc in documents:\n",
    "        doc_row = base_fields.copy()\n",
    "        doc_row.update({\n",
    "            \"doc_sequence\": doc.get(\"sequence\"),\n",
    "            \"doc_description\": doc.get(\"description\"),\n",
    "            \"doc_documentUrl\": doc.get(\"documentUrl\"),\n",
    "            \"doc_type\": doc.get(\"type\"),\n",
    "            \"doc_size\": doc.get(\"size\"),\n",
    "        })\n",
    "        doc_rows.append(doc_row)\n",
    "\n",
    "    # Extract Data Files\n",
    "    data_files = filing.get(\"dataFiles\", [])\n",
    "    data_rows = []\n",
    "    for data in data_files:\n",
    "        data_row = base_fields.copy()\n",
    "        data_row.update({\n",
    "            \"data_sequence\": data.get(\"sequence\"),\n",
    "            \"data_description\": data.get(\"description\"),\n",
    "            \"data_documentUrl\": data.get(\"documentUrl\"),\n",
    "            \"data_type\": data.get(\"type\"),\n",
    "            \"data_size\": data.get(\"size\"),\n",
    "        })\n",
    "        data_rows.append(data_row)\n",
    "\n",
    "    # Extract Series and Classes Contracts Information\n",
    "    series_classes = filing.get(\"seriesAndClassesContractsInformation\", [])\n",
    "    series_rows = []\n",
    "    for series in series_classes:\n",
    "        series_row = base_fields.copy()\n",
    "        series_row.update({\n",
    "            \"series_id\": series.get(\"series\"),\n",
    "            \"series_name\": series.get(\"name\"),\n",
    "        })\n",
    "        for contract in series.get(\"classesContracts\", []):\n",
    "            contract_row = series_row.copy()\n",
    "            contract_row.update({\n",
    "                \"classContract\": contract.get(\"classContract\"),\n",
    "                \"classContract_name\": contract.get(\"name\"),\n",
    "                \"classContract_ticker\": contract.get(\"ticker\"),\n",
    "            })\n",
    "            series_rows.append(contract_row)\n",
    "\n",
    "    return entity_rows + doc_rows + data_rows + series_rows\n",
    "\n",
    "# Process all filings\n",
    "all_filing_rows = []\n",
    "for filing in filings_data:\n",
    "    all_filing_rows.extend(flatten_filing(filing))\n",
    "\n",
    "# Create DataFrame\n",
    "df = pd.DataFrame(all_filing_rows)\n",
    "\n",
    "df.head(2)"
   ]
  },
  {
   "cell_type": "code",
   "execution_count": 59,
   "metadata": {},
   "outputs": [],
   "source": [
    "# df.to_csv(\"sec_filings.csv\", index=False)\n"
   ]
  },
  {
   "cell_type": "markdown",
   "metadata": {},
   "source": [
    "### Data Types"
   ]
  },
  {
   "cell_type": "code",
   "execution_count": 60,
   "metadata": {},
   "outputs": [
    {
     "data": {
      "text/plain": [
       "Counter({'EX-101.SCH': 35,\n",
       "         'XML': 35,\n",
       "         'EX-101.LAB': 33,\n",
       "         'EX-101.PRE': 33,\n",
       "         'EX-101.DEF': 17,\n",
       "         'EX-101.CAL': 9})"
      ]
     },
     "execution_count": 60,
     "metadata": {},
     "output_type": "execute_result"
    }
   ],
   "source": [
    "from collections import Counter\n",
    "# Get unique data types and their counts using Counter\n",
    "data_type_counts = Counter(df.data_type.dropna())\n",
    "data_type_counts\n"
   ]
  },
  {
   "cell_type": "code",
   "execution_count": 61,
   "metadata": {},
   "outputs": [
    {
     "data": {
      "text/plain": [
       "35"
      ]
     },
     "execution_count": 61,
     "metadata": {},
     "output_type": "execute_result"
    }
   ],
   "source": [
    "df[df.data_type == \"XML\"]['data_documentUrl'].nunique()"
   ]
  },
  {
   "cell_type": "code",
   "execution_count": 62,
   "metadata": {},
   "outputs": [
    {
     "data": {
      "text/plain": [
       "Counter({'8-K': 27, '10-K': 4, '10-Q': 2, 'N-CSRS': 1, 'S-1/A': 1})"
      ]
     },
     "execution_count": 62,
     "metadata": {},
     "output_type": "execute_result"
    }
   ],
   "source": [
    "Counter(df[df.data_type == \"XML\"]['formType'])"
   ]
  },
  {
   "cell_type": "code",
   "execution_count": 21,
   "metadata": {},
   "outputs": [
    {
     "data": {
      "text/plain": [
       "Counter({'10-K': 575,\n",
       "         '8-K': 301,\n",
       "         '13F-HR': 114,\n",
       "         '4': 97,\n",
       "         '424B3': 46,\n",
       "         '424B2': 45,\n",
       "         '6-K': 29,\n",
       "         '13F-NT': 28,\n",
       "         'SCHEDULE 13G': 27,\n",
       "         'S-1/A': 27,\n",
       "         '10-Q': 26,\n",
       "         'SCHEDULE 13G/A': 26,\n",
       "         'N-CSRS': 23,\n",
       "         'D': 20,\n",
       "         '485BXT': 7,\n",
       "         'FWP': 6,\n",
       "         'D/A': 4,\n",
       "         'DEFA14A': 3,\n",
       "         'CERT': 3,\n",
       "         '305B2': 3})"
      ]
     },
     "execution_count": 21,
     "metadata": {},
     "output_type": "execute_result"
    }
   ],
   "source": [
    "Counter(df.formType)"
   ]
  },
  {
   "cell_type": "code",
   "execution_count": 24,
   "metadata": {},
   "outputs": [
    {
     "data": {
      "text/plain": [
       "(120, 104)"
      ]
     },
     "execution_count": 24,
     "metadata": {},
     "output_type": "execute_result"
    }
   ],
   "source": [
    "df.id.nunique(), df.accessionNo.nunique()"
   ]
  },
  {
   "cell_type": "code",
   "execution_count": 25,
   "metadata": {},
   "outputs": [
    {
     "data": {
      "text/plain": [
       "35"
      ]
     },
     "execution_count": 25,
     "metadata": {},
     "output_type": "execute_result"
    }
   ],
   "source": [
    "df[df.data_type == \"XML\"].id.nunique()"
   ]
  },
  {
   "cell_type": "code",
   "execution_count": 27,
   "metadata": {},
   "outputs": [
    {
     "data": {
      "text/plain": [
       "Counter({'8-K': 27, '10-K': 4, '10-Q': 2})"
      ]
     },
     "execution_count": 27,
     "metadata": {},
     "output_type": "execute_result"
    }
   ],
   "source": [
    "Counter(df[(df.data_type == \"XML\") & (df.formType.isin(['8-K','10-K','10-Q']))].formType)"
   ]
  },
  {
   "cell_type": "code",
   "execution_count": 28,
   "metadata": {},
   "outputs": [
    {
     "data": {
      "text/plain": [
       "formType\n",
       "8-K     27\n",
       "10-K     4\n",
       "10-Q     2\n",
       "Name: count, dtype: int64"
      ]
     },
     "execution_count": 28,
     "metadata": {},
     "output_type": "execute_result"
    }
   ],
   "source": [
    "counter_result = df[(df.data_type == \"XML\") & (df.formType.isin(['8-K', '10-K', '10-Q']))].formType.value_counts()\n",
    "counter_result\n"
   ]
  },
  {
   "cell_type": "markdown",
   "metadata": {},
   "source": [
    "# Final Rules"
   ]
  },
  {
   "cell_type": "markdown",
   "metadata": {},
   "source": [
    "#### Step 1: Filter for only these 3 report types - '8-K','10-K','10-Q' or for amendments: '8-K/A', '10-K/A', '10-Q/A'"
   ]
  },
  {
   "cell_type": "code",
   "execution_count": 2,
   "metadata": {},
   "outputs": [
    {
     "data": {
      "text/plain": [
       "['8-K', '10-K', '10-Q', '8-K/A', '10-K/A', '10-Q/A']"
      ]
     },
     "execution_count": 2,
     "metadata": {},
     "output_type": "execute_result"
    }
   ],
   "source": [
    "form_types = ['8-K', '10-K', '10-Q']\n",
    "reports_to_keep = form_types + [str(r)+'/A' for r in form_types]\n",
    "\n",
    "# Since they are always in XML \n",
    "# mask1 = [df.formType.isin(reports_to_keep) & (df.data_type == \"XML\")]\n",
    "\n",
    "reports_to_keep"
   ]
  },
  {
   "cell_type": "code",
   "execution_count": 57,
   "metadata": {},
   "outputs": [
    {
     "ename": "KeyError",
     "evalue": "\"None of [Index([(False, False, False, False, False, False, False, False, False, False, False, False, False, False, False, False, False, False, False, False, False, False, False, True, False, False, False, False, False, False, False, False, False, False, False, False, False, False, False, False, False, False, False, False, False, False, False, False, False, False, False, False, False, False, False, False, False, False, False, False, False, False, False, False, False, False, False, False, False, False, False, False, False, False, False, False, False, False, False, False, False, False, False, False, False, False, False, False, False, False, False, False, False, False, False, False, False, False, False, False, ...)], dtype='object')] are in the [columns]\"",
     "output_type": "error",
     "traceback": [
      "\u001b[0;31m---------------------------------------------------------------------------\u001b[0m",
      "\u001b[0;31mKeyError\u001b[0m                                  Traceback (most recent call last)",
      "Cell \u001b[0;32mIn[57], line 1\u001b[0m\n\u001b[0;32m----> 1\u001b[0m \u001b[43mdf\u001b[49m\u001b[43m[\u001b[49m\u001b[43mmask1\u001b[49m\u001b[43m]\u001b[49m\n",
      "File \u001b[0;32m~/Desktop/Faisal/EventTrader/venv/lib/python3.11/site-packages/pandas/core/frame.py:4108\u001b[0m, in \u001b[0;36mDataFrame.__getitem__\u001b[0;34m(self, key)\u001b[0m\n\u001b[1;32m   4106\u001b[0m     \u001b[38;5;28;01mif\u001b[39;00m is_iterator(key):\n\u001b[1;32m   4107\u001b[0m         key \u001b[38;5;241m=\u001b[39m \u001b[38;5;28mlist\u001b[39m(key)\n\u001b[0;32m-> 4108\u001b[0m     indexer \u001b[38;5;241m=\u001b[39m \u001b[38;5;28;43mself\u001b[39;49m\u001b[38;5;241;43m.\u001b[39;49m\u001b[43mcolumns\u001b[49m\u001b[38;5;241;43m.\u001b[39;49m\u001b[43m_get_indexer_strict\u001b[49m\u001b[43m(\u001b[49m\u001b[43mkey\u001b[49m\u001b[43m,\u001b[49m\u001b[43m \u001b[49m\u001b[38;5;124;43m\"\u001b[39;49m\u001b[38;5;124;43mcolumns\u001b[39;49m\u001b[38;5;124;43m\"\u001b[39;49m\u001b[43m)\u001b[49m[\u001b[38;5;241m1\u001b[39m]\n\u001b[1;32m   4110\u001b[0m \u001b[38;5;66;03m# take() does not accept boolean indexers\u001b[39;00m\n\u001b[1;32m   4111\u001b[0m \u001b[38;5;28;01mif\u001b[39;00m \u001b[38;5;28mgetattr\u001b[39m(indexer, \u001b[38;5;124m\"\u001b[39m\u001b[38;5;124mdtype\u001b[39m\u001b[38;5;124m\"\u001b[39m, \u001b[38;5;28;01mNone\u001b[39;00m) \u001b[38;5;241m==\u001b[39m \u001b[38;5;28mbool\u001b[39m:\n",
      "File \u001b[0;32m~/Desktop/Faisal/EventTrader/venv/lib/python3.11/site-packages/pandas/core/indexes/base.py:6200\u001b[0m, in \u001b[0;36mIndex._get_indexer_strict\u001b[0;34m(self, key, axis_name)\u001b[0m\n\u001b[1;32m   6197\u001b[0m \u001b[38;5;28;01melse\u001b[39;00m:\n\u001b[1;32m   6198\u001b[0m     keyarr, indexer, new_indexer \u001b[38;5;241m=\u001b[39m \u001b[38;5;28mself\u001b[39m\u001b[38;5;241m.\u001b[39m_reindex_non_unique(keyarr)\n\u001b[0;32m-> 6200\u001b[0m \u001b[38;5;28;43mself\u001b[39;49m\u001b[38;5;241;43m.\u001b[39;49m\u001b[43m_raise_if_missing\u001b[49m\u001b[43m(\u001b[49m\u001b[43mkeyarr\u001b[49m\u001b[43m,\u001b[49m\u001b[43m \u001b[49m\u001b[43mindexer\u001b[49m\u001b[43m,\u001b[49m\u001b[43m \u001b[49m\u001b[43maxis_name\u001b[49m\u001b[43m)\u001b[49m\n\u001b[1;32m   6202\u001b[0m keyarr \u001b[38;5;241m=\u001b[39m \u001b[38;5;28mself\u001b[39m\u001b[38;5;241m.\u001b[39mtake(indexer)\n\u001b[1;32m   6203\u001b[0m \u001b[38;5;28;01mif\u001b[39;00m \u001b[38;5;28misinstance\u001b[39m(key, Index):\n\u001b[1;32m   6204\u001b[0m     \u001b[38;5;66;03m# GH 42790 - Preserve name from an Index\u001b[39;00m\n",
      "File \u001b[0;32m~/Desktop/Faisal/EventTrader/venv/lib/python3.11/site-packages/pandas/core/indexes/base.py:6249\u001b[0m, in \u001b[0;36mIndex._raise_if_missing\u001b[0;34m(self, key, indexer, axis_name)\u001b[0m\n\u001b[1;32m   6247\u001b[0m \u001b[38;5;28;01mif\u001b[39;00m nmissing:\n\u001b[1;32m   6248\u001b[0m     \u001b[38;5;28;01mif\u001b[39;00m nmissing \u001b[38;5;241m==\u001b[39m \u001b[38;5;28mlen\u001b[39m(indexer):\n\u001b[0;32m-> 6249\u001b[0m         \u001b[38;5;28;01mraise\u001b[39;00m \u001b[38;5;167;01mKeyError\u001b[39;00m(\u001b[38;5;124mf\u001b[39m\u001b[38;5;124m\"\u001b[39m\u001b[38;5;124mNone of [\u001b[39m\u001b[38;5;132;01m{\u001b[39;00mkey\u001b[38;5;132;01m}\u001b[39;00m\u001b[38;5;124m] are in the [\u001b[39m\u001b[38;5;132;01m{\u001b[39;00maxis_name\u001b[38;5;132;01m}\u001b[39;00m\u001b[38;5;124m]\u001b[39m\u001b[38;5;124m\"\u001b[39m)\n\u001b[1;32m   6251\u001b[0m     not_found \u001b[38;5;241m=\u001b[39m \u001b[38;5;28mlist\u001b[39m(ensure_index(key)[missing_mask\u001b[38;5;241m.\u001b[39mnonzero()[\u001b[38;5;241m0\u001b[39m]]\u001b[38;5;241m.\u001b[39munique())\n\u001b[1;32m   6252\u001b[0m     \u001b[38;5;28;01mraise\u001b[39;00m \u001b[38;5;167;01mKeyError\u001b[39;00m(\u001b[38;5;124mf\u001b[39m\u001b[38;5;124m\"\u001b[39m\u001b[38;5;132;01m{\u001b[39;00mnot_found\u001b[38;5;132;01m}\u001b[39;00m\u001b[38;5;124m not in index\u001b[39m\u001b[38;5;124m\"\u001b[39m)\n",
      "\u001b[0;31mKeyError\u001b[0m: \"None of [Index([(False, False, False, False, False, False, False, False, False, False, False, False, False, False, False, False, False, False, False, False, False, False, False, True, False, False, False, False, False, False, False, False, False, False, False, False, False, False, False, False, False, False, False, False, False, False, False, False, False, False, False, False, False, False, False, False, False, False, False, False, False, False, False, False, False, False, False, False, False, False, False, False, False, False, False, False, False, False, False, False, False, False, False, False, False, False, False, False, False, False, False, False, False, False, False, False, False, False, False, False, ...)], dtype='object')] are in the [columns]\""
     ]
    }
   ],
   "source": [
    "df[mask1]"
   ]
  },
  {
   "cell_type": "code",
   "execution_count": 43,
   "metadata": {},
   "outputs": [
    {
     "name": "stdout",
     "output_type": "stream",
     "text": [
      "Length of df before:902\n",
      "Length of df after:33\n"
     ]
    }
   ],
   "source": [
    "print(f\"Length of df before:{len(df)}\")\n",
    "# df = df[df.formType.isin(reports_to_keep) & (df.data_type == \"XML\")]\n",
    "print(f\"Length of df after:{len(df)}\")"
   ]
  },
  {
   "cell_type": "markdown",
   "metadata": {},
   "source": [
    "### Supplimentary documents to store (ALWAYS filed as part of a primary filing -  (10-K, 10-Q, or 8-K).)\n",
    "    All EX-10.x (Material contracts)\n",
    "    All EX-99.x (Miscellaneous exhibits)"
   ]
  },
  {
   "cell_type": "code",
   "execution_count": 31,
   "metadata": {},
   "outputs": [
    {
     "data": {
      "text/plain": [
       "array([nan, '8-K', 'EX-99.1', 'GRAPHIC', '\\xa0', '10-K', 'EX-3.1',\n",
       "       'EX-4.1', 'EX-10.3C', 'EX-10.3D', 'EX-10.13', 'EX-10.15',\n",
       "       'EX-10.16', 'EX-19', 'EX-21', 'EX-23', 'EX-31.1', 'EX-31.2',\n",
       "       'EX-32', 'EX-99', 'EX-2.1', 'EX-99.2', 'EX-10.1', 'EX-10.2',\n",
       "       'EX-10.3', 'EX-10.28', 'EX-10.29', 'EX-19.1', 'EX-21.1', 'EX-32.1',\n",
       "       'EX-4.11', 'EX-10.07', 'EX-10.08', 'EX-10.09', 'EX-10.10',\n",
       "       'EX-10.11', 'EX-10.17', 'EX-23.1', 'EX-32.2', '10-Q', 'EX-4.2',\n",
       "       'EX-10.4'], dtype=object)"
      ]
     },
     "execution_count": 31,
     "metadata": {},
     "output_type": "execute_result"
    }
   ],
   "source": [
    "df[df.formType.isin(['8-K', '10-K', '10-Q'])].doc_type.unique()"
   ]
  },
  {
   "cell_type": "code",
   "execution_count": 35,
   "metadata": {},
   "outputs": [],
   "source": [
    "pd.set_option('display.max_rows', None)\n",
    "pd.set_option('display.max_columns', None)\n",
    "pd.set_option('display.width', None)\n",
    "pd.set_option('display.max_colwidth', None)\n"
   ]
  },
  {
   "cell_type": "code",
   "execution_count": 49,
   "metadata": {},
   "outputs": [],
   "source": [
    "# Filter for EX-10.x and EX-99.x\n",
    "mask = df['doc_type'].str.startswith('EX-10.') | df['doc_type'].str.startswith('EX-99.')\n",
    "# df[mask]\n"
   ]
  },
  {
   "cell_type": "code",
   "execution_count": 63,
   "metadata": {},
   "outputs": [
    {
     "name": "stdout",
     "output_type": "stream",
     "text": [
      "\n",
      "XBRL Validation Summary:\n",
      "Total 10-K/10-Q accession numbers: 6\n",
      "With XBRL: 6\n",
      "Without XBRL: 0\n",
      "\n",
      "XBRL Data Types found:\n",
      "data_type\n",
      "EX-101.SCH    35\n",
      "XML           35\n",
      "EX-101.LAB    33\n",
      "EX-101.PRE    33\n",
      "EX-101.DEF    17\n",
      "EX-101.CAL     9\n",
      "Name: count, dtype: int64\n",
      "\n",
      "Document Categories Summary:\n",
      "document_category\n",
      "MAIN                 857\n",
      "MATERIAL_CONTRACT     46\n",
      "MISC_EXHIBIT          44\n",
      "Name: count, dtype: int64\n",
      "\n",
      "Form Types Summary:\n",
      "formType\n",
      "10-K    561\n",
      "8-K     270\n",
      "10-Q     26\n",
      "Name: count, dtype: int64\n",
      "\n",
      "Exhibit Types Summary:\n",
      "doc_type\n",
      "EX-99.1     42\n",
      "EX-10.1      6\n",
      "EX-10.2      6\n",
      "EX-10.15     4\n",
      "EX-10.3      4\n",
      "EX-10.3D     2\n",
      "EX-10.3C     2\n",
      "EX-99.2      2\n",
      "EX-10.16     2\n",
      "EX-10.13     2\n",
      "EX-10.28     2\n",
      "EX-10.29     2\n",
      "EX-10.07     2\n",
      "EX-10.08     2\n",
      "EX-10.09     2\n",
      "EX-10.10     2\n",
      "EX-10.11     2\n",
      "EX-10.17     2\n",
      "EX-10.4      2\n",
      "Name: count, dtype: int64\n"
     ]
    }
   ],
   "source": [
    "import pandas as pd\n",
    "from collections import Counter\n",
    "\n",
    "def filter_sec_filings(df):\n",
    "    \"\"\"\n",
    "    Filter SEC filings:\n",
    "    1. Keep 10-K/10-Q that have XBRL (checking all XBRL-related data_types)\n",
    "    2. Keep all 8-K\n",
    "    3. Keep their EX-10.x and EX-99.x exhibits\n",
    "    \"\"\"\n",
    "    \n",
    "    # Define XBRL-related patterns\n",
    "    xbrl_pattern = r'XML|EX-101\\.'\n",
    "    \n",
    "    # Get accession numbers of filings with XBRL data\n",
    "    xbrl_accessions = df[\n",
    "        df['data_type'].str.contains(xbrl_pattern, na=False)\n",
    "    ]['accessionNo'].unique()\n",
    "    \n",
    "    # Print XBRL validation info\n",
    "    print(\"\\nXBRL Validation Summary:\")\n",
    "    ten_k_q = df[df['formType'].isin(['10-K', '10-Q'])]\n",
    "    total_acc = ten_k_q['accessionNo'].unique()\n",
    "    print(f\"Total 10-K/10-Q accession numbers: {len(total_acc)}\")\n",
    "    print(f\"With XBRL: {len(set(total_acc) & set(xbrl_accessions))}\")\n",
    "    print(f\"Without XBRL: {len(set(total_acc) - set(xbrl_accessions))}\")\n",
    "    \n",
    "    # Filter main documents\n",
    "    main_forms = ['8-K', '10-K', '10-Q']\n",
    "    form_pattern = '|'.join(f\"^{form}(/A)?$\" for form in main_forms)\n",
    "    \n",
    "    # For 10-K and 10-Q, must have XBRL\n",
    "    main_docs = df[\n",
    "        (df['formType'].str.match(form_pattern, na=False)) &\n",
    "        (\n",
    "            (df['formType'].str.startswith('8-K')) |  # Keep all 8-Ks\n",
    "            (df['accessionNo'].isin(xbrl_accessions))  # Only 10-K/Q with XBRL\n",
    "        )\n",
    "    ].copy()\n",
    "    \n",
    "    # Get valid accession numbers\n",
    "    valid_accessions = main_docs['accessionNo'].unique()\n",
    "    \n",
    "    # Get exhibits for valid accessions\n",
    "    exhibit_pattern = r'^EX-(?:10\\.|99\\.)'\n",
    "    exhibits = df[\n",
    "        (df['accessionNo'].isin(valid_accessions)) &\n",
    "        (df['doc_type'].str.match(exhibit_pattern, na=False))\n",
    "    ].copy()\n",
    "    \n",
    "    # Combine and categorize\n",
    "    filtered_df = pd.concat([main_docs, exhibits])\n",
    "    \n",
    "    # Add category\n",
    "    def get_category(row):\n",
    "        if pd.isna(row['doc_type']):\n",
    "            return 'MAIN'\n",
    "        elif row['doc_type'].startswith('EX-10.'):\n",
    "            return 'MATERIAL_CONTRACT'\n",
    "        elif row['doc_type'].startswith('EX-99.'):\n",
    "            return 'MISC_EXHIBIT'\n",
    "        return 'MAIN'  # Default to MAIN for non-exhibit docs\n",
    "    \n",
    "    filtered_df['document_category'] = filtered_df.apply(get_category, axis=1)\n",
    "    \n",
    "    # Additional validation info\n",
    "    print(\"\\nXBRL Data Types found:\")\n",
    "    print(df[df['data_type'].str.contains(xbrl_pattern, na=False)]['data_type'].value_counts())\n",
    "    \n",
    "    return filtered_df\n",
    "\n",
    "if __name__ == \"__main__\":\n",
    "    # Read CSV\n",
    "    df = pd.read_csv('sec_filings.csv')\n",
    "    \n",
    "    # Apply filter\n",
    "    filtered_df = filter_sec_filings(df)\n",
    "    \n",
    "    # Print summary statistics\n",
    "    print(\"\\nDocument Categories Summary:\")\n",
    "    print(filtered_df['document_category'].value_counts())\n",
    "    \n",
    "    print(\"\\nForm Types Summary:\")\n",
    "    print(filtered_df[filtered_df['document_category'] == 'MAIN']['formType'].value_counts())\n",
    "    \n",
    "    print(\"\\nExhibit Types Summary:\")\n",
    "    exhibits = filtered_df[filtered_df['document_category'].isin(['MATERIAL_CONTRACT', 'MISC_EXHIBIT'])]\n",
    "    print(exhibits['doc_type'].value_counts())"
   ]
  },
  {
   "cell_type": "code",
   "execution_count": null,
   "metadata": {},
   "outputs": [],
   "source": [
    "df = pd.read_csv('your_sec_filings.csv')\n",
    "filtered_df = filter_sec_filings(df)"
   ]
  },
  {
   "cell_type": "code",
   "execution_count": null,
   "metadata": {},
   "outputs": [],
   "source": [
    "https://www.sec.gov/Archives/edgar/data/937098/000093709825000016/tnet-123124ex1028warren.htm"
   ]
  }
 ],
 "metadata": {
  "kernelspec": {
   "display_name": "EventTrader Environment",
   "language": "python",
   "name": "eventtrader_venv"
  },
  "language_info": {
   "codemirror_mode": {
    "name": "ipython",
    "version": 3
   },
   "file_extension": ".py",
   "mimetype": "text/x-python",
   "name": "python",
   "nbconvert_exporter": "python",
   "pygments_lexer": "ipython3",
   "version": "3.11.10"
  }
 },
 "nbformat": 4,
 "nbformat_minor": 2
}
