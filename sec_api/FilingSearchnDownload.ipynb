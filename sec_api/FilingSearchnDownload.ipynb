{
 "cells": [
  {
   "cell_type": "code",
   "execution_count": 1,
   "metadata": {},
   "outputs": [],
   "source": [
    "import pandas as pd"
   ]
  },
  {
   "cell_type": "markdown",
   "metadata": {},
   "source": [
    "# EDGAR Filing Search & Download"
   ]
  },
  {
   "cell_type": "code",
   "execution_count": 2,
   "metadata": {},
   "outputs": [],
   "source": [
    "from eventtrader.keys import SEC_API_KEY"
   ]
  },
  {
   "cell_type": "markdown",
   "metadata": {},
   "source": [
    "##### Read Final Symbols"
   ]
  },
  {
   "cell_type": "code",
   "execution_count": null,
   "metadata": {},
   "outputs": [],
   "source": [
    "file_path = '../StocksUniverse/final_symbols.csv'\n",
    "df = pd.read_csv(file_path)\n",
    "df.head()"
   ]
  },
  {
   "cell_type": "code",
   "execution_count": null,
   "metadata": {},
   "outputs": [],
   "source": [
    "df.cik.nunique(), df.symbol.nunique()"
   ]
  },
  {
   "cell_type": "markdown",
   "metadata": {},
   "source": [
    "### Filing Query API"
   ]
  },
  {
   "cell_type": "code",
   "execution_count": 5,
   "metadata": {},
   "outputs": [],
   "source": [
    "output_txt = 'sec_websocketOuput.txt'"
   ]
  },
  {
   "cell_type": "code",
   "execution_count": null,
   "metadata": {},
   "outputs": [],
   "source": [
    "import pandas as pd, json, re\n",
    "\n",
    "with open('sec_websocketOuput.txt', 'r', encoding='utf-8') as f:\n",
    "    raw_data = f.read()\n",
    "\n",
    "# Extract JSON blocks while handling nested brackets safely\n",
    "matches = re.findall(r\"Full filing info:\\s+(\\{[\\s\\S]*?\\})\", raw_data)\n",
    "\n",
    "parsed_data = []\n",
    "for m in matches:\n",
    "    try:\n",
    "        clean_json = m.replace(\"'\", '\"')  # Convert single quotes to valid JSON format\n",
    "        parsed_data.append(json.loads(clean_json))\n",
    "    except json.JSONDecodeError as e:\n",
    "        print(f\"Skipping malformed entry: {e}\")\n",
    "\n",
    "df = pd.DataFrame(parsed_data)\n",
    "\n",
    "# Display in DataFrame\n",
    "import ace_tools as tools\n",
    "tools.display_dataframe_to_user(name=\"SEC Filings Data\", dataframe=df)\n"
   ]
  },
  {
   "cell_type": "code",
   "execution_count": null,
   "metadata": {},
   "outputs": [],
   "source": []
  }
 ],
 "metadata": {
  "kernelspec": {
   "display_name": "EventTrader Environment",
   "language": "python",
   "name": "eventtrader_venv"
  },
  "language_info": {
   "codemirror_mode": {
    "name": "ipython",
    "version": 3
   },
   "file_extension": ".py",
   "mimetype": "text/x-python",
   "name": "python",
   "nbconvert_exporter": "python",
   "pygments_lexer": "ipython3",
   "version": "3.11.10"
  }
 },
 "nbformat": 4,
 "nbformat_minor": 2
}
