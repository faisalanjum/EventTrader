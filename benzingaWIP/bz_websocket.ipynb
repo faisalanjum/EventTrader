{
 "cells": [
  {
   "cell_type": "markdown",
   "metadata": {},
   "source": [
    " - Webscoket Instructions: https://docs.benzinga.com/benzinga-apis/newsfeed-stream-v1/get-stream"
   ]
  },
  {
   "cell_type": "markdown",
   "metadata": {},
   "source": [
    "    ALL AVAILABLE FIELDS:\n",
    "    Top Level: ['api_version', 'kind', 'data']\n",
    "    Data Level: ['action', 'id', 'content', 'timestamp']\n",
    "    Content Level: ['id', 'revision_id', 'type', 'title', 'body', 'authors', 'teaser', 'url', 'tags', 'securities', 'channels', 'image', 'created_at', 'updated_at']\n"
   ]
  },
  {
   "cell_type": "markdown",
   "metadata": {},
   "source": [
    "1. Data Level:                          \n",
    "    Action: Updated, Created                                    \n",
    "    Note difference in Timestamps when action is Updated, for created it is the same as the timestamp in the message                        \n",
    "\n",
    "    TIMESTAMPS:\n",
    "        Created: 2025-01-23T01:54:23.000Z                   \n",
    "        Updated: 2025-01-23T09:37:34.000Z                   \n"
   ]
  },
  {
   "cell_type": "code",
   "execution_count": 1,
   "metadata": {},
   "outputs": [],
   "source": [
    "# ALL AVAILABLE FIELDS:\n",
    "# Top Level: ['api_version', 'kind', 'data']\n",
    "# Data Level: ['action', 'id', 'content', 'timestamp']\n",
    "# Content Level: ['id', 'revision_id', 'type', 'title', 'body', 'authors', 'teaser', 'url', 'tags', 'securities', 'channels', 'image', 'created_at', 'updated_at']\n",
    "# Message structure: ['api_version', 'kind', 'data']\n",
    "# Unified News: id='43153522' title='Cathie Wood Sees Trump&#39;s Second Term Reviving IPO Market, Unlocking Opportunities In Biotech And AI Sectors' body='<p>Renowned investor <strong>Cathie Wood</strong>, -a-tiktok-video\">stated</a>, noting that the number of publicly traded companies has halved over the last two decades.</p>\\n\\n\\n\\n<p>Wood&#8217;s ARK Investment Management sees particular promise in innovation-driven sectors, especially healthcare and artificial intelligence. </p>\\n\\n\\n\\n<p>She specifically pointed to her <strong>ARK Genomic Revolution ETF</strong> (BATS:<a class=\"ticker\" href=\"https://www.benzinga.com/stock/ARKG#BATS\">ARKG</a>) as an underestimated investment, anticipating substantial changes in biotech and pharmaceutical <a href=\"https://www.benzinga.com/general/biotech/24/11/42206182/cathie-wood-sees-400b-opportunity-in-biologics-how-have-her-bets-fared\">markets where $400 billion</a> in revenue is set to go off-patent within five years.</p>\\n\\n\\n\\n<p><strong>See Also: <a href=\"https://www.benzinga.com/news/25/01/43152917/elon-musk-led-doge-targets-us-penny-over-179m-annual-production-cost\">Elon Musk&#8217;s DOGE Takes Aim At The US Penny Citing Soaring Production Costs</a></strong></p>\\n\\n\\n\\n<p><strong>\n",
    "                # Why It Matters:</strong> The investor expressed optimism about potential liquidity events that have been constrained during the previous administration. &#8220;We believe the IPO market will open up and give us opportunities to diversify our portfolios,&#8221; Wood said.</p>\\n\\n\\n\\n<p>Specific sectors Wood highlighted include autonomous technology, with robotaxis representing a significant AI application, and healthcare transformation. She emphasized the potential for technological innovation, particularly in multi-omics and genomics spaces.</p>\\n\\n\\n\\n<p>The potential market shifts come amid broader economic discussions. Former Treasury Secretary <strong>Larry Summers</strong> has warned about possible economic disruptions from proposed policies, suggesting <a href=\"https://www.benzinga.com/analyst-ratings/analyst-color/24/11/42183404/cathie-wood-bets-on-thriving-ipo-market-under-trump-will-giveliquidity-events-that-they-have-not-enjoyed-during-the-last-four-years\">significant macroeconomic implications</a> could accompany potential market changes.</p>\\n\\n\\n\\n<p><strong>Read Next: </strong></p>\\n\\n\\n\\n<ul>\\n<li><strong><a href=\"https://www.benzinga.com/25/01/43152627/microsoft-ceo-satya-nadella-stands-firm-after-elon-musk-questions-stargates-100-billion-funding-potential-all-i-know-is-im-good-for-my-80-billion\">Satya Nadella Stands Firm After Elon Musk Questions Stargate&#8217;s $100 Billion Funding Potential: &#8216;All I Know Is, I&#8217;m Good For My $80 Billion&#8217;</a></strong></li>\\n</ul>\\n\\n\\n\\n<p><em>Image via Benzinga YouTube and Unsplash</em></p>\\n\\n\\n\\n<p><strong><em>Disclaimer</em>:</strong><em>\\xa0This content was partially produced with the help of AI tools and was reviewed and published by Benzinga editors.</em></p>' \n",
    "# teaser='Renowned investor Cathie Wood, CEO of Ark Invest believes President Donald Trump&#39;s second administration could breathe new life into the struggling initial public offering landscape, potentially creating significant opportunities for investors and venture funds.' \n",
    "# authors=['Kaustubh Bagalkote'] \n",
    "# symbols=['ARKG'] \n",
    "# channels=['Equities', 'News', 'Markets'] \n",
    "# tags=['benzinga neuro', 'Cathie Wood', 'Donald Trump'] \n",
    "# created='2025-01-23T09:38:05.000Z' updated='2025-01-23T09:38:05.000Z' url='https://www.benzinga.com/markets/equities/25/01/43153522/cathie-wood-sees-trumps-second-term-reviving-ipo-market-unlocking-opportunities-in-biotech-and-ai-sectors'\n"
   ]
  },
  {
   "cell_type": "code",
   "execution_count": 1,
   "metadata": {},
   "outputs": [
    {
     "name": "stdout",
     "output_type": "stream",
     "text": [
      "Starting WebSocket connection (format: raw)...\n",
      "Connected to Benzinga WebSocket at 2025-01-27 09:03:01.778333\n",
      "\n",
      "================================================================================\n",
      "API Version: websocket/v1\n",
      "Kind: News/v1\n",
      "\n",
      "Data:\n",
      "Action: Created\n",
      "ID: 97004887\n",
      "Timestamp: 2025-01-27T14:03:43.546Z\n",
      "\n",
      "Content:\n",
      "ID: 43231751\n",
      "Title: Keefe, Bruyette &amp; Woods Reiterates Outperform on Eastern Bankshares, Raises Price Target to $22\n",
      "Authors: Benzinga Newsdesk\n",
      "Created: 2025-01-27T14:03:42.000Z\n",
      "Updated: 2025-01-27T14:03:43.000Z\n",
      "URL: https://www.benzinga.com/news/25/01/43231751/keefe-bruyette-woods-reiterates-outperform-on-eastern-bankshares-raises-price-target-to-22\n",
      "\n",
      "Securities:\n",
      "  - Symbol: EBC\n",
      "    Exchange: NASDAQ\n",
      "    Primary: True\n",
      "\n",
      "Channels: News, Price Target, Reiteration, Analyst Ratings\n",
      "Tags: \n",
      "\n",
      "Teaser: Keefe, Bruyette &amp; Woods  analyst Damon Delmonte   reiterates Eastern Bankshares (NASDAQ:EBC) with a Outperform and raises the price target from $21 to $22.\n",
      "\n",
      "Body: Keefe, Bruyette & Woods  analyst Damon Delmonte   reiterates Eastern Bankshares (NASDAQ:<a class=\"ticker\" href=\"https://www.benzinga.com/stock/EBC#NASDAQ\">EBC</a>) with a Outperform and raises the price target from $21 to $22.\n",
      "================================================================================\n",
      "\n",
      "\n",
      "WebSocket Statistics:\n",
      "Messages Received: 1\n",
      "Messages Processed: 1\n",
      "Last Message: 2025-01-27T14:03:43.701898+00:00\n",
      "Success Rate: 100.0%\n",
      "\n",
      "Error Statistics:\n",
      "JSON Errors: 0\n",
      "\n",
      "Validation Errors:  - no_stocks: 0  - no_id: 0  - invalid_created: 0  - invalid_updated: 0  - invalid_timestamp_format: 0  - missing_timestamp: 0  - other: 0\n",
      "\n",
      "Skipped Items:  - No id: 0  - No symbols: 0  - No content: 0\n",
      "\n",
      "Unexpected Errors: 0\n",
      "Connection Error: \n",
      "WebSocket disconnected at 2025-01-27 09:03:48.288547\n",
      "Status code: None\n",
      "Close message: None\n",
      "\n",
      "Error Statistics:\n",
      "JSON Errors: 0\n",
      "\n",
      "Validation Errors:  - no_stocks: 0  - no_id: 0  - invalid_created: 0  - invalid_updated: 0  - invalid_timestamp_format: 0  - missing_timestamp: 0  - other: 0\n",
      "\n",
      "Skipped Items:  - No id: 0  - No symbols: 0  - No content: 0\n",
      "\n",
      "Unexpected Errors: 0\n",
      "Reconnecting in 2.0 seconds...\n",
      "Starting WebSocket connection (format: raw)...\n",
      "Connected to Benzinga WebSocket at 2025-01-27 09:03:50.493121\n",
      "\n",
      "================================================================================\n",
      "API Version: websocket/v1\n",
      "Kind: News/v1\n",
      "\n",
      "Data:\n",
      "Action: Created\n",
      "ID: 97004891\n",
      "Timestamp: 2025-01-27T14:03:54.523Z\n",
      "\n",
      "Content:\n",
      "ID: 43231754\n",
      "Title: JAKKS Pacific&#39;s Disguise Announces Global Licensing Rights For A Minecraft Movie Costumes, Extending Partnership With Minecraft Brand; Movie Set For April 4, 2025 Release\n",
      "Authors: Benzinga Newsdesk\n",
      "Created: 2025-01-27T14:03:53.000Z\n",
      "Updated: 2025-01-27T14:03:54.000Z\n",
      "URL: https://www.benzinga.com/news/25/01/43231754/jakks-pacifics-disguise-announces-global-licensing-rights-for-a-minecraft-movie-costumes-extending-p\n",
      "\n",
      "Securities:\n",
      "  - Symbol: JAKK\n",
      "    Exchange: NASDAQ\n",
      "    Primary: True\n",
      "\n",
      "Channels: News\n",
      "Tags: \n",
      "\n",
      "Teaser: Disguise, Inc., the costume division of leading toy and consumer products company JAKKS Pacific, Inc. (NASDAQ:JAKK), has proudly announced global licensing rights to design, produce, and market costumes inspired by A\n",
      "\n",
      "Body: <p>Disguise, Inc., the costume division of leading toy and consumer products company JAKKS Pacific, Inc. (NASDAQ:<a class=\"ticker\" href=\"https://www.benzinga.com/stock/JAKK#NASDAQ\">JAKK</a>), has proudly announced global licensing rights to design, produce, and market costumes inspired by A MINECRAFT MOVIE. This major announcement solidifies Disguise's long-standing partnership with the Minecraft brand, the world's most popular video game, and extends their leadership in the gaming costume market. As the exclusive costume partner for Minecraft, Disguise continues to bring the iconic game's characters and themes to life for fans around the world.</p><p>The highly anticipated A MINECRAFT MOVIE, set to release on April 4, 2025, is a live-action cinematic adaptation of the game that has captivated millions. Directed by Jared Hess (<i>Napoleon Dynamite</i>), the film follows a group of misfits who travel through a portal to the Overworld. Lead by Steve (played by Jack Black) and Garrett \"The Garbage Man\" Garrison (played by Jason Momoa), they must master the challenges of their new world, and work together as they embark on a magical quest to return home. Combining the game's signature creativity with themes of teamwork and resilience, the movie is poised to introduce Minecraft's unique universe to new audiences while delighting long-time fans.</p>\n",
      "================================================================================\n",
      "\n",
      "\n",
      "WebSocket Statistics:\n",
      "Messages Received: 2\n",
      "Messages Processed: 2\n",
      "Last Message: 2025-01-27T14:03:54.658885+00:00\n",
      "Success Rate: 100.0%\n",
      "\n",
      "Error Statistics:\n",
      "JSON Errors: 0\n",
      "\n",
      "Validation Errors:  - no_stocks: 0  - no_id: 0  - invalid_created: 0  - invalid_updated: 0  - invalid_timestamp_format: 0  - missing_timestamp: 0  - other: 0\n",
      "\n",
      "Skipped Items:  - No id: 0  - No symbols: 0  - No content: 0\n",
      "\n",
      "Unexpected Errors: 0\n"
     ]
    }
   ],
   "source": [
    "from benzinga.bz_websocket import BenzingaNewsWebSocket\n",
    "ws = BenzingaNewsWebSocket()\n",
    "\n",
    "try:\n",
    "    ws.connect(raw=False)   # Default - no trace, unified format\n",
    "except KeyboardInterrupt:\n",
    "    print(\"\\nShutting down...\")\n",
    "    ws.disconnect()"
   ]
  },
  {
   "cell_type": "code",
   "execution_count": null,
   "metadata": {},
   "outputs": [],
   "source": [
    "from benzinga.bz_websocket import BenzingaNewsWebSocket\n",
    "\n",
    "ws = BenzingaNewsWebSocket()\n",
    "\n",
    "# Raw format with trace\n",
    "ws.connect(raw=True, enable_trace=False)"
   ]
  },
  {
   "cell_type": "code",
   "execution_count": null,
   "metadata": {},
   "outputs": [],
   "source": [
    "import json\n",
    "# Let's read the REST API sample\n",
    "with open('../benzinga/samples/rest_api_20250125_032805.json', 'r') as f:\n",
    "    rest_sample = json.load(f)\n",
    "print(\"REST API structure:\", json.dumps(rest_sample, indent=2))"
   ]
  },
  {
   "cell_type": "markdown",
   "metadata": {},
   "source": []
  }
 ],
 "metadata": {
  "kernelspec": {
   "display_name": "EventTrader Environment",
   "language": "python",
   "name": "eventtrader_venv"
  },
  "language_info": {
   "codemirror_mode": {
    "name": "ipython",
    "version": 3
   },
   "file_extension": ".py",
   "mimetype": "text/x-python",
   "name": "python",
   "nbconvert_exporter": "python",
   "pygments_lexer": "ipython3",
   "version": "3.11.10"
  }
 },
 "nbformat": 4,
 "nbformat_minor": 2
}
