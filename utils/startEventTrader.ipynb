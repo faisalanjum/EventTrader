{
 "cells": [
  {
   "cell_type": "code",
   "execution_count": null,
   "metadata": {},
   "outputs": [],
   "source": [
    "from eventtrader.keys import (\n",
    "    SEC_API_KEY, \n",
    "    POLYGON_API_KEY, \n",
    "    BENZINGANEWS_API_KEY,  \n",
    "    OPENFIGI_API_KEY, \n",
    "    BENZINGACONFERENCE_API_KEY\n",
    ")\n"
   ]
  },
  {
   "cell_type": "code",
   "execution_count": null,
   "metadata": {},
   "outputs": [],
   "source": [
    "from utils.DataManagerCentral import DataManager\n",
    "\n",
    "# Initialize with optional date range\n",
    "manager = DataManager(\n",
    "    date_from=\"2025-03-02\",\n",
    "    date_to=\"2025-03-02\"\n",
    "\n",
    "    # date_from=\"2025-02-27\",\n",
    "    # date_to=\"2025-02-27\"\n",
    ")\n",
    "    # date_from=\"2025-01-31\",\n",
    "    # date_to=\"2025-02-01\",   # changed from \"2024-01-07\"\n",
    "\n",
    "# Start everything (including historical data fetch)\n",
    "manager.start()\n",
    "    "
   ]
  },
  {
   "cell_type": "code",
   "execution_count": null,
   "metadata": {},
   "outputs": [],
   "source": []
  }
 ],
 "metadata": {
  "kernelspec": {
   "display_name": "EventTrader Environment",
   "language": "python",
   "name": "eventtrader_venv"
  },
  "language_info": {
   "codemirror_mode": {
    "name": "ipython",
    "version": 3
   },
   "file_extension": ".py",
   "mimetype": "text/x-python",
   "name": "python",
   "nbconvert_exporter": "python",
   "pygments_lexer": "ipython3",
   "version": "3.11.10"
  }
 },
 "nbformat": 4,
 "nbformat_minor": 2
}
