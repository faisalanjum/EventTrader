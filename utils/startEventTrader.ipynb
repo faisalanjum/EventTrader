{
 "cells": [
  {
   "cell_type": "markdown",
   "metadata": {},
   "source": [
    "# EventTrader Operation Guide\n",
    "\n",
    "## Normal Operation (Without Watchdog)\n",
    "\n",
    "1. Starting EventTrader:\n",
    "\n",
    "   ./scripts/run.sh start\n",
    "   \n",
    "   ◦ This will start EventTrader with default dates (yesterday to today)\n",
    "   \n",
    "   To specify dates:\n",
    "   \n",
    "   ./scripts/run.sh start 2025-03-04 2025-03-05\n",
    "\n",
    "2. Checking Status:\n",
    "\n",
    "   ./scripts/run.sh status\n",
    "   \n",
    "   ◦ Shows if EventTrader is running, its uptime, and recent logs.\n",
    "\n",
    "3. Stopping EventTrader:\n",
    "\n",
    "   ./scripts/run.sh stop\n",
    "   \n",
    "   ◦ This will gracefully shut down EventTrader.\n",
    "\n",
    "4. Restarting EventTrader:\n",
    "\n",
    "   ./scripts/run.sh restart\n",
    "   \n",
    "   ◦ This will stop and then start EventTrader.\n",
    "\n",
    "5. Daily monitoring and seeing what's happening in your system\n",
    "\n",
    "   ./scripts/run.sh logs\n",
    "   \n",
    "   • Shows the last 50 lines from the most recent log file\n",
    "\n",
    "## Using the Watchdog\n",
    "\n",
    "The watchdog monitors EventTrader and automatically restarts it if it crashes, up to a maximum of 5 restart attempts (configurable).\n",
    "\n",
    "1. Starting the Watchdog:\n",
    "\n",
    "   ./scripts/watchdog.sh\n",
    "   \n",
    "   ◦ This starts the watchdog with default settings (max 5 restarts, checking every 60 seconds).\n",
    "   \n",
    "   ./scripts/watchdog.sh 10 120\n",
    "   \n",
    "   ◦ You can specify custom settings (This sets max restarts to 10 and check interval to 120 seconds).\n",
    "\n",
    "2. Running in Background:\n",
    "\n",
    "   nohup ./scripts/watchdog.sh > /dev/null 2>&1 &\n",
    "   \n",
    "   ◦ This runs the watchdog in the background, allowing it to continue running even after you close the terminal."
   ]
  },
  {
   "cell_type": "markdown",
   "metadata": {},
   "source": [
    "### Old way to start up"
   ]
  },
  {
   "cell_type": "code",
   "execution_count": null,
   "metadata": {},
   "outputs": [],
   "source": [
    "from eventtrader.keys import (\n",
    "    SEC_API_KEY, \n",
    "    POLYGON_API_KEY, \n",
    "    BENZINGANEWS_API_KEY,  \n",
    "    OPENFIGI_API_KEY, \n",
    "    BENZINGACONFERENCE_API_KEY\n",
    ")\n"
   ]
  },
  {
   "cell_type": "code",
   "execution_count": null,
   "metadata": {},
   "outputs": [],
   "source": [
    "from utils.DataManagerCentral import DataManager\n",
    "\n",
    "# Initialize with optional date range\n",
    "manager = DataManager(\n",
    "    date_from=\"2025-03-04\",\n",
    "    date_to=\"2025-03-05\"\n",
    "\n",
    "    # date_from=\"2025-02-27\",\n",
    "    # date_to=\"2025-02-27\"\n",
    ") \n",
    "    # date_from=\"2025-01-31\",\n",
    "    # date_to=\"2025-02-01\",   # changed from \"2024-01-07\"\n",
    "\n",
    "# Start everything (including historical data fetch)\n",
    "manager.start()\n",
    "    "
   ]
  }
 ],
 "metadata": {
  "kernelspec": {
   "display_name": "EventTrader Environment",
   "language": "python",
   "name": "eventtrader_venv"
  },
  "language_info": {
   "codemirror_mode": {
    "name": "ipython",
    "version": 3
   },
   "file_extension": ".py",
   "mimetype": "text/x-python",
   "name": "python",
   "nbconvert_exporter": "python",
   "pygments_lexer": "ipython3",
   "version": "3.11.10"
  }
 },
 "nbformat": 4,
 "nbformat_minor": 2
}
