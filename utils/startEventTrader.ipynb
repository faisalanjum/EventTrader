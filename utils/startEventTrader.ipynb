{
 "cells": [
  {
   "cell_type": "markdown",
   "metadata": {},
   "source": [
    "### Old way to start up"
   ]
  },
  {
   "cell_type": "code",
   "execution_count": null,
   "metadata": {},
   "outputs": [],
   "source": [
    "from eventtrader.keys import (\n",
    "    SEC_API_KEY, \n",
    "    POLYGON_API_KEY, \n",
    "    BENZINGANEWS_API_KEY,  \n",
    "    OPENFIGI_API_KEY, \n",
    "    BENZINGACONFERENCE_API_KEY\n",
    ")\n"
   ]
  },
  {
   "cell_type": "code",
   "execution_count": null,
   "metadata": {},
   "outputs": [],
   "source": [
    "from utils.DataManagerCentral import DataManager\n",
    "\n",
    "# Initialize with optional date range\n",
    "manager = DataManager(\n",
    "    date_from=\"2025-03-04\",\n",
    "    date_to=\"2025-03-05\"\n",
    "\n",
    "    # date_from=\"2025-02-27\",\n",
    "    # date_to=\"2025-02-27\"\n",
    ") \n",
    "    # date_from=\"2025-01-31\",\n",
    "    # date_to=\"2025-02-01\",   # changed from \"2024-01-07\"\n",
    "\n",
    "# Start everything (including historical data fetch)\n",
    "manager.start()\n",
    "    "
   ]
  },
  {
   "cell_type": "markdown",
   "metadata": {},
   "source": [
    "### Earnings Call Calendar"
   ]
  },
  {
   "cell_type": "code",
   "execution_count": 11,
   "metadata": {},
   "outputs": [
    {
     "name": "stdout",
     "output_type": "stream",
     "text": [
      "Tilray Brands, Inc. - Q2 2025 on: 2025-01-10T08:30:00-05:00 Transcript Ready: True\n",
      "Walgreens Boots Alliance, Inc. - Q1 2025 on: 2025-01-10T08:30:00-05:00 Transcript Ready: True\n",
      "Neogen Corporation - Q2 2025 on: 2025-01-10T08:30:00-05:00 Transcript Ready: True\n",
      "E2open Parent Holdings, Inc. - Q3 2025 on: 2025-01-10T08:30:00-05:00 Transcript Ready: True\n",
      "TD SYNNEX Corporation - Q4 2024 on: 2025-01-10T09:00:00-05:00 Transcript Ready: True\n",
      "Delta Air Lines, Inc. - Q4 2024 on: 2025-01-10T10:00:00-05:00 Transcript Ready: True\n",
      "Constellation Brands, Inc. - Q3 2025 on: 2025-01-10T10:30:00-05:00 Transcript Ready: True\n",
      "PriceSmart, Inc. - Q1 2025 on: 2025-01-10T12:00:00-05:00 Transcript Ready: True\n",
      "KORU Medical Systems, Inc. - Q4 2024 on: 2025-01-10T16:30:00-05:00 Transcript Ready: True\n",
      "WD-40 Company - Q1 2025 on: 2025-01-10T17:00:00-05:00 Transcript Ready: True\n"
     ]
    }
   ],
   "source": [
    "from datetime import date\n",
    "\n",
    "from earningscall import get_calendar\n",
    "\n",
    "calendar = get_calendar(date(2025, 1, 10))\n",
    "\n",
    "for event in calendar:\n",
    "    print(f\"{event.company_name} - Q{event.quarter} {event.year} on: {event.conference_date.astimezone().isoformat()} Transcript Ready: {event.transcript_ready}\")"
   ]
  }
 ],
 "metadata": {
  "kernelspec": {
   "display_name": "EventTrader Environment",
   "language": "python",
   "name": "eventtrader_venv"
  },
  "language_info": {
   "codemirror_mode": {
    "name": "ipython",
    "version": 3
   },
   "file_extension": ".py",
   "mimetype": "text/x-python",
   "name": "python",
   "nbconvert_exporter": "python",
   "pygments_lexer": "ipython3",
   "version": "3.11.10"
  }
 },
 "nbformat": 4,
 "nbformat_minor": 2
}
