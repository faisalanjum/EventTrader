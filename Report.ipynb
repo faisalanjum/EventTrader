{
 "cells": [
  {
   "cell_type": "code",
   "execution_count": 1,
   "metadata": {},
   "outputs": [],
   "source": [
    "# import sys; sys.path.append('..') \n",
    "instance_url = 'https://www.sec.gov/Archives/edgar/data/1856028/000162828024010049/sdig-20231231_htm.xml' # 10-K report\n",
    "# instance_url = 'https://www.sec.gov/Archives/edgar/data/320193/000032019320000096/aapl-20200926_htm.xml' # Apple\n",
    "# instance_url = 'https://www.sec.gov/Archives/edgar/data/1318605/000095017023033544/tsla-20230719_htm.xml' # 8-K report\n",
    "# instance_url = 'https://www.sec.gov/Archives/edgar/data/1784970/000121390024106993/ea0223953-10qa1_nexttech_htm.xml' # 10-Q Amended report\n",
    "# instance_url = 'https://www.sec.gov/Archives/edgar/data/3545/000000354524000128/alco-20240930_htm.xml'\n",
    "\n",
    "uri = \"bolt://localhost:7687\"\n",
    "username = \"neo4j\"\n",
    "password = \"Next2020#\"\n",
    "aura_password = \"QBb3PYw5xaX9ks65bl2au__FBZkh5lpGfOkvcv35hiY\"\n",
    "\n",
    "\n",
    "from XBRL import *\n",
    "from XBRL.Neo4jManager import Neo4jManager\n",
    "# driver = GraphDatabase.driver(uri, auth=(username, password))"
   ]
  },
  {
   "cell_type": "code",
   "execution_count": 2,
   "metadata": {},
   "outputs": [
    {
     "name": "stdout",
     "output_type": "stream",
     "text": [
      "Created constraint for PRESENTATION_EDGE relationships\n",
      "Created constraint for CALCULATION_EDGE relationships\n",
      "Adding 103 DateNode nodes\n",
      "Created 103 DateNode nodes\n",
      "Export completed successfully\n",
      "Created 102 NEXT relationships from DateNode to DateNode\n",
      "Created 103 date nodes\n",
      "Adding single CompanyNode node\n",
      "Created 1 CompanyNode nodes\n",
      "Export completed successfully\n",
      "Created 103 HAS_PRICE relationships from DateNode to CompanyNode\n",
      "Adding 11 AdminReportNode nodes\n",
      "Created 11 AdminReportNode nodes\n",
      "Export completed successfully\n",
      "Created 8 HAS_SUB_REPORT relationships from AdminReportNode to AdminReportNode\n",
      "Processing 10-K report for 2023-12-31\n",
      "Adding single ReportNode node\n",
      "Created 1 ReportNode nodes\n",
      "Export completed successfully\n",
      "Created 1 HAS_CATEGORY relationships from ReportNode to AdminReportNode\n",
      "Created 1 REPORTED_ON relationships from DateNode to ReportNode\n",
      "Created 1 FILED_BY relationships from ReportNode to CompanyNode\n",
      "\n",
      "Concept types:\n",
      "Concept: 12355\n",
      "Abstract: 2598\n",
      "HyperCube: 371\n",
      "Dimension: 298\n",
      "Member: 2505\n",
      "LineItems: 367\n",
      "Other: 91\n",
      "Guidance: 6\n",
      "Built 83 unique periods\n",
      "Built 23 unique units\n",
      "Built 419 unique contexts\n",
      "Adding 481 Concept nodes\n",
      "Adding 6 GuidanceConcept nodes\n",
      "Adding 83 Period nodes\n",
      "Adding 23 Unit nodes\n",
      "Adding 419 Context nodes\n",
      "Created 1012 Concept nodes\n",
      "Export completed successfully\n",
      "Adding 298 Dimension nodes\n",
      "Adding 39 Domain nodes\n",
      "Adding 396 Member nodes\n",
      "Created 733 Dimension nodes\n",
      "Export completed successfully\n",
      "Created 39 HAS_DOMAIN relationships from Dimension to Domain\n",
      "Created 270 HAS_MEMBER relationships from Domain to Member\n",
      "Created 126 PARENT_OF relationships from Member to Member\n",
      "Adding 78 AbstractConcept nodes\n",
      "Created 78 AbstractConcept nodes\n",
      "Export completed successfully\n",
      "Built 1429 facts (1245 unique)\n",
      "Adding 1245 Fact nodes\n",
      "Created 1245 Fact nodes\n",
      "Export completed successfully\n",
      "Created 1429 HAS_CONCEPT relationships from Fact to Concept\n",
      "Created 1271 HAS_UNIT relationships from Fact to Unit\n",
      "Created 1429 HAS_PERIOD relationships from Fact to Period\n",
      "Built 1429 report-fact relationships\n",
      "Created 1429 CONTAINS relationships from ReportNode to Fact\n",
      "Created 1169 FACT_MEMBER relationships from Fact to Member\n",
      "Created 419 HAS_PERIOD relationships from Context to Period\n",
      "Created 419 FOR_COMPANY relationships from Context to CompanyNode\n",
      "Created 685 HAS_DIMENSION relationships from Context to Dimension\n",
      "Created 685 HAS_MEMBER relationships from Context to Member\n",
      "Built 1429 fact-context relationships\n",
      "Created 1429 IN_CONTEXT relationships from Fact to Context\n",
      "Built report nodes: 1429 facts\n",
      "\n",
      "Starting network validation and linking...\n",
      "\n",
      "Creating presentation relationships...\n",
      "\n",
      "Presentation Relationship Summary:\n",
      "Total relationships: 1549\n",
      "abstract_to_fact: 1516\n",
      "abstract_to_abstract: 33\n",
      "Creating relationships in Neo4j...\n",
      "Created 1549 PRESENTATION_EDGE relationships from AbstractConcept to Fact\n",
      "\n",
      "Presentation Relationship Creation Summary:\n",
      "Total relationships created: 1549\n",
      "abstract_to_fact: 1516\n",
      "abstract_to_abstract: 33\n",
      "\n",
      "Calculation Relationship Summary:\n",
      "Total relationships created: 767\n",
      "relationships_created: 767\n",
      "missing_facts: 2\n",
      "Checking calculation steps...\n",
      "\n",
      "Starting calculation validation...\n",
      "\n",
      "Calculation Validation Summary:\n",
      "total_relationships: 767\n",
      "networks_processed: 14\n",
      "unique_parents: 62\n",
      "child_facts_processed: 767\n",
      "calculations_checked: 62\n",
      "children_processed: 358\n",
      "matches: 62\n",
      "non_matches: 0\n",
      "\n",
      "Summary:\n",
      "Total Matches: 62\n",
      "Total Non-Matches: 0\n",
      "Match Rate: 100.0%\n",
      "Created 767 CALCULATION_EDGE relationships from Fact to Fact\n",
      "\n",
      "Neo4j Calculation Summary:\n",
      "Total Matches: 62\n",
      "Total Non-Matches: 0\n",
      "Overall Match Rate: 100.0%\n",
      "\n",
      "Processing guidance: srt:UseNameOfCryptoAssetAsValueForMemberUnderCryptoAssetDomainGuidance\n",
      "Guidance text: None\n",
      "\n",
      "Processing guidance: us-gaap:UseFinancialStatementLineItemElementsWithDimensionElementsForBalancesOfVariableInterestEntityVieGuidance\n",
      "Guidance text: None\n",
      "\n",
      "Processing guidance: us-gaap:ElementNameAndStandardLabelInMaturityNumericLowerEndToNumericHigherEndDateMeasureMemberOrMaturityGreaterThanLowEndNumericValueDateMeasureMemberOrMaturityLessThanHighEndNumericValueDateMeasureMemberFormatsGuidance\n",
      "Guidance text: None\n",
      "\n",
      "Processing guidance: us-gaap:UseFinancialStatementLineItemElementsWithDimensionElementsForEffectOfAmendmentFromAccountingStandardsUpdateGuidance\n",
      "Guidance text: None\n",
      "\n",
      "Processing guidance: us-gaap:ForInformationOnUsingExtensibleEnumerationElementsSeeGuideAtLinkInTinPartUriGuidance\n",
      "Guidance text: None\n",
      "\n",
      "Processing guidance: us-gaap:ForInformationOnModelingAccountingChangesSeeImplementationGuideAtLinkInTinPartsInlineuriAndPdfuriGuidance\n",
      "Guidance text: None\n"
     ]
    }
   ],
   "source": [
    "import warnings\n",
    "warnings.filterwarnings('ignore', category=FutureWarning)\n",
    "\n",
    "neo4j = Neo4jManager(uri, username, password)\n",
    "\n",
    "# neo4j.clear_db()\n",
    "report = process_report(instance_url, neo4j)\n"
   ]
  },
  {
   "cell_type": "code",
   "execution_count": null,
   "metadata": {},
   "outputs": [],
   "source": [
    "for network in report.networks:\n",
    "    print(f\" Network:{network.name}, Calculation:{network.isCalculation}, Presentation:{network.isPresentation}\")"
   ]
  },
  {
   "cell_type": "code",
   "execution_count": null,
   "metadata": {},
   "outputs": [],
   "source": [
    "stop"
   ]
  },
  {
   "cell_type": "code",
   "execution_count": null,
   "metadata": {},
   "outputs": [],
   "source": [
    "report.networks[0].__dict__"
   ]
  },
  {
   "cell_type": "code",
   "execution_count": null,
   "metadata": {},
   "outputs": [],
   "source": [
    "count_report_hierarchy(report)"
   ]
  },
  {
   "cell_type": "code",
   "execution_count": null,
   "metadata": {},
   "outputs": [],
   "source": [
    "stop"
   ]
  },
  {
   "cell_type": "markdown",
   "metadata": {},
   "source": [
    "# ALL REPORTS"
   ]
  },
  {
   "cell_type": "code",
   "execution_count": null,
   "metadata": {},
   "outputs": [],
   "source": [
    "# import sys; sys.path.append('..') \n",
    "\n",
    "instance_urls = ['https://www.sec.gov/Archives/edgar/data/1856028/000162828024010049/sdig-20231231_htm.xml', # 10-K report\n",
    "'https://www.sec.gov/Archives/edgar/data/320193/000032019320000096/aapl-20200926_htm.xml', # Apple\n",
    "'https://www.sec.gov/Archives/edgar/data/1318605/000095017023033544/tsla-20230719_htm.xml', # 8-K report\n",
    "'https://www.sec.gov/Archives/edgar/data/1784970/000121390024106993/ea0223953-10qa1_nexttech_htm.xml', # 10-Q Amended report\n",
    "'https://www.sec.gov/Archives/edgar/data/3545/000000354524000128/alco-20240930_htm.xml'\n",
    "]\n",
    "\n",
    "# instance_urls = ['https://www.sec.gov/Archives/edgar/data/40545/000004054525000009/ge-20250123_htm.xml']\n",
    "uri = \"bolt://localhost:7687\"\n",
    "username = \"neo4j\"\n",
    "password = \"Next2020#\"\n",
    "\n",
    "from XBRL import *\n",
    "from XBRL.Neo4jManager import Neo4jManager\n",
    "import warnings\n",
    "warnings.filterwarnings('ignore', category=FutureWarning)\n",
    "\n",
    "\n",
    "neo4j = Neo4jManager(uri, username, password)\n",
    "# neo4j.clear_db()  \n",
    "\n",
    "\n",
    "for instance_url in instance_urls:\n",
    "    report = process_report(instance_url, neo4j)\n"
   ]
  },
  {
   "cell_type": "markdown",
   "metadata": {},
   "source": [
    "## Unique Identifiers"
   ]
  },
  {
   "cell_type": "markdown",
   "metadata": {},
   "source": [
    "### 1. Nodes"
   ]
  },
  {
   "cell_type": "code",
   "execution_count": null,
   "metadata": {},
   "outputs": [],
   "source": [
    "print(\"1. Common Nodes Unique Identifiers:-\")\n",
    "print(f\"Concept: {report.concepts[0].u_id}\")\n",
    "print(f\"Abstract: {report.abstracts[0].u_id}\") # same as concept\n",
    "print(f\"Period: {report.periods[0].u_id}\")\n",
    "print(f\"Unit: {report.units[0].u_id}\")\n",
    "print(f\"Date: {report.dates[0].id}\")\n",
    "print(f\"Admin Report: {report.admin_reports[0].id}\")\n",
    "\n",
    "print(\"\\n2. Company Nodes Unique Identifiers:-\")\n",
    "print(f\"Company: {report.company.cik}\")\n",
    "print(f\"Context: {report.contexts[0].u_id}\")\n",
    "print(f\"Dimension: {report.taxonomy.dimensions[0].u_id}\") # report.networks[0].hypercubes[0].dimensions[0].id\n",
    "print(f\"Member: {report.networks[4].hypercubes[0].dimensions[0].members[0].id}\")\n",
    "\n",
    "\n",
    "print(\"\\n3. Report Nodes Unique Identifiers:-\")\n",
    "print(f\"Fact: {report.facts[0].u_id}\")\n",
    "\n",
    "\n",
    "print(\"\\n4. Other Nodes Unique Identifiers:-\")\n",
    "print(f\"Hypercube: {report.networks[4].hypercubes[0].id}\") # Hypercube IDs - some are Common, some are Company specific\n",
    "\n",
    "# No IDs for Taxonomy and Networks\n",
    "# print(f\"Taxonomy: {report.taxonomy.__dict__}\") \n",
    "# print(f\"Network: {report.networks[0].__dict__}\")"
   ]
  },
  {
   "cell_type": "markdown",
   "metadata": {},
   "source": [
    "## Fetch Company:"
   ]
  },
  {
   "cell_type": "code",
   "execution_count": 1,
   "metadata": {},
   "outputs": [
    {
     "name": "stdout",
     "output_type": "stream",
     "text": [
      "Adding 104 DateNode nodes\n",
      "Created 104 DateNode nodes\n",
      "Export completed successfully\n",
      "Created 103 NEXT relationships from DateNode to DateNode\n",
      "Created 104 date nodes\n",
      "Using company node: UBER TECHNOLOGIES INC (CIK: 0001543151)\n",
      "Created 104 HAS_PRICE relationships from DateNode to CompanyNode\n",
      "Adding 11 AdminReportNode nodes\n",
      "Created 11 AdminReportNode nodes\n",
      "Export completed successfully\n",
      "Created 8 HAS_SUB_REPORT relationships from AdminReportNode to AdminReportNode\n",
      "Processing 8-K report for 2023-07-19\n",
      "Adding single ReportNode node\n",
      "Created 1 ReportNode nodes\n",
      "Export completed successfully\n",
      "Created 1 HAS_CATEGORY relationships from ReportNode to AdminReportNode\n",
      "Created 1 REPORTED_ON relationships from DateNode to ReportNode\n",
      "Created 1 FILED_BY relationships from ReportNode to CompanyNode\n",
      "\n",
      "Concept types:\n",
      "Concept: 12235\n",
      "Abstract: 2594\n",
      "HyperCube: 371\n",
      "Other: 91\n",
      "LineItems: 367\n",
      "Member: 2381\n",
      "Dimension: 296\n",
      "Guidance: 6\n",
      "Built 1 unique periods\n",
      "Built 0 unique units\n",
      "Built 1 unique contexts\n",
      "Adding 22 Concept nodes\n",
      "Adding 6 GuidanceConcept nodes\n",
      "Adding 1 Period nodes\n",
      "Adding 1 Context nodes\n",
      "Created 30 Concept nodes\n",
      "Export completed successfully\n",
      "Adding 296 Dimension nodes\n",
      "Created 296 Dimension nodes\n",
      "Export completed successfully\n",
      "Adding 1 AbstractConcept nodes\n",
      "Created 1 AbstractConcept nodes\n",
      "Export completed successfully\n",
      "Built 22 facts (22 unique)\n",
      "Adding 22 Fact nodes\n",
      "Created 22 Fact nodes\n",
      "Export completed successfully\n",
      "Created 22 HAS_CONCEPT relationships from Fact to Concept\n",
      "Created 22 HAS_PERIOD relationships from Fact to Period\n",
      "Built 22 report-fact relationships\n",
      "Created 22 CONTAINS relationships from ReportNode to Fact\n",
      "Created 1 HAS_PERIOD relationships from Context to Period\n",
      "Created 1 FOR_COMPANY relationships from Context to CompanyNode\n",
      "Built 22 fact-context relationships\n",
      "Created 22 IN_CONTEXT relationships from Fact to Context\n",
      "Built report nodes: 22 facts\n",
      "\n",
      "Starting network validation and linking...\n",
      "\n",
      "Creating presentation relationships...\n",
      "\n",
      "Presentation Relationship Summary:\n",
      "Total relationships: 22\n",
      "abstract_to_fact: 22\n",
      "Creating relationships in Neo4j...\n",
      "Created 22 PRESENTATION_EDGE relationships from AbstractConcept to Fact\n",
      "\n",
      "Presentation Relationship Creation Summary:\n",
      "Total relationships created: 22\n",
      "abstract_to_fact: 22\n",
      "\n",
      "Calculation Relationship Summary:\n",
      "Total relationships created: 0\n",
      "\n",
      "Processing guidance: srt:UseNameOfCryptoAssetAsValueForMemberUnderCryptoAssetDomainGuidance\n",
      "Guidance text: None\n",
      "\n",
      "Processing guidance: us-gaap:UseFinancialStatementLineItemElementsWithDimensionElementsForBalancesOfVariableInterestEntityVieGuidance\n",
      "Guidance text: None\n",
      "\n",
      "Processing guidance: us-gaap:ElementNameAndStandardLabelInMaturityNumericLowerEndToNumericHigherEndDateMeasureMemberOrMaturityGreaterThanLowEndNumericValueDateMeasureMemberOrMaturityLessThanHighEndNumericValueDateMeasureMemberFormatsGuidance\n",
      "Guidance text: None\n",
      "\n",
      "Processing guidance: us-gaap:UseFinancialStatementLineItemElementsWithDimensionElementsForEffectOfAmendmentFromAccountingStandardsUpdateGuidance\n",
      "Guidance text: None\n",
      "\n",
      "Processing guidance: us-gaap:ForInformationOnUsingExtensibleEnumerationElementsSeeGuideAtLinkInTinPartUriGuidance\n",
      "Guidance text: None\n",
      "\n",
      "Processing guidance: us-gaap:ForInformationOnModelingAccountingChangesSeeImplementationGuideAtLinkInTinPartsInlineuriAndPdfuriGuidance\n",
      "Guidance text: None\n"
     ]
    }
   ],
   "source": [
    "import warnings\n",
    "warnings.filterwarnings('ignore', category=FutureWarning)\n",
    "uri = \"bolt://localhost:7687\"\n",
    "username = \"neo4j\"\n",
    "password = \"Next2020#\"\n",
    "from XBRL import *\n",
    "from XBRL.Neo4jManager import Neo4jManager\n",
    "neo4j = Neo4jManager(uri, username, password)\n",
    "lyft_cik = \"0001543151\"  # The CIK should match exactly what's in Neo4j\n",
    "instance_url = 'https://www.sec.gov/Archives/edgar/data/1856028/000162828024010049/sdig-20231231_htm.xml' # 10-K report\n",
    "instance_url = 'https://www.sec.gov/Archives/edgar/data/1318605/000095017023033544/tsla-20230719_htm.xml' # 8-K report\n",
    "instance_url = 'https://www.sec.gov/Archives/edgar/data/1784970/000121390024106993/ea0223953-10qa1_nexttech_htm.xml' # 10-Q Amended report\n",
    "\n",
    "\n",
    "# Retrieve the company node\n",
    "def get_company_by_cik(neo4j: Neo4jManager, cik: str) -> Optional[CompanyNode]:\n",
    "    try:\n",
    "        with neo4j.driver.session() as session:\n",
    "            result = session.run(\n",
    "                \"MATCH (c:Company {cik: $cik}) RETURN c\", \n",
    "                {\"cik\": cik}\n",
    "            ).single()\n",
    "            \n",
    "            if result:\n",
    "                company_data = dict(result[\"c\"].items())\n",
    "                return CompanyNode.from_neo4j(company_data)\n",
    "            return None\n",
    "    except Exception as e:\n",
    "        print(f\"Error retrieving company with CIK {cik}: {e}\")\n",
    "        return None\n",
    "    \n",
    "company_node = get_company_by_cik(neo4j, lyft_cik)    \n",
    "\n",
    "report = process_report(instance_url, neo4j,company_node)"
   ]
  },
  {
   "cell_type": "code",
   "execution_count": 4,
   "metadata": {},
   "outputs": [
    {
     "data": {
      "text/plain": [
       "CompanyNode(cik='0001759509', name='LYFT INC', ticker='LYFT', exchange='NAS', sector='Technology', industry='SoftwareApplication', fiscal_year_end=None, cusip=None, figi=None, class_figi=None, sic=None, sic_name=None, sector_etf='XLK', industry_etf='IGV', mkt_cap=5877954736.0, employees=2945, shares_out=406290000.0, ipo_date=None)"
      ]
     },
     "execution_count": 4,
     "metadata": {},
     "output_type": "execute_result"
    }
   ],
   "source": [
    "company_node"
   ]
  },
  {
   "cell_type": "code",
   "execution_count": null,
   "metadata": {},
   "outputs": [],
   "source": [
    "report.report.id"
   ]
  },
  {
   "cell_type": "markdown",
   "metadata": {},
   "source": [
    "### 2. Relationships\n",
    "\n",
    "network_specific_relationships = { RelationType.PRESENTATION_EDGE, RelationType.CALCULATION_EDGE,}\n",
    "\n",
    "Important Points: \n",
    "- The uniqueness is enforced in the MERGE clause:\n",
    "A presentation/calculation relationship is considered unique if it has the same:\n",
    "- cik\n",
    "- report_id\n",
    "- network_name\n",
    "- parent_id\n",
    "- child_id\n",
    "- parent_level (context_id for Calculation)\n",
    "- child_level  (context_id for Presentation)\n",
    "\n",
    "- Even if other properties differ (like weights, levels, orders), Neo4j will update the existing relationship rather than create a duplicate if these identifying properties match.\n",
    "\n",
    "-This ensures that each parent-child relationship within a specific network for a specific company exists only once. \n",
    "\n",
    "-In calculation networks, both parent and child facts must share the same context for the calculation to be valid - context includes dimensional qualifiers, it will differentiate between same source-target relationships that have different dimensional contexts, even within the same time period."
   ]
  },
  {
   "cell_type": "markdown",
   "metadata": {},
   "source": [
    "### for presentation edges\n",
    "\n",
    "    unique_key = (\n",
    "        cik,                # Company identity\n",
    "        report_id,          # Specific filing\n",
    "        network_name,       # Network context\n",
    "        parent_id,          # Parent concept\n",
    "        child_id,          # Child concept\n",
    "        parent_level,       # Position in hierarchy\n",
    "        child_level        # Position in hierarchy\n",
    "    )\n"
   ]
  },
  {
   "cell_type": "code",
   "execution_count": null,
   "metadata": {},
   "outputs": [],
   "source": [
    "pres_df = report.neo4j.fetch_relationships(RelationType.PRESENTATION_EDGE)\n",
    "pres_df.head(1)\n"
   ]
  },
  {
   "cell_type": "markdown",
   "metadata": {},
   "source": [
    "### for calculation edges\n",
    "\n",
    "    unique_key = (\n",
    "        cik,                # Company identity\n",
    "        report_id,          # Specific filing\n",
    "        network_name,       # Network context\n",
    "        parent_id,          # Parent concept\n",
    "        child_id,          # Child concept\n",
    "        context_id         # Full context including dimensions\n",
    "    )"
   ]
  },
  {
   "cell_type": "code",
   "execution_count": null,
   "metadata": {},
   "outputs": [],
   "source": [
    "calc_df = report.neo4j.fetch_relationships(RelationType.CALCULATION_EDGE)\n",
    "calc_df.head(1)\n"
   ]
  },
  {
   "cell_type": "code",
   "execution_count": null,
   "metadata": {},
   "outputs": [],
   "source": [
    "calc_df.groupby(['parent_qname']).count()"
   ]
  },
  {
   "cell_type": "code",
   "execution_count": null,
   "metadata": {},
   "outputs": [],
   "source": [
    "calc_df.groupby(['parent_qname', 'context_id']).count()\n"
   ]
  },
  {
   "cell_type": "code",
   "execution_count": null,
   "metadata": {},
   "outputs": [],
   "source": [
    "report.report.instanceFile\n"
   ]
  },
  {
   "cell_type": "code",
   "execution_count": null,
   "metadata": {},
   "outputs": [],
   "source": []
  },
  {
   "cell_type": "code",
   "execution_count": null,
   "metadata": {},
   "outputs": [],
   "source": [
    "print(pres_df.columns.tolist())\n",
    "print(calc_df.columns.tolist()) \n"
   ]
  },
  {
   "cell_type": "code",
   "execution_count": null,
   "metadata": {},
   "outputs": [],
   "source": [
    "report.networks[0].network_uri.split('/')[-1],report.networks[0].network_uri"
   ]
  },
  {
   "cell_type": "code",
   "execution_count": null,
   "metadata": {},
   "outputs": [],
   "source": [
    "for fact in report.model_xbrl.factsInInstance:\n",
    "    print(fact.qname, fact.context.id)\n",
    "    break\n"
   ]
  },
  {
   "cell_type": "code",
   "execution_count": null,
   "metadata": {},
   "outputs": [],
   "source": [
    "report.networks[0].presentation"
   ]
  },
  {
   "cell_type": "code",
   "execution_count": null,
   "metadata": {},
   "outputs": [],
   "source": [
    "5. **Context Node:** cik_perioduid_dimensionuids_memberuids (3545_duration_2023-10-01_2024-10-01_dim1_dim2_mem1_mem2)\n",
    "5. **Context Node:** cik_perioduid_dim1_dim2_mem1_mem2 (0000012345_duration_2023-10-01_2024-10-01_http://fasb.org/us-gaap/2023:Axis1_http://fasb.org/us-gaap/2023:Axis2_http://fasb.org/us-gaap/2023:Member1_http://fasb.org/us-gaap/2023:Member2)"
   ]
  },
  {
   "cell_type": "code",
   "execution_count": null,
   "metadata": {},
   "outputs": [],
   "source": [
    "stop"
   ]
  },
  {
   "cell_type": "code",
   "execution_count": 72,
   "metadata": {},
   "outputs": [],
   "source": [
    "from arelle import Cntlr, XbrlConst\n",
    "from arelle.ModelXbrl import ModelXbrl\n",
    "\n",
    "def get_all_footnotes(model_xbrl: ModelXbrl):\n",
    "    if model_xbrl is None:\n",
    "        print(\"No valid XBRL model provided\")\n",
    "        return []\n",
    "        \n",
    "    footnotes = []\n",
    "    \n",
    "    try:\n",
    "        # 1. Get fact-footnote relationships\n",
    "        print(\"Checking fact-footnote relationships...\")\n",
    "        fact_footnote_rels = model_xbrl.relationshipSet(XbrlConst.factFootnote)\n",
    "        if fact_footnote_rels:\n",
    "            for rel in fact_footnote_rels.modelRelationships:\n",
    "                if rel.fromModelObject is not None and rel.toModelObject is not None:\n",
    "                    footnotes.append({\n",
    "                        'type': 'fact-footnote',\n",
    "                        'fact_id': getattr(rel.fromModelObject, 'id', 'N/A'),\n",
    "                        'fact_value': getattr(rel.fromModelObject, 'value', 'N/A'),\n",
    "                        'fact_concept': getattr(rel.fromModelObject, 'qname', 'N/A'),\n",
    "                        'footnote_text': getattr(rel.toModelObject, 'textValue', 'N/A'),\n",
    "                        'footnote_lang': getattr(rel.toModelObject, 'xmlLang', 'N/A'),\n",
    "                        'footnote_role': getattr(rel.toModelObject, 'role', 'N/A')\n",
    "                    })\n",
    "\n",
    "        # 2. Get fact-explanatoryFact relationships\n",
    "        print(\"Checking fact-explanatoryFact relationships...\")\n",
    "        explanatory_rels = model_xbrl.relationshipSet(XbrlConst.factExplanatoryFact)\n",
    "        if explanatory_rels:\n",
    "            for rel in explanatory_rels.modelRelationships:\n",
    "                if rel.fromModelObject is not None and rel.toModelObject is not None:\n",
    "                    footnotes.append({\n",
    "                        'type': 'explanatory-fact',\n",
    "                        'fact_id': getattr(rel.fromModelObject, 'id', 'N/A'),\n",
    "                        'fact_value': getattr(rel.fromModelObject, 'value', 'N/A'),\n",
    "                        'fact_concept': getattr(rel.fromModelObject, 'qname', 'N/A'),\n",
    "                        'explanation_text': getattr(rel.toModelObject, 'value', 'N/A'),\n",
    "                        'explanation_concept': getattr(rel.toModelObject, 'qname', 'N/A')\n",
    "                    })\n",
    "\n",
    "        # Debug information\n",
    "        print(\"\\nDebug Information:\")\n",
    "        print(f\"Total facts in document: {len(model_xbrl.facts)}\")\n",
    "        print(\"Available relationship sets:\")\n",
    "        for relSet in model_xbrl.relationshipSets.keys():\n",
    "            print(f\"- {relSet}\")\n",
    "        \n",
    "    except Exception as e:\n",
    "        print(f\"Error processing footnotes: {str(e)}\")\n",
    "    \n",
    "    return footnotes\n",
    "\n",
    "controller = Cntlr.Cntlr(logFileName=\"logfile.txt\")\n",
    "model_xbrl = controller.modelManager.load(url)\n",
    "\n",
    "\n",
    "def test_footnotes():\n",
    "    urls = [\n",
    "        \"https://www.sec.gov/Archives/edgar/data/320193/000032019320000096/aapl-20200926_htm.xml\",\n",
    "        \"https://www.sec.gov/Archives/edgar/data/1318605/000156459021004599/tsla-10k_20201231_htm.xml\"\n",
    "    ]\n",
    "    \n",
    "    for url in urls:\n",
    "        print(f\"\\nTesting URL: {url}\")\n",
    "        controller = Cntlr.Cntlr(logFileName=\"logfile.txt\")\n",
    "        model_xbrl = controller.modelManager.load(url)\n",
    "        \n",
    "        if model_xbrl is not None:\n",
    "            print(\"Document loaded successfully\")\n",
    "            footnotes = get_all_footnotes(model_xbrl)\n",
    "            controller.modelManager.close()\n",
    "        else:\n",
    "            print(\"Failed to load document\")"
   ]
  },
  {
   "cell_type": "code",
   "execution_count": 61,
   "metadata": {},
   "outputs": [],
   "source": [
    "from arelle import XbrlConst\n",
    "from arelle.ModelXbrl import ModelXbrl\n",
    "\n",
    "def get_footnotes(model_xbrl: ModelXbrl):\n",
    "    # Get the relationship set for fact-footnote relationships\n",
    "    fact_footnote_relationships = model_xbrl.relationshipSet(\n",
    "        XbrlConst.factFootnote  # 'http://www.xbrl.org/2003/arcrole/fact-footnote'\n",
    "    )\n",
    "    \n",
    "    # Get the relationship set for fact-explanatoryFact relationships\n",
    "    explanatory_fact_relationships = model_xbrl.relationshipSet(\n",
    "        XbrlConst.factExplanatoryFact  # 'http://www.xbrl.org/2009/arcrole/fact-explanatoryFact'\n",
    "    )\n",
    "    \n",
    "    footnotes = []\n",
    "    \n",
    "    # Process fact footnotes\n",
    "    if fact_footnote_relationships:\n",
    "        for rel in fact_footnote_relationships.modelRelationships:\n",
    "            footnotes.append({\n",
    "                'type': 'fact-footnote',\n",
    "                'from_fact': rel.fromModelObject,\n",
    "                'footnote': rel.toModelObject,\n",
    "                'role': rel.roleURI  # Usually 'http://www.xbrl.org/2003/role/footnote'\n",
    "            })\n",
    "    \n",
    "    # Process explanatory footnotes\n",
    "    if explanatory_fact_relationships:\n",
    "        for rel in explanatory_fact_relationships.modelRelationships:\n",
    "            footnotes.append({\n",
    "                'type': 'explanatory-fact',\n",
    "                'from_fact': rel.fromModelObject,\n",
    "                'explanation': rel.toModelObject\n",
    "            })\n",
    "    \n",
    "    return footnotes"
   ]
  },
  {
   "cell_type": "code",
   "execution_count": 70,
   "metadata": {},
   "outputs": [],
   "source": [
    "from arelle import Cntlr\n",
    "from arelle.ModelXbrl import load\n",
    "controller = Cntlr.Cntlr(logFileName=\"logfile.txt\")\n",
    "url = 'https://www.sec.gov/Archives/edgar/data/320193/000032019320000096/aapl-20200926_htm.xml'\n",
    "model_xbrl = controller.modelManager.load(url)\n",
    "\n",
    "\n",
    "footnotes = get_footnotes(model_xbrl)\n",
    "\n",
    "# Print the footnotes\n",
    "for footnote in footnotes:\n",
    "    if footnote['type'] == 'fact-footnote':\n",
    "        print(f\"Fact: {footnote['from_fact'].value}\")\n",
    "        print(f\"Footnote: {footnote['footnote'].value}\")\n",
    "        print(f\"Role: {footnote['role']}\")\n",
    "    else:\n",
    "        print(f\"Fact: {footnote['from_fact'].value}\")\n",
    "        print(f\"Explanation: {footnote['explanation'].value}\")\n",
    "    print(\"---\")"
   ]
  },
  {
   "cell_type": "code",
   "execution_count": null,
   "metadata": {},
   "outputs": [],
   "source": []
  },
  {
   "cell_type": "code",
   "execution_count": null,
   "metadata": {},
   "outputs": [],
   "source": []
  },
  {
   "cell_type": "code",
   "execution_count": null,
   "metadata": {},
   "outputs": [],
   "source": []
  },
  {
   "cell_type": "markdown",
   "metadata": {},
   "source": [
    "# REFERENCES AND DOCUMENTATION"
   ]
  },
  {
   "cell_type": "code",
   "execution_count": null,
   "metadata": {},
   "outputs": [],
   "source": [
    "def fetch_concept_references_and_documentation(instance_url):\n",
    "    from arelle import Cntlr\n",
    "    from arelle.ModelXbrl import load\n",
    "\n",
    "    controller = Cntlr.Cntlr(logFileName=\"logfile.txt\")\n",
    "    model_xbrl = controller.modelManager.load(instance_url)\n",
    "\n",
    "    ref_rel_set = model_xbrl.relationshipSet(\"http://www.xbrl.org/2003/arcrole/concept-reference\")\n",
    "    doc_rel_set = model_xbrl.relationshipSet(\"http://www.xbrl.org/2003/arcrole/concept-documentation\")\n",
    "\n",
    "    references, docs = [], []\n",
    "\n",
    "    for concept in model_xbrl.qnameConcepts.values():\n",
    "        # References\n",
    "        for ref_rel in ref_rel_set.fromModelObject(concept):\n",
    "            ref_obj = ref_rel.toModelObject\n",
    "            if ref_obj is not None:\n",
    "                parts = []\n",
    "                for child in ref_obj.iterchildren():\n",
    "                    parts.append(child.stringValue)  # Corrected to access as attribute\n",
    "                references.append((concept.qname, \" \".join(parts)))\n",
    "\n",
    "        # Documentation\n",
    "        for doc_rel in doc_rel_set.fromModelObject(concept):\n",
    "            doc_obj = doc_rel.toModelObject\n",
    "            if doc_obj is not None:\n",
    "                parts = []\n",
    "                for child in doc_obj.iterchildren():\n",
    "                    parts.append(child.stringValue)  # Corrected to access as attribute\n",
    "                docs.append((concept.qname, \" \".join(parts)))\n",
    "\n",
    "    return references, docs\n",
    "\n",
    "\n",
    "references, docs = fetch_concept_references_and_documentation(instance_url)\n",
    "print(\"References:\", references)\n",
    "print(\"Documentation:\", docs)\n",
    "\n",
    "references"
   ]
  },
  {
   "cell_type": "code",
   "execution_count": null,
   "metadata": {},
   "outputs": [],
   "source": [
    "def fetch_references(instance_url):\n",
    "    from arelle import Cntlr, XbrlConst\n",
    "    from arelle.ModelXbrl import load\n",
    "\n",
    "    controller = Cntlr.Cntlr(logFileName=\"logfile.txt\")\n",
    "    model_xbrl = controller.modelManager.load(instance_url)\n",
    "\n",
    "    ref_rel_set = model_xbrl.relationshipSet(\"http://www.xbrl.org/2003/arcrole/concept-reference\")\n",
    "    references = []\n",
    "\n",
    "    for concept in model_xbrl.qnameConcepts.values():\n",
    "        for ref_rel in ref_rel_set.fromModelObject(concept):\n",
    "            ref_obj = ref_rel.toModelObject\n",
    "            if ref_obj:\n",
    "                references.append((concept.qname, ref_obj.viewText()))\n",
    "\n",
    "    return references\n",
    "\n",
    "\n",
    "fetch_references(instance_url)"
   ]
  },
  {
   "cell_type": "code",
   "execution_count": null,
   "metadata": {},
   "outputs": [],
   "source": [
    "def load_xbrl_and_extract_facts(instance_url):\n",
    "    from arelle import Cntlr, XbrlConst\n",
    "    from arelle.ModelXbrl import load\n",
    "    \n",
    "    controller = Cntlr.Cntlr(logFileName=\"logfile.txt\")\n",
    "    model_xbrl = controller.modelManager.load(instance_url)\n",
    "\n",
    "    footnotes = []\n",
    "    explanatory_facts = []\n",
    "\n",
    "    footnote_rel_set = model_xbrl.relationshipSet(XbrlConst.factFootnote)\n",
    "    for fact in model_xbrl.facts:\n",
    "        # Gather footnotes via relationshipSet\n",
    "        for footnote_rel in footnote_rel_set.fromModelObject(fact):\n",
    "            note = footnote_rel.toModelObject\n",
    "            if note is not None:\n",
    "                footnotes.append((fact.qname, fact.value, note.stringValue))\n",
    "\n",
    "        # Check if \"explanatoryFact\" is in the fact name\n",
    "        if \"explanatoryfact\" in fact.qname.localName.lower():\n",
    "            explanatory_facts.append((fact.qname, fact.value))\n",
    "\n",
    "    return footnotes, explanatory_facts\n",
    "\n",
    "\n",
    "# Load and print footnotes and explanatory facts for both instances\n",
    "footnotes1, explanatory_facts1 = load_xbrl_and_extract_facts(instance_url)\n",
    "print(\"Footnotes instance results:\")\n",
    "print(\"Footnotes:\", footnotes1)\n",
    "print(\"Explanatory facts:\", explanatory_facts1)\n",
    "print(\"\\n\")\n",
    "\n",
    "footnotes2, explanatory_facts2 = load_xbrl_and_extract_facts(instance_url) \n",
    "print(\"Explanatory facts instance results:\")\n",
    "print(\"Footnotes:\", footnotes2)\n",
    "print(\"Explanatory facts:\", explanatory_facts2)\n",
    "    \n",
    "\n"
   ]
  },
  {
   "cell_type": "code",
   "execution_count": null,
   "metadata": {},
   "outputs": [],
   "source": [
    "report.networks[0].calculation.__dict__"
   ]
  },
  {
   "cell_type": "markdown",
   "metadata": {},
   "source": []
  },
  {
   "cell_type": "code",
   "execution_count": null,
   "metadata": {},
   "outputs": [],
   "source": [
    "report.networks[0].presentation.__dict__"
   ]
  },
  {
   "cell_type": "code",
   "execution_count": null,
   "metadata": {},
   "outputs": [],
   "source": [
    "report.contexts[0].__dict__"
   ]
  },
  {
   "cell_type": "code",
   "execution_count": null,
   "metadata": {},
   "outputs": [],
   "source": [
    "for ctx in report.contexts:\n",
    "    if ctx.context_id == 'c2':\n",
    "        for prop in ctx.properties:\n",
    "            print(prop,\":\", ctx.properties[prop])\n",
    "        break"
   ]
  },
  {
   "cell_type": "code",
   "execution_count": null,
   "metadata": {},
   "outputs": [],
   "source": [
    "for ctx in report.contexts:\n",
    "    if ctx.context_id == 'c5':\n",
    "        for prop in ctx.properties:\n",
    "            print(prop,\":\", ctx.properties[prop])\n",
    "        break"
   ]
  },
  {
   "cell_type": "code",
   "execution_count": null,
   "metadata": {},
   "outputs": [],
   "source": [
    "report.facts[0].__dict__"
   ]
  },
  {
   "cell_type": "code",
   "execution_count": null,
   "metadata": {},
   "outputs": [],
   "source": [
    "report.networks[0].network_uri"
   ]
  },
  {
   "cell_type": "code",
   "execution_count": null,
   "metadata": {},
   "outputs": [],
   "source": [
    "for node in report.networks[0].calculation.nodes.values():\n",
    "    print(node)\n",
    "    for child in node.children:\n",
    "        print(child)\n",
    "    break"
   ]
  },
  {
   "cell_type": "code",
   "execution_count": null,
   "metadata": {},
   "outputs": [],
   "source": []
  },
  {
   "cell_type": "code",
   "execution_count": null,
   "metadata": {},
   "outputs": [],
   "source": [
    "report.pure_abstracts[:2]\n"
   ]
  },
  {
   "cell_type": "code",
   "execution_count": null,
   "metadata": {},
   "outputs": [],
   "source": [
    "len(report.pure_abstracts)"
   ]
  },
  {
   "cell_type": "code",
   "execution_count": null,
   "metadata": {},
   "outputs": [],
   "source": [
    "len(report.abstracts)"
   ]
  },
  {
   "cell_type": "code",
   "execution_count": null,
   "metadata": {},
   "outputs": [],
   "source": [
    "len(report._abstract_lookup)"
   ]
  },
  {
   "cell_type": "code",
   "execution_count": null,
   "metadata": {},
   "outputs": [],
   "source": [
    "# for abstract in report.abstracts:\n",
    "#     print(abstract.category)\n",
    "from collections import Counter\n",
    "category_counts = Counter(abstract.category for abstract in report.abstracts)\n",
    "for category, count in category_counts.items():\n",
    "    print(f\"{category}: {count}\")\n"
   ]
  },
  {
   "cell_type": "code",
   "execution_count": null,
   "metadata": {},
   "outputs": [],
   "source": [
    "print(\"\\nReport → Networks → Categories\")\n",
    "network_categories = {}\n",
    "for network in report.networks:\n",
    "    network_categories[network.category] = network_categories.get(network.category, 0) + 1\n",
    "for category, count in sorted(network_categories.items()):\n",
    "    print(f\"├→ {category}: {count}\")\n",
    "print(f\"└→ Total Categories: {len(network_categories)}\")"
   ]
  },
  {
   "cell_type": "code",
   "execution_count": null,
   "metadata": {},
   "outputs": [],
   "source": [
    "report.networks[0].presentation.nodes.values()"
   ]
  },
  {
   "cell_type": "code",
   "execution_count": null,
   "metadata": {},
   "outputs": [],
   "source": [
    "report.networks[0].presentation.nodes.values()\n"
   ]
  },
  {
   "cell_type": "code",
   "execution_count": null,
   "metadata": {},
   "outputs": [],
   "source": []
  },
  {
   "cell_type": "code",
   "execution_count": null,
   "metadata": {},
   "outputs": [],
   "source": [
    "from collections import defaultdict\n",
    "\n",
    "concept_to_networks = defaultdict(list)\n",
    "\n",
    "# Build a dictionary of concepts to the networks they appear in\n",
    "for network in report.networks:\n",
    "    if network.presentation and network.presentation.nodes:  # Check if presentation and nodes exist\n",
    "        for concept, _ in network.presentation.nodes.items():\n",
    "            concept_to_networks[concept].append(network.name)\n",
    "\n",
    "# Find and display the first concept that appears in more than one network\n",
    "for concept, networks in concept_to_networks.items():\n",
    "    if len(networks) > 1:\n",
    "        print(f\"Concept: {concept}\")\n",
    "        print(f\"Networks: {networks[0]} and {networks[1]}\")\n",
    "        print(\"*\"*100)\n",
    "    \n"
   ]
  },
  {
   "cell_type": "code",
   "execution_count": null,
   "metadata": {},
   "outputs": [],
   "source": [
    "# First, validate all facts across networks\n",
    "validated_facts_by_network = report.validate_all_facts()"
   ]
  },
  {
   "cell_type": "code",
   "execution_count": null,
   "metadata": {},
   "outputs": [],
   "source": [
    "for network in report.networks:\n",
    "    if network.network_uri == 'http://wetradegroup.net/role/ConsolidatedBalanceSheet':\n",
    "        for node in network.presentation.nodes.values():\n",
    "            print(node)\n"
   ]
  },
  {
   "cell_type": "code",
   "execution_count": null,
   "metadata": {},
   "outputs": [],
   "source": [
    "for fact in validated_facts_by_network['http://wetradegroup.net/role/ConsolidatedBalanceSheet']:\n",
    "    print(fact.model_fact.qname, fact.model_fact.value, fact.period.u_id, fact.model_fact.context.id)\n"
   ]
  },
  {
   "cell_type": "code",
   "execution_count": 14,
   "metadata": {},
   "outputs": [],
   "source": [
    "# instance_url = 'https://www.sec.gov/Archives/edgar/data/3545/000000354524000128/alco-20240930_htm.xml'\n",
    "# from arelle import Cntlr\n",
    "# from arelle.ModelXbrl import load\n",
    "# controller = Cntlr.Cntlr(logFileName=\"logfile.txt\")\n",
    "# model_xbrl = controller.modelManager.load(instance_url)\n",
    "\n"
   ]
  },
  {
   "cell_type": "code",
   "execution_count": null,
   "metadata": {},
   "outputs": [],
   "source": [
    "validated_facts_by_network.keys()"
   ]
  },
  {
   "cell_type": "code",
   "execution_count": null,
   "metadata": {},
   "outputs": [],
   "source": [
    "stop"
   ]
  },
  {
   "cell_type": "code",
   "execution_count": null,
   "metadata": {},
   "outputs": [],
   "source": [
    "for network in report.networks:\n",
    "    for hypercube in network.hypercubes:\n",
    "        print(network.name, hypercube.qname, len(hypercube.dimensions))\n",
    "        # if hypercube.dimensions:\n",
    "        #     print(hypercube.dimensions[0].qname)\n"
   ]
  },
  {
   "cell_type": "code",
   "execution_count": null,
   "metadata": {},
   "outputs": [],
   "source": [
    "node.concept.facts"
   ]
  },
  {
   "cell_type": "code",
   "execution_count": null,
   "metadata": {},
   "outputs": [],
   "source": [
    "def get_hypercube_dimensions(network):\n",
    "    hypercube_dimensions = []\n",
    "    for hypercube in network.hypercubes:\n",
    "        print(\"     HYPERCUBE:\", hypercube.qname, \", TotalDimensions:\", len(hypercube.dimensions))\n",
    "        print(f\"                closed:{hypercube.closed} all:{hypercube.is_all}\")\n",
    "        print(f\"                concepts: {[concept.qname for concept in hypercube.concepts]}\")\n",
    "        for i, dim in enumerate(hypercube.dimensions):\n",
    "            print(f\"         DIMENSION{i+1}: {dim.qname}\")\n",
    "            hypercube_dimensions.append(dim.qname)\n",
    "    return hypercube_dimensions\n",
    "\n",
    "\n",
    "for i, network in enumerate(report.networks):\n",
    "    print(f\"\\nNETWORK{i+1}: {network.name}\")\n",
    "    hypercube_dimensions = get_hypercube_dimensions(network)\n",
    "\n",
    "    j = 0\n",
    "    for node in getattr(network.presentation, 'nodes', {}).values():\n",
    "        # print(\"     NODE:\", node.concept.qname)\n",
    "        if node.concept and node.concept.__class__ != AbstractConcept:\n",
    "            j += 1\n",
    "            print(f\"     CONCEPT {j}:\", node.concept.qname)\n",
    "            print(f\"Total Facts in Concept: {len(node.concept.facts)}\")\n",
    "            for i,fact in enumerate(node.concept.facts):                \n",
    "                print(f\"         FACT{i+1}: {fact.qname}, {fact.period.u_id}\")\n",
    "                for i, (dim, member) in enumerate(fact.dims_members):\n",
    "                    print(f\"           DIMENSION{i+1}: {dim.qname}\")\n",
    "\n",
    "    print(\"-\"*100)    \n",
    "    break\n"
   ]
  },
  {
   "cell_type": "code",
   "execution_count": null,
   "metadata": {},
   "outputs": [],
   "source": [
    "for fact in report.facts:\n",
    "    # if len(fact.dims_members) > 1:\n",
    "    print(fact.u_id)\n",
    "    for dim, member in fact.dims_members:\n",
    "        print(dim.qname, member.qname)"
   ]
  },
  {
   "cell_type": "code",
   "execution_count": null,
   "metadata": {},
   "outputs": [],
   "source": [
    "rough = [(1,2), (3,4), (5, None)]\n",
    "\n",
    "for dim, member in rough:\n",
    "    if member is None:\n",
    "        print(dim)\n"
   ]
  },
  {
   "cell_type": "code",
   "execution_count": 7,
   "metadata": {},
   "outputs": [],
   "source": [
    "for fact in report.facts:\n",
    "    for dim, member in fact.dims_members:\n",
    "        if member is None:\n",
    "            print(fact.u_id, dim.qname)\n"
   ]
  },
  {
   "cell_type": "code",
   "execution_count": null,
   "metadata": {},
   "outputs": [],
   "source": [
    "for dim, member in report.facts[0].dims_members:\n",
    "    print(dim.default_member.qname)\n"
   ]
  },
  {
   "cell_type": "code",
   "execution_count": 7,
   "metadata": {},
   "outputs": [],
   "source": [
    "def print_presentation_hierarchy(presentation: Presentation) -> None:\n",
    "    def recursive_print(node: PresentationNode, indent: int = 0):\n",
    "        print(\"  \" * indent + f\"{node.concept.qname} ({node.order})\")\n",
    "        for child_id in sorted(node.children, key=lambda cid: presentation.nodes[cid].order):\n",
    "            recursive_print(presentation.nodes[child_id], indent + 1)\n",
    "\n",
    "    # Start printing from the root nodes\n",
    "    for root in sorted(presentation.roots, key=lambda n: n.order):\n",
    "        recursive_print(root)\n"
   ]
  },
  {
   "cell_type": "code",
   "execution_count": null,
   "metadata": {},
   "outputs": [],
   "source": [
    "print_presentation_hierarchy(report.networks[0].presentation)\n"
   ]
  },
  {
   "cell_type": "code",
   "execution_count": null,
   "metadata": {},
   "outputs": [],
   "source": [
    "report.networks[0].presentation.nodes"
   ]
  },
  {
   "cell_type": "code",
   "execution_count": null,
   "metadata": {},
   "outputs": [],
   "source": [
    "report.net"
   ]
  },
  {
   "cell_type": "code",
   "execution_count": null,
   "metadata": {},
   "outputs": [],
   "source": [
    "report.company"
   ]
  },
  {
   "cell_type": "code",
   "execution_count": null,
   "metadata": {},
   "outputs": [],
   "source": [
    "report.report"
   ]
  },
  {
   "cell_type": "code",
   "execution_count": null,
   "metadata": {},
   "outputs": [],
   "source": [
    "stop"
   ]
  },
  {
   "cell_type": "markdown",
   "metadata": {},
   "source": []
  },
  {
   "cell_type": "code",
   "execution_count": null,
   "metadata": {},
   "outputs": [],
   "source": [
    "count_report_hierarchy(report) "
   ]
  },
  {
   "cell_type": "code",
   "execution_count": null,
   "metadata": {},
   "outputs": [],
   "source": [
    "report.taxonomy.dimensions[12].__dict__"
   ]
  },
  {
   "cell_type": "code",
   "execution_count": null,
   "metadata": {},
   "outputs": [],
   "source": [
    "report.facts[14].__dict__"
   ]
  },
  {
   "cell_type": "code",
   "execution_count": null,
   "metadata": {},
   "outputs": [],
   "source": [
    "for fact in report.facts:\n",
    "    if fact.dims_members:\n",
    "        print([(dim_concept.qname, dim_member.qname) for dim_concept, dim_member in fact.dims_members])\n",
    "        break"
   ]
  },
  {
   "cell_type": "code",
   "execution_count": 7,
   "metadata": {},
   "outputs": [],
   "source": [
    "for dim_member in report.facts[14].dims_members:\n",
    "    print(dim_member[0].qname)\n",
    "    for member in dim_member[0].members_dict.values():\n",
    "        print(member.qname)\n"
   ]
  },
  {
   "cell_type": "code",
   "execution_count": null,
   "metadata": {},
   "outputs": [],
   "source": [
    "report.taxonomy.dimensions[12].members_dict['alco:TropicanaMember'].item.qname.localName"
   ]
  },
  {
   "cell_type": "code",
   "execution_count": null,
   "metadata": {},
   "outputs": [],
   "source": [
    "report.networks[0]"
   ]
  },
  {
   "cell_type": "code",
   "execution_count": null,
   "metadata": {},
   "outputs": [],
   "source": [
    "report.report"
   ]
  },
  {
   "cell_type": "code",
   "execution_count": null,
   "metadata": {},
   "outputs": [],
   "source": [
    "j = 1\n",
    "for i, dim in enumerate(report.taxonomy.dimensions):\n",
    "    if len(dim.members_dict) > 1:\n",
    "        print(j, dim.qname, [member.qname for member in dim.members_dict.values()])\n",
    "        j += 1\n",
    "        \n"
   ]
  },
  {
   "cell_type": "code",
   "execution_count": null,
   "metadata": {},
   "outputs": [],
   "source": [
    "report.taxonomy.dimensions[12].__dict__"
   ]
  },
  {
   "cell_type": "code",
   "execution_count": null,
   "metadata": {},
   "outputs": [],
   "source": []
  },
  {
   "cell_type": "code",
   "execution_count": null,
   "metadata": {},
   "outputs": [],
   "source": [
    "report.report.periodEnd"
   ]
  },
  {
   "cell_type": "code",
   "execution_count": null,
   "metadata": {},
   "outputs": [],
   "source": [
    "stop"
   ]
  },
  {
   "cell_type": "code",
   "execution_count": null,
   "metadata": {},
   "outputs": [],
   "source": [
    "report.neo4j.get_neo4j_db_counts() "
   ]
  },
  {
   "cell_type": "code",
   "execution_count": null,
   "metadata": {},
   "outputs": [],
   "source": [
    "count_report_hierarchy(report)"
   ]
  },
  {
   "cell_type": "code",
   "execution_count": null,
   "metadata": {},
   "outputs": [],
   "source": [
    "report.taxonomy.dimensions[1].__dict__"
   ]
  },
  {
   "cell_type": "code",
   "execution_count": null,
   "metadata": {},
   "outputs": [],
   "source": [
    "report.taxonomy.__dict__.keys()\n"
   ]
  },
  {
   "cell_type": "code",
   "execution_count": null,
   "metadata": {},
   "outputs": [],
   "source": [
    "report.taxonomy._dimension_lookup"
   ]
  },
  {
   "cell_type": "code",
   "execution_count": null,
   "metadata": {},
   "outputs": [],
   "source": [
    "report.taxonomy.dimensions[12].__dict__"
   ]
  },
  {
   "cell_type": "code",
   "execution_count": null,
   "metadata": {},
   "outputs": [],
   "source": [
    "# Print summary for all dimensions\n",
    "for i, dimension in enumerate(report.taxonomy.dimensions):\n",
    "    print(f\"\\nDimension: {i}. {dimension.qname}\")\n",
    "    print(f\"Domain: {dimension.domain.qname if dimension.domain else 'No domain'}\")\n",
    "    print(f\"Member count: {len(dimension.members_dict)}\")\n",
    "    if dimension.members_dict:\n",
    "        print(\"Members:\")\n",
    "        for member in dimension.members_dict.values():\n",
    "            print(f\"  {member.qname} (Parent: {member.parent_qname})\")"
   ]
  },
  {
   "cell_type": "markdown",
   "metadata": {},
   "source": [
    "# Fetch Nodes/Rels from Neo4j"
   ]
  },
  {
   "cell_type": "code",
   "execution_count": 75,
   "metadata": {},
   "outputs": [],
   "source": [
    "def fetch_presentation_network_with_period(uri: str, username: str, password: str):\n",
    "    from neo4j import GraphDatabase\n",
    "    import pandas as pd\n",
    "\n",
    "    def run_query(tx):\n",
    "        query = \"\"\"\n",
    "        MATCH path = (n)-[r:PRESENTATION_EDGE*1..3 {network_name: 'Condensed Consolidated Balance Sheets (Unaudited)'}]->(m)\n",
    "        MATCH (m)-[hp:HAS_PERIOD]->(p:Period)  // Follow HAS_PERIOD relationship from the target node\n",
    "        RETURN path, p.id as period_id, p.u_id as period_u_id\n",
    "        \"\"\"\n",
    "        return list(tx.run(query))\n",
    "\n",
    "    try:\n",
    "        driver = GraphDatabase.driver(uri, auth=(username, password))\n",
    "        with driver.session() as session:\n",
    "            paths = session.execute_read(run_query)\n",
    "            \n",
    "            rows = []\n",
    "            for record in paths:\n",
    "                path = record['path']\n",
    "                period_id = record.get('period_id', None)\n",
    "                period_u_id = record.get('period_u_id', None)\n",
    "                \n",
    "                for rel in path.relationships:\n",
    "                    source = path.start_node\n",
    "                    target = path.end_node\n",
    "                    \n",
    "                    row = {\n",
    "                        # Existing fields...\n",
    "                        'source_type': 'Fact' if 'Fact' in source.labels else 'Abstract',\n",
    "                        'source_qname': source.get('qname', ''),\n",
    "                        'source_value': source.get('value', ''),\n",
    "                        'source_label': source.get('label', ''),\n",
    "                        'source_category': source.get('category', ''),\n",
    "                        \n",
    "                        'child_level': rel.get('child_level', ''),\n",
    "                        'child_order': rel.get('child_order', ''),\n",
    "                        'parent_level': rel.get('parent_level', ''),\n",
    "                        'parent_order': rel.get('parent_order', ''),\n",
    "                        'network_name': rel.get('network_name', ''),\n",
    "                        'network_uri': rel.get('network_uri', ''),\n",
    "                        \n",
    "                        'target_type': 'Fact' if 'Fact' in target.labels else 'Abstract',\n",
    "                        'target_qname': target.get('qname', ''),\n",
    "                        'target_value': target.get('value', ''),\n",
    "                        'target_label': target.get('label', ''),\n",
    "                        'target_category': target.get('category', ''),\n",
    "\n",
    "                        # Period information\n",
    "                        'period_id': period_id,\n",
    "                        'period_u_id': period_u_id\n",
    "                    }\n",
    "                    rows.append(row)\n",
    "            \n",
    "            df = pd.DataFrame(rows)\n",
    "            return df\n",
    "            \n",
    "    finally:\n",
    "        driver.close()"
   ]
  },
  {
   "cell_type": "code",
   "execution_count": null,
   "metadata": {},
   "outputs": [],
   "source": [
    "uri = \"bolt://localhost:7687\"\n",
    "username = \"neo4j\"\n",
    "password = \"Next2020#\"\n",
    "\n",
    "\n",
    "df = fetch_presentation_network_with_period(uri, username, password)\n",
    "df = df[df['target_value'].notna() & (df['target_value'] != '')]\n",
    "df.drop_duplicates(subset=['target_qname','target_value', 'period_id'], keep='first', inplace=True)\n",
    "df = df.sort_values(by=['child_level', 'child_order'], ascending=[True, True])\n",
    "df = df[['target_qname','target_value','period_id']]\n",
    "print(df.period_id.value_counts())\n",
    "df = df[df['period_id'] == 'instant_2024-10-01']\n",
    "df\n",
    "\n",
    "\n"
   ]
  },
  {
   "cell_type": "code",
   "execution_count": null,
   "metadata": {},
   "outputs": [],
   "source": [
    "df.columns"
   ]
  },
  {
   "cell_type": "code",
   "execution_count": null,
   "metadata": {},
   "outputs": [],
   "source": []
  },
  {
   "cell_type": "code",
   "execution_count": null,
   "metadata": {},
   "outputs": [],
   "source": []
  },
  {
   "cell_type": "code",
   "execution_count": null,
   "metadata": {},
   "outputs": [],
   "source": []
  },
  {
   "cell_type": "markdown",
   "metadata": {},
   "source": [
    "### members and hierarchies for a specific dimension that has members"
   ]
  },
  {
   "cell_type": "code",
   "execution_count": null,
   "metadata": {},
   "outputs": [],
   "source": [
    "report.concepts[0].__dict__"
   ]
  },
  {
   "cell_type": "code",
   "execution_count": null,
   "metadata": {},
   "outputs": [],
   "source": [
    "# Example for ProductOrServiceAxis which has 153 members\n",
    "dimension = next(d for d in report.taxonomy.dimensions if d.qname == 'srt:ProductOrServiceAxis')\n",
    "\n",
    "# Print hierarchy\n",
    "def print_hierarchy(dimension):\n",
    "    print(f\"\\nDimension: {dimension.qname}\")\n",
    "    print(f\"Domain: {dimension.domain.qname if dimension.domain else 'No domain'}\")\n",
    "    \n",
    "    # Get root members (those without parents)\n",
    "    root_members = [m for m in dimension.members_dict.values() if not m.parent_qname]\n",
    "    \n",
    "    def print_tree(member, level=0):\n",
    "        indent = \"  \" * level\n",
    "        print(f\"{indent}└─ {member.qname}\")\n",
    "        # Get children\n",
    "        children = [m for m in dimension.members_dict.values() \n",
    "                   if m.parent_qname == str(member.qname)]\n",
    "        for child in children:\n",
    "            print_tree(child, level + 1)\n",
    "    \n",
    "    for root in root_members:\n",
    "        print_tree(root)\n",
    "\n",
    "print_hierarchy(dimension)"
   ]
  },
  {
   "cell_type": "code",
   "execution_count": null,
   "metadata": {},
   "outputs": [],
   "source": [
    "for network in report.networks:\n",
    "    if network.network_uri == 'http://xbrl.sec.gov/ecd/role/PvpAdjustmentsToCompensation':\n",
    "        print(network.hypercubes[0].dimensions[0])"
   ]
  },
  {
   "cell_type": "code",
   "execution_count": null,
   "metadata": {},
   "outputs": [],
   "source": [
    "stop"
   ]
  },
  {
   "cell_type": "code",
   "execution_count": null,
   "metadata": {},
   "outputs": [],
   "source": [
    "report.networks[4].hypercubes[0].dimensions[0].member_hierarchy"
   ]
  },
  {
   "cell_type": "code",
   "execution_count": null,
   "metadata": {},
   "outputs": [],
   "source": [
    "def compare_network_taxonomy_dimensions(report):\n",
    "    \"\"\"Compare dimensions between network-specific (hypercubes) and taxonomy-wide contexts\"\"\"\n",
    "    \n",
    "    # Get taxonomy-wide dimensions\n",
    "    tax_dimensions = {d.qname: d for d in report.taxonomy.dimensions}\n",
    "    \n",
    "    # Get network dimensions from hypercubes in definition networks\n",
    "    network_dimensions = {}\n",
    "    for network in report.networks:\n",
    "        if network.isDefinition:  # Using the correct property\n",
    "            for hypercube in network.hypercubes:\n",
    "                for dimension in hypercube.dimensions:\n",
    "                    if dimension.qname not in network_dimensions:\n",
    "                        network_dimensions[dimension.qname] = []\n",
    "                    network_dimensions[dimension.qname].append({\n",
    "                        'network': network.network_uri,\n",
    "                        'hypercube': hypercube.qname,\n",
    "                        'members': dimension.members_dict if hasattr(dimension, 'members_dict') else {}\n",
    "                    })\n",
    "    \n",
    "    # Compare and print results\n",
    "    print(\"\\nDimension Comparison Analysis:\")\n",
    "    print(\"=\" * 80)\n",
    "    \n",
    "    all_dimensions = set(tax_dimensions.keys()) | set(network_dimensions.keys())\n",
    "    \n",
    "    for dim_qname in sorted(all_dimensions):\n",
    "        print(f\"\\nDimension: {dim_qname}\")\n",
    "        \n",
    "        # Taxonomy-wide info\n",
    "        if dim_qname in tax_dimensions:\n",
    "            tax_dim = tax_dimensions[dim_qname]\n",
    "            tax_members = len(tax_dim.members_dict) if hasattr(tax_dim, 'members_dict') else 0\n",
    "            print(f\"Taxonomy-wide members: {tax_members}\")\n",
    "            if tax_members > 0:\n",
    "                print(\"Member QNames:\")\n",
    "                for member in tax_dim.members_dict.values():\n",
    "                    print(f\"  - {member.qname}\")\n",
    "        else:\n",
    "            print(\"Not present in taxonomy-wide context\")\n",
    "            \n",
    "        # Network-specific info\n",
    "        if dim_qname in network_dimensions:\n",
    "            print(\"\\nNetwork/Hypercube appearances:\")\n",
    "            for network_info in network_dimensions[dim_qname]:\n",
    "                member_count = len(network_info['members'])\n",
    "                print(f\"\\nNetwork: {network_info['network']}\")\n",
    "                print(f\"Hypercube: {network_info['hypercube']}\")\n",
    "                print(f\"Network-specific members: {member_count}\")\n",
    "                if member_count > 0:\n",
    "                    print(\"Member QNames:\")\n",
    "                    for member in network_info['members'].values():\n",
    "                        print(f\"  - {member.qname}\")\n",
    "        else:\n",
    "            print(\"\\nNot present in any network hypercubes\")\n",
    "            \n",
    "        print(\"-\" * 40)\n",
    "\n",
    "# Use it\n",
    "compare_network_taxonomy_dimensions(report)"
   ]
  },
  {
   "cell_type": "code",
   "execution_count": null,
   "metadata": {},
   "outputs": [],
   "source": [
    "# Fetch u_id of Dimension, Domain, Member for each fact\n",
    "for fact in report.facts:\n",
    "    if fact.dims_members:\n",
    "        print(fact.u_id, [(dim_concept.qname, dim_member.qname) for dim_concept, dim_member in fact.dims_members])\n",
    "        break\n",
    "\n"
   ]
  },
  {
   "cell_type": "code",
   "execution_count": null,
   "metadata": {},
   "outputs": [],
   "source": [
    "\n",
    "dimension = report.taxonomy.dimensions[1]\n",
    "\n",
    "# 1. Get all members for this dimension\n",
    "members = dimension.members_dict.values()\n",
    "members\n"
   ]
  },
  {
   "cell_type": "code",
   "execution_count": null,
   "metadata": {},
   "outputs": [],
   "source": [
    "report.networks[4].hypercubes[0].dimensions[0].member_hierarchy"
   ]
  },
  {
   "cell_type": "code",
   "execution_count": null,
   "metadata": {},
   "outputs": [],
   "source": [
    "# Check if _build_members() is being called\n",
    "dimension = next(d for d in report.taxonomy.dimensions if d.qname == 'srt:StatementScenarioAxis')\n",
    "print(\"Before building members:\", len(dimension.members_dict))\n",
    "dimension._build_members()\n",
    "print(\"After building members:\", len(dimension.members_dict))\n",
    "\n",
    "# Check relationship sets\n",
    "dim_dom_rel_set = dimension.model_xbrl.relationshipSet(XbrlConst.dimensionDomain)\n",
    "dom_mem_rel_set = dimension.model_xbrl.relationshipSet(XbrlConst.domainMember)\n",
    "print(\"\\nDimension-domain relationships exist:\", bool(dim_dom_rel_set))\n",
    "print(\"Domain-member relationships exist:\", bool(dom_mem_rel_set))\n",
    "\n",
    "# If relationships exist, check specific dimension\n",
    "if dim_dom_rel_set:\n",
    "    for rel in dim_dom_rel_set.fromModelObject(dimension.item):\n",
    "        print(f\"\\nFound domain: {rel.toModelObject.qname}\")"
   ]
  },
  {
   "cell_type": "code",
   "execution_count": null,
   "metadata": {},
   "outputs": [],
   "source": [
    "report.networks[4].hypercubes[0].dimensions[0].members[0]"
   ]
  },
  {
   "cell_type": "code",
   "execution_count": null,
   "metadata": {},
   "outputs": [],
   "source": [
    "report.taxonomy.dimensions[1].member_hierarchy\n"
   ]
  },
  {
   "cell_type": "code",
   "execution_count": null,
   "metadata": {},
   "outputs": [],
   "source": [
    "report.concepts[0]"
   ]
  },
  {
   "cell_type": "code",
   "execution_count": 34,
   "metadata": {},
   "outputs": [],
   "source": [
    "# Get all members\n",
    "all_members = report.taxonomy.get_all_members()\n",
    "\n",
    "# Get members for specific dimension\n",
    "major_customer_members = report.taxonomy.get_dimension_members('srt:MajorCustomersAxis')\n"
   ]
  },
  {
   "cell_type": "code",
   "execution_count": null,
   "metadata": {},
   "outputs": [],
   "source": [
    "major_customer_members"
   ]
  },
  {
   "cell_type": "code",
   "execution_count": null,
   "metadata": {},
   "outputs": [],
   "source": [
    "all_members\n"
   ]
  },
  {
   "cell_type": "code",
   "execution_count": null,
   "metadata": {},
   "outputs": [],
   "source": [
    "STOP"
   ]
  },
  {
   "cell_type": "code",
   "execution_count": null,
   "metadata": {},
   "outputs": [],
   "source": [
    "for network in report.networks:\n",
    "    for hypercube in network.hypercubes:\n",
    "        for dim in hypercube.dimensions:\n",
    "            print(len(dim.members))\n"
   ]
  },
  {
   "cell_type": "code",
   "execution_count": null,
   "metadata": {},
   "outputs": [],
   "source": [
    "print(\"\\nDimension Member Counts (Taxonomy vs Network Usage):\")\n",
    "print(\"-\" * 50)\n",
    "for dim in report.taxonomy.dimensions:\n",
    "    print(f\"{dim.name}:\")\n",
    "    tax_count = len(dim.members_dict) if dim.members_dict else 0\n",
    "    net_counts = []\n",
    "    for network in report.networks:\n",
    "        for hypercube in network.hypercubes:\n",
    "            for hc_dim in hypercube.dimensions:\n",
    "                if hc_dim.name == dim.name:\n",
    "                    net_counts.append(len(hc_dim.members))\n",
    "    print(f\"Taxonomy: {tax_count} | Network: {net_counts if net_counts else 0}\")"
   ]
  },
  {
   "cell_type": "code",
   "execution_count": null,
   "metadata": {},
   "outputs": [],
   "source": [
    "stop"
   ]
  },
  {
   "cell_type": "code",
   "execution_count": null,
   "metadata": {},
   "outputs": [],
   "source": [
    "for i,fact in enumerate(report.facts):\n",
    "    if fact.dims_members:\n",
    "        for dim_concept, dim_member in fact.dims_members:\n",
    "            print(i+1, dim_concept, dim_member)        \n",
    "\n"
   ]
  },
  {
   "cell_type": "code",
   "execution_count": null,
   "metadata": {},
   "outputs": [],
   "source": [
    "report.networks[4].hypercubes[0].dimensions[0].member_hierarchy"
   ]
  },
  {
   "cell_type": "code",
   "execution_count": null,
   "metadata": {},
   "outputs": [],
   "source": [
    "report.networks[2].validate_facts()\n"
   ]
  },
  {
   "cell_type": "code",
   "execution_count": null,
   "metadata": {},
   "outputs": [],
   "source": [
    "for ctxt in report.model_xbrl.contextsInUse:\n",
    "    print(f\"\\nContext ID: {ctxt.id}\")\n",
    "\n",
    "    # Extract period details\n",
    "    if ctxt.isInstantPeriod:\n",
    "        print(f\"Period Type: Instant\")\n",
    "        print(f\"Date: {ctxt.instantDatetime}\")\n",
    "    elif ctxt.isStartEndPeriod:\n",
    "        print(f\"Period Type: Duration\")\n",
    "        print(f\"Start Date: {ctxt.startDatetime}\")\n",
    "        print(f\"End Date: {ctxt.endDatetime}\")\n",
    "    else:\n",
    "        print(\"Period Type: Unknown\")\n",
    "\n",
    "    # Extract all dimensions and members\n",
    "    if ctxt.hasSegment or ctxt.hasScenario:\n",
    "        dims = ctxt.qnameDims.items()\n",
    "        if dims:\n",
    "            print(\"Dimensions and Members:\")\n",
    "            for dim_qname, dim in dims:\n",
    "                print(f\" - Dimension QName: {dim_qname}\")\n",
    "                if dim.isExplicit:\n",
    "                    print(f\"   Member QName: {dim.memberQname}\")\n",
    "                elif dim.isTyped:\n",
    "                    print(f\"   Typed Member: {dim.typedMember}\")\n",
    "        else:\n",
    "            print(\"No dimensions found.\")\n",
    "    else:\n",
    "        print(\"No dimensions in this context.\")\n"
   ]
  },
  {
   "cell_type": "code",
   "execution_count": null,
   "metadata": {},
   "outputs": [],
   "source": [
    "report.facts[3].dims_members"
   ]
  },
  {
   "cell_type": "code",
   "execution_count": null,
   "metadata": {},
   "outputs": [],
   "source": [
    "for fact in report.model_xbrl.factsInInstance:\n",
    "    print(fact)\n",
    "    break   \n"
   ]
  },
  {
   "cell_type": "code",
   "execution_count": null,
   "metadata": {},
   "outputs": [],
   "source": [
    "\n",
    "def _extract_text(value):\n",
    "    return re.sub('<[^>]+>', '', html.unescape(value)) if '<' in value and '>' in value else value\n",
    "\n",
    "# Specify the target dimension QName\n",
    "target_dimension_qname = \"srt:ProductOrServiceAxis\"\n",
    "\n",
    "# Iterate through all facts in the XBRL instance\n",
    "for fact in report.model_xbrl.factsInInstance:\n",
    "    if not hasattr(fact, \"context\") or fact.context is None:\n",
    "        continue  # Skip if no context is associated with the fact\n",
    "\n",
    "    # Check if the context has dimensions\n",
    "    if hasattr(fact.context, \"qnameDims\"):\n",
    "        print(f\"\\nFact: {fact}\")\n",
    "        print(\"Dimensions found in this context:\")\n",
    "\n",
    "        # List all dimensions in the current fact's context\n",
    "        for dim_qname, dim in fact.context.qnameDims.items():\n",
    "            print(f\"- Dimension QName: {dim_qname}\")\n",
    "\n",
    "            # Check if this dimension matches the target dimension QName\n",
    "            if dim_qname.localName == target_dimension_qname:\n",
    "                print(f\"\\nMatched Dimension: {dim.qname}\")\n",
    "\n",
    "                # For explicit dimensions, print member details\n",
    "                if dim.isExplicit:\n",
    "                    member_obj = dim.member\n",
    "                    print(f\"Member Object: {member_obj.qname}\")\n",
    "                    print(f\"Member Properties:\")\n",
    "                    print(f\"- Label: {member_obj.label()}\")\n",
    "                    print(f\"- ID: {member_obj.id}\")\n",
    "\n",
    "                # For typed dimensions, print the typed member\n",
    "                elif dim.isTyped:\n",
    "                    typed_member = dim.typedMember\n",
    "                    print(f\"Typed Member Object: {typed_member}\")\n",
    "\n",
    "    # Optional: Remove or comment out the break to process all matching facts\n",
    "    # break\n"
   ]
  },
  {
   "cell_type": "markdown",
   "metadata": {},
   "source": [
    "### Adding dimensions and members to facts"
   ]
  },
  {
   "cell_type": "code",
   "execution_count": null,
   "metadata": {},
   "outputs": [],
   "source": [
    "from arelle.ModelInstanceObject import ModelFact\n",
    "\n",
    "def _set_dimensions(model_fact):\n",
    "    \"\"\"Set and print dimensions and members for each dimension separately.\"\"\"\n",
    "    if hasattr(model_fact.context, 'qnameDims') and model_fact.context.qnameDims:\n",
    "        print(f\"Context ID: {model_fact.context.id}\")\n",
    "        for dim_qname, dim_value in model_fact.context.qnameDims.items():\n",
    "            dimension = str(dim_qname)\n",
    "            if dim_value.isExplicit:\n",
    "                member = str(dim_value.memberQname)\n",
    "            elif dim_value.isTyped:\n",
    "                member = dim_value.typedMember.stringValue if dim_value.typedMember else \"TypedMember: Empty\"\n",
    "            else:\n",
    "                member = \"Unknown\"\n",
    "                \n",
    "            print(f\" - Dimension: {dimension}\")\n",
    "            print(f\"   Member: {member}\")\n",
    "    else:\n",
    "        print(\"No dimensions found in this context.\")\n",
    "\n",
    "# Iterate through all facts and process dimensions\n",
    "for fact in report.model_xbrl.factsInInstance:\n",
    "    _set_dimensions(fact)\n"
   ]
  },
  {
   "cell_type": "code",
   "execution_count": null,
   "metadata": {},
   "outputs": [],
   "source": [
    "report.networks[4].hypercubes[0].dimensions[0].members"
   ]
  },
  {
   "cell_type": "code",
   "execution_count": null,
   "metadata": {},
   "outputs": [],
   "source": [
    "for fact in report.facts:\n",
    "    if fact.dims_members:\n",
    "        print(fact.u_id, fact.dims_members)\n"
   ]
  },
  {
   "cell_type": "code",
   "execution_count": null,
   "metadata": {},
   "outputs": [],
   "source": [
    "from arelle.ModelInstanceObject import ModelFact\n",
    "\n",
    "\n",
    "def _set_dimensions(model_fact):\n",
    "    dims_members = []\n",
    "    \"\"\"Set and print dimensions and members for each dimension separately.\"\"\"\n",
    "    if hasattr(model_fact.context, 'qnameDims') and model_fact.context.qnameDims:\n",
    "        print(f\"Context ID: {model_fact.context.id}\")\n",
    "        for dim_qname, dim_value in model_fact.context.qnameDims.items():\n",
    "            dims_members.append((str(dim_qname), \n",
    "                    str(dim_value.memberQname) if dim_value.isExplicit\n",
    "                    else dim_value.typedMember.stringValue if dim_value.isTyped\n",
    "                    else \"Unknown\"\n",
    "                ))\n",
    "                \n",
    "        print(f\" - dims_members: {dims_members}\")\n",
    "    else:\n",
    "        print(\"No dimensions found in this context.\")\n",
    "\n",
    "# Iterate through all facts and process dimensions\n",
    "for fact in report.model_xbrl.factsInInstance:\n",
    "    _set_dimensions(fact)\n"
   ]
  },
  {
   "cell_type": "code",
   "execution_count": null,
   "metadata": {},
   "outputs": [],
   "source": [
    "from arelle.ModelInstanceObject import ModelFact\n",
    "\n",
    "def _set_dimensions(model_fact):\n",
    "    dims_members = []\n",
    "    \"\"\"Set and print dimensions and members for each dimension separately.\"\"\"\n",
    "    if hasattr(model_fact.context, 'qnameDims') and model_fact.context.qnameDims:\n",
    "        print(f\"Context ID: {model_fact.context.id}\")\n",
    "        for dim_qname, dim_value in model_fact.context.qnameDims.items():\n",
    "            dims_members.append((str(dim_qname), \n",
    "                    str(dim_value.memberQname) if dim_value.isExplicit\n",
    "                    else dim_value.typedMember.stringValue if dim_value.isTyped\n",
    "                    else \"Unknown\"\n",
    "                ))\n",
    "                \n",
    "        print(f\" - dims_members: {dims_members}\")\n",
    "    else:\n",
    "        print(\"No dimensions found in this context.\")\n",
    "\n",
    "# Iterate through all facts and process dimensions\n",
    "for fact in report.model_xbrl.factsInInstance:\n",
    "    _set_dimensions(fact)\n"
   ]
  },
  {
   "cell_type": "code",
   "execution_count": null,
   "metadata": {},
   "outputs": [],
   "source": [
    "dir(report.facts[4].model_fact.context)"
   ]
  },
  {
   "cell_type": "markdown",
   "metadata": {},
   "source": [
    " - Dimension: us-gaap:DisposalGroupClassificationAxis\n",
    "   Member: us-gaap:DiscontinuedOperationsHeldforsaleMember\n",
    " - Dimension: us-gaap:IncomeStatementBalanceSheetAndAdditionalDisclosuresByDisposalGroupsIncludingDiscontinuedOperationsAxis\n",
    "   Member: alco:AlicoCitrusMember"
   ]
  },
  {
   "cell_type": "code",
   "execution_count": 54,
   "metadata": {},
   "outputs": [],
   "source": [
    "for dim_concept, dim_value in report.facts[4].model_fact.context.segDimValues.items():\n",
    "    print(f\"Dimension: {dim_concept}, Member: {dim_value.member}\")\n",
    "\n"
   ]
  },
  {
   "cell_type": "code",
   "execution_count": null,
   "metadata": {},
   "outputs": [],
   "source": [
    "report.facts[2].model_fact.context.qnameDims"
   ]
  },
  {
   "cell_type": "code",
   "execution_count": null,
   "metadata": {},
   "outputs": [],
   "source": [
    "report.networks[4].hypercubes[0].dimensions[0].members[0].member\n"
   ]
  },
  {
   "cell_type": "code",
   "execution_count": null,
   "metadata": {},
   "outputs": [],
   "source": [
    "report.facts[2].model_fact.context.segDimValues.items()\n"
   ]
  },
  {
   "cell_type": "code",
   "execution_count": null,
   "metadata": {},
   "outputs": [],
   "source": [
    "dims_members = []\n",
    "def _set_dimensions(model_fact):\n",
    "    \"\"\"Set dimensions and members using ModelConcept objects for explicit dims\n",
    "    and typed values for typed dims\"\"\"\n",
    "    # Check both segDimValues and scenDimValues as per XBRL spec\n",
    "    dim_values = getattr(model_fact.context, 'segDimValues', {})\n",
    "    print(dim_values)\n",
    "    dim_values.update(getattr(model_fact.context, 'scenDimValues', {}))\n",
    "    \n",
    "    if not dim_values:\n",
    "        print(f\"No dimensions found for fact {model_fact.qname}\")\n",
    "        return\n",
    "        \n",
    "    for dim_concept, dim_value in dim_values.items():\n",
    "        if not dim_concept or not dim_value:\n",
    "            print(f\"Skipping dimension {dim_concept} due to missing values\")\n",
    "            continue\n",
    "            \n",
    "        try:\n",
    "            # For explicit dimensions, use the member ModelConcept\n",
    "            if dim_value.isExplicit and dim_value.member:\n",
    "                member = dim_value.member\n",
    "            # For typed dimensions, use the typed value\n",
    "            elif dim_value.isTyped and dim_value.typedMember:\n",
    "                member = dim_value.typedMember.stringValue\n",
    "            else:\n",
    "                print(f\"Neither explicit nor typed for {dim_concept}\")\n",
    "                continue  # Skip if neither explicit nor typed\n",
    "                \n",
    "            dims_members.append((dim_concept, member))\n",
    "            print(f\" - dims_members: {dims_members}\")\n",
    "        except AttributeError as e:\n",
    "            print(f\"Warning: Could not process dimension value for {dim_concept}: {e}\")\n",
    "\n",
    "_set_dimensions(report.facts[3].model_fact)"
   ]
  },
  {
   "cell_type": "code",
   "execution_count": null,
   "metadata": {},
   "outputs": [],
   "source": [
    "for fact in report.facts:"
   ]
  },
  {
   "cell_type": "code",
   "execution_count": 60,
   "metadata": {},
   "outputs": [],
   "source": [
    "for k, v in report.facts[7].model_fact.context.segDimValues.items():\n",
    "    print(f\"Dimension: {k.qname}, Member: {v.member.qname}\")\n"
   ]
  },
  {
   "cell_type": "code",
   "execution_count": 61,
   "metadata": {},
   "outputs": [],
   "source": [
    "for k,v in zip(list(report.facts[3].model_fact.context.segDimValues.keys()), list(report.facts[2].model_fact.context.segDimValues.values())):\n",
    "    print(f\"Dimension: {k.qname}, Member: {v.member.qname}\")\n",
    "\n"
   ]
  },
  {
   "cell_type": "code",
   "execution_count": null,
   "metadata": {},
   "outputs": [],
   "source": [
    "list(report.facts[3].model_fact.context.segDimValues.keys())[1]"
   ]
  },
  {
   "cell_type": "code",
   "execution_count": 63,
   "metadata": {},
   "outputs": [],
   "source": [
    "# list(report.facts[3].model_fact.context.segDimValues.values())[0].qname\n",
    "# list(report.facts[2].model_fact.context.segDimValues.values())[0].member"
   ]
  },
  {
   "cell_type": "code",
   "execution_count": null,
   "metadata": {},
   "outputs": [],
   "source": [
    "list((report.facts[2].model_fact.context.qnameDims.values()))[0].member\n"
   ]
  },
  {
   "cell_type": "code",
   "execution_count": null,
   "metadata": {},
   "outputs": [],
   "source": [
    "for fact in report.model_xbrl.factsInInstance:\n",
    "    for dim_qname, dim_value in fact.context.qnameDims.items():\n",
    "        print(dim_qname, dim_value)\n"
   ]
  },
  {
   "cell_type": "code",
   "execution_count": null,
   "metadata": {},
   "outputs": [],
   "source": [
    "from arelle.ModelInstanceObject import ModelFact\n",
    "\n",
    "\n",
    "def _set_dimensions(model_fact):\n",
    "    dims_members = []\n",
    "    \"\"\"Set and print dimensions and members for each dimension separately.\"\"\"\n",
    "    if hasattr(model_fact.context, 'qnameDims') and model_fact.context.qnameDims:\n",
    "        print(f\"Context ID: {model_fact.context.id}\")\n",
    "        for dim_qname, dim_value in model_fact.context.qnameDims.items():\n",
    "            dims_members.append((str(dim_qname), \n",
    "                    str(dim_value) if dim_value.isExplicit\n",
    "                    else dim_value.typedMember.stringValue if dim_value.isTyped\n",
    "                    else \"Unknown\"\n",
    "                ))\n",
    "                \n",
    "        print(f\" - dims_members: {dims_members}\")\n",
    "    else:\n",
    "        print(\"No dimensions found in this context.\")\n",
    "\n",
    "# Iterate through all facts and process dimensions\n",
    "for fact in report.model_xbrl.factsInInstance:\n",
    "    _set_dimensions(fact)\n"
   ]
  },
  {
   "cell_type": "code",
   "execution_count": null,
   "metadata": {},
   "outputs": [],
   "source": []
  },
  {
   "cell_type": "code",
   "execution_count": null,
   "metadata": {},
   "outputs": [],
   "source": []
  },
  {
   "cell_type": "code",
   "execution_count": null,
   "metadata": {},
   "outputs": [],
   "source": [
    "# Print full details of dimensions and members for each fact\n",
    "for fact in report.model_xbrl.factsInInstance:\n",
    "    print(f\"\\nFact: {fact}\")\n",
    "    \n",
    "    # Get dimensions from context\n",
    "    if hasattr(fact.context, \"qnameDims\"):\n",
    "        for dim_qname, dim in fact.context.qnameDims.items():\n",
    "            print(f\"\\nDimension Object Qname: {dim.qname}\")  # The full dimension object\n",
    "            \n",
    "            # For explicit dimensions, get member object\n",
    "            if dim.isExplicit:\n",
    "                member_obj = dim.member  # Get the actual member object\n",
    "                print(f\"Member Object: {member_obj.qname}\")\n",
    "                print(f\"Member Properties:\")\n",
    "                print(f\"- Label: {member_obj.label()}\")\n",
    "                print(f\"- ID: {member_obj.id}\")\n",
    "                # Print other member properties you need\n",
    "            \n",
    "            # For typed dimensions\n",
    "            elif dim.isTyped:\n",
    "                typed_member = dim.typedMember\n",
    "                print(f\"Typed Member Object: {typed_member}\")\n",
    "\n",
    "    # Remove break to see all facts\n",
    "    # break\n"
   ]
  },
  {
   "cell_type": "markdown",
   "metadata": {},
   "source": [
    "### Member Hierarchy"
   ]
  },
  {
   "cell_type": "code",
   "execution_count": null,
   "metadata": {},
   "outputs": [],
   "source": [
    "def display_hierarchy(dim):\n",
    "    hierarchy = dim.member_hierarchy\n",
    "\n",
    "    def print_hierarchy(parent, level=0):\n",
    "        children = hierarchy.get(parent, [])\n",
    "        for child in children:\n",
    "            print(\"  \" * level + f\"- {child}\")\n",
    "            print_hierarchy(child, level + 1)\n",
    "\n",
    "    # Start from top-level members (parent is None)\n",
    "    print(f\"Dimension QName: {dim.qname}\")\n",
    "    print_hierarchy(None)\n",
    "\n",
    "# Iterate over all networks and hypercubes\n",
    "for network in report.networks:\n",
    "    if not network.hypercubes:\n",
    "        continue\n",
    "\n",
    "    print(\"\\nNetwork URI:\", network.network_uri)\n",
    "\n",
    "    for hypercube in network.hypercubes:\n",
    "        if not hypercube.dimensions:\n",
    "            continue\n",
    "\n",
    "        for dim in hypercube.dimensions:\n",
    "            if hasattr(dim, 'member_hierarchy'):\n",
    "                display_hierarchy(dim)\n"
   ]
  },
  {
   "cell_type": "code",
   "execution_count": null,
   "metadata": {},
   "outputs": [],
   "source": [
    "import pprint\n",
    "\n",
    "network_uri = \"http://www.alicoinc.com/role/SummaryofSignificantAccountingPoliciesDisaggregationofrevenueDetails\"\n",
    "\n",
    "def print_member_hierarchy(hierarchy, parent=None, indent=0):\n",
    "    children = hierarchy.get(parent, [])\n",
    "    for child in children:\n",
    "        print(\"  \" * indent + f\"- {child}\")\n",
    "        print_member_hierarchy(hierarchy, child, indent + 1)\n",
    "\n",
    "network_uri = \"http://www.alicoinc.com/role/SummaryofSignificantAccountingPoliciesDisaggregationofrevenueDetails\"\n",
    "\n",
    "for network in report.networks:\n",
    "    if network.network_uri == network_uri:\n",
    "        for dimension in network.hypercubes[0].dimensions:\n",
    "            print(f\"Dimension QName: {dimension.qname}\")\n",
    "\n",
    "            \n",
    "            print_member_hierarchy(dimension.member_hierarchy)\n"
   ]
  },
  {
   "cell_type": "code",
   "execution_count": null,
   "metadata": {},
   "outputs": [],
   "source": []
  },
  {
   "cell_type": "code",
   "execution_count": null,
   "metadata": {},
   "outputs": [],
   "source": []
  },
  {
   "cell_type": "code",
   "execution_count": null,
   "metadata": {},
   "outputs": [],
   "source": []
  },
  {
   "cell_type": "code",
   "execution_count": null,
   "metadata": {},
   "outputs": [],
   "source": []
  },
  {
   "cell_type": "code",
   "execution_count": null,
   "metadata": {},
   "outputs": [],
   "source": [
    "report.networks[4].hypercubes[0].dimensions[0].member_hierarchy"
   ]
  },
  {
   "cell_type": "code",
   "execution_count": null,
   "metadata": {},
   "outputs": [],
   "source": [
    "report.networks[4].hypercubes[0].dimensions[0].members_by_level"
   ]
  },
  {
   "cell_type": "code",
   "execution_count": null,
   "metadata": {},
   "outputs": [],
   "source": [
    "dim.dimension.members_dict.values()"
   ]
  },
  {
   "cell_type": "code",
   "execution_count": null,
   "metadata": {},
   "outputs": [],
   "source": [
    "dir(dim)"
   ]
  },
  {
   "cell_type": "code",
   "execution_count": null,
   "metadata": {},
   "outputs": [],
   "source": [
    "type(dim)"
   ]
  },
  {
   "cell_type": "code",
   "execution_count": null,
   "metadata": {},
   "outputs": [],
   "source": [
    "for fact in report.facts:\n",
    "    if fact.dimensions:\n",
    "        print(fact.u_id, fact.members)\n",
    "        break\n",
    "\n"
   ]
  },
  {
   "cell_type": "code",
   "execution_count": null,
   "metadata": {},
   "outputs": [],
   "source": []
  },
  {
   "cell_type": "code",
   "execution_count": null,
   "metadata": {},
   "outputs": [],
   "source": [
    "dir(report.facts[0])"
   ]
  },
  {
   "cell_type": "code",
   "execution_count": null,
   "metadata": {},
   "outputs": [],
   "source": [
    "for network in report.networks:\n",
    "    print(network.network_uri, \"Validation: \", len(network.validate_facts()), \"\\n\")\n",
    "\n"
   ]
  },
  {
   "cell_type": "code",
   "execution_count": null,
   "metadata": {},
   "outputs": [],
   "source": [
    "stop\n"
   ]
  },
  {
   "cell_type": "markdown",
   "metadata": {},
   "source": [
    "# Network Linking"
   ]
  },
  {
   "cell_type": "code",
   "execution_count": null,
   "metadata": {},
   "outputs": [],
   "source": [
    "sample_network = report.networks[0]\n",
    "sample_network.network_uri"
   ]
  },
  {
   "cell_type": "code",
   "execution_count": 17,
   "metadata": {},
   "outputs": [],
   "source": []
  },
  {
   "cell_type": "code",
   "execution_count": 21,
   "metadata": {},
   "outputs": [],
   "source": [
    "calc_rel_set = sample_network.model_xbrl.relationshipSet(XbrlConst.summationItem, sample_network.network_uri)\n",
    "\n",
    "sample_network.report = report\n",
    "sample_network.taxonomy = report.taxonomy\n",
    "validated_facts = sample_network.validate_facts()\n",
    "\n",
    "fact_lookup: Dict[str, List[Fact]] = defaultdict(list)\n",
    "for fact in validated_facts:\n",
    "    fact_lookup[fact.concept.u_id].append(fact)\n",
    "    \n",
    "for rel in calc_rel_set.modelRelationships:\n",
    "    if not (rel.fromModelObject and rel.toModelObject):\n",
    "        continue\n",
    "        \n",
    "    # Fixed ID construction to match fact concept IDs\n",
    "    parent_id = f\"{rel.fromModelObject.qname.namespaceURI}:us-gaap:{rel.fromModelObject.qname.localName}\"\n",
    "    child_id = f\"{rel.toModelObject.qname.namespaceURI}:us-gaap:{rel.toModelObject.qname.localName}\"\n",
    "    \n",
    "    parent_facts = fact_lookup.get(parent_id, [])\n",
    "    child_facts = fact_lookup.get(child_id, [])\n",
    "    \n",
    "    for parent_fact in parent_facts:\n",
    "        for child_fact in child_facts:\n",
    "            if parent_fact.context_id == child_fact.context_id:\n",
    "                rel_props = {\n",
    "                    'network_uri': network.network_uri,\n",
    "                    'network_name': network.name,\n",
    "                    'weight': rel.weight,\n",
    "                    'order': rel.order,\n",
    "                    'company_cik': report.company.cik,\n",
    "                    'report_instance': report.instanceFile\n",
    "                }"
   ]
  },
  {
   "cell_type": "code",
   "execution_count": null,
   "metadata": {},
   "outputs": [],
   "source": [
    "parent_facts"
   ]
  },
  {
   "cell_type": "code",
   "execution_count": null,
   "metadata": {},
   "outputs": [],
   "source": []
  },
  {
   "cell_type": "code",
   "execution_count": null,
   "metadata": {},
   "outputs": [],
   "source": []
  },
  {
   "cell_type": "code",
   "execution_count": null,
   "metadata": {},
   "outputs": [],
   "source": [
    "for node in sample_network.presentation.nodes.values():\n",
    "    print(\"*\"*100)\n",
    "    print(\"concept_ID:\", node.concept.u_id,\"Category:\", node.concept.category, \"children\", node.children)\n",
    "    # print(\"ReportElementClassifier:\",ReportElementClassifier.classify(node.concept.model_concept).value)\n",
    "     \n",
    "    print(\"\\nNode details:\")    \n",
    "    print(f\"Node: {node}\")   \n",
    "    print(f\"Type: {type(node)}\")\n",
    "    print(f\"Attributes: {dir(node)}\")\n",
    "    print(f\"Concept type: {type(node.concept)}\")\n",
    "    print(f\"Concept attributes: {dir(node.concept)}\")\n",
    "    # break"
   ]
  },
  {
   "cell_type": "code",
   "execution_count": null,
   "metadata": {},
   "outputs": [],
   "source": [
    "relationships.append((fact, taxonomy_dim, RelationType.FACT_DIMENSION))"
   ]
  },
  {
   "cell_type": "code",
   "execution_count": null,
   "metadata": {},
   "outputs": [],
   "source": [
    "report.facts[0]"
   ]
  },
  {
   "cell_type": "code",
   "execution_count": null,
   "metadata": {},
   "outputs": [],
   "source": [
    "\n",
    "data = {}\n",
    "\n",
    "# Loop through the nodes and extract information\n",
    "for node in sample_network.presentation.nodes.values():\n",
    "    \n",
    "    # Either parent/child is AbstractConcept or regular Concept - If regular Concept, it has a List of Facts, we need to match which of our validated fact beongs to this concept\n",
    "    parent_concept = node.concept\n",
    "    child_concept = node.children[0].concept\n",
    "    if parent_concept.is_abstract:\n",
    "        parent_uID = parent_concept.u_id\n",
    "    else:\n",
    "        parent_uID = parent_concept.u_id\n",
    "    \n",
    "    # Skip if parent_concept, then there is no Linking - TODO: Add as a Sibling or think\n",
    "    if parent_concept is None:\n",
    "        continue\n",
    "    \n",
    "    parent_label = parent_concept\n",
    "    \n",
    "    # If the parent is not in the data dictionary, initialize it\n",
    "    if parent_label not in data:\n",
    "        data[parent_label] = {\n",
    "            'Children': [],\n",
    "            'Order': node.order,\n",
    "            'Level': node.level,\n",
    "            'Abstract': parent_concept.isAbstract\n",
    "        }\n",
    "    \n",
    "    # Append the children to the parent's list\n",
    "    data[parent_label]['Children'].extend(node.children)\n",
    "\n",
    "data"
   ]
  },
  {
   "cell_type": "code",
   "execution_count": null,
   "metadata": {},
   "outputs": [],
   "source": [
    "data"
   ]
  },
  {
   "cell_type": "code",
   "execution_count": null,
   "metadata": {},
   "outputs": [],
   "source": [
    "for node_id, node in sample_network.presentation.nodes.items():\n",
    "    print(node_id, node)"
   ]
  },
  {
   "cell_type": "code",
   "execution_count": null,
   "metadata": {},
   "outputs": [],
   "source": [
    "\n",
    "relationships = []\n",
    "\n",
    "# Process each presentation network\n",
    "for network in sample_network.networks:\n",
    "    if not network.isPresentation:\n",
    "        continue\n",
    "        \n",
    "    # network.report = self\n",
    "    # network.taxonomy = self.taxonomy\n",
    "    validated_facts = network.validate_facts() # returns Set[Fact]\n",
    "    validated_facts\n",
    "    "
   ]
  },
  {
   "cell_type": "markdown",
   "metadata": {},
   "source": [
    "# Networks - validation"
   ]
  },
  {
   "cell_type": "code",
   "execution_count": null,
   "metadata": {},
   "outputs": [],
   "source": [
    "for network in report.networks:\n",
    "    if network.isPresentation:\n",
    "        print(network.network_uri)\n",
    "        break\n"
   ]
  },
  {
   "cell_type": "code",
   "execution_count": null,
   "metadata": {},
   "outputs": [],
   "source": [
    "network.presentation.nodes"
   ]
  },
  {
   "cell_type": "code",
   "execution_count": null,
   "metadata": {},
   "outputs": [],
   "source": [
    "node.concept.__class__ == AbstractConcept"
   ]
  },
  {
   "cell_type": "code",
   "execution_count": null,
   "metadata": {},
   "outputs": [],
   "source": [
    "len(node.concept.facts)\n",
    "\n"
   ]
  },
  {
   "cell_type": "code",
   "execution_count": 51,
   "metadata": {},
   "outputs": [],
   "source": [
    "\n"
   ]
  },
  {
   "cell_type": "code",
   "execution_count": null,
   "metadata": {},
   "outputs": [],
   "source": [
    "[concept for hypercube in network.hypercubes for concept in hypercube.concepts]\n"
   ]
  },
  {
   "cell_type": "code",
   "execution_count": null,
   "metadata": {},
   "outputs": [],
   "source": []
  },
  {
   "cell_type": "code",
   "execution_count": null,
   "metadata": {},
   "outputs": [],
   "source": [
    "for node in network.presentation.nodes.values():\n",
    "    print(dir(node))\n",
    "    break\n",
    "\n"
   ]
  },
  {
   "cell_type": "code",
   "execution_count": null,
   "metadata": {},
   "outputs": [],
   "source": [
    "# Each node_value has : 'children', 'concept', 'concept_id', 'level', 'order'\n",
    "\n",
    "set([\n",
    "    fact.u_id \n",
    "    for node in network.presentation.nodes.values() \n",
    "    for fact in node.concept.facts \n",
    "    if node.concept.__class__ != AbstractConcept and node.concept not in [concept for hypercube in network.hypercubes for concept in hypercube.concepts]\n",
    "])\n",
    "\n"
   ]
  },
  {
   "cell_type": "code",
   "execution_count": null,
   "metadata": {},
   "outputs": [],
   "source": [
    "for node in network.presentation.nodes.values():\n",
    "    # Each node_value has : 'children', 'concept', 'concept_id', 'level', 'order'\n",
    "    print(f\"Concept: {node.concept.u_id}, Level: {node.level}, Order: {node.order}\")\n"
   ]
  },
  {
   "cell_type": "code",
   "execution_count": null,
   "metadata": {},
   "outputs": [],
   "source": [
    "network.presentation.__dict__"
   ]
  },
  {
   "cell_type": "code",
   "execution_count": null,
   "metadata": {},
   "outputs": [],
   "source": [
    "report.networks[4].hypercubes[0].is_all, report.networks[4].hypercubes[0].closed"
   ]
  },
  {
   "cell_type": "code",
   "execution_count": null,
   "metadata": {},
   "outputs": [],
   "source": [
    "# Fact Validation for Presentation Network\n",
    "\n",
    "pr_concepts_ids = set()\n",
    "pr_concepts_hypercubes = {}\n",
    "\n",
    "# Step 1: Iterate over each network in Presentation\n",
    "for network in report.networks:\n",
    "    if network.isPresentation:\n",
    "        print(network.network_uri, network.name, network.isPresentation, \"\\n\")\n",
    "\n",
    "        # Step 2: Get all concepts (concept_id) in the network \n",
    "        for key, value in network.presentation.nodes.items():    \n",
    "            if not value.concept.is_abstract:\n",
    "                pr_concepts_ids.add(value.concept.u_id)\n",
    "                # print(pr_concepts_ids)\n",
    "\n",
    "        # Step 3: Check presence of each of these concepts in each hypercube in this network\n",
    "        if network.isDefinition: # Explicit Hypercubes\n",
    "            for hypercube in network.hypercubes:\n",
    "                for concept in hypercube.concepts:\n",
    "                    if concept.u_id in pr_concepts_ids:\n",
    "                        print(concept.u_id)\n",
    "\n",
    "        break\n"
   ]
  },
  {
   "cell_type": "code",
   "execution_count": null,
   "metadata": {},
   "outputs": [],
   "source": [
    "stop"
   ]
  },
  {
   "cell_type": "code",
   "execution_count": null,
   "metadata": {},
   "outputs": [],
   "source": [
    "\n",
    "    \n"
   ]
  },
  {
   "cell_type": "code",
   "execution_count": null,
   "metadata": {},
   "outputs": [],
   "source": [
    "stop\n"
   ]
  },
  {
   "cell_type": "code",
   "execution_count": null,
   "metadata": {},
   "outputs": [],
   "source": [
    "report.networks[4].hypercubes[0]"
   ]
  },
  {
   "cell_type": "code",
   "execution_count": null,
   "metadata": {},
   "outputs": [],
   "source": [
    "report.networks[4].hypercubes[0].abstracts"
   ]
  },
  {
   "cell_type": "code",
   "execution_count": null,
   "metadata": {},
   "outputs": [],
   "source": [
    "report.networks[4].network_uri, report.networks[4].hypercubes[0].hypercube_item"
   ]
  },
  {
   "cell_type": "code",
   "execution_count": null,
   "metadata": {},
   "outputs": [],
   "source": [
    "network_uri = 'http://www.alicoinc.com/role/CONSOLIDATEDSTATEMENTSOFOPERATIONS'\n",
    "     = report.networks[4].hypercubes[0].hypercube_item     \n",
    "print(hypercube_item)   "
   ]
  },
  {
   "cell_type": "code",
   "execution_count": 96,
   "metadata": {},
   "outputs": [],
   "source": [
    "\n",
    "instance_url = 'https://www.sec.gov/Archives/edgar/data/3545/000000354524000128/alco-20240930_htm.xml'\n",
    "from arelle import Cntlr\n",
    "from arelle.ModelXbrl import load\n",
    "controller = Cntlr.Cntlr(logFileName=\"logfile.txt\")\n",
    "model_xbrl = controller.modelManager.load(instance_url)\n",
    "    "
   ]
  },
  {
   "cell_type": "code",
   "execution_count": null,
   "metadata": {},
   "outputs": [],
   "source": [
    "\n",
    "all_set = model_xbrl.relationshipSet(XbrlConst.all, network_uri)\n",
    "domain_member = model_xbrl.relationshipSet(XbrlConst.domainMember, network_uri)\n",
    "print(f\"Network: {network_uri}\")\n",
    "for rel in all_set.modelRelationships:\n",
    "    print(f\"From: {rel.fromModelObject.qname} -> To: {rel.toModelObject.qname}, Closed: {rel.isClosed}, Arcrole: {rel.arcrole.split('/')[-1]}\")\n",
    "\n",
    "    for member_rel in domain_member.fromModelObject(rel.fromModelObject):\n",
    "            print(f\"From: {member_rel.fromModelObject.qname} -> To: {member_rel.toModelObject.qname}, Closed: {member_rel.isClosed}, Arcrole: {member_rel.arcrole.split('/')[-1]}\")\n",
    "\n"
   ]
  },
  {
   "cell_type": "code",
   "execution_count": null,
   "metadata": {},
   "outputs": [],
   "source": [
    "def print_hypercube_relationships(model_xbrl, network_uri):\n",
    "    # Get relationship sets\n",
    "    all_set = model_xbrl.relationshipSet(XbrlConst.all, network_uri)\n",
    "    domain_member = model_xbrl.relationshipSet(XbrlConst.domainMember, network_uri)\n",
    "    \n",
    "    print(f\"\\nNetwork: {network_uri}\")\n",
    "    \n",
    "    # Process all has-hypercube relationships\n",
    "    for rel in all_set.modelRelationships:\n",
    "        if rel.fromModelObject is not None and rel.toModelObject is not None:\n",
    "            print(f\"\\nFrom: {rel.fromModelObject.qname} -> To: {rel.toModelObject.qname}\")\n",
    "            print(f\"Closed: {rel.closed}\")\n",
    "            \n",
    "            # Get all concepts under this primary item through domain-member relationships\n",
    "            def get_concepts(concept):\n",
    "                concepts = []\n",
    "                if concept is not None:\n",
    "                    concepts.append(concept)\n",
    "                    for member_rel in domain_member.fromModelObject(concept):\n",
    "                        if member_rel.toModelObject is not None:\n",
    "                            concepts.extend(get_concepts(member_rel.toModelObject))\n",
    "                return concepts\n",
    "            \n",
    "            # Get and print all related concepts\n",
    "            related_concepts = get_concepts(rel.fromModelObject)\n",
    "            for concept in related_concepts:\n",
    "                print(f\"  Related Concept: {concept.qname}\")\n",
    "\n",
    "# Use the function\n",
    "print_hypercube_relationships(model_xbrl, network_uri)"
   ]
  },
  {
   "cell_type": "code",
   "execution_count": null,
   "metadata": {},
   "outputs": [],
   "source": []
  },
  {
   "cell_type": "code",
   "execution_count": null,
   "metadata": {},
   "outputs": [],
   "source": [
    "all_set = model_xbrl.relationshipSet(XbrlConst.all)\n",
    "for rel in all_set.modelRelationships:\n",
    "    print(f\"From: {rel.fromModelObject.qname} -> To: {rel.toModelObject.qname}, Closed: {rel.isClosed}, Arcrole: {rel.arcrole.split('/')[-1]}\")\n"
   ]
  },
  {
   "cell_type": "code",
   "execution_count": null,
   "metadata": {},
   "outputs": [],
   "source": [
    "len(report.networks)\n"
   ]
  },
  {
   "cell_type": "code",
   "execution_count": null,
   "metadata": {},
   "outputs": [],
   "source": [
    "report.networks[0].isDefinition\n"
   ]
  },
  {
   "cell_type": "code",
   "execution_count": null,
   "metadata": {},
   "outputs": [],
   "source": [
    "# Display all rows in a pandas DataFrame\n",
    "pd.set_option('display.max_rows', None)\n",
    "# Create DataFrame with all networks including property methods\n",
    "networks_df = pd.DataFrame([\n",
    "    {\n",
    "        **network.__dict__,\n",
    "        'isDefinition': network.isDefinition,\n",
    "        'isPresentation': network.isPresentation,\n",
    "        'isCalculation': network.isCalculation,\n",
    "        'networkType': network.networkType\n",
    "    }\n",
    "    for network in report.networks\n",
    "])\n",
    "networks_df.head()\n"
   ]
  },
  {
   "cell_type": "code",
   "execution_count": null,
   "metadata": {},
   "outputs": [],
   "source": [
    "# Value Counts for each column in a Class: Change Concept to Network, Fact, etc\n",
    "for cols in networks_df.columns.difference(['model_xbrl','id', 'hypercubes', 'concepts', 'presentation', 'name']):\n",
    "    print('\\n',cols)\n",
    "    print(networks_df[cols].value_counts())\n",
    "    print(networks_df[cols].value_counts().sum())\n"
   ]
  },
  {
   "cell_type": "code",
   "execution_count": null,
   "metadata": {},
   "outputs": [],
   "source": [
    "networks_df[networks_df['isPresentation'] == True][networks_df.columns.difference(['hypercubes','model_xbrl','presentation'])]['id'].tolist()\n",
    "\n"
   ]
  },
  {
   "cell_type": "code",
   "execution_count": null,
   "metadata": {},
   "outputs": [],
   "source": [
    "for network in report.networks:\n",
    "    if (len(network.hypercubes) > 0):\n",
    "        for hypercube in network.hypercubes:\n",
    "            if (len(hypercube.concepts) > 0):                                \n",
    "                for concept in hypercube.concepts:\n",
    "                    # print(len(hypercube.concepts))\n",
    "                    print(f\"Concept: {concept}\")\n",
    "                    break\n",
    "                \n",
    "                # print(f\"{network.name}: {hypercube.hypercube_item.qname}, Concepts: {[concept.qname for concept in hypercube.concepts]}\")\n",
    "        "
   ]
  },
  {
   "cell_type": "code",
   "execution_count": null,
   "metadata": {},
   "outputs": [],
   "source": [
    "report.networks[4].hypercubes[0].abstracts"
   ]
  },
  {
   "cell_type": "code",
   "execution_count": null,
   "metadata": {},
   "outputs": [],
   "source": [
    "report.abstracts"
   ]
  },
  {
   "cell_type": "code",
   "execution_count": null,
   "metadata": {},
   "outputs": [],
   "source": [
    "stop"
   ]
  },
  {
   "cell_type": "code",
   "execution_count": null,
   "metadata": {},
   "outputs": [],
   "source": [
    "\n",
    "\n"
   ]
  },
  {
   "cell_type": "code",
   "execution_count": null,
   "metadata": {},
   "outputs": [],
   "source": [
    "report.networks[4].hypercubes[0].hypercube_item\n"
   ]
  },
  {
   "cell_type": "code",
   "execution_count": null,
   "metadata": {},
   "outputs": [],
   "source": [
    "for rel in report.model_xbrl.relationshipSet(XbrlConst.all).modelRelationships:\n",
    "    if rel.linkrole == 'http://xbrl.sec.gov/ecd/role/PvpDisclosureWithAdditionalMeasures':\n",
    "        print(rel.linkrole, rel.toModelObject.qname)\n"
   ]
  },
  {
   "cell_type": "code",
   "execution_count": null,
   "metadata": {},
   "outputs": [],
   "source": [
    "pd.set_option('display.max_colwidth', None)\n",
    "networks_df[networks_df['isPresentation'] == False][networks_df.columns.difference(['hypercubes'])]"
   ]
  },
  {
   "cell_type": "code",
   "execution_count": null,
   "metadata": {},
   "outputs": [],
   "source": [
    "networks_df.networkType.value_counts()\n"
   ]
  },
  {
   "cell_type": "code",
   "execution_count": null,
   "metadata": {},
   "outputs": [],
   "source": [
    "networks_df[(networks_df['isDefinition'] == True) & (networks_df['isPresentation'] == False)][networks_df.columns.difference(['hypercubes'])]"
   ]
  },
  {
   "cell_type": "markdown",
   "metadata": {},
   "source": [
    "# DEFINITION NETWORKS"
   ]
  },
  {
   "cell_type": "code",
   "execution_count": null,
   "metadata": {},
   "outputs": [],
   "source": [
    "network_uri = 'http://xbrl.sec.gov/ecd/role/TabularListMeasures'\n",
    "for i,network in enumerate(report.networks):\n",
    "    if network.network_uri == network_uri:\n",
    "        TabularListMeasures_hypercubes = network.hypercubes\n",
    "        break\n",
    "TabularListMeasures_hypercubes\n"
   ]
  },
  {
   "cell_type": "code",
   "execution_count": null,
   "metadata": {},
   "outputs": [],
   "source": [
    "len(TabularListMeasures_hypercubes), len(TabularListMeasures_hypercubes[0].dimensions)"
   ]
  },
  {
   "cell_type": "code",
   "execution_count": null,
   "metadata": {},
   "outputs": [],
   "source": []
  },
  {
   "cell_type": "code",
   "execution_count": null,
   "metadata": {},
   "outputs": [],
   "source": [
    "print(f\"Dimension 1: {TabularListMeasures_hypercubes[0].dimensions[0].qname}: members: {[member.qname for member in TabularListMeasures_hypercubes[0].dimensions[0].members]}\")\n",
    "print(f\"Dimension 2: {TabularListMeasures_hypercubes[0].dimensions[1].qname}: members: {[member.qname for member in TabularListMeasures_hypercubes[0].dimensions[1].members]}\")\n",
    "print(f\"Dimension 3: {TabularListMeasures_hypercubes[0].dimensions[2].qname}: members: {[member.qname for member in TabularListMeasures_hypercubes[0].dimensions[2].members]}\")\n",
    "\n"
   ]
  },
  {
   "cell_type": "code",
   "execution_count": null,
   "metadata": {},
   "outputs": [],
   "source": [
    "for i,network in enumerate(report.networks):\n",
    "    if network.hypercubes:\n",
    "        print(i,network.name)\n",
    "        break\n",
    "\n",
    "\n"
   ]
  },
  {
   "cell_type": "code",
   "execution_count": null,
   "metadata": {},
   "outputs": [],
   "source": [
    "[member.qname for member in TabularListMeasures_hypercubes[0].dimensions[1].members]"
   ]
  },
  {
   "cell_type": "code",
   "execution_count": null,
   "metadata": {},
   "outputs": [],
   "source": [
    "[member.qname for member in TabularListMeasures_hypercubes[0].dimensions[2].members]"
   ]
  },
  {
   "cell_type": "code",
   "execution_count": null,
   "metadata": {},
   "outputs": [],
   "source": [
    "# HYPERCUBES\n",
    "for i,hypercube in enumerate(report.networks[4].hypercubes):\n",
    "    print(i,hypercube.name)\n",
    "    break"
   ]
  },
  {
   "cell_type": "code",
   "execution_count": null,
   "metadata": {},
   "outputs": [],
   "source": [
    "report.networks[4].__dict__"
   ]
  },
  {
   "cell_type": "code",
   "execution_count": null,
   "metadata": {},
   "outputs": [],
   "source": [
    "report.networks[4].hypercubes[0].dimensions[0].members[1].__dict__"
   ]
  },
  {
   "cell_type": "markdown",
   "metadata": {},
   "source": [
    "# Presentation Network"
   ]
  },
  {
   "cell_type": "code",
   "execution_count": null,
   "metadata": {},
   "outputs": [],
   "source": [
    "sample_network_idx = 0\n",
    "sample_network = report.networks[sample_network_idx]\n",
    "len([concept for hypercube in sample_network.hypercubes for concept in hypercube.concepts])"
   ]
  },
  {
   "cell_type": "code",
   "execution_count": 18,
   "metadata": {},
   "outputs": [],
   "source": [
    "\n",
    "def validate_facts(sample_network) -> List[Fact]:\n",
    "\n",
    "    # Step 1: Get all facts (without dimensions) for concepts in this presentation that are not in any hypercubes of this network\n",
    "    fact_list = set([\n",
    "        fact\n",
    "        for node in getattr(sample_network.presentation, 'nodes', {}).values()  # Safely get nodes if presentation exists - self.presentation.nodes.values()\n",
    "        if node.concept and node.concept.__class__ != AbstractConcept  # Ensure concept is not None and not abstract\n",
    "        and node.concept not in [concept for hypercube in sample_network.hypercubes for concept in hypercube.concepts]  # Exclude concepts in hypercubes\n",
    "        for fact in node.concept.facts\n",
    "        if not fact.dims_members  # Include only facts with no dimensions\n",
    "    ])\n",
    "\n",
    "    return fact_list"
   ]
  },
  {
   "cell_type": "code",
   "execution_count": null,
   "metadata": {},
   "outputs": [],
   "source": [
    "validate_facts(sample_network)"
   ]
  },
  {
   "cell_type": "code",
   "execution_count": null,
   "metadata": {},
   "outputs": [],
   "source": [
    "empty_member_facts = [fact for fact in report.facts if fact.dims_members and any(not member for _, member in fact.dims_members)]\n",
    "empty_member_facts"
   ]
  },
  {
   "cell_type": "code",
   "execution_count": null,
   "metadata": {},
   "outputs": [],
   "source": [
    "for fact in report.facts:\n",
    "    if fact.dims_members:\n",
    "        print(fact.u_id)\n",
    "        break\n"
   ]
  },
  {
   "cell_type": "code",
   "execution_count": null,
   "metadata": {},
   "outputs": [],
   "source": [
    "sample_network_idx = 0\n",
    "sample_network = report.networks[sample_network_idx]\n",
    "len([concept for hypercube in sample_network.hypercubes for concept in hypercube.concepts])"
   ]
  },
  {
   "cell_type": "code",
   "execution_count": null,
   "metadata": {},
   "outputs": [],
   "source": [
    "report.facts[14].dims_members[0][0].members"
   ]
  },
  {
   "cell_type": "code",
   "execution_count": null,
   "metadata": {},
   "outputs": [],
   "source": [
    "report.facts[14].dims_members[0]"
   ]
  },
  {
   "cell_type": "code",
   "execution_count": null,
   "metadata": {},
   "outputs": [],
   "source": [
    "report.facts[14].dims_members[0][0].default_member\n"
   ]
  },
  {
   "cell_type": "code",
   "execution_count": null,
   "metadata": {},
   "outputs": [],
   "source": [
    "report.taxonomy.dimensions[0].members_dict"
   ]
  },
  {
   "cell_type": "code",
   "execution_count": null,
   "metadata": {},
   "outputs": [],
   "source": [
    "networks.hypercubes[0].dimensions[0].members_dict"
   ]
  },
  {
   "cell_type": "code",
   "execution_count": null,
   "metadata": {},
   "outputs": [],
   "source": [
    "report.networks[4].hypercubes[0].dimensions[0].members_dict"
   ]
  },
  {
   "cell_type": "markdown",
   "metadata": {},
   "source": [
    "# Presentation Network"
   ]
  },
  {
   "cell_type": "markdown",
   "metadata": {},
   "source": [
    "    # Step1: Get all facts (W/O Dims)for concepts in this presentation that are not in any hypercubes of this network\n",
    "    # node.concept.__class__ != AbstractConcept\n",
    "\n",
    "    # Each node_value has : 'children', 'concept', 'concept_id', 'level', 'order'\n"
   ]
  },
  {
   "cell_type": "code",
   "execution_count": null,
   "metadata": {},
   "outputs": [],
   "source": [
    "sample_network = report.networks[0]\n",
    "sample_network.name"
   ]
  },
  {
   "cell_type": "code",
   "execution_count": null,
   "metadata": {},
   "outputs": [],
   "source": [
    "report.abstracts[:2]"
   ]
  },
  {
   "cell_type": "code",
   "execution_count": 15,
   "metadata": {},
   "outputs": [],
   "source": [
    "# for network in report.networks:\n",
    "#     if network.isPresentation:\n",
    "#         for node in network.presentation.nodes.values():\n",
    "#             if node.concept is not None:    \n",
    "#                 parent_concept = node.concept.model_concept\n",
    "#                 if parent_concept is not None:\n",
    "#                     if str(parent_concept.qname) not in abstract_concepts:\n",
    "#                         print(str(parent_concept.qname))"
   ]
  },
  {
   "cell_type": "code",
   "execution_count": null,
   "metadata": {},
   "outputs": [],
   "source": [
    "report.report"
   ]
  },
  {
   "cell_type": "code",
   "execution_count": null,
   "metadata": {},
   "outputs": [],
   "source": [
    "node.children"
   ]
  },
  {
   "cell_type": "code",
   "execution_count": null,
   "metadata": {},
   "outputs": [],
   "source": [
    "for node in sample_network.presentation.nodes.values():\n",
    "      for child in node.children:\n",
    "          parent_concept = node.concept.model_concept\n",
    "          child_node = sample_network.presentation.nodes[child]\n",
    "          print(f\"Parent: {parent_concept.qname},child_uid: {child_node.concept.u_id} Children: {child}, Order: {node.order}, Level: {node.level}, Abstract: {parent_concept.isAbstract}\")\n",
    "    #   break\n",
    "\n",
    "            "
   ]
  },
  {
   "cell_type": "code",
   "execution_count": null,
   "metadata": {},
   "outputs": [],
   "source": [
    "for node in sample_network.presentation.nodes.values():\n",
    "    parent_concept = node.concept.model_concept\n",
    "    if parent_concept is not None:  # Check if parent_concept is not None\n",
    "        num_children = len(node.children)  # Count the number of children\n",
    "        print(f\"Parent: {parent_concept.qname}, Number of Children: {num_children}, Order: {node.order}, Level: {node.level}, Abstract: {parent_concept.isAbstract}\")\n",
    "        for child in node.children:\n",
    "            print(f\"    Child: {child}\")\n",
    "    else:\n",
    "        print(f\"Parent: None, Number of Children: {len(node.children)}, Order: {node.order}, Level: {node.level}\")\n"
   ]
  },
  {
   "cell_type": "code",
   "execution_count": null,
   "metadata": {},
   "outputs": [],
   "source": []
  },
  {
   "cell_type": "code",
   "execution_count": 14,
   "metadata": {},
   "outputs": [],
   "source": [
    "\n",
    "# Display all rows and columns without truncation\n",
    "pd.set_option('display.max_rows', None)\n",
    "pd.set_option('display.max_columns', None)\n",
    "pd.set_option('display.width', None)\n",
    "pd.set_option('display.max_colwidth', None)"
   ]
  },
  {
   "cell_type": "code",
   "execution_count": null,
   "metadata": {},
   "outputs": [],
   "source": [
    "import pandas as pd\n",
    "\n",
    "# Initialize a dictionary to store data for the DataFrame\n",
    "data = {}\n",
    "\n",
    "# Loop through the nodes and extract information\n",
    "for node in sample_network.presentation.nodes.values():\n",
    "    parent_concept = node.concept.model_concept\n",
    "    \n",
    "    # Skip if parent_concept is None\n",
    "    if parent_concept is None:\n",
    "        continue\n",
    "    \n",
    "    parent_label = parent_concept.label()\n",
    "    \n",
    "    # If the parent is not in the data dictionary, initialize it\n",
    "    if parent_label not in data:\n",
    "        data[parent_label] = {\n",
    "            'Children': [],\n",
    "            'Order': node.order,\n",
    "            'Level': node.level,\n",
    "            'Abstract': parent_concept.isAbstract\n",
    "        }\n",
    "    \n",
    "    # Append the children to the parent's list\n",
    "    data[parent_label]['Children'].extend(node.children)\n",
    "\n",
    "# Convert the dictionary into a DataFrame\n",
    "df = pd.DataFrame([\n",
    "    {'Parent': parent, 'Children': children['Children'], 'Order': children['Order'], 'Level': children['Level'], 'Abstract': children['Abstract']}\n",
    "    for parent, children in data.items()\n",
    "])\n",
    "\n",
    "df"
   ]
  },
  {
   "cell_type": "code",
   "execution_count": 32,
   "metadata": {},
   "outputs": [],
   "source": [
    "# import pandas as pd\n",
    "\n",
    "# # Initialize a list to store each node's data as a dictionary\n",
    "# data = []\n",
    "\n",
    "# # Iterate over all concept-node pairs in the presentation network\n",
    "# for concept, node in sample_network.presentation.nodes.items():\n",
    "#     node_data = {\n",
    "#         'ParentID': concept,\n",
    "#         'order': node.order,\n",
    "#         'level': node.level,\n",
    "#         'children': ', '.join(node.children) if node.children else None\n",
    "#     }\n",
    "#     data.append(node_data)\n",
    "\n",
    "# # Create a pandas DataFrame from the list of dictionaries\n",
    "# df = pd.DataFrame(data)\n",
    "\n",
    "# # Optional: Display the DataFrame\n",
    "# df\n"
   ]
  },
  {
   "cell_type": "code",
   "execution_count": null,
   "metadata": {},
   "outputs": [],
   "source": []
  },
  {
   "cell_type": "code",
   "execution_count": null,
   "metadata": {},
   "outputs": [],
   "source": [
    "node = sample_network.presentation.nodes.get('http://fasb.org/us-gaap/2024:us-gaap:StatementOfCashFlowsAbstract')\n",
    "node.concept"
   ]
  },
  {
   "cell_type": "code",
   "execution_count": null,
   "metadata": {},
   "outputs": [],
   "source": [
    "report.facts[10].concept.u_id\n"
   ]
  },
  {
   "cell_type": "markdown",
   "metadata": {},
   "source": [
    "# STOP"
   ]
  },
  {
   "cell_type": "code",
   "execution_count": null,
   "metadata": {},
   "outputs": [],
   "source": [
    "network_id = 2\n",
    "print(f\"Presentation Network: {report.networks[network_id].network_uri}\")\n",
    "report.networks[network_id].presentation.nodes"
   ]
  },
  {
   "cell_type": "code",
   "execution_count": null,
   "metadata": {},
   "outputs": [],
   "source": [
    "report.networks[network_id].presentation.roots"
   ]
  },
  {
   "cell_type": "code",
   "execution_count": null,
   "metadata": {},
   "outputs": [],
   "source": [
    "node = report.networks[network_id].presentation.nodes['http://fasb.org/us-gaap/2023:us-gaap:StatementOfFinancialPositionAbstract']\n",
    "# Access both structural info and concept instance\n",
    "print(f\"Level: {node.level}\")  # Hierarchy level\n",
    "print(f\"Order: {node.order}\")  # Order within level\n",
    "print(f\"Concept: {node.concept}\")  # Actual concept instance\n",
    "print(f\"Children: {report.networks[network_id].presentation.get_children(node)}\")"
   ]
  },
  {
   "cell_type": "code",
   "execution_count": null,
   "metadata": {},
   "outputs": [],
   "source": [
    "definition, presentation, total = 0, 0, 0\n",
    "for network in report.networks:\n",
    "    total += 1\n",
    "    if network.isDefinition:\n",
    "        definition += 1\n",
    "    elif network.isPresentation:\n",
    "        presentation += 1\n",
    "\n",
    "print(f\"Definition Networks: {definition}\\nPresentation Networks: {presentation}\\nTotal Networks: {total}\")\n",
    "    \n"
   ]
  },
  {
   "cell_type": "code",
   "execution_count": null,
   "metadata": {},
   "outputs": [],
   "source": [
    "sum(1 for network in report.networks if network.presentation)"
   ]
  },
  {
   "cell_type": "code",
   "execution_count": null,
   "metadata": {},
   "outputs": [],
   "source": [
    "report.networks[2].presentation.__dict__"
   ]
  },
  {
   "cell_type": "code",
   "execution_count": 124,
   "metadata": {},
   "outputs": [],
   "source": [
    "instance_url = 'https://www.sec.gov/Archives/edgar/data/3545/000000354524000128/alco-20240930_htm.xml'\n",
    "from arelle import Cntlr\n",
    "from arelle.ModelXbrl import load\n",
    "controller = Cntlr.Cntlr(logFileName=\"logfile.txt\")\n",
    "model_xbrl = controller.modelManager.load(instance_url)"
   ]
  },
  {
   "cell_type": "code",
   "execution_count": null,
   "metadata": {},
   "outputs": [],
   "source": [
    "unique_roles = {}\n",
    "for i, role in enumerate(model_xbrl.roleTypes):\n",
    "    unique_roles[i] = role.split(':')[1]\n",
    "    print(i,role)\n",
    "\n",
    "len(unique_roles)"
   ]
  },
  {
   "cell_type": "markdown",
   "metadata": {},
   "source": [
    "# Presentation Hierarchy"
   ]
  },
  {
   "cell_type": "code",
   "execution_count": 29,
   "metadata": {},
   "outputs": [],
   "source": [
    "instance_url = 'https://www.sec.gov/Archives/edgar/data/3545/000000354524000128/alco-20240930_htm.xml'\n",
    "instance_url = 'https://www.sec.gov/Archives/edgar/data/1784970/000121390024106993/ea0223953-10qa1_nexttech_htm.xml' # 10-Q Amended report\n",
    "from arelle import Cntlr\n",
    "from arelle.ModelXbrl import load\n",
    "controller = Cntlr.Cntlr(logFileName=\"logfile.txt\")\n",
    "model_xbrl = controller.modelManager.load(instance_url)\n"
   ]
  },
  {
   "cell_type": "code",
   "execution_count": null,
   "metadata": {},
   "outputs": [],
   "source": [
    "from arelle import XbrlConst\n",
    "\n",
    "def get_calculation_network_children_ordered(model_xbrl, network_linkrole):\n",
    "    relationship_set = model_xbrl.relationshipSet(XbrlConst.summationItem, network_linkrole)\n",
    "    if not relationship_set:\n",
    "        return []\n",
    "\n",
    "    ordered_rels = []\n",
    "    \n",
    "    # Iterate through all parent concepts\n",
    "    for parent in relationship_set.fromModelObjects():\n",
    "        # For each parent, get its child relationships\n",
    "        for rel in relationship_set.fromModelObject(parent):\n",
    "            # Append parent-child relationships with order\n",
    "            ordered_rels.append({\n",
    "                'parent': parent.qname,\n",
    "                'child': rel.toModelObject.qname,\n",
    "                'order': rel.order\n",
    "            })\n",
    "\n",
    "    return ordered_rels\n",
    "\n",
    "network_name = 'Condensed Consolidated Balance Sheets (Unaudited)'.lower()\n",
    "matching_roles = [(uri, rt.definition) for uri, rts in model_xbrl.roleTypes.items() for rt in rts if rt.definition and network_name in rt.definition.lower()]\n",
    "for uri, definition in matching_roles: print(f\"Role URI: {uri}\\nDefinition: {definition}\\n\")\n",
    "\n",
    "network_linkrole = next((uri for uri, rts in model_xbrl.roleTypes.items() for rt in rts if rt.definition and network_name in rt.definition.lower()), None)\n",
    "print(network_linkrole, network_name)\n",
    "ordered_rels = get_calculation_network_children_ordered(model_xbrl, network_linkrole)\n",
    "ordered_rels\n"
   ]
  },
  {
   "cell_type": "code",
   "execution_count": 32,
   "metadata": {},
   "outputs": [],
   "source": [
    "from arelle import XbrlConst\n",
    "\n",
    "def get_network_children_ordered(model_xbrl, network_linkrole):\n",
    "    relationship_set = model_xbrl.relationshipSet(XbrlConst.parentChild, network_linkrole)\n",
    "    if not relationship_set:\n",
    "        return []\n",
    "\n",
    "    ordered_rels = []\n",
    "    \n",
    "    # Iterate through all parent concepts\n",
    "    for parent in relationship_set.fromModelObjects():\n",
    "        # For each parent, get its child relationships\n",
    "        for rel in relationship_set.fromModelObject(parent):\n",
    "            # Append parent-child relationships with order\n",
    "            ordered_rels.append({\n",
    "                'parent': parent.qname,\n",
    "                'child': rel.toModelObject.qname,\n",
    "                'order': rel.order\n",
    "            })\n",
    "\n",
    "    return ordered_rels\n"
   ]
  },
  {
   "cell_type": "code",
   "execution_count": null,
   "metadata": {},
   "outputs": [],
   "source": [
    "network_name = 'Condensed Consolidated Balance Sheets (Unaudited)'.lower()\n",
    "matching_roles = [(uri, rt.definition) for uri, rts in model_xbrl.roleTypes.items() for rt in rts if rt.definition and network_name in rt.definition.lower()]\n",
    "for uri, definition in matching_roles: print(f\"Role URI: {uri}\\nDefinition: {definition}\\n\")\n"
   ]
  },
  {
   "cell_type": "code",
   "execution_count": null,
   "metadata": {},
   "outputs": [],
   "source": [
    "network_linkrole = next((uri for uri, rts in model_xbrl.roleTypes.items() for rt in rts if rt.definition and network_name in rt.definition.lower()), None)\n",
    "print(network_linkrole, network_name)\n",
    "ordered_rels = get_network_children_ordered(model_xbrl, network_linkrole)\n",
    "ordered_rels\n"
   ]
  },
  {
   "cell_type": "code",
   "execution_count": null,
   "metadata": {},
   "outputs": [],
   "source": [
    "def get_presentation_network_structure(model_xbrl, network_name):\n",
    "    \"\"\"\n",
    "    Gets complete presentation network structure using hierarchical ordering.\n",
    "    \"\"\"\n",
    "    # network_linkrole = next(role for role in model_xbrl.roleTypes if network_name in role)\n",
    "    network_linkrole = next((uri for uri, rts in model_xbrl.roleTypes.items() for rt in rts if rt.definition and network_name in rt.definition.lower()), None)\n",
    "    \n",
    "    # Get ordered relationships first\n",
    "    ordered_rels = get_network_children_ordered(model_xbrl, network_linkrole)\n",
    "    \n",
    "    # Group relationships by parent\n",
    "    hierarchy_by_parent = {}\n",
    "    all_parents = set()\n",
    "    all_children = set()\n",
    "    \n",
    "    for rel in ordered_rels:\n",
    "        parent = str(rel['parent'])\n",
    "        child = str(rel['child'])\n",
    "        if parent not in hierarchy_by_parent:\n",
    "            hierarchy_by_parent[parent] = []\n",
    "        hierarchy_by_parent[parent].append(rel)\n",
    "        all_parents.add(parent)\n",
    "        all_children.add(child)\n",
    "    \n",
    "    # Find root(s) - parents that are not children of any other concept\n",
    "    root_concepts = all_parents - all_children\n",
    "    \n",
    "    structure = []\n",
    "    processed = set()\n",
    "    level_orders = {}  # Track the order per level\n",
    "    \n",
    "    def process_parent(parent_concept, level):\n",
    "        if parent_concept not in hierarchy_by_parent:\n",
    "            return\n",
    "        \n",
    "        if level not in level_orders:\n",
    "            level_orders[level] = 1  # Start order from 1 instead of 0\n",
    "        \n",
    "        children = sorted(hierarchy_by_parent[parent_concept], key=lambda x: x['order'])\n",
    "        \n",
    "        for rel in children:\n",
    "            child_concept = str(rel['child'])\n",
    "            if child_concept in processed:\n",
    "                continue\n",
    "                \n",
    "            child_obj = model_xbrl.qnameConcepts[rel['child']]\n",
    "            structure.append({\n",
    "                'concept': child_concept,\n",
    "                'label': child_obj.label(),\n",
    "                'order': level_orders[level],  # Use level-specific order\n",
    "                'level': level,\n",
    "                'is_abstract': child_obj.isAbstract\n",
    "            })\n",
    "            level_orders[level] += 1  # Increment the level-specific order\n",
    "            \n",
    "            processed.add(child_concept)\n",
    "            process_parent(child_concept, level + 1)\n",
    "    \n",
    "    # Process each root concept\n",
    "    for root in root_concepts:\n",
    "        if root not in processed:\n",
    "            if 1 not in level_orders:\n",
    "                level_orders[1] = 1  # Start root order from 1\n",
    "            \n",
    "            root_obj = model_xbrl.qnameConcepts[hierarchy_by_parent[root][0]['parent']]\n",
    "            structure.append({\n",
    "                'concept': root,\n",
    "                'label': root_obj.label(),\n",
    "                'order': level_orders[1],\n",
    "                'level': 1,  # Start root level from 1\n",
    "                'is_abstract': True\n",
    "            })\n",
    "            level_orders[1] += 1  # Increment the root level order\n",
    "            processed.add(root)\n",
    "            process_parent(root, 2)  # Start child level from 2\n",
    "    \n",
    "    return pd.DataFrame(structure)\n",
    "\n",
    "# Usage\n",
    "# \"Axis\", \"Abstract\", \"Table\", \"LineItems\"\n",
    "print(network_name)\n",
    "presentation_structure = get_presentation_network_structure(model_xbrl, network_name)\n",
    "presentation_structure.sort_values(by=['level', 'order'], ascending=[True, True])\n"
   ]
  },
  {
   "cell_type": "code",
   "execution_count": null,
   "metadata": {},
   "outputs": [],
   "source": [
    "import pandas as pd\n",
    "\n",
    "def flatten_presentation_structure(df: pd.DataFrame) -> pd.DataFrame:\n",
    "    # Keywords to skip\n",
    "    SKIP_KEYWORDS = (\"Axis\", \"Abstract\", \"Table\", \"LineItems\")\n",
    "    \n",
    "    # Convert df to a parent->children mapping using the original order and level\n",
    "    # We'll reconstruct the hierarchy using the concept's current level and order as guides.\n",
    "    # First, find potential roots (lowest level = 1 concepts)\n",
    "    # NOTE: The provided df likely already sorted by [level, order], we rely on that.\n",
    "    df = df.sort_values(by=[\"level\", \"order\"]).reset_index(drop=True)\n",
    "    \n",
    "    # Build a tree from the dataframe.\n",
    "    # Concept at level N+1 that comes after a concept at level N is considered a child if:\n",
    "    # - It's the next in sequence going down levels.\n",
    "    # We'll do this by tracking a stack of last-seen nodes at each level.\n",
    "    level_stack = []\n",
    "    parent_map = {}\n",
    "    \n",
    "    for _, row in df.iterrows():\n",
    "        concept = row['concept']\n",
    "        level = row['level']\n",
    "        # Ensure level_stack is trimmed to (level-1)\n",
    "        while len(level_stack) >= level:\n",
    "            level_stack.pop()\n",
    "        if level_stack:\n",
    "            parent = level_stack[-1]\n",
    "            parent_map.setdefault(parent, []).append(concept)\n",
    "        else:\n",
    "            # No parent, this is a root\n",
    "            parent_map.setdefault(None, []).append(concept)\n",
    "        level_stack.append(concept)\n",
    "    \n",
    "    # Create a lookup for concept info\n",
    "    concept_info = df.set_index('concept').to_dict('index')\n",
    "    \n",
    "    def is_skippable(c):\n",
    "        info = concept_info[c]\n",
    "        if info['is_abstract']:\n",
    "            return True\n",
    "        return any(c.endswith(kw) for kw in SKIP_KEYWORDS)\n",
    "    \n",
    "    # We'll do a DFS from the roots, and flatten by skipping abstract/axis/table/lineItems.\n",
    "    flattened = []\n",
    "    new_level_order = {}\n",
    "    \n",
    "    def ensure_level_order(lvl):\n",
    "        if lvl not in new_level_order:\n",
    "            new_level_order[lvl] = 1\n",
    "    \n",
    "    def add_node(c, lvl):\n",
    "        ensure_level_order(lvl)\n",
    "        flattened.append({\n",
    "            'concept': c,\n",
    "            'label': concept_info[c]['label'],\n",
    "            'order': new_level_order[lvl],\n",
    "            'level': lvl,\n",
    "            'is_abstract': concept_info[c]['is_abstract']\n",
    "        })\n",
    "        new_level_order[lvl] += 1\n",
    "    \n",
    "    def process_node(c, lvl, parent_skipped=False):\n",
    "        \"\"\" \n",
    "        If node is skippable, don't add it, just process children at same level if parent_skipped=True, \n",
    "        else keep them at the current lvl if parent isn't skipped.\n",
    "        If node is not skippable, add it and process children at lvl+1.\n",
    "        \"\"\"\n",
    "        children = parent_map.get(c, [])\n",
    "        \n",
    "        if is_skippable(c):\n",
    "            # Skip this node, just promote children\n",
    "            for child in children:\n",
    "                process_node(child, lvl, parent_skipped=True)\n",
    "        else:\n",
    "            # Valid node\n",
    "            add_node(c, lvl)\n",
    "            for child in children:\n",
    "                process_node(child, lvl+1, parent_skipped=False)\n",
    "    \n",
    "    # Process all roots\n",
    "    roots = parent_map.get(None, [])\n",
    "    for r in roots:\n",
    "        if is_skippable(r):\n",
    "            for child in parent_map.get(r, []):\n",
    "                process_node(child, 1, parent_skipped=True)\n",
    "        else:\n",
    "            add_node(r, 1)\n",
    "            for child in parent_map.get(r, []):\n",
    "                process_node(child, 2, parent_skipped=False)\n",
    "    \n",
    "    result = pd.DataFrame(flattened, columns=['concept','label','order','level','is_abstract'])\n",
    "    return result.sort_values(by=['level','order']).reset_index(drop=True)\n",
    "\n",
    "\n",
    "# Usage\n",
    "# presentation_structure is the DataFrame you already have (the one with Axis, Abstract, etc.)\n",
    "flattened_df = flatten_presentation_structure(presentation_structure)\n",
    "flattened_df\n"
   ]
  },
  {
   "cell_type": "code",
   "execution_count": null,
   "metadata": {},
   "outputs": [],
   "source": [
    "model_xbrl"
   ]
  },
  {
   "cell_type": "code",
   "execution_count": null,
   "metadata": {},
   "outputs": [],
   "source": [
    "report.networks[4].__dict__"
   ]
  },
  {
   "cell_type": "markdown",
   "metadata": {},
   "source": [
    "# Facts Dimensions Match Taxonomy Dimensions"
   ]
  },
  {
   "cell_type": "code",
   "execution_count": 5,
   "metadata": {},
   "outputs": [],
   "source": [
    "{dim.u_id: dim for dim in report.taxonomy.dimensions}\n",
    "\n",
    "member_lookup = {}\n",
    "\n",
    "for dim in report.taxonomy.dimensions:\n",
    "    for member_qname_str, member in dim.members_dict.items():\n",
    "        member_lookup[member.u_id] = member"
   ]
  },
  {
   "cell_type": "code",
   "execution_count": null,
   "metadata": {},
   "outputs": [],
   "source": [
    "report.facts[14]"
   ]
  },
  {
   "cell_type": "code",
   "execution_count": null,
   "metadata": {},
   "outputs": [],
   "source": [
    "for fact in report.facts:\n",
    "    if not fact.dims_members:\n",
    "        continue\n",
    "    else:\n",
    "        for dim_concept, member_concept in fact.dims_members:\n",
    "            print(dim_concept.u_id, member_concept.u_id)\n",
    "        break\n"
   ]
  },
  {
   "cell_type": "code",
   "execution_count": 6,
   "metadata": {},
   "outputs": [],
   "source": [
    "\n",
    "def _build_fact_dimension_relationships(self) -> List[Tuple[Neo4jNode, Neo4jNode, RelationType]]:\n",
    "    \"\"\"Build relationships between facts and their dimensions/members\"\"\"\n",
    "    relationships = []\n",
    "    dim_count = 0\n",
    "    member_count = 0\n",
    "\n",
    "    # Create lookup dictionaries using QName objects\n",
    "    dim_lookup = {dim.u_id: dim for dim in report.taxonomy.dimensions}\n",
    "    member_lookup = {}\n",
    "\n",
    "    for dim in self.taxonomy.dimensions:\n",
    "        for member_qname_str, member in dim.members_dict.items():\n",
    "            member_lookup[member.u_id] = member \n",
    "\n",
    "    # Process each fact's dimensions\n",
    "    for fact in self.facts:\n",
    "        if not fact.dims_members:\n",
    "            continue\n",
    "\n",
    "        for dim_concept, member_concept in fact.dims_members:\n",
    "            if not dim_concept:\n",
    "                continue\n",
    "\n",
    "            taxonomy_dim = dim_lookup.get(dim_concept.u_id)\n",
    "            if not taxonomy_dim:\n",
    "                continue\n",
    "\n",
    "            # If we have a member, try to link through it\n",
    "            if member_concept:\n",
    "                member = member_lookup.get(member_concept.u_id)\n",
    "                if member:\n",
    "                    relationships.append((fact, member, RelationType.HAS_MEMBER))\n",
    "                    member_count += 1\n",
    "                    continue  # Proceed to next dimension-member pair\n",
    "\n",
    "            # If no member or member not found, link directly to dimension\n",
    "            relationships.append((fact, taxonomy_dim, RelationType.HAS_DIMENSION))\n",
    "            dim_count += 1\n",
    "\n",
    "    print(f\"\\nBuilt fact relationships: {dim_count} direct dimensions, {member_count} members\")\n",
    "    print(f\"Facts with dimension relationships: {len(set(r[0].u_id for r in relationships))}\")\n",
    "    return relationships\n"
   ]
  },
  {
   "cell_type": "markdown",
   "metadata": {},
   "source": [
    "# Taxonomy Dimensions"
   ]
  },
  {
   "cell_type": "code",
   "execution_count": 1,
   "metadata": {},
   "outputs": [],
   "source": [
    "instance_url = 'https://www.sec.gov/Archives/edgar/data/3545/000000354524000128/alco-20240930_htm.xml'\n",
    "from arelle import Cntlr\n",
    "from arelle.ModelXbrl import load\n",
    "controller = Cntlr.Cntlr(logFileName=\"logfile.txt\")\n",
    "model_xbrl = controller.modelManager.load(instance_url)\n"
   ]
  },
  {
   "cell_type": "code",
   "execution_count": null,
   "metadata": {},
   "outputs": [],
   "source": [
    "report.networks[4].hypercubes[0].dimensions[0]"
   ]
  },
  {
   "cell_type": "code",
   "execution_count": null,
   "metadata": {},
   "outputs": [],
   "source": [
    "target_dim = \"srt:FederalHomeLoanBankAdvancesBranchOfFHLBBankAxis\"\n",
    "target_dim = \"ecd:ExecutiveCategoryAxis\"\n",
    "\n",
    "for i, network in enumerate(report.networks):\n",
    "    for j, hypercube in enumerate(network.hypercubes):\n",
    "        for k, dimension in enumerate(hypercube.dimensions):\n",
    "            if str(dimension.qname) == target_dim:\n",
    "                print(f\"Found at: report.networks[{i}].hypercubes[{j}].dimensions[{k}]\")\n",
    "                print(f\"Dimension: {dimension.qname}, {report.networks[i].name}\")\n",
    "                break\n"
   ]
  },
  {
   "cell_type": "code",
   "execution_count": null,
   "metadata": {},
   "outputs": [],
   "source": [
    "for dim in report.taxonomy.dimensions:\n",
    "    print(dim.qname)\n",
    "    print(dim.item.isExplicitDimension)\n",
    "    print(dim.members_dict)\n",
    "    break\n"
   ]
  },
  {
   "cell_type": "code",
   "execution_count": 3,
   "metadata": {},
   "outputs": [],
   "source": [
    "# print(len([dim.qname for dim in report.taxonomy.dimensions]))\n",
    "# dim_names = [dim.qname for dim in report.taxonomy.dimensions]\n",
    "# axis_count = sum(1 for dim_name in dim_names if dim_name.split(':')[-1].endswith('Axis'))\n",
    "# print(f\"Number of dimensions ending with 'Axis': {axis_count} out of {len(dim_names)} total dimensions\")\n",
    "# [dim_name.split(':')[-1] for dim_name in dim_names]\n",
    "\n"
   ]
  },
  {
   "cell_type": "code",
   "execution_count": null,
   "metadata": {},
   "outputs": [],
   "source": [
    "from arelle import XbrlConst\n",
    "\n",
    "i = 1\n",
    "unique_dimensions = set()\n",
    "unique_domains = {}\n",
    "dim_dom_rel_set = model_xbrl.relationshipSet(XbrlConst.dimensionDomain)\n",
    "for concept in model_xbrl.qnameConcepts.values(): # key is the concept.qname\n",
    "    if concept.isDimensionItem: \n",
    "        unique_dimensions.add(concept.qname)\n",
    "\n",
    "unique_dimensions"
   ]
  },
  {
   "cell_type": "code",
   "execution_count": null,
   "metadata": {},
   "outputs": [],
   "source": [
    "from arelle import XbrlConst\n",
    "\n",
    "i = 1\n",
    "unique_dimensions = set()\n",
    "unique_domains = {}\n",
    "dim_dom_rel_set = model_xbrl.relationshipSet(XbrlConst.dimensionDomain)\n",
    "for concept in model_xbrl.qnameConcepts.values(): # key is the concept.qname\n",
    "    if concept.isDimensionItem: \n",
    "        unique_dimensions.add(concept.qname)\n",
    "        # print(i,concept.qname)\n",
    "        # i += 1\n",
    "        if concept.qname not in unique_domains:\n",
    "            unique_domains[concept.qname] = set()\n",
    "        \n",
    "        for rel in dim_dom_rel_set.fromModelObject(concept):\n",
    "            \n",
    "            if rel.toModelObject is not None:\n",
    "                # print(rel.toModelObject.qname)\n",
    "                # print(concept.qname, rel.toModelObject.qname)\n",
    "                unique_domains[concept.qname].add(rel.toModelObject)\n",
    "\n",
    "\n",
    "# print(i)\n",
    "print(\"Unique Dimensions: \",len(unique_dimensions))\n",
    "print(\"Unique Domains: \",len(unique_domains))"
   ]
  },
  {
   "cell_type": "code",
   "execution_count": null,
   "metadata": {},
   "outputs": [],
   "source": [
    "def is_domain_only(concept):\n",
    "    \"\"\"Debug function to check domain characteristics\"\"\"\n",
    "    # Store conditions separately\n",
    "    condition1 = concept.isItem\n",
    "    condition2 = 'domainItemType' in str(concept.typeQname)\n",
    "    condition3 = concept.isAbstract\n",
    "    \n",
    "    # Check relationships in base set (without specific network)\n",
    "    dim_dom_rel_set = model_xbrl.relationshipSet(XbrlConst.dimensionDomain)\n",
    "    rels_to = []\n",
    "    if dim_dom_rel_set:\n",
    "        rels_to = list(dim_dom_rel_set.toModelObject(concept))\n",
    "    condition4 = bool(rels_to)\n",
    "    \n",
    "    # Print debug info only if it fails\n",
    "    if not all([condition1, condition2, condition3, condition4]):\n",
    "        print(f\"\\nDEBUG for failed domain {concept.qname}:\")\n",
    "        print(f\"1. isItem: {condition1}\")\n",
    "        print(f\"2. has domainItemType: {condition2}\")\n",
    "        print(f\"3. isAbstract: {condition3}\")\n",
    "        print(f\"4. is target of dimension-domain: {condition4}\")\n",
    "        \n",
    "        if rels_to:\n",
    "            print(\"\\nFound Relationships:\")\n",
    "            for rel in rels_to:\n",
    "                print(f\"- From: {rel.fromModelObject.qname}\")\n",
    "                print(f\"  To: {rel.toModelObject.qname}\")\n",
    "                print(f\"  Role: {rel.linkrole}\")\n",
    "\n",
    "    if all([condition1, condition2, condition3, condition4]):\n",
    "        print(f\"{concept.qname} - ISDOMAIN: True\")\n",
    "    else:\n",
    "        print(f\"{concept.qname} - ISDOMAIN: False\")\n",
    "    \n",
    "    return all([condition1, condition2, condition3, condition4])\n",
    "\n",
    "# Test all domains\n",
    "print(\"Checking all domains:\")\n",
    "i = 1\n",
    "for k, v in unique_domains.items():\n",
    "    if v:  # if the set is not empty\n",
    "        print(f\"\\n{i} Dimension: {k}\")\n",
    "\n",
    "        i += 1\n",
    "        for domain in v:\n",
    "            result = is_domain_only(domain)\n",
    "            # print(f\"{domain.qname} - ISDOMAIN: {result}\")"
   ]
  },
  {
   "cell_type": "code",
   "execution_count": null,
   "metadata": {},
   "outputs": [],
   "source": [
    "for concept in model_xbrl.qnameConcepts.values(): # key is the concept.qname\n",
    "    \n",
    "    print(concept.qname,  is_domain_only(concept))\n"
   ]
  },
  {
   "cell_type": "code",
   "execution_count": null,
   "metadata": {},
   "outputs": [],
   "source": [
    "for k,v in unique_domains.items():\n",
    "    if len(v) > 0:\n",
    "        # print(k,v)\n",
    "        for concept in v:\n",
    "            print(concept.qname, is_domain_only(concept))\n"
   ]
  },
  {
   "cell_type": "markdown",
   "metadata": {},
   "source": [
    "# NULL FACTS"
   ]
  },
  {
   "cell_type": "code",
   "execution_count": 13,
   "metadata": {},
   "outputs": [],
   "source": [
    "instance_url = 'https://www.sec.gov/Archives/edgar/data/1784970/000121390024106993/ea0223953-10qa1_nexttech_htm.xml'\n",
    "from arelle import Cntlr\n",
    "from arelle.ModelXbrl import load\n",
    "controller = Cntlr.Cntlr(logFileName=\"logfile.txt\")\n",
    "model_xbrl = controller.modelManager.load(instance_url)\n"
   ]
  },
  {
   "cell_type": "code",
   "execution_count": null,
   "metadata": {},
   "outputs": [],
   "source": [
    "i = 0\n",
    "for fact in report.facts:\n",
    "    if fact.value is None:\n",
    "        # print(fact.qname, fact.value, fact.id)\n",
    "        print(i, fact.qname)\n",
    "        i += 1\n"
   ]
  },
  {
   "cell_type": "code",
   "execution_count": 26,
   "metadata": {},
   "outputs": [],
   "source": [
    "# actual_nil_facts = set()\n",
    "# for fact in model_xbrl.facts:\n",
    "#     if not fact.isNil:\n",
    "#         actual_nil_facts.add(fact)\n",
    "#         print(fact.qname, fact.value, fact.id)"
   ]
  },
  {
   "cell_type": "code",
   "execution_count": null,
   "metadata": {},
   "outputs": [],
   "source": [
    "model_xbrl"
   ]
  },
  {
   "cell_type": "code",
   "execution_count": null,
   "metadata": {},
   "outputs": [],
   "source": [
    "actual_nil_facts = set()\n",
    "for fact in model_xbrl.facts:\n",
    "    if fact.isNil:\n",
    "        actual_nil_facts.add(fact)\n",
    "        # print(fact.qname, fact.value, fact.id)\n",
    "    # if fact.value is None:\n",
    "    #     print(fact.qname)\n",
    "\n",
    "for i, fact in enumerate(actual_nil_facts):\n",
    "    print(i, fact.qname, fact.value, fact.id)\n",
    "    \n"
   ]
  },
  {
   "cell_type": "code",
   "execution_count": null,
   "metadata": {},
   "outputs": [],
   "source": [
    "report.facts[0].model_fact.value"
   ]
  },
  {
   "cell_type": "markdown",
   "metadata": {},
   "source": [
    "# Categories\n"
   ]
  },
  {
   "cell_type": "code",
   "execution_count": 15,
   "metadata": {},
   "outputs": [],
   "source": [
    "instance_url = 'https://www.sec.gov/Archives/edgar/data/1784970/000121390024106993/ea0223953-10qa1_nexttech_htm.xml'\n",
    "from arelle import Cntlr\n",
    "from arelle.ModelXbrl import load\n",
    "controller = Cntlr.Cntlr(logFileName=\"logfile.txt\")\n",
    "model_xbrl = controller.modelManager.load(instance_url)\n"
   ]
  },
  {
   "cell_type": "code",
   "execution_count": 21,
   "metadata": {},
   "outputs": [],
   "source": [
    "# model_xbrl.nameConcepts"
   ]
  },
  {
   "cell_type": "code",
   "execution_count": null,
   "metadata": {},
   "outputs": [],
   "source": [
    "report.abstracts"
   ]
  },
  {
   "cell_type": "code",
   "execution_count": null,
   "metadata": {},
   "outputs": [],
   "source": [
    "for abstract in report._abstract_lookup.values():\n",
    "    print(abstract.category)"
   ]
  },
  {
   "cell_type": "code",
   "execution_count": 25,
   "metadata": {},
   "outputs": [],
   "source": [
    "\n",
    "\n",
    "class ReportElementClassifier:\n",
    "    LINKBASE_ELEMENTS = [\n",
    "        'link:part', 'xl:extended', 'xl:arc', 'xl:simple', \n",
    "        'xl:resource', 'xl:documentation', 'xl:locator', \n",
    "        'link:linkbase', 'link:definition', 'link:usedOn', \n",
    "        'link:roleType', 'link:arcroleType'\n",
    "    ]\n",
    "    \n",
    "    DATE_ELEMENTS = [\n",
    "        'xbrli:instant', 'xbrli:startDate', 'xbrli:endDate', \n",
    "        'dei:eventDateTime', 'xbrli:forever'\n",
    "    ]\n",
    "\n",
    "    @staticmethod\n",
    "    def get_substitution_group(concept: Any) -> str:\n",
    "        return (str(concept.substitutionGroupQname) \n",
    "                if concept.substitutionGroupQname else \"N/A\")\n",
    "\n",
    "    @staticmethod\n",
    "    def get_local_type(concept: Any) -> str:\n",
    "        return (str(concept.typeQname.localName) \n",
    "                if concept.typeQname else '')\n",
    "\n",
    "    @staticmethod\n",
    "    def check_nillable(concept: Any) -> bool:\n",
    "        return (concept.nillable == 'true')\n",
    "\n",
    "    @staticmethod\n",
    "    def check_duration(concept: Any) -> bool:\n",
    "        return (concept.periodType == 'duration')\n",
    "\n",
    "    @classmethod\n",
    "    def classify(cls, concept: Any) -> NodeType:\n",
    "        qname_str = str(concept.qname)\n",
    "        sub_group = cls.get_substitution_group(concept)\n",
    "        local_type = cls.get_local_type(concept)\n",
    "        nillable = cls.check_nillable(concept)\n",
    "        duration = cls.check_duration(concept)\n",
    "\n",
    "        # Initial classification\n",
    "        category = cls._initial_classify(concept, qname_str, sub_group, \n",
    "                                      local_type, nillable, duration)\n",
    "        \n",
    "        # Integrated post-classification\n",
    "        if category == NodeType.OTHER:\n",
    "            category = cls._post_classify_single(concept, qname_str, sub_group)\n",
    "        \n",
    "        return category\n",
    "\n",
    "    @classmethod\n",
    "    def _initial_classify(cls, concept, qname_str, sub_group, local_type, \n",
    "                         nillable, duration) -> NodeType:\n",
    "        # 1. Basic Concept\n",
    "        if not concept.isAbstract and sub_group == 'xbrli:item':\n",
    "            return NodeType.CONCEPT\n",
    "        \n",
    "        # 2. Hypercube [Table]\n",
    "        if (concept.isAbstract and \n",
    "            sub_group == 'xbrldt:hypercubeItem' and\n",
    "            duration and nillable):\n",
    "            return NodeType.HYPERCUBE\n",
    "        \n",
    "        # 3. Dimension [Axis] - here we could also just use \"concept.isDimensionItem\"\n",
    "        if (concept.isAbstract and \n",
    "            sub_group == 'xbrldt:dimensionItem' and \n",
    "            duration and nillable):\n",
    "            return NodeType.DIMENSION\n",
    "        \n",
    "        # 4. Member [Domain/Member]\n",
    "        if ((any(qname_str.endswith(suffix) for suffix in [\"Domain\", \"domain\", \"Member\"]) or \n",
    "             local_type == 'domainItemType') and \n",
    "            duration and nillable):\n",
    "            return NodeType.MEMBER\n",
    "        \n",
    "        # 5. Abstract\n",
    "        if any(qname_str.endswith(suffix) for suffix in [\n",
    "            \"Abstract\", \"Hierarchy\", \"RollUp\", \n",
    "            \"RollForward\", \"Rollforward\"\n",
    "        ]) and concept.isAbstract:\n",
    "            return NodeType.ABSTRACT\n",
    "        \n",
    "        # 6. LineItems\n",
    "        if \"LineItems\" in qname_str and duration and nillable:\n",
    "            return NodeType.LINE_ITEMS\n",
    "        \n",
    "        # 7. Guidance\n",
    "        if local_type == 'guidanceItemType' or \"guidance\" in qname_str.lower():\n",
    "            return NodeType.GUIDANCE\n",
    "        \n",
    "        # 8. Deprecated\n",
    "        if \"deprecated\" in qname_str.lower() or \"deprecated\" in local_type.lower():\n",
    "            return NodeType.DEPRECATED\n",
    "\n",
    "        return NodeType.OTHER\n",
    "\n",
    "    @classmethod\n",
    "    def _post_classify_single(cls, concept, qname_str, sub_group) -> NodeType:\n",
    "        # Rule 1: IsDomainMember -> *Member\n",
    "        if concept.isDomainMember:\n",
    "            return NodeType.MEMBER\n",
    "            \n",
    "        # Rule 2: Abstract -> *Abstract\n",
    "        if concept.isAbstract:\n",
    "            return NodeType.ABSTRACT\n",
    "            \n",
    "        # Rule 3: LinkbaseElement SubstitutionGroups\n",
    "        if sub_group in cls.LINKBASE_ELEMENTS:\n",
    "            return NodeType.LINKBASE\n",
    "            \n",
    "        # Rule 4: Date Elements\n",
    "        if qname_str in cls.DATE_ELEMENTS:\n",
    "            return NodeType.DATE\n",
    "            \n",
    "        return NodeType.OTHER\n",
    "\n",
    "# endregion\n"
   ]
  },
  {
   "cell_type": "code",
   "execution_count": null,
   "metadata": {},
   "outputs": [],
   "source": [
    "# print(len(model_xbrl.qnameConcepts))\n",
    "# for qname, concept in model_xbrl.qnameConcepts.items():\n",
    "#     category = ReportElementClassifier.classify(concept).value\n",
    "#     print(qname, category)\n",
    "# # Get value counts of categories\n",
    "# from collections import Counter\n",
    "\n",
    "categories = Counter()\n",
    "for qname, concept in model_xbrl.qnameConcepts.items():\n",
    "    category = ReportElementClassifier.classify(concept).value\n",
    "    categories[category] += 1\n",
    "\n",
    "print(\"\\nCategory Value Counts:\")\n",
    "print(\"-\" * 30)\n",
    "for category, count in sorted(categories.items()):\n",
    "    print(f\"{category}: {count}\")\n"
   ]
  },
  {
   "cell_type": "code",
   "execution_count": null,
   "metadata": {},
   "outputs": [],
   "source": [
    "report.abstracts"
   ]
  },
  {
   "cell_type": "code",
   "execution_count": null,
   "metadata": {},
   "outputs": [],
   "source": [
    "for concept in report.abstracts:\n",
    "    print(concept.qname, concept.category)\n"
   ]
  },
  {
   "cell_type": "code",
   "execution_count": null,
   "metadata": {},
   "outputs": [],
   "source": [
    "for concept in model_xbrl.concepts:\n",
    "    print(concept.qname, concept.category)\n"
   ]
  },
  {
   "cell_type": "code",
   "execution_count": null,
   "metadata": {},
   "outputs": [],
   "source": [
    "\n"
   ]
  },
  {
   "cell_type": "markdown",
   "metadata": {},
   "source": [
    "# Test Local"
   ]
  },
  {
   "cell_type": "code",
   "execution_count": 15,
   "metadata": {},
   "outputs": [],
   "source": [
    "# instance_url = 'https://www.sec.gov/Archives/edgar/data/3545/000000354524000128/alco-20240930_htm.xml'\n",
    "# from arelle import Cntlr\n",
    "# from arelle.ModelXbrl import load\n",
    "# controller = Cntlr.Cntlr(logFileName=\"logfile.txt\")\n",
    "# model_xbrl = controller.modelManager.load(instance_url)\n"
   ]
  },
  {
   "cell_type": "markdown",
   "metadata": {},
   "source": [
    "# References"
   ]
  },
  {
   "cell_type": "code",
   "execution_count": 36,
   "metadata": {},
   "outputs": [],
   "source": [
    "# Get All available information in XBRL\n",
    "# report.model_xbrl.__dict__"
   ]
  },
  {
   "cell_type": "code",
   "execution_count": 37,
   "metadata": {},
   "outputs": [],
   "source": [
    "# Value Counts for each column in a Class: Change Concept to Network, Fact, etc\n",
    "# report_concepts = pd.DataFrame(report.concepts)\n",
    "# for cols in report_concepts.columns.difference(['model_concept','concept_type']):\n",
    "#     print('\\n',cols)\n",
    "#     print(report_concepts[cols].value_counts())\n",
    "#     print(report_concepts[cols].value_counts().sum())"
   ]
  },
  {
   "cell_type": "code",
   "execution_count": 38,
   "metadata": {},
   "outputs": [],
   "source": [
    "# All unique concepts associated with facts in this instance\n",
    "# len(set([fact.concept for fact in report.model_xbrl.factsInInstance]))"
   ]
  },
  {
   "cell_type": "code",
   "execution_count": 39,
   "metadata": {},
   "outputs": [],
   "source": [
    "# # Build Units\n",
    "\n",
    "# import pandas as pd\n",
    "\n",
    "# # Normalize Unit ID\n",
    "# def _normalize_unit_id(unit_id):\n",
    "#     if not unit_id:\n",
    "#         return None\n",
    "#     if isinstance(unit_id, str) and unit_id.startswith(\"u-\"):\n",
    "#         return unit_id\n",
    "#     if hasattr(unit_id, \"id\"):\n",
    "#         return f\"u-{unit_id.id}\"\n",
    "#     return f\"u-{abs(hash(str(unit_id))) % 10000}\"\n",
    "\n",
    "# # Extract only the required details\n",
    "# def extract_final_facts(model_xbrl):\n",
    "#     data = []\n",
    "#     for model_fact in model_xbrl.factsInInstance:\n",
    "#         # Extract unit-related details\n",
    "#         is_divide = getattr(model_fact.unit, \"isDivide\", None)\n",
    "#         string_value = getattr(model_fact.unit, \"stringValue\", None)\n",
    "#         unit_ref = _normalize_unit_id(model_fact.unitID)\n",
    "\n",
    "#         # Process UTR entries\n",
    "#         utr_1 = next(iter(model_fact.utrEntries), None) if model_fact.utrEntries else None\n",
    "#         utr_1_id = getattr(utr_1, \"id\", None)\n",
    "#         utr_1_is_simple = getattr(utr_1, \"isSimple\", None)\n",
    "#         utr_1_item_type = getattr(utr_1, \"itemType\", None)\n",
    "#         utr_1_ns_unit = getattr(utr_1, \"nsUnit\", None)\n",
    "#         utr_1_status = getattr(utr_1, \"status\", None)\n",
    "\n",
    "#         # Add details to the data list\n",
    "#         data.append({\n",
    "#             \"IsDivide\": is_divide,\n",
    "#             \"StringValue\": string_value,\n",
    "#             \"UTR_1_id\": utr_1_id,\n",
    "#             \"UTR_1_isSimple\": utr_1_is_simple,\n",
    "#             \"UTR_1_itemType\": utr_1_item_type,\n",
    "#             \"UTR_1_nsUnit\": utr_1_ns_unit,\n",
    "#             \"UTR_1_status\": utr_1_status,\n",
    "#             \"UnitRef\": unit_ref,\n",
    "#         })\n",
    "\n",
    "#     return pd.DataFrame(data)\n",
    "\n",
    "# # Assuming model_xbrl is defined elsewhere in the environment\n",
    "# unit_df = extract_final_facts(model_xbrl)\n",
    "# display(unit_df.head())\n"
   ]
  },
  {
   "cell_type": "markdown",
   "metadata": {},
   "source": [
    "# Contexts\n"
   ]
  },
  {
   "cell_type": "code",
   "execution_count": 42,
   "metadata": {},
   "outputs": [],
   "source": [
    "instance_url = 'https://www.sec.gov/Archives/edgar/data/3545/000000354524000128/alco-20240930_htm.xml'\n",
    "instance_url = 'https://www.sec.gov/Archives/edgar/data/1784970/000121390024106993/ea0223953-10qa1_nexttech_htm.xml'\n",
    "from arelle import Cntlr\n",
    "from arelle.ModelXbrl import load\n",
    "controller = Cntlr.Cntlr(logFileName=\"logfile.txt\")\n",
    "model_xbrl = controller.modelManager.load(instance_url)\n"
   ]
  },
  {
   "cell_type": "code",
   "execution_count": null,
   "metadata": {},
   "outputs": [],
   "source": [
    "## build contexts\n",
    "import pandas as pd\n",
    "\n",
    "# Assuming model_fact.context is a complex structure\n",
    "contexts = []\n",
    "for model_fact in model_xbrl.factsInInstance:\n",
    "    # Assuming `model_fact.context` can be converted to a dictionary or has attributes\n",
    "    context_data = model_fact.context if isinstance(model_fact.context, dict) else vars(model_fact.context)\n",
    "    contexts.append(context_data)\n",
    "\n",
    "# Creating the DataFrame from a list of dictionaries\n",
    "context_df = pd.DataFrame(contexts)\n",
    "\n",
    "# Display the DataFrame\n",
    "context_df\n"
   ]
  },
  {
   "cell_type": "code",
   "execution_count": 52,
   "metadata": {},
   "outputs": [],
   "source": [
    "def get_all_contexts(model_xbrl):\n",
    "    \"\"\"Get all unique contexts from XBRL report\"\"\"\n",
    "    contexts = set(model_xbrl.contexts.values())\n",
    "    [contexts.add(fact.context) for fact in model_xbrl.facts if fact.context]\n",
    "    \n",
    "    for rel in [r for rs in model_xbrl.relationshipSets.values() for r in rs.modelRelationships]:\n",
    "        if hasattr(rel, 'fromModelObject') and getattr(rel.fromModelObject, 'context', None):\n",
    "            contexts.add(rel.fromModelObject.context)\n",
    "        if hasattr(rel, 'toModelObject') and getattr(rel.toModelObject, 'context', None):\n",
    "            contexts.add(rel.toModelObject.context)\n",
    "    \n",
    "    return list(contexts)\n",
    "\n",
    "\n",
    "def analyze_contexts(model_xbrl):\n",
    "    \"\"\"Print all context details with proper period handling\"\"\"\n",
    "    for ctx in get_all_contexts(model_xbrl):\n",
    "        print(f\"\\nContext {ctx.id}\")\n",
    "        print(f\"Entity: {ctx.entityIdentifier}\")\n",
    "        \n",
    "        # Period handling using same logic as Period class\n",
    "        period_type = (\"instant\" if getattr(ctx, \"isInstantPeriod\", False)\n",
    "                      else \"duration\" if getattr(ctx, \"isStartEndPeriod\", False)\n",
    "                      else \"forever\")\n",
    "        \n",
    "        # Extract and format dates\n",
    "        if period_type == \"instant\":\n",
    "            print(f\"Period: instant at {ctx.instantDatetime.strftime('%Y-%m-%d')}\")\n",
    "        elif period_type == \"duration\":\n",
    "            start = ctx.startDatetime.strftime('%Y-%m-%d')\n",
    "            end = ctx.endDatetime.strftime('%Y-%m-%d')\n",
    "            print(f\"Period: duration from {start} to {end}\")\n",
    "        else:\n",
    "            print(\"Period: forever\")\n",
    "            \n",
    "        # Dimensions if any\n",
    "        if ctx.qnameDims:\n",
    "            print(\"Dimensions:\")\n",
    "            for dim, mem in ctx.qnameDims.items():\n",
    "                print(f\"  {dim}: {mem.memberQname if hasattr(mem, 'memberQname') else mem}\")\n",
    "                print(f\"  {dim}: {mem.memberQname if hasattr(mem, 'memberQname') else mem}\")\n",
    "\n",
    "\n",
    "analyze_contexts(model_xbrl)                "
   ]
  },
  {
   "cell_type": "code",
   "execution_count": null,
   "metadata": {},
   "outputs": [],
   "source": []
  },
  {
   "cell_type": "code",
   "execution_count": null,
   "metadata": {},
   "outputs": [],
   "source": []
  }
 ],
 "metadata": {
  "kernelspec": {
   "display_name": "EventTrader Environment",
   "language": "python",
   "name": "eventtrader_venv"
  },
  "language_info": {
   "codemirror_mode": {
    "name": "ipython",
    "version": 3
   },
   "file_extension": ".py",
   "mimetype": "text/x-python",
   "name": "python",
   "nbconvert_exporter": "python",
   "pygments_lexer": "ipython3",
   "version": "3.11.10"
  }
 },
 "nbformat": 4,
 "nbformat_minor": 2
}
